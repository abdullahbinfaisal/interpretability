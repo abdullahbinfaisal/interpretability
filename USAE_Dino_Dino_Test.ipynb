{
 "cells": [
  {
   "cell_type": "markdown",
   "id": "64ae5fa7",
   "metadata": {},
   "source": [
    "#### Setup\n"
   ]
  },
  {
   "cell_type": "code",
   "execution_count": 1,
   "id": "fd86d19d",
   "metadata": {},
   "outputs": [],
   "source": [
    "import torch\n",
    "import torchvision\n",
    "from lib.data_handlers import Load_ImageNet100, Load_PACS\n",
    "from overcomplete.models import DinoV2, ViT, ResNet, ViT_Large, SigLIP\n",
    "from torch.utils.data import DataLoader, TensorDataset\n",
    "from overcomplete.sae import TopKSAE, train_sae\n",
    "from overcomplete.visualization import (overlay_top_heatmaps, evidence_top_images, zoom_top_images, contour_top_image)\n",
    "import os\n",
    "import matplotlib.pyplot as plt\n",
    "from einops import rearrange\n",
    "from lib.universal_trainer import train_usae\n",
    "from lib.activation_generator import Load_activation_dataloader\n",
    "import torch.nn as nn\n",
    "from torch.optim.lr_scheduler import SequentialLR, LinearLR, CosineAnnealingLR\n",
    "from lib.eval import evaluate_models\n",
    "from lib.visualizer import visualize_concept\n",
    "from tqdm import tqdm\n",
    "\n",
    "device = torch.device(\"cuda\" if torch.cuda.is_available() else \"cpu\")\n",
    "torch.cuda.empty_cache()"
   ]
  },
  {
   "cell_type": "markdown",
   "id": "29a7c042",
   "metadata": {},
   "source": [
    "### Train a USAE"
   ]
  },
  {
   "cell_type": "markdown",
   "id": "b998439e",
   "metadata": {},
   "source": [
    "Define Models and Generate Their Activations"
   ]
  },
  {
   "cell_type": "code",
   "execution_count": 2,
   "id": "a68d84da",
   "metadata": {},
   "outputs": [
    {
     "name": "stderr",
     "output_type": "stream",
     "text": [
      "Using cache found in C:\\Users\\sproj_ha/.cache\\torch\\hub\\facebookresearch_dinov2_main\n",
      "C:\\Users\\sproj_ha/.cache\\torch\\hub\\facebookresearch_dinov2_main\\dinov2\\layers\\swiglu_ffn.py:51: UserWarning: xFormers is not available (SwiGLU)\n",
      "  warnings.warn(\"xFormers is not available (SwiGLU)\")\n",
      "C:\\Users\\sproj_ha/.cache\\torch\\hub\\facebookresearch_dinov2_main\\dinov2\\layers\\attention.py:33: UserWarning: xFormers is not available (Attention)\n",
      "  warnings.warn(\"xFormers is not available (Attention)\")\n",
      "C:\\Users\\sproj_ha/.cache\\torch\\hub\\facebookresearch_dinov2_main\\dinov2\\layers\\block.py:40: UserWarning: xFormers is not available (Block)\n",
      "  warnings.warn(\"xFormers is not available (Block)\")\n",
      "Using cache found in C:\\Users\\sproj_ha/.cache\\torch\\hub\\facebookresearch_dinov2_main\n"
     ]
    }
   ],
   "source": [
    "models = {\n",
    "    \"Dino1\": DinoV2(device=\"cuda\"),\n",
    "    \"Dino2\": DinoV2(device=\"cuda\")\n",
    "}\n",
    "\n",
    "activation_dir = \"activations/ImageNet100_Dino_Dino\"\n",
    "image_loader = Load_ImageNet100(transform=None, batch_size=256, shuffle=True)\n",
    "\n",
    "\n",
    "activations_dataloader = Load_activation_dataloader(\n",
    "    models=models,\n",
    "    image_dataloader=image_loader,\n",
    "    max_seq_len=196,   \n",
    "    save_dir=activation_dir, \n",
    "    generate=False,  \n",
    "    rearrange_string='n t d -> (n t) d'\n",
    "    )"
   ]
  },
  {
   "cell_type": "markdown",
   "id": "e35fc11e",
   "metadata": {},
   "source": [
    "SAE Training"
   ]
  },
  {
   "cell_type": "code",
   "execution_count": 3,
   "id": "0cae4a05",
   "metadata": {},
   "outputs": [],
   "source": [
    "concepts = 768 * 8\n",
    "epochs = 50\n",
    "lr=3e-4\n",
    "sample = next(iter(activations_dataloader))"
   ]
  },
  {
   "cell_type": "code",
   "execution_count": 4,
   "id": "c24c5428",
   "metadata": {},
   "outputs": [],
   "source": [
    "SAEs = {}\n",
    "optimizers = {}\n",
    "schedulers = {}\n",
    "\n",
    "for key, model in models.items():\n",
    "\n",
    "    SAEs[key] = TopKSAE(\n",
    "        sample[f\"activations_{key}\"].shape[-1],\n",
    "        nb_concepts=concepts,\n",
    "        top_k=64,\n",
    "        device=\"cuda\",\n",
    "    )\n",
    "    optimizers[key] = torch.optim.Adam(SAEs[key].parameters(), lr=lr)\n",
    "\n",
    "    # Set up a Linear + Cosine Scheduler\n",
    "    warmup_scheduler = LinearLR(\n",
    "        optimizers[key], start_factor=1e-6 / 3e-4, end_factor=1.0, total_iters=25\n",
    "    )\n",
    "    cosine_scheduler = CosineAnnealingLR(optimizers[key], T_max=epochs, eta_min=1e-6)\n",
    "    schedulers[key] = SequentialLR(\n",
    "        optimizers[key],\n",
    "        schedulers=[warmup_scheduler, cosine_scheduler],\n",
    "        milestones=[25],\n",
    "    )\n",
    "\n",
    "criterion = nn.L1Loss(reduction=\"mean\")  # change to mean reduction"
   ]
  },
  {
   "cell_type": "code",
   "execution_count": null,
   "id": "698beefe",
   "metadata": {},
   "outputs": [
    {
     "name": "stderr",
     "output_type": "stream",
     "text": [
      "Epoch 1/50:   9%|▉         | 48/508 [00:11<01:42,  4.47it/s, loss=1.66]c:\\Users\\sproj_ha\\miniconda3\\envs\\interpretability\\Lib\\site-packages\\torch\\optim\\lr_scheduler.py:198: UserWarning: The epoch parameter in `scheduler.step()` was not necessary and is being deprecated where possible. Please use `scheduler.step()` to step the scheduler. During the deprecation, if epoch is different from None, the closed form is used instead of the new chainable form, where available. Please open an issue if you are unable to replicate your use case: https://github.com/pytorch/pytorch/issues/new/choose.\n",
      "  warnings.warn(EPOCH_DEPRECATION_WARNING, UserWarning)\n",
      "Epoch 1/50: 100%|██████████| 508/508 [02:14<00:00,  3.77it/s, loss=1.29]\n"
     ]
    },
    {
     "name": "stdout",
     "output_type": "stream",
     "text": [
      "\n",
      "[Epoch 1] Loss: 723.6816 | Time: 134.71s | Dead Features: 0.0%\n"
     ]
    },
    {
     "name": "stderr",
     "output_type": "stream",
     "text": [
      "Epoch 2/50: 100%|██████████| 508/508 [02:15<00:00,  3.75it/s, loss=1.24]\n"
     ]
    },
    {
     "name": "stdout",
     "output_type": "stream",
     "text": [
      "\n",
      "[Epoch 2] Loss: 637.6887 | Time: 135.56s | Dead Features: 0.0%\n"
     ]
    },
    {
     "name": "stderr",
     "output_type": "stream",
     "text": [
      "Epoch 3/50: 100%|██████████| 508/508 [02:16<00:00,  3.73it/s, loss=1.21]\n"
     ]
    },
    {
     "name": "stdout",
     "output_type": "stream",
     "text": [
      "\n",
      "[Epoch 3] Loss: 617.3701 | Time: 136.08s | Dead Features: 0.0%\n"
     ]
    },
    {
     "name": "stderr",
     "output_type": "stream",
     "text": [
      "Epoch 4/50: 100%|██████████| 508/508 [02:16<00:00,  3.72it/s, loss=1.2] \n"
     ]
    },
    {
     "name": "stdout",
     "output_type": "stream",
     "text": [
      "\n",
      "[Epoch 4] Loss: 609.2689 | Time: 136.44s | Dead Features: 0.0%\n"
     ]
    },
    {
     "name": "stderr",
     "output_type": "stream",
     "text": [
      "Epoch 5/50: 100%|██████████| 508/508 [02:15<00:00,  3.74it/s, loss=1.19]\n"
     ]
    },
    {
     "name": "stdout",
     "output_type": "stream",
     "text": [
      "\n",
      "[Epoch 5] Loss: 605.3486 | Time: 135.93s | Dead Features: 0.0%\n"
     ]
    },
    {
     "name": "stderr",
     "output_type": "stream",
     "text": [
      "Epoch 6/50: 100%|██████████| 508/508 [02:15<00:00,  3.75it/s, loss=1.19]\n"
     ]
    },
    {
     "name": "stdout",
     "output_type": "stream",
     "text": [
      "\n",
      "[Epoch 6] Loss: 603.2971 | Time: 135.52s | Dead Features: 0.0%\n"
     ]
    },
    {
     "name": "stderr",
     "output_type": "stream",
     "text": [
      "Epoch 7/50: 100%|██████████| 508/508 [02:16<00:00,  3.72it/s, loss=1.19]\n"
     ]
    },
    {
     "name": "stdout",
     "output_type": "stream",
     "text": [
      "\n",
      "[Epoch 7] Loss: 602.1533 | Time: 136.47s | Dead Features: 0.0%\n"
     ]
    },
    {
     "name": "stderr",
     "output_type": "stream",
     "text": [
      "Epoch 8/50: 100%|██████████| 508/508 [02:15<00:00,  3.75it/s, loss=1.19]\n"
     ]
    },
    {
     "name": "stdout",
     "output_type": "stream",
     "text": [
      "\n",
      "[Epoch 8] Loss: 601.5103 | Time: 135.51s | Dead Features: 0.0%\n"
     ]
    },
    {
     "name": "stderr",
     "output_type": "stream",
     "text": [
      "Epoch 9/50: 100%|██████████| 508/508 [02:15<00:00,  3.75it/s, loss=1.19]\n"
     ]
    },
    {
     "name": "stdout",
     "output_type": "stream",
     "text": [
      "\n",
      "[Epoch 9] Loss: 601.2236 | Time: 135.48s | Dead Features: 0.0%\n"
     ]
    },
    {
     "name": "stderr",
     "output_type": "stream",
     "text": [
      "Epoch 10/50: 100%|██████████| 508/508 [02:15<00:00,  3.74it/s, loss=1.19]\n"
     ]
    },
    {
     "name": "stdout",
     "output_type": "stream",
     "text": [
      "\n",
      "[Epoch 10] Loss: 601.1666 | Time: 135.69s | Dead Features: 0.0%\n"
     ]
    },
    {
     "name": "stderr",
     "output_type": "stream",
     "text": [
      "Epoch 11/50: 100%|██████████| 508/508 [02:16<00:00,  3.72it/s, loss=1.19]\n"
     ]
    },
    {
     "name": "stdout",
     "output_type": "stream",
     "text": [
      "\n",
      "[Epoch 11] Loss: 601.2270 | Time: 136.70s | Dead Features: 0.0%\n"
     ]
    },
    {
     "name": "stderr",
     "output_type": "stream",
     "text": [
      "Epoch 12/50: 100%|██████████| 508/508 [02:16<00:00,  3.73it/s, loss=1.19]\n"
     ]
    },
    {
     "name": "stdout",
     "output_type": "stream",
     "text": [
      "\n",
      "[Epoch 12] Loss: 601.3700 | Time: 136.11s | Dead Features: 0.0%\n"
     ]
    },
    {
     "name": "stderr",
     "output_type": "stream",
     "text": [
      "Epoch 13/50: 100%|██████████| 508/508 [02:16<00:00,  3.73it/s, loss=1.19]\n"
     ]
    },
    {
     "name": "stdout",
     "output_type": "stream",
     "text": [
      "\n",
      "[Epoch 13] Loss: 601.4660 | Time: 136.34s | Dead Features: 0.0%\n"
     ]
    },
    {
     "name": "stderr",
     "output_type": "stream",
     "text": [
      "Epoch 14/50: 100%|██████████| 508/508 [02:15<00:00,  3.74it/s, loss=1.19]\n"
     ]
    },
    {
     "name": "stdout",
     "output_type": "stream",
     "text": [
      "\n",
      "[Epoch 14] Loss: 601.6959 | Time: 135.77s | Dead Features: 0.0%\n"
     ]
    },
    {
     "name": "stderr",
     "output_type": "stream",
     "text": [
      "Epoch 15/50: 100%|██████████| 508/508 [02:16<00:00,  3.74it/s, loss=1.19]\n"
     ]
    },
    {
     "name": "stdout",
     "output_type": "stream",
     "text": [
      "\n",
      "[Epoch 15] Loss: 601.8830 | Time: 136.01s | Dead Features: 0.0%\n"
     ]
    },
    {
     "name": "stderr",
     "output_type": "stream",
     "text": [
      "Epoch 16/50: 100%|██████████| 508/508 [02:15<00:00,  3.74it/s, loss=1.19]\n"
     ]
    },
    {
     "name": "stdout",
     "output_type": "stream",
     "text": [
      "\n",
      "[Epoch 16] Loss: 602.0599 | Time: 135.79s | Dead Features: 0.0%\n"
     ]
    },
    {
     "name": "stderr",
     "output_type": "stream",
     "text": [
      "Epoch 17/50: 100%|██████████| 508/508 [02:16<00:00,  3.72it/s, loss=1.19]\n"
     ]
    },
    {
     "name": "stdout",
     "output_type": "stream",
     "text": [
      "\n",
      "[Epoch 17] Loss: 602.1846 | Time: 136.60s | Dead Features: 0.0%\n"
     ]
    },
    {
     "name": "stderr",
     "output_type": "stream",
     "text": [
      "Epoch 18/50: 100%|██████████| 508/508 [02:15<00:00,  3.75it/s, loss=1.19]\n"
     ]
    },
    {
     "name": "stdout",
     "output_type": "stream",
     "text": [
      "\n",
      "[Epoch 18] Loss: 602.3553 | Time: 135.48s | Dead Features: 0.0%\n"
     ]
    },
    {
     "name": "stderr",
     "output_type": "stream",
     "text": [
      "Epoch 19/50: 100%|██████████| 508/508 [02:16<00:00,  3.73it/s, loss=1.19]\n"
     ]
    },
    {
     "name": "stdout",
     "output_type": "stream",
     "text": [
      "\n",
      "[Epoch 19] Loss: 602.4556 | Time: 136.20s | Dead Features: 0.0%\n"
     ]
    },
    {
     "name": "stderr",
     "output_type": "stream",
     "text": [
      "Epoch 20/50: 100%|██████████| 508/508 [02:15<00:00,  3.75it/s, loss=1.19]\n"
     ]
    },
    {
     "name": "stdout",
     "output_type": "stream",
     "text": [
      "\n",
      "[Epoch 20] Loss: 602.5566 | Time: 135.51s | Dead Features: 0.0%\n"
     ]
    },
    {
     "name": "stderr",
     "output_type": "stream",
     "text": [
      "Epoch 21/50: 100%|██████████| 508/508 [02:14<00:00,  3.77it/s, loss=1.19]\n"
     ]
    },
    {
     "name": "stdout",
     "output_type": "stream",
     "text": [
      "\n",
      "[Epoch 21] Loss: 602.6189 | Time: 134.84s | Dead Features: 0.0%\n"
     ]
    },
    {
     "name": "stderr",
     "output_type": "stream",
     "text": [
      "Epoch 22/50: 100%|██████████| 508/508 [02:14<00:00,  3.77it/s, loss=1.19]\n"
     ]
    },
    {
     "name": "stdout",
     "output_type": "stream",
     "text": [
      "\n",
      "[Epoch 22] Loss: 602.7692 | Time: 134.76s | Dead Features: 0.0%\n"
     ]
    },
    {
     "name": "stderr",
     "output_type": "stream",
     "text": [
      "Epoch 23/50: 100%|██████████| 508/508 [02:13<00:00,  3.80it/s, loss=1.19]\n"
     ]
    },
    {
     "name": "stdout",
     "output_type": "stream",
     "text": [
      "\n",
      "[Epoch 23] Loss: 602.8837 | Time: 133.73s | Dead Features: 0.0%\n"
     ]
    },
    {
     "name": "stderr",
     "output_type": "stream",
     "text": [
      "Epoch 24/50: 100%|██████████| 508/508 [02:15<00:00,  3.74it/s, loss=1.19]\n"
     ]
    },
    {
     "name": "stdout",
     "output_type": "stream",
     "text": [
      "\n",
      "[Epoch 24] Loss: 603.0783 | Time: 135.71s | Dead Features: 0.0%\n"
     ]
    },
    {
     "name": "stderr",
     "output_type": "stream",
     "text": [
      "Epoch 25/50: 100%|██████████| 508/508 [02:15<00:00,  3.74it/s, loss=1.19]\n"
     ]
    },
    {
     "name": "stdout",
     "output_type": "stream",
     "text": [
      "\n",
      "[Epoch 25] Loss: 603.1920 | Time: 135.93s | Dead Features: 0.0%\n"
     ]
    },
    {
     "name": "stderr",
     "output_type": "stream",
     "text": [
      "Epoch 26/50: 100%|██████████| 508/508 [02:15<00:00,  3.75it/s, loss=1.19]\n"
     ]
    },
    {
     "name": "stdout",
     "output_type": "stream",
     "text": [
      "\n",
      "[Epoch 26] Loss: 603.3541 | Time: 135.43s | Dead Features: 0.0%\n"
     ]
    },
    {
     "name": "stderr",
     "output_type": "stream",
     "text": [
      "Epoch 27/50: 100%|██████████| 508/508 [02:14<00:00,  3.77it/s, loss=1.19]\n"
     ]
    },
    {
     "name": "stdout",
     "output_type": "stream",
     "text": [
      "\n",
      "[Epoch 27] Loss: 603.4827 | Time: 134.71s | Dead Features: 0.0%\n"
     ]
    },
    {
     "name": "stderr",
     "output_type": "stream",
     "text": [
      "Epoch 28/50: 100%|██████████| 508/508 [02:14<00:00,  3.76it/s, loss=1.19]\n"
     ]
    },
    {
     "name": "stdout",
     "output_type": "stream",
     "text": [
      "\n",
      "[Epoch 28] Loss: 603.5984 | Time: 134.98s | Dead Features: 0.0%\n"
     ]
    },
    {
     "name": "stderr",
     "output_type": "stream",
     "text": [
      "Epoch 29/50: 100%|██████████| 508/508 [02:15<00:00,  3.76it/s, loss=1.2] \n"
     ]
    },
    {
     "name": "stdout",
     "output_type": "stream",
     "text": [
      "\n",
      "[Epoch 29] Loss: 603.7560 | Time: 135.09s | Dead Features: 0.0%\n"
     ]
    },
    {
     "name": "stderr",
     "output_type": "stream",
     "text": [
      "Epoch 30/50: 100%|██████████| 508/508 [02:14<00:00,  3.77it/s, loss=1.19]\n"
     ]
    },
    {
     "name": "stdout",
     "output_type": "stream",
     "text": [
      "\n",
      "[Epoch 30] Loss: 603.8077 | Time: 134.76s | Dead Features: 0.1%\n"
     ]
    },
    {
     "name": "stderr",
     "output_type": "stream",
     "text": [
      "Epoch 31/50: 100%|██████████| 508/508 [02:14<00:00,  3.78it/s, loss=1.2] \n"
     ]
    },
    {
     "name": "stdout",
     "output_type": "stream",
     "text": [
      "\n",
      "[Epoch 31] Loss: 603.8772 | Time: 134.47s | Dead Features: 0.1%\n"
     ]
    },
    {
     "name": "stderr",
     "output_type": "stream",
     "text": [
      "Epoch 32/50: 100%|██████████| 508/508 [02:15<00:00,  3.74it/s, loss=1.19]\n"
     ]
    },
    {
     "name": "stdout",
     "output_type": "stream",
     "text": [
      "\n",
      "[Epoch 32] Loss: 603.9247 | Time: 135.70s | Dead Features: 0.1%\n"
     ]
    },
    {
     "name": "stderr",
     "output_type": "stream",
     "text": [
      "Epoch 33/50: 100%|██████████| 508/508 [02:15<00:00,  3.76it/s, loss=1.19]\n"
     ]
    },
    {
     "name": "stdout",
     "output_type": "stream",
     "text": [
      "\n",
      "[Epoch 33] Loss: 603.9277 | Time: 135.14s | Dead Features: 0.1%\n"
     ]
    },
    {
     "name": "stderr",
     "output_type": "stream",
     "text": [
      "Epoch 34/50: 100%|██████████| 508/508 [02:14<00:00,  3.77it/s, loss=1.2] \n"
     ]
    },
    {
     "name": "stdout",
     "output_type": "stream",
     "text": [
      "\n",
      "[Epoch 34] Loss: 603.9273 | Time: 134.58s | Dead Features: 0.3%\n"
     ]
    },
    {
     "name": "stderr",
     "output_type": "stream",
     "text": [
      "Epoch 35/50: 100%|██████████| 508/508 [02:14<00:00,  3.78it/s, loss=1.19]\n"
     ]
    },
    {
     "name": "stdout",
     "output_type": "stream",
     "text": [
      "\n",
      "[Epoch 35] Loss: 603.8940 | Time: 134.34s | Dead Features: 0.2%\n"
     ]
    },
    {
     "name": "stderr",
     "output_type": "stream",
     "text": [
      "Epoch 36/50: 100%|██████████| 508/508 [02:15<00:00,  3.74it/s, loss=1.19]\n"
     ]
    },
    {
     "name": "stdout",
     "output_type": "stream",
     "text": [
      "\n",
      "[Epoch 36] Loss: 603.9122 | Time: 135.65s | Dead Features: 0.4%\n"
     ]
    },
    {
     "name": "stderr",
     "output_type": "stream",
     "text": [
      "Epoch 37/50: 100%|██████████| 508/508 [02:14<00:00,  3.77it/s, loss=1.19]\n"
     ]
    },
    {
     "name": "stdout",
     "output_type": "stream",
     "text": [
      "\n",
      "[Epoch 37] Loss: 603.9615 | Time: 134.89s | Dead Features: 0.3%\n"
     ]
    },
    {
     "name": "stderr",
     "output_type": "stream",
     "text": [
      "Epoch 38/50: 100%|██████████| 508/508 [02:16<00:00,  3.73it/s, loss=1.19]\n"
     ]
    },
    {
     "name": "stdout",
     "output_type": "stream",
     "text": [
      "\n",
      "[Epoch 38] Loss: 603.9090 | Time: 136.26s | Dead Features: 0.6%\n"
     ]
    },
    {
     "name": "stderr",
     "output_type": "stream",
     "text": [
      "Epoch 39/50: 100%|██████████| 508/508 [02:14<00:00,  3.77it/s, loss=1.19]\n"
     ]
    },
    {
     "name": "stdout",
     "output_type": "stream",
     "text": [
      "\n",
      "[Epoch 39] Loss: 603.8998 | Time: 134.74s | Dead Features: 0.5%\n"
     ]
    },
    {
     "name": "stderr",
     "output_type": "stream",
     "text": [
      "Epoch 40/50: 100%|██████████| 508/508 [02:14<00:00,  3.78it/s, loss=1.2] \n"
     ]
    },
    {
     "name": "stdout",
     "output_type": "stream",
     "text": [
      "\n",
      "[Epoch 40] Loss: 603.9896 | Time: 134.41s | Dead Features: 0.7%\n"
     ]
    },
    {
     "name": "stderr",
     "output_type": "stream",
     "text": [
      "Epoch 41/50: 100%|██████████| 508/508 [02:15<00:00,  3.76it/s, loss=1.2] \n"
     ]
    },
    {
     "name": "stdout",
     "output_type": "stream",
     "text": [
      "\n",
      "[Epoch 41] Loss: 603.9084 | Time: 135.18s | Dead Features: 0.9%\n"
     ]
    },
    {
     "name": "stderr",
     "output_type": "stream",
     "text": [
      "Epoch 42/50: 100%|██████████| 508/508 [02:14<00:00,  3.78it/s, loss=1.19]\n"
     ]
    },
    {
     "name": "stdout",
     "output_type": "stream",
     "text": [
      "\n",
      "[Epoch 42] Loss: 604.0214 | Time: 134.41s | Dead Features: 0.9%\n"
     ]
    },
    {
     "name": "stderr",
     "output_type": "stream",
     "text": [
      "Epoch 43/50: 100%|██████████| 508/508 [02:14<00:00,  3.78it/s, loss=1.2] \n"
     ]
    },
    {
     "name": "stdout",
     "output_type": "stream",
     "text": [
      "\n",
      "[Epoch 43] Loss: 603.9670 | Time: 134.22s | Dead Features: 0.8%\n"
     ]
    },
    {
     "name": "stderr",
     "output_type": "stream",
     "text": [
      "Epoch 44/50: 100%|██████████| 508/508 [02:15<00:00,  3.76it/s, loss=1.19]\n"
     ]
    },
    {
     "name": "stdout",
     "output_type": "stream",
     "text": [
      "\n",
      "[Epoch 44] Loss: 604.0427 | Time: 135.17s | Dead Features: 1.0%\n"
     ]
    },
    {
     "name": "stderr",
     "output_type": "stream",
     "text": [
      "Epoch 45/50: 100%|██████████| 508/508 [02:15<00:00,  3.74it/s, loss=1.19]\n"
     ]
    },
    {
     "name": "stdout",
     "output_type": "stream",
     "text": [
      "\n",
      "[Epoch 45] Loss: 604.0363 | Time: 135.94s | Dead Features: 1.0%\n"
     ]
    },
    {
     "name": "stderr",
     "output_type": "stream",
     "text": [
      "Epoch 46/50: 100%|██████████| 508/508 [02:14<00:00,  3.78it/s, loss=1.19]\n"
     ]
    },
    {
     "name": "stdout",
     "output_type": "stream",
     "text": [
      "\n",
      "[Epoch 46] Loss: 604.1035 | Time: 134.55s | Dead Features: 1.1%\n"
     ]
    },
    {
     "name": "stderr",
     "output_type": "stream",
     "text": [
      "Epoch 47/50: 100%|██████████| 508/508 [02:16<00:00,  3.73it/s, loss=1.19]\n"
     ]
    },
    {
     "name": "stdout",
     "output_type": "stream",
     "text": [
      "\n",
      "[Epoch 47] Loss: 604.2782 | Time: 136.11s | Dead Features: 1.0%\n"
     ]
    },
    {
     "name": "stderr",
     "output_type": "stream",
     "text": [
      "Epoch 48/50: 100%|██████████| 508/508 [02:15<00:00,  3.76it/s, loss=1.2] \n"
     ]
    },
    {
     "name": "stdout",
     "output_type": "stream",
     "text": [
      "\n",
      "[Epoch 48] Loss: 604.4348 | Time: 135.10s | Dead Features: 1.3%\n"
     ]
    },
    {
     "name": "stderr",
     "output_type": "stream",
     "text": [
      "Epoch 49/50: 100%|██████████| 508/508 [02:15<00:00,  3.75it/s, loss=1.2] \n"
     ]
    },
    {
     "name": "stdout",
     "output_type": "stream",
     "text": [
      "\n",
      "[Epoch 49] Loss: 604.6152 | Time: 135.58s | Dead Features: 1.2%\n"
     ]
    },
    {
     "name": "stderr",
     "output_type": "stream",
     "text": [
      "Epoch 50/50: 100%|██████████| 508/508 [02:14<00:00,  3.77it/s, loss=1.2] "
     ]
    },
    {
     "name": "stdout",
     "output_type": "stream",
     "text": [
      "\n",
      "[Epoch 50] Loss: 604.8196 | Time: 134.66s | Dead Features: 1.2%\n"
     ]
    },
    {
     "name": "stderr",
     "output_type": "stream",
     "text": [
      "\n"
     ]
    }
   ],
   "source": [
    "train_usae(\n",
    "    names=list(models.keys()),\n",
    "    models=SAEs,\n",
    "    dataloader=activations_dataloader,\n",
    "    criterion=criterion,\n",
    "    nb_epochs=epochs,\n",
    "    optimizers=optimizers,\n",
    "    schedulers=schedulers,\n",
    "    device=\"cuda\",\n",
    "    seed=42,\n",
    ")"
   ]
  },
  {
   "cell_type": "code",
   "execution_count": 5,
   "id": "b69b4236",
   "metadata": {},
   "outputs": [],
   "source": [
    "model_state_dicts = {name: model.state_dict() for name, model in SAEs.items()}\n",
    "torch.save(model_state_dicts, \"./models/USAE_Dino_Dino_50epoch.pt\")"
   ]
  },
  {
   "cell_type": "code",
   "execution_count": 5,
   "id": "dbce387c",
   "metadata": {},
   "outputs": [
    {
     "name": "stdout",
     "output_type": "stream",
     "text": [
      "<All keys matched successfully>\n",
      "<All keys matched successfully>\n"
     ]
    }
   ],
   "source": [
    "state = torch.load(r\".\\models\\USAE_Dino_Dino_50epoch.pt\")\n",
    "\n",
    "for name, sae in SAEs.items():\n",
    "    print(sae.load_state_dict(state[name]))"
   ]
  },
  {
   "cell_type": "code",
   "execution_count": 6,
   "id": "7b2f05a3",
   "metadata": {},
   "outputs": [],
   "source": [
    "activation_dir = \"activations/ImageNet100_Dino_Dino_VAL\"\n",
    "image_loader = Load_ImageNet100(root_dir=r\"C:\\Users\\sproj_ha\\Desktop\\vision_interp\\datasets\\imagenet100\\val.X\", transform=None, batch_size=1024, shuffle=True)\n",
    "\n",
    "activations_dataloader = Load_activation_dataloader(\n",
    "    models=models,\n",
    "    image_dataloader=image_loader,\n",
    "    max_seq_len=196,   \n",
    "    save_dir=activation_dir, \n",
    "    generate=False,  \n",
    "    rearrange_string='n t d -> (n t) d'\n",
    "    )"
   ]
  },
  {
   "cell_type": "code",
   "execution_count": 7,
   "id": "3def3cbc",
   "metadata": {},
   "outputs": [],
   "source": [
    "import matplotlib.pyplot as plt\n",
    "import torch\n",
    "from einops import rearrange\n",
    "import heapq\n",
    "from overcomplete.visualization.plot_utils import get_image_dimensions, interpolate_cv2, show\n",
    "from overcomplete.visualization.cmaps import VIRIDIS_ALPHA\n",
    "import os\n",
    "import itertools\n",
    "\n",
    "\n",
    "\n",
    "device = torch.device(\"cuda\" if torch.cuda.is_available() else \"cpu\")\n",
    "\n",
    "\n",
    "def visualize_concept2(activation_loader, SAEs, concept_id, save_dir, patch_width, n_images=10, abort_threshold=0):\n",
    "    # Initialize a heap for each model that will store the (score, image) for ONE model\n",
    "    heaps = {}\n",
    "    for name, sae in SAEs.items():\n",
    "        heaps[name] = [] \n",
    "        sae.to(device) # Also send to device while we're at it\n",
    "\n",
    "    # Initialize Tie Breaker on Heaps\n",
    "    counter = itertools.count()  \n",
    "    \n",
    "\n",
    "    for num, batch in enumerate(activation_loader):\n",
    "        print(f\"Batch {num+1} / {len(activation_loader)} Starting\")\n",
    "        for name, sae in SAEs.items():\n",
    "            \n",
    "            # Forward pass this batch\n",
    "            x = batch[f'activations_{name}'].squeeze().to(device)\n",
    "            with torch.no_grad():\n",
    "                _, heatmaps = sae.encode(x)\n",
    "\n",
    "                # Validate if any image even activated this\n",
    "                if torch.sum(heatmaps[:, concept_id]) < abort_threshold:\n",
    "                    continue\n",
    "\n",
    "                heatmaps = rearrange(heatmaps, '(n w h) d -> n w h d', w=patch_width, h=patch_width)\n",
    "            \n",
    "            \n",
    "            # Calculate the top_ids in this batch\n",
    "            top_ids = torch.mean(heatmaps[:, :, :, concept_id], dim=(1, 2)).argsort()[-n_images:]  \n",
    "\n",
    "\n",
    "            for k, id in enumerate(top_ids):    \n",
    "\n",
    "                # Calculate score of each id in this batch     \n",
    "                score = torch.mean(heatmaps[id, :, :, concept_id])\n",
    "                \n",
    "                if score <= abort_threshold:\n",
    "                    continue \n",
    "                \n",
    "                z =  {\n",
    "                    'image': batch['images'].squeeze()[id].cpu(), \n",
    "                    'heatmap': heatmaps[id, :, :, concept_id].cpu()\n",
    "                }\n",
    "\n",
    "                # Maintain and Update the Top-n in a heap for this model: -score ensures its a max heap\n",
    "                score_item = (-score.item(), next(counter), z)\n",
    "                \n",
    "                if len(heaps[name]) < n_images:\n",
    "                    heapq.heappush(heaps[name], score_item)\n",
    "                else:\n",
    "                    heapq.heappushpop(heaps[name], score_item)\n",
    "\n",
    "        \n",
    "\n",
    "    print(\"Exited Loop\")\n",
    "\n",
    "    #print(\"Heaps: \", heaps)\n",
    "    # If abort enabled, then validate if concept is dead, if it is, do nothing.\n",
    "    if not validate_dead(heaps):\n",
    "        return\n",
    "\n",
    "    print(len(heaps['Dino1']))\n",
    "    print(len(heaps['Dino2']))\n",
    "\n",
    "    ## PLOTTING\n",
    "\n",
    "    os.makedirs(save_dir, exist_ok=True)\n",
    "\n",
    "    num_models = len(SAEs)\n",
    "    max_images = max(len(heaps[name]) for name in SAEs.keys())  # dynamic heap size\n",
    "\n",
    "    fig, axes = plt.subplots(num_models * 2, max_images, figsize=(max_images * 2, num_models * 3))\n",
    "\n",
    "    if num_models == 1:\n",
    "        axes = axes.reshape(2, -1)  # force 2D layout even with one model\n",
    "\n",
    "    for j, (name, _) in enumerate(SAEs.items()):\n",
    "        heap = heaps[name]\n",
    "        num_images = len(heap)\n",
    "\n",
    "        if num_images == 0:\n",
    "            # Add a message if concept is dead for this model\n",
    "            axes[j * 2, 0].text(0.5, 0.5, 'No activations', ha='center', va='center', fontsize=12)\n",
    "            axes[j * 2, 0].set_title(f'Model: {name}')\n",
    "            axes[j * 2, 0].axis('off')\n",
    "            axes[j * 2 + 1, 0].axis('off')\n",
    "            continue\n",
    "\n",
    "        for i in range(num_images):\n",
    "            image = heap[i][2]['image']\n",
    "            heat = heap[i][2]['heatmap']\n",
    "\n",
    "            width, height = get_image_dimensions(image)\n",
    "            heatmap = interpolate_cv2(heat, (width, height))\n",
    "\n",
    "            ax_img = axes[j * 2, i]\n",
    "            ax_heat = axes[j * 2 + 1, i]\n",
    "\n",
    "            show(image, ax=ax_img)\n",
    "            show(heatmap, ax=ax_heat, cmap=VIRIDIS_ALPHA, alpha=1.0)\n",
    "\n",
    "            if i == 0:\n",
    "                ax_img.set_title(f'Model: {name}', fontsize=10)\n",
    "\n",
    "    plt.tight_layout()\n",
    "    filename = f\"concept_{concept_id}.png\"\n",
    "    filepath = os.path.join(save_dir, filename)\n",
    "    plt.savefig(filepath, bbox_inches='tight', dpi=300)\n",
    "    plt.close()\n",
    "\n",
    "\n",
    "def validate_dead(heaps):\n",
    "    # Validate if there is ANY score that is greater than 0\n",
    "    for sae, heap in heaps.items():\n",
    "        if len(heap) > 0:\n",
    "            return True\n",
    "    # If there is no score above 0, then return False.\n",
    "    return False"
   ]
  },
  {
   "cell_type": "code",
   "execution_count": 8,
   "id": "5abb42d1",
   "metadata": {},
   "outputs": [
    {
     "name": "stderr",
     "output_type": "stream",
     "text": [
      "  0%|          | 0/6144 [00:00<?, ?it/s]"
     ]
    },
    {
     "name": "stdout",
     "output_type": "stream",
     "text": [
      "Batch 1 / 5 Starting\n",
      "Batch 2 / 5 Starting\n",
      "Batch 3 / 5 Starting\n",
      "Batch 4 / 5 Starting\n",
      "Batch 5 / 5 Starting\n"
     ]
    },
    {
     "name": "stderr",
     "output_type": "stream",
     "text": [
      "  0%|          | 1/6144 [00:26<45:29:40, 26.66s/it]"
     ]
    },
    {
     "name": "stdout",
     "output_type": "stream",
     "text": [
      "Exited Loop\n",
      "Batch 1 / 5 Starting\n",
      "Batch 2 / 5 Starting\n",
      "Batch 3 / 5 Starting\n",
      "Batch 4 / 5 Starting\n",
      "Batch 5 / 5 Starting\n"
     ]
    },
    {
     "name": "stderr",
     "output_type": "stream",
     "text": [
      "  0%|          | 2/6144 [00:51<43:27:36, 25.47s/it]"
     ]
    },
    {
     "name": "stdout",
     "output_type": "stream",
     "text": [
      "Exited Loop\n",
      "Batch 1 / 5 Starting\n",
      "Batch 2 / 5 Starting\n",
      "Batch 3 / 5 Starting\n",
      "Batch 4 / 5 Starting\n",
      "Batch 5 / 5 Starting\n"
     ]
    },
    {
     "name": "stderr",
     "output_type": "stream",
     "text": [
      "  0%|          | 2/6144 [01:16<65:05:22, 38.15s/it]"
     ]
    },
    {
     "name": "stdout",
     "output_type": "stream",
     "text": [
      "Exited Loop\n",
      "0\n",
      "4\n"
     ]
    },
    {
     "name": "stderr",
     "output_type": "stream",
     "text": [
      "\n"
     ]
    },
    {
     "ename": "TypeError",
     "evalue": "Axes.imshow() got multiple values for argument 'ax'",
     "output_type": "error",
     "traceback": [
      "\u001b[31m---------------------------------------------------------------------------\u001b[39m",
      "\u001b[31mTypeError\u001b[39m                                 Traceback (most recent call last)",
      "\u001b[36mCell\u001b[39m\u001b[36m \u001b[39m\u001b[32mIn[8]\u001b[39m\u001b[32m, line 3\u001b[39m\n\u001b[32m      1\u001b[39m \u001b[38;5;28;01mfor\u001b[39;00m i \u001b[38;5;129;01min\u001b[39;00m tqdm(\u001b[38;5;28mrange\u001b[39m(concepts)):\n\u001b[32m      2\u001b[39m     torch.cuda.empty_cache()\n\u001b[32m----> \u001b[39m\u001b[32m3\u001b[39m     visualize_concept2(\n\u001b[32m      4\u001b[39m         activation_loader=activations_dataloader,\n\u001b[32m      5\u001b[39m         SAEs=SAEs,\n\u001b[32m      6\u001b[39m         concept_id=i,\n\u001b[32m      7\u001b[39m         n_images=\u001b[32m8\u001b[39m,\n\u001b[32m      8\u001b[39m         patch_width=\u001b[32m14\u001b[39m, \n\u001b[32m      9\u001b[39m         save_dir=\u001b[33m\"\u001b[39m\u001b[33mresults/test_visualizer/\u001b[39m\u001b[33m\"\u001b[39m,\n\u001b[32m     10\u001b[39m         abort_threshold=\u001b[32m1\u001b[39m,\n\u001b[32m     11\u001b[39m     )\n",
      "\u001b[36mCell\u001b[39m\u001b[36m \u001b[39m\u001b[32mIn[7]\u001b[39m\u001b[32m, line 113\u001b[39m, in \u001b[36mvisualize_concept2\u001b[39m\u001b[34m(activation_loader, SAEs, concept_id, save_dir, patch_width, n_images, abort_threshold)\u001b[39m\n\u001b[32m    110\u001b[39m ax_img = axes[j * \u001b[32m2\u001b[39m, i]\n\u001b[32m    111\u001b[39m ax_heat = axes[j * \u001b[32m2\u001b[39m + \u001b[32m1\u001b[39m, i]\n\u001b[32m--> \u001b[39m\u001b[32m113\u001b[39m show(image, ax=ax_img)\n\u001b[32m    114\u001b[39m show(heatmap, ax=ax_heat, cmap=VIRIDIS_ALPHA, alpha=\u001b[32m1.0\u001b[39m)\n\u001b[32m    116\u001b[39m \u001b[38;5;28;01mif\u001b[39;00m i == \u001b[32m0\u001b[39m:\n",
      "\u001b[36mFile \u001b[39m\u001b[32mc:\\Users\\sproj_ha\\miniconda3\\envs\\interpretability\\Lib\\site-packages\\overcomplete\\visualization\\plot_utils.py:201\u001b[39m, in \u001b[36mshow\u001b[39m\u001b[34m(img, **kwargs)\u001b[39m\n\u001b[32m    199\u001b[39m img = np_channel_last(img)\n\u001b[32m    200\u001b[39m img = normalize(img)\n\u001b[32m--> \u001b[39m\u001b[32m201\u001b[39m plt.imshow(img, **kwargs)\n\u001b[32m    202\u001b[39m plt.axis(\u001b[33m'\u001b[39m\u001b[33moff\u001b[39m\u001b[33m'\u001b[39m)\n",
      "\u001b[36mFile \u001b[39m\u001b[32mc:\\Users\\sproj_ha\\miniconda3\\envs\\interpretability\\Lib\\site-packages\\matplotlib\\pyplot.py:3601\u001b[39m, in \u001b[36mimshow\u001b[39m\u001b[34m(X, cmap, norm, aspect, interpolation, alpha, vmin, vmax, colorizer, origin, extent, interpolation_stage, filternorm, filterrad, resample, url, data, **kwargs)\u001b[39m\n\u001b[32m   3579\u001b[39m \u001b[38;5;129m@_copy_docstring_and_deprecators\u001b[39m(Axes.imshow)\n\u001b[32m   3580\u001b[39m \u001b[38;5;28;01mdef\u001b[39;00m\u001b[38;5;250m \u001b[39m\u001b[34mimshow\u001b[39m(\n\u001b[32m   3581\u001b[39m     X: ArrayLike | PIL.Image.Image,\n\u001b[32m   (...)\u001b[39m\u001b[32m   3599\u001b[39m     **kwargs,\n\u001b[32m   3600\u001b[39m ) -> AxesImage:\n\u001b[32m-> \u001b[39m\u001b[32m3601\u001b[39m     __ret = gca().imshow(\n\u001b[32m   3602\u001b[39m         X,\n\u001b[32m   3603\u001b[39m         cmap=cmap,\n\u001b[32m   3604\u001b[39m         norm=norm,\n\u001b[32m   3605\u001b[39m         aspect=aspect,\n\u001b[32m   3606\u001b[39m         interpolation=interpolation,\n\u001b[32m   3607\u001b[39m         alpha=alpha,\n\u001b[32m   3608\u001b[39m         vmin=vmin,\n\u001b[32m   3609\u001b[39m         vmax=vmax,\n\u001b[32m   3610\u001b[39m         colorizer=colorizer,\n\u001b[32m   3611\u001b[39m         origin=origin,\n\u001b[32m   3612\u001b[39m         extent=extent,\n\u001b[32m   3613\u001b[39m         interpolation_stage=interpolation_stage,\n\u001b[32m   3614\u001b[39m         filternorm=filternorm,\n\u001b[32m   3615\u001b[39m         filterrad=filterrad,\n\u001b[32m   3616\u001b[39m         resample=resample,\n\u001b[32m   3617\u001b[39m         url=url,\n\u001b[32m   3618\u001b[39m         **({\u001b[33m\"\u001b[39m\u001b[33mdata\u001b[39m\u001b[33m\"\u001b[39m: data} \u001b[38;5;28;01mif\u001b[39;00m data \u001b[38;5;129;01mis\u001b[39;00m \u001b[38;5;129;01mnot\u001b[39;00m \u001b[38;5;28;01mNone\u001b[39;00m \u001b[38;5;28;01melse\u001b[39;00m {}),\n\u001b[32m   3619\u001b[39m         **kwargs,\n\u001b[32m   3620\u001b[39m     )\n\u001b[32m   3621\u001b[39m     sci(__ret)\n\u001b[32m   3622\u001b[39m     \u001b[38;5;28;01mreturn\u001b[39;00m __ret\n",
      "\u001b[31mTypeError\u001b[39m: Axes.imshow() got multiple values for argument 'ax'"
     ]
    },
    {
     "data": {
      "image/png": "[encoded data removed]",
      "text/plain": [
       "<Figure size 800x600 with 16 Axes>"
      ]
     },
     "metadata": {},
     "output_type": "display_data"
    }
   ],
   "source": [
    "for i in tqdm(range(concepts)):\n",
    "    torch.cuda.empty_cache()\n",
    "    visualize_concept2(\n",
    "        activation_loader=activations_dataloader,\n",
    "        SAEs=SAEs,\n",
    "        concept_id=i,\n",
    "        n_images=8,\n",
    "        patch_width=14, \n",
    "        save_dir=\"results/test_visualizer/\",\n",
    "        abort_threshold=1,\n",
    "    )"
   ]
  },
  {
   "cell_type": "code",
   "execution_count": null,
   "id": "fd9a239c",
   "metadata": {},
   "outputs": [],
   "source": []
  }
 ],
 "metadata": {
  "kernelspec": {
   "display_name": "interpretability",
   "language": "python",
   "name": "python3"
  },
  "language_info": {
   "codemirror_mode": {
    "name": "ipython",
    "version": 3
   },
   "file_extension": ".py",
   "mimetype": "text/x-python",
   "name": "python",
   "nbconvert_exporter": "python",
   "pygments_lexer": "ipython3",
   "version": "3.13.5"
  }
 },
 "nbformat": 4,
 "nbformat_minor": 5
}
