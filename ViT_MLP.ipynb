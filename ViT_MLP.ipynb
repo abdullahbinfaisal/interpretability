{
 "cells": [
  {
   "cell_type": "markdown",
   "id": "64ae5fa7",
   "metadata": {},
   "source": [
    "#### Setup\n"
   ]
  },
  {
   "cell_type": "code",
   "execution_count": 6,
   "id": "fd86d19d",
   "metadata": {},
   "outputs": [],
   "source": [
    "import torch\n",
    "import torchvision\n",
    "from lib.data_handlers import Load_ImageNet100, Load_PACS, Load_ImageNet100Sketch\n",
    "from overcomplete.models import DinoV2, ViT, ResNet, ViT_Large, SigLIP\n",
    "from torch.utils.data import DataLoader, TensorDataset\n",
    "from overcomplete.sae import TopKSAE, train_sae\n",
    "from overcomplete.visualization import (overlay_top_heatmaps, evidence_top_images, zoom_top_images, contour_top_image)\n",
    "import os\n",
    "import matplotlib.pyplot as plt\n",
    "from einops import rearrange\n",
    "from lib.universal_trainer import train_usae\n",
    "from lib.activation_generator import Load_activation_dataloader\n",
    "import torch.nn as nn\n",
    "from torch.optim.lr_scheduler import SequentialLR, LinearLR, CosineAnnealingLR\n",
    "from lib.eval import evaluate_models\n",
    "from lib.visualizer import visualize_concepts\n",
    "from tqdm import tqdm\n",
    "import timm\n",
    "\n",
    "\n",
    "device = torch.device(\"cuda\" if torch.cuda.is_available() else \"cpu\")\n",
    "torch.cuda.empty_cache()\n"
   ]
  },
  {
   "cell_type": "markdown",
   "id": "b70925b5",
   "metadata": {},
   "source": [
    "## ImageNet"
   ]
  },
  {
   "cell_type": "markdown",
   "id": "35c996d0",
   "metadata": {},
   "source": [
    "#### Train SAE"
   ]
  },
  {
   "cell_type": "code",
   "execution_count": 7,
   "id": "4aabb81b",
   "metadata": {},
   "outputs": [],
   "source": [
    "models = {\n",
    "    \"ViT\": ViT(device=\"cuda\")\n",
    "}\n",
    "\n",
    "activations_dir=\"/activations/ViT_Solo\"\n",
    "\n",
    "image_loader = Load_ImageNet100(transform=None, batch_size=256, shuffle=True)\n",
    "\n",
    "activations_dataloader = Load_activation_dataloader(\n",
    "    models=models,\n",
    "    image_dataloader=image_loader,\n",
    "    max_seq_len=196,\n",
    "    save_dir=activations_dir,\n",
    "    generate=False,\n",
    "    rearrange_string='n t d -> (n t) d'\n",
    ")"
   ]
  },
  {
   "cell_type": "markdown",
   "id": "9eb76ac1",
   "metadata": {},
   "source": [
    "Set Parameters"
   ]
  },
  {
   "cell_type": "code",
   "execution_count": 8,
   "id": "a68d84da",
   "metadata": {},
   "outputs": [],
   "source": [
    "concepts = 768 * 8\n",
    "epochs = 100\n",
    "lr=3e-4\n",
    "sample = next(iter(activations_dataloader))"
   ]
  },
  {
   "cell_type": "markdown",
   "id": "e35fc11e",
   "metadata": {},
   "source": [
    "Execute Flow"
   ]
  },
  {
   "cell_type": "code",
   "execution_count": 9,
   "id": "698beefe",
   "metadata": {},
   "outputs": [],
   "source": [
    "SAEs = {}\n",
    "optimizers = {}\n",
    "schedulers = {}\n",
    "\n",
    "for key, model in models.items():\n",
    "\n",
    "    SAEs[key] = TopKSAE(\n",
    "        sample[f\"activations_{key}\"].shape[-1],\n",
    "        nb_concepts=concepts,\n",
    "        top_k=16,\n",
    "        device=\"cuda\",\n",
    "    )\n",
    "    optimizers[key] = torch.optim.Adam(SAEs[key].parameters(), lr=lr)\n",
    "\n",
    "    # Set up a Linear + Cosine Scheduler\n",
    "    warmup_scheduler = LinearLR(\n",
    "        optimizers[key], start_factor=1e-6 / 3e-4, end_factor=1.0, total_iters=10\n",
    "    )\n",
    "    cosine_scheduler = CosineAnnealingLR(optimizers[key], T_max=epochs, eta_min=1e-6)\n",
    "    schedulers[key] = SequentialLR(\n",
    "        optimizers[key],\n",
    "        schedulers=[warmup_scheduler, cosine_scheduler],\n",
    "        milestones=[25],\n",
    "    )\n",
    "\n",
    "criterion = nn.L1Loss(reduction=\"mean\")  # change to mean reduction"
   ]
  },
  {
   "cell_type": "code",
   "execution_count": 6,
   "id": "b5e16deb",
   "metadata": {},
   "outputs": [
    {
     "name": "stderr",
     "output_type": "stream",
     "text": [
      "Epoch 1/100:   5%|▍         | 24/508 [00:07<02:22,  3.40it/s, loss=0.718]c:\\Users\\sproj_ha\\miniconda3\\envs\\interpretability\\Lib\\site-packages\\torch\\optim\\lr_scheduler.py:198: UserWarning: The epoch parameter in `scheduler.step()` was not necessary and is being deprecated where possible. Please use `scheduler.step()` to step the scheduler. During the deprecation, if epoch is different from None, the closed form is used instead of the new chainable form, where available. Please open an issue if you are unable to replicate your use case: https://github.com/pytorch/pytorch/issues/new/choose.\n",
      "  warnings.warn(EPOCH_DEPRECATION_WARNING, UserWarning)\n",
      "Epoch 1/100: 100%|██████████| 508/508 [02:28<00:00,  3.41it/s, loss=0.47] \n"
     ]
    },
    {
     "name": "stdout",
     "output_type": "stream",
     "text": [
      "\n",
      "[Epoch 1] Loss: 275.5159 | Time: 148.84s | Dead Features: 0.0%\n"
     ]
    },
    {
     "name": "stderr",
     "output_type": "stream",
     "text": [
      "Epoch 2/100: 100%|██████████| 508/508 [02:28<00:00,  3.42it/s, loss=0.43] \n"
     ]
    },
    {
     "name": "stdout",
     "output_type": "stream",
     "text": [
      "\n",
      "[Epoch 2] Loss: 230.0995 | Time: 148.54s | Dead Features: 0.1%\n"
     ]
    },
    {
     "name": "stderr",
     "output_type": "stream",
     "text": [
      "Epoch 3/100: 100%|██████████| 508/508 [02:29<00:00,  3.40it/s, loss=0.436]\n"
     ]
    },
    {
     "name": "stdout",
     "output_type": "stream",
     "text": [
      "\n",
      "[Epoch 3] Loss: 220.1320 | Time: 149.27s | Dead Features: 1.1%\n"
     ]
    },
    {
     "name": "stderr",
     "output_type": "stream",
     "text": [
      "Epoch 4/100: 100%|██████████| 508/508 [02:32<00:00,  3.33it/s, loss=0.431]\n"
     ]
    },
    {
     "name": "stdout",
     "output_type": "stream",
     "text": [
      "\n",
      "[Epoch 4] Loss: 215.0126 | Time: 152.71s | Dead Features: 3.1%\n"
     ]
    },
    {
     "name": "stderr",
     "output_type": "stream",
     "text": [
      "Epoch 5/100: 100%|██████████| 508/508 [02:33<00:00,  3.31it/s, loss=0.426]\n"
     ]
    },
    {
     "name": "stdout",
     "output_type": "stream",
     "text": [
      "\n",
      "[Epoch 5] Loss: 211.4538 | Time: 153.30s | Dead Features: 7.3%\n"
     ]
    },
    {
     "name": "stderr",
     "output_type": "stream",
     "text": [
      "Epoch 6/100: 100%|██████████| 508/508 [02:31<00:00,  3.35it/s, loss=0.413]\n"
     ]
    },
    {
     "name": "stdout",
     "output_type": "stream",
     "text": [
      "\n",
      "[Epoch 6] Loss: 208.7933 | Time: 151.73s | Dead Features: 12.2%\n"
     ]
    },
    {
     "name": "stderr",
     "output_type": "stream",
     "text": [
      "Epoch 7/100: 100%|██████████| 508/508 [02:31<00:00,  3.36it/s, loss=0.407]\n"
     ]
    },
    {
     "name": "stdout",
     "output_type": "stream",
     "text": [
      "\n",
      "[Epoch 7] Loss: 206.6270 | Time: 151.06s | Dead Features: 16.0%\n"
     ]
    },
    {
     "name": "stderr",
     "output_type": "stream",
     "text": [
      "Epoch 8/100: 100%|██████████| 508/508 [02:31<00:00,  3.35it/s, loss=0.404]\n"
     ]
    },
    {
     "name": "stdout",
     "output_type": "stream",
     "text": [
      "\n",
      "[Epoch 8] Loss: 204.9744 | Time: 151.85s | Dead Features: 18.4%\n"
     ]
    },
    {
     "name": "stderr",
     "output_type": "stream",
     "text": [
      "Epoch 9/100: 100%|██████████| 508/508 [02:31<00:00,  3.35it/s, loss=0.408]\n"
     ]
    },
    {
     "name": "stdout",
     "output_type": "stream",
     "text": [
      "\n",
      "[Epoch 9] Loss: 203.5284 | Time: 151.55s | Dead Features: 23.5%\n"
     ]
    },
    {
     "name": "stderr",
     "output_type": "stream",
     "text": [
      "Epoch 10/100: 100%|██████████| 508/508 [02:31<00:00,  3.35it/s, loss=0.395]\n"
     ]
    },
    {
     "name": "stdout",
     "output_type": "stream",
     "text": [
      "\n",
      "[Epoch 10] Loss: 202.3575 | Time: 151.57s | Dead Features: 27.2%\n"
     ]
    },
    {
     "name": "stderr",
     "output_type": "stream",
     "text": [
      "Epoch 11/100: 100%|██████████| 508/508 [02:31<00:00,  3.34it/s, loss=0.388]\n"
     ]
    },
    {
     "name": "stdout",
     "output_type": "stream",
     "text": [
      "\n",
      "[Epoch 11] Loss: 201.2594 | Time: 151.91s | Dead Features: 32.6%\n"
     ]
    },
    {
     "name": "stderr",
     "output_type": "stream",
     "text": [
      "Epoch 12/100: 100%|██████████| 508/508 [02:31<00:00,  3.35it/s, loss=0.394]\n"
     ]
    },
    {
     "name": "stdout",
     "output_type": "stream",
     "text": [
      "\n",
      "[Epoch 12] Loss: 200.3950 | Time: 151.48s | Dead Features: 35.7%\n"
     ]
    },
    {
     "name": "stderr",
     "output_type": "stream",
     "text": [
      "Epoch 13/100: 100%|██████████| 508/508 [02:31<00:00,  3.36it/s, loss=0.378]\n"
     ]
    },
    {
     "name": "stdout",
     "output_type": "stream",
     "text": [
      "\n",
      "[Epoch 13] Loss: 199.5158 | Time: 151.03s | Dead Features: 41.6%\n"
     ]
    },
    {
     "name": "stderr",
     "output_type": "stream",
     "text": [
      "Epoch 14/100: 100%|██████████| 508/508 [02:29<00:00,  3.40it/s, loss=0.396]\n"
     ]
    },
    {
     "name": "stdout",
     "output_type": "stream",
     "text": [
      "\n",
      "[Epoch 14] Loss: 198.8250 | Time: 149.62s | Dead Features: 43.8%\n"
     ]
    },
    {
     "name": "stderr",
     "output_type": "stream",
     "text": [
      "Epoch 15/100: 100%|██████████| 508/508 [02:28<00:00,  3.43it/s, loss=0.4]  \n"
     ]
    },
    {
     "name": "stdout",
     "output_type": "stream",
     "text": [
      "\n",
      "[Epoch 15] Loss: 198.1498 | Time: 148.16s | Dead Features: 47.9%\n"
     ]
    },
    {
     "name": "stderr",
     "output_type": "stream",
     "text": [
      "Epoch 16/100: 100%|██████████| 508/508 [02:29<00:00,  3.41it/s, loss=0.384]\n"
     ]
    },
    {
     "name": "stdout",
     "output_type": "stream",
     "text": [
      "\n",
      "[Epoch 16] Loss: 197.5553 | Time: 149.15s | Dead Features: 50.8%\n"
     ]
    },
    {
     "name": "stderr",
     "output_type": "stream",
     "text": [
      "Epoch 17/100: 100%|██████████| 508/508 [02:31<00:00,  3.35it/s, loss=0.39] \n"
     ]
    },
    {
     "name": "stdout",
     "output_type": "stream",
     "text": [
      "\n",
      "[Epoch 17] Loss: 196.9506 | Time: 151.79s | Dead Features: 53.3%\n"
     ]
    },
    {
     "name": "stderr",
     "output_type": "stream",
     "text": [
      "Epoch 18/100: 100%|██████████| 508/508 [02:31<00:00,  3.36it/s, loss=0.387]\n"
     ]
    },
    {
     "name": "stdout",
     "output_type": "stream",
     "text": [
      "\n",
      "[Epoch 18] Loss: 196.3991 | Time: 151.33s | Dead Features: 56.9%\n"
     ]
    },
    {
     "name": "stderr",
     "output_type": "stream",
     "text": [
      "Epoch 19/100: 100%|██████████| 508/508 [02:31<00:00,  3.34it/s, loss=0.375]\n"
     ]
    },
    {
     "name": "stdout",
     "output_type": "stream",
     "text": [
      "\n",
      "[Epoch 19] Loss: 195.9306 | Time: 151.89s | Dead Features: 58.1%\n"
     ]
    },
    {
     "name": "stderr",
     "output_type": "stream",
     "text": [
      "Epoch 20/100: 100%|██████████| 508/508 [02:31<00:00,  3.34it/s, loss=0.393]\n"
     ]
    },
    {
     "name": "stdout",
     "output_type": "stream",
     "text": [
      "\n",
      "[Epoch 20] Loss: 195.4657 | Time: 151.99s | Dead Features: 60.1%\n"
     ]
    },
    {
     "name": "stderr",
     "output_type": "stream",
     "text": [
      "Epoch 21/100: 100%|██████████| 508/508 [02:31<00:00,  3.36it/s, loss=0.378]\n"
     ]
    },
    {
     "name": "stdout",
     "output_type": "stream",
     "text": [
      "\n",
      "[Epoch 21] Loss: 195.1071 | Time: 151.09s | Dead Features: 61.6%\n"
     ]
    },
    {
     "name": "stderr",
     "output_type": "stream",
     "text": [
      "Epoch 22/100: 100%|██████████| 508/508 [02:30<00:00,  3.37it/s, loss=0.388]\n"
     ]
    },
    {
     "name": "stdout",
     "output_type": "stream",
     "text": [
      "\n",
      "[Epoch 22] Loss: 194.6770 | Time: 150.57s | Dead Features: 63.3%\n"
     ]
    },
    {
     "name": "stderr",
     "output_type": "stream",
     "text": [
      "Epoch 23/100: 100%|██████████| 508/508 [02:30<00:00,  3.37it/s, loss=0.382]\n"
     ]
    },
    {
     "name": "stdout",
     "output_type": "stream",
     "text": [
      "\n",
      "[Epoch 23] Loss: 194.3863 | Time: 150.56s | Dead Features: 64.0%\n"
     ]
    },
    {
     "name": "stderr",
     "output_type": "stream",
     "text": [
      "Epoch 24/100: 100%|██████████| 508/508 [02:32<00:00,  3.33it/s, loss=0.381]\n"
     ]
    },
    {
     "name": "stdout",
     "output_type": "stream",
     "text": [
      "\n",
      "[Epoch 24] Loss: 194.0021 | Time: 152.54s | Dead Features: 65.2%\n"
     ]
    },
    {
     "name": "stderr",
     "output_type": "stream",
     "text": [
      "Epoch 25/100: 100%|██████████| 508/508 [02:32<00:00,  3.33it/s, loss=0.374]\n"
     ]
    },
    {
     "name": "stdout",
     "output_type": "stream",
     "text": [
      "\n",
      "[Epoch 25] Loss: 193.7440 | Time: 152.77s | Dead Features: 66.0%\n"
     ]
    },
    {
     "name": "stderr",
     "output_type": "stream",
     "text": [
      "Epoch 26/100: 100%|██████████| 508/508 [02:31<00:00,  3.35it/s, loss=0.377]\n"
     ]
    },
    {
     "name": "stdout",
     "output_type": "stream",
     "text": [
      "\n",
      "[Epoch 26] Loss: 193.4124 | Time: 151.82s | Dead Features: 66.8%\n"
     ]
    },
    {
     "name": "stderr",
     "output_type": "stream",
     "text": [
      "Epoch 27/100: 100%|██████████| 508/508 [02:31<00:00,  3.36it/s, loss=0.38] \n"
     ]
    },
    {
     "name": "stdout",
     "output_type": "stream",
     "text": [
      "\n",
      "[Epoch 27] Loss: 193.1904 | Time: 151.38s | Dead Features: 67.2%\n"
     ]
    },
    {
     "name": "stderr",
     "output_type": "stream",
     "text": [
      "Epoch 28/100: 100%|██████████| 508/508 [02:32<00:00,  3.33it/s, loss=0.374]\n"
     ]
    },
    {
     "name": "stdout",
     "output_type": "stream",
     "text": [
      "\n",
      "[Epoch 28] Loss: 192.8892 | Time: 152.35s | Dead Features: 67.5%\n"
     ]
    },
    {
     "name": "stderr",
     "output_type": "stream",
     "text": [
      "Epoch 29/100: 100%|██████████| 508/508 [02:31<00:00,  3.36it/s, loss=0.376]\n"
     ]
    },
    {
     "name": "stdout",
     "output_type": "stream",
     "text": [
      "\n",
      "[Epoch 29] Loss: 192.6739 | Time: 151.12s | Dead Features: 67.7%\n"
     ]
    },
    {
     "name": "stderr",
     "output_type": "stream",
     "text": [
      "Epoch 30/100: 100%|██████████| 508/508 [02:31<00:00,  3.35it/s, loss=0.377]\n"
     ]
    },
    {
     "name": "stdout",
     "output_type": "stream",
     "text": [
      "\n",
      "[Epoch 30] Loss: 192.4422 | Time: 151.71s | Dead Features: 68.7%\n"
     ]
    },
    {
     "name": "stderr",
     "output_type": "stream",
     "text": [
      "Epoch 31/100: 100%|██████████| 508/508 [02:30<00:00,  3.37it/s, loss=0.386]\n"
     ]
    },
    {
     "name": "stdout",
     "output_type": "stream",
     "text": [
      "\n",
      "[Epoch 31] Loss: 192.2223 | Time: 150.72s | Dead Features: 68.8%\n"
     ]
    },
    {
     "name": "stderr",
     "output_type": "stream",
     "text": [
      "Epoch 32/100: 100%|██████████| 508/508 [02:32<00:00,  3.34it/s, loss=0.377]\n"
     ]
    },
    {
     "name": "stdout",
     "output_type": "stream",
     "text": [
      "\n",
      "[Epoch 32] Loss: 192.0388 | Time: 152.24s | Dead Features: 70.3%\n"
     ]
    },
    {
     "name": "stderr",
     "output_type": "stream",
     "text": [
      "Epoch 33/100: 100%|██████████| 508/508 [02:31<00:00,  3.36it/s, loss=0.371]\n"
     ]
    },
    {
     "name": "stdout",
     "output_type": "stream",
     "text": [
      "\n",
      "[Epoch 33] Loss: 191.8168 | Time: 151.22s | Dead Features: 69.9%\n"
     ]
    },
    {
     "name": "stderr",
     "output_type": "stream",
     "text": [
      "Epoch 34/100: 100%|██████████| 508/508 [02:31<00:00,  3.36it/s, loss=0.378]\n"
     ]
    },
    {
     "name": "stdout",
     "output_type": "stream",
     "text": [
      "\n",
      "[Epoch 34] Loss: 191.6827 | Time: 151.29s | Dead Features: 70.0%\n"
     ]
    },
    {
     "name": "stderr",
     "output_type": "stream",
     "text": [
      "Epoch 35/100: 100%|██████████| 508/508 [02:30<00:00,  3.36it/s, loss=0.37] \n"
     ]
    },
    {
     "name": "stdout",
     "output_type": "stream",
     "text": [
      "\n",
      "[Epoch 35] Loss: 191.4511 | Time: 150.99s | Dead Features: 70.4%\n"
     ]
    },
    {
     "name": "stderr",
     "output_type": "stream",
     "text": [
      "Epoch 36/100: 100%|██████████| 508/508 [02:31<00:00,  3.35it/s, loss=0.374]\n"
     ]
    },
    {
     "name": "stdout",
     "output_type": "stream",
     "text": [
      "\n",
      "[Epoch 36] Loss: 191.3605 | Time: 151.76s | Dead Features: 70.6%\n"
     ]
    },
    {
     "name": "stderr",
     "output_type": "stream",
     "text": [
      "Epoch 37/100: 100%|██████████| 508/508 [02:31<00:00,  3.35it/s, loss=0.379]\n"
     ]
    },
    {
     "name": "stdout",
     "output_type": "stream",
     "text": [
      "\n",
      "[Epoch 37] Loss: 191.1678 | Time: 151.46s | Dead Features: 70.9%\n"
     ]
    },
    {
     "name": "stderr",
     "output_type": "stream",
     "text": [
      "Epoch 38/100: 100%|██████████| 508/508 [02:32<00:00,  3.33it/s, loss=0.374]\n"
     ]
    },
    {
     "name": "stdout",
     "output_type": "stream",
     "text": [
      "\n",
      "[Epoch 38] Loss: 191.1027 | Time: 152.36s | Dead Features: 71.3%\n"
     ]
    },
    {
     "name": "stderr",
     "output_type": "stream",
     "text": [
      "Epoch 39/100: 100%|██████████| 508/508 [02:31<00:00,  3.35it/s, loss=0.38] \n"
     ]
    },
    {
     "name": "stdout",
     "output_type": "stream",
     "text": [
      "\n",
      "[Epoch 39] Loss: 190.9334 | Time: 151.70s | Dead Features: 70.9%\n"
     ]
    },
    {
     "name": "stderr",
     "output_type": "stream",
     "text": [
      "Epoch 40/100: 100%|██████████| 508/508 [02:31<00:00,  3.36it/s, loss=0.379]\n"
     ]
    },
    {
     "name": "stdout",
     "output_type": "stream",
     "text": [
      "\n",
      "[Epoch 40] Loss: 190.8471 | Time: 151.32s | Dead Features: 71.2%\n"
     ]
    },
    {
     "name": "stderr",
     "output_type": "stream",
     "text": [
      "Epoch 41/100: 100%|██████████| 508/508 [02:32<00:00,  3.34it/s, loss=0.376]\n"
     ]
    },
    {
     "name": "stdout",
     "output_type": "stream",
     "text": [
      "\n",
      "[Epoch 41] Loss: 190.6903 | Time: 152.13s | Dead Features: 71.0%\n"
     ]
    },
    {
     "name": "stderr",
     "output_type": "stream",
     "text": [
      "Epoch 42/100: 100%|██████████| 508/508 [02:30<00:00,  3.38it/s, loss=0.373]\n"
     ]
    },
    {
     "name": "stdout",
     "output_type": "stream",
     "text": [
      "\n",
      "[Epoch 42] Loss: 190.5816 | Time: 150.48s | Dead Features: 71.2%\n"
     ]
    },
    {
     "name": "stderr",
     "output_type": "stream",
     "text": [
      "Epoch 43/100: 100%|██████████| 508/508 [02:32<00:00,  3.34it/s, loss=0.386]\n"
     ]
    },
    {
     "name": "stdout",
     "output_type": "stream",
     "text": [
      "\n",
      "[Epoch 43] Loss: 190.4681 | Time: 152.06s | Dead Features: 70.9%\n"
     ]
    },
    {
     "name": "stderr",
     "output_type": "stream",
     "text": [
      "Epoch 44/100: 100%|██████████| 508/508 [02:32<00:00,  3.34it/s, loss=0.371]\n"
     ]
    },
    {
     "name": "stdout",
     "output_type": "stream",
     "text": [
      "\n",
      "[Epoch 44] Loss: 190.3513 | Time: 152.16s | Dead Features: 71.0%\n"
     ]
    },
    {
     "name": "stderr",
     "output_type": "stream",
     "text": [
      "Epoch 45/100: 100%|██████████| 508/508 [02:32<00:00,  3.34it/s, loss=0.373]\n"
     ]
    },
    {
     "name": "stdout",
     "output_type": "stream",
     "text": [
      "\n",
      "[Epoch 45] Loss: 190.2807 | Time: 152.29s | Dead Features: 70.8%\n"
     ]
    },
    {
     "name": "stderr",
     "output_type": "stream",
     "text": [
      "Epoch 46/100: 100%|██████████| 508/508 [02:31<00:00,  3.35it/s, loss=0.371]\n"
     ]
    },
    {
     "name": "stdout",
     "output_type": "stream",
     "text": [
      "\n",
      "[Epoch 46] Loss: 190.1426 | Time: 151.54s | Dead Features: 71.2%\n"
     ]
    },
    {
     "name": "stderr",
     "output_type": "stream",
     "text": [
      "Epoch 47/100: 100%|██████████| 508/508 [02:32<00:00,  3.34it/s, loss=0.37] \n"
     ]
    },
    {
     "name": "stdout",
     "output_type": "stream",
     "text": [
      "\n",
      "[Epoch 47] Loss: 190.1185 | Time: 152.32s | Dead Features: 70.8%\n"
     ]
    },
    {
     "name": "stderr",
     "output_type": "stream",
     "text": [
      "Epoch 48/100: 100%|██████████| 508/508 [02:31<00:00,  3.35it/s, loss=0.382]\n"
     ]
    },
    {
     "name": "stdout",
     "output_type": "stream",
     "text": [
      "\n",
      "[Epoch 48] Loss: 189.9860 | Time: 151.59s | Dead Features: 71.5%\n"
     ]
    },
    {
     "name": "stderr",
     "output_type": "stream",
     "text": [
      "Epoch 49/100: 100%|██████████| 508/508 [02:30<00:00,  3.36it/s, loss=0.373]\n"
     ]
    },
    {
     "name": "stdout",
     "output_type": "stream",
     "text": [
      "\n",
      "[Epoch 49] Loss: 189.9804 | Time: 150.98s | Dead Features: 71.4%\n"
     ]
    },
    {
     "name": "stderr",
     "output_type": "stream",
     "text": [
      "Epoch 50/100: 100%|██████████| 508/508 [02:30<00:00,  3.37it/s, loss=0.373]\n"
     ]
    },
    {
     "name": "stdout",
     "output_type": "stream",
     "text": [
      "\n",
      "[Epoch 50] Loss: 189.8543 | Time: 150.57s | Dead Features: 71.4%\n"
     ]
    },
    {
     "name": "stderr",
     "output_type": "stream",
     "text": [
      "Epoch 51/100: 100%|██████████| 508/508 [02:31<00:00,  3.35it/s, loss=0.374]\n"
     ]
    },
    {
     "name": "stdout",
     "output_type": "stream",
     "text": [
      "\n",
      "[Epoch 51] Loss: 189.8455 | Time: 151.63s | Dead Features: 71.5%\n"
     ]
    },
    {
     "name": "stderr",
     "output_type": "stream",
     "text": [
      "Epoch 52/100: 100%|██████████| 508/508 [02:31<00:00,  3.36it/s, loss=0.385]\n"
     ]
    },
    {
     "name": "stdout",
     "output_type": "stream",
     "text": [
      "\n",
      "[Epoch 52] Loss: 189.7402 | Time: 151.39s | Dead Features: 71.4%\n"
     ]
    },
    {
     "name": "stderr",
     "output_type": "stream",
     "text": [
      "Epoch 53/100: 100%|██████████| 508/508 [02:32<00:00,  3.34it/s, loss=0.369]\n"
     ]
    },
    {
     "name": "stdout",
     "output_type": "stream",
     "text": [
      "\n",
      "[Epoch 53] Loss: 189.7173 | Time: 152.04s | Dead Features: 71.5%\n"
     ]
    },
    {
     "name": "stderr",
     "output_type": "stream",
     "text": [
      "Epoch 54/100: 100%|██████████| 508/508 [02:32<00:00,  3.33it/s, loss=0.368]\n"
     ]
    },
    {
     "name": "stdout",
     "output_type": "stream",
     "text": [
      "\n",
      "[Epoch 54] Loss: 189.6273 | Time: 152.63s | Dead Features: 71.5%\n"
     ]
    },
    {
     "name": "stderr",
     "output_type": "stream",
     "text": [
      "Epoch 55/100: 100%|██████████| 508/508 [02:32<00:00,  3.33it/s, loss=0.356]\n"
     ]
    },
    {
     "name": "stdout",
     "output_type": "stream",
     "text": [
      "\n",
      "[Epoch 55] Loss: 189.5840 | Time: 152.73s | Dead Features: 71.5%\n"
     ]
    },
    {
     "name": "stderr",
     "output_type": "stream",
     "text": [
      "Epoch 56/100: 100%|██████████| 508/508 [02:32<00:00,  3.33it/s, loss=0.371]\n"
     ]
    },
    {
     "name": "stdout",
     "output_type": "stream",
     "text": [
      "\n",
      "[Epoch 56] Loss: 189.5421 | Time: 152.39s | Dead Features: 71.7%\n"
     ]
    },
    {
     "name": "stderr",
     "output_type": "stream",
     "text": [
      "Epoch 57/100: 100%|██████████| 508/508 [02:32<00:00,  3.32it/s, loss=0.381]\n"
     ]
    },
    {
     "name": "stdout",
     "output_type": "stream",
     "text": [
      "\n",
      "[Epoch 57] Loss: 189.4653 | Time: 152.83s | Dead Features: 71.5%\n"
     ]
    },
    {
     "name": "stderr",
     "output_type": "stream",
     "text": [
      "Epoch 58/100: 100%|██████████| 508/508 [02:31<00:00,  3.35it/s, loss=0.364]\n"
     ]
    },
    {
     "name": "stdout",
     "output_type": "stream",
     "text": [
      "\n",
      "[Epoch 58] Loss: 189.4459 | Time: 151.87s | Dead Features: 71.5%\n"
     ]
    },
    {
     "name": "stderr",
     "output_type": "stream",
     "text": [
      "Epoch 59/100: 100%|██████████| 508/508 [02:32<00:00,  3.33it/s, loss=0.373]\n"
     ]
    },
    {
     "name": "stdout",
     "output_type": "stream",
     "text": [
      "\n",
      "[Epoch 59] Loss: 189.3472 | Time: 152.54s | Dead Features: 71.7%\n"
     ]
    },
    {
     "name": "stderr",
     "output_type": "stream",
     "text": [
      "Epoch 60/100: 100%|██████████| 508/508 [02:32<00:00,  3.34it/s, loss=0.379]\n"
     ]
    },
    {
     "name": "stdout",
     "output_type": "stream",
     "text": [
      "\n",
      "[Epoch 60] Loss: 189.3511 | Time: 152.20s | Dead Features: 71.7%\n"
     ]
    },
    {
     "name": "stderr",
     "output_type": "stream",
     "text": [
      "Epoch 61/100: 100%|██████████| 508/508 [02:31<00:00,  3.36it/s, loss=0.379]\n"
     ]
    },
    {
     "name": "stdout",
     "output_type": "stream",
     "text": [
      "\n",
      "[Epoch 61] Loss: 189.2421 | Time: 151.39s | Dead Features: 71.8%\n"
     ]
    },
    {
     "name": "stderr",
     "output_type": "stream",
     "text": [
      "Epoch 62/100: 100%|██████████| 508/508 [02:31<00:00,  3.36it/s, loss=0.368]\n"
     ]
    },
    {
     "name": "stdout",
     "output_type": "stream",
     "text": [
      "\n",
      "[Epoch 62] Loss: 189.2655 | Time: 151.40s | Dead Features: 71.8%\n"
     ]
    },
    {
     "name": "stderr",
     "output_type": "stream",
     "text": [
      "Epoch 63/100: 100%|██████████| 508/508 [03:12<00:00,  2.64it/s, loss=0.382]\n"
     ]
    },
    {
     "name": "stdout",
     "output_type": "stream",
     "text": [
      "\n",
      "[Epoch 63] Loss: 189.1631 | Time: 192.37s | Dead Features: 71.8%\n"
     ]
    },
    {
     "name": "stderr",
     "output_type": "stream",
     "text": [
      "Epoch 64/100: 100%|██████████| 508/508 [03:12<00:00,  2.65it/s, loss=0.366]\n"
     ]
    },
    {
     "name": "stdout",
     "output_type": "stream",
     "text": [
      "\n",
      "[Epoch 64] Loss: 189.1802 | Time: 192.04s | Dead Features: 72.1%\n"
     ]
    },
    {
     "name": "stderr",
     "output_type": "stream",
     "text": [
      "Epoch 65/100: 100%|██████████| 508/508 [03:10<00:00,  2.66it/s, loss=0.369]\n"
     ]
    },
    {
     "name": "stdout",
     "output_type": "stream",
     "text": [
      "\n",
      "[Epoch 65] Loss: 189.0934 | Time: 190.95s | Dead Features: 71.7%\n"
     ]
    },
    {
     "name": "stderr",
     "output_type": "stream",
     "text": [
      "Epoch 66/100: 100%|██████████| 508/508 [03:13<00:00,  2.63it/s, loss=0.368]\n"
     ]
    },
    {
     "name": "stdout",
     "output_type": "stream",
     "text": [
      "\n",
      "[Epoch 66] Loss: 189.0883 | Time: 193.31s | Dead Features: 71.7%\n"
     ]
    },
    {
     "name": "stderr",
     "output_type": "stream",
     "text": [
      "Epoch 67/100: 100%|██████████| 508/508 [03:11<00:00,  2.66it/s, loss=0.38] \n"
     ]
    },
    {
     "name": "stdout",
     "output_type": "stream",
     "text": [
      "\n",
      "[Epoch 67] Loss: 189.0327 | Time: 191.20s | Dead Features: 71.6%\n"
     ]
    },
    {
     "name": "stderr",
     "output_type": "stream",
     "text": [
      "Epoch 68/100: 100%|██████████| 508/508 [03:12<00:00,  2.64it/s, loss=0.374]\n"
     ]
    },
    {
     "name": "stdout",
     "output_type": "stream",
     "text": [
      "\n",
      "[Epoch 68] Loss: 189.0072 | Time: 192.50s | Dead Features: 71.7%\n"
     ]
    },
    {
     "name": "stderr",
     "output_type": "stream",
     "text": [
      "Epoch 69/100: 100%|██████████| 508/508 [03:04<00:00,  2.75it/s, loss=0.372]\n"
     ]
    },
    {
     "name": "stdout",
     "output_type": "stream",
     "text": [
      "\n",
      "[Epoch 69] Loss: 188.9887 | Time: 184.46s | Dead Features: 71.6%\n"
     ]
    },
    {
     "name": "stderr",
     "output_type": "stream",
     "text": [
      "Epoch 70/100: 100%|██████████| 508/508 [03:12<00:00,  2.63it/s, loss=0.38] \n"
     ]
    },
    {
     "name": "stdout",
     "output_type": "stream",
     "text": [
      "\n",
      "[Epoch 70] Loss: 188.9313 | Time: 192.97s | Dead Features: 71.5%\n"
     ]
    },
    {
     "name": "stderr",
     "output_type": "stream",
     "text": [
      "Epoch 71/100: 100%|██████████| 508/508 [03:13<00:00,  2.63it/s, loss=0.376]\n"
     ]
    },
    {
     "name": "stdout",
     "output_type": "stream",
     "text": [
      "\n",
      "[Epoch 71] Loss: 188.9324 | Time: 193.19s | Dead Features: 71.6%\n"
     ]
    },
    {
     "name": "stderr",
     "output_type": "stream",
     "text": [
      "Epoch 72/100: 100%|██████████| 508/508 [03:14<00:00,  2.61it/s, loss=0.376]\n"
     ]
    },
    {
     "name": "stdout",
     "output_type": "stream",
     "text": [
      "\n",
      "[Epoch 72] Loss: 188.8419 | Time: 194.46s | Dead Features: 71.8%\n"
     ]
    },
    {
     "name": "stderr",
     "output_type": "stream",
     "text": [
      "Epoch 73/100: 100%|██████████| 508/508 [03:05<00:00,  2.74it/s, loss=0.37] \n"
     ]
    },
    {
     "name": "stdout",
     "output_type": "stream",
     "text": [
      "\n",
      "[Epoch 73] Loss: 188.8683 | Time: 185.68s | Dead Features: 71.6%\n"
     ]
    },
    {
     "name": "stderr",
     "output_type": "stream",
     "text": [
      "Epoch 74/100: 100%|██████████| 508/508 [02:30<00:00,  3.37it/s, loss=0.377]\n"
     ]
    },
    {
     "name": "stdout",
     "output_type": "stream",
     "text": [
      "\n",
      "[Epoch 74] Loss: 188.7770 | Time: 150.90s | Dead Features: 71.6%\n"
     ]
    },
    {
     "name": "stderr",
     "output_type": "stream",
     "text": [
      "Epoch 75/100: 100%|██████████| 508/508 [02:30<00:00,  3.37it/s, loss=0.356]\n"
     ]
    },
    {
     "name": "stdout",
     "output_type": "stream",
     "text": [
      "\n",
      "[Epoch 75] Loss: 188.8070 | Time: 150.73s | Dead Features: 71.7%\n"
     ]
    },
    {
     "name": "stderr",
     "output_type": "stream",
     "text": [
      "Epoch 76/100: 100%|██████████| 508/508 [02:32<00:00,  3.32it/s, loss=0.372]\n"
     ]
    },
    {
     "name": "stdout",
     "output_type": "stream",
     "text": [
      "\n",
      "[Epoch 76] Loss: 188.7270 | Time: 152.79s | Dead Features: 71.8%\n"
     ]
    },
    {
     "name": "stderr",
     "output_type": "stream",
     "text": [
      "Epoch 77/100: 100%|██████████| 508/508 [02:31<00:00,  3.35it/s, loss=0.365]\n"
     ]
    },
    {
     "name": "stdout",
     "output_type": "stream",
     "text": [
      "\n",
      "[Epoch 77] Loss: 188.7494 | Time: 151.71s | Dead Features: 71.3%\n"
     ]
    },
    {
     "name": "stderr",
     "output_type": "stream",
     "text": [
      "Epoch 78/100: 100%|██████████| 508/508 [02:32<00:00,  3.32it/s, loss=0.369]\n"
     ]
    },
    {
     "name": "stdout",
     "output_type": "stream",
     "text": [
      "\n",
      "[Epoch 78] Loss: 188.6831 | Time: 152.97s | Dead Features: 71.7%\n"
     ]
    },
    {
     "name": "stderr",
     "output_type": "stream",
     "text": [
      "Epoch 79/100: 100%|██████████| 508/508 [02:31<00:00,  3.36it/s, loss=0.368]\n"
     ]
    },
    {
     "name": "stdout",
     "output_type": "stream",
     "text": [
      "\n",
      "[Epoch 79] Loss: 188.6868 | Time: 151.36s | Dead Features: 71.5%\n"
     ]
    },
    {
     "name": "stderr",
     "output_type": "stream",
     "text": [
      "Epoch 80/100: 100%|██████████| 508/508 [02:32<00:00,  3.33it/s, loss=0.378]\n"
     ]
    },
    {
     "name": "stdout",
     "output_type": "stream",
     "text": [
      "\n",
      "[Epoch 80] Loss: 188.6604 | Time: 152.51s | Dead Features: 71.7%\n"
     ]
    },
    {
     "name": "stderr",
     "output_type": "stream",
     "text": [
      "Epoch 81/100: 100%|██████████| 508/508 [02:31<00:00,  3.35it/s, loss=0.38] \n"
     ]
    },
    {
     "name": "stdout",
     "output_type": "stream",
     "text": [
      "\n",
      "[Epoch 81] Loss: 188.6281 | Time: 151.83s | Dead Features: 71.6%\n"
     ]
    },
    {
     "name": "stderr",
     "output_type": "stream",
     "text": [
      "Epoch 82/100: 100%|██████████| 508/508 [02:31<00:00,  3.35it/s, loss=0.373]\n"
     ]
    },
    {
     "name": "stdout",
     "output_type": "stream",
     "text": [
      "\n",
      "[Epoch 82] Loss: 188.6269 | Time: 151.47s | Dead Features: 71.7%\n"
     ]
    },
    {
     "name": "stderr",
     "output_type": "stream",
     "text": [
      "Epoch 83/100: 100%|██████████| 508/508 [02:32<00:00,  3.33it/s, loss=0.375]\n"
     ]
    },
    {
     "name": "stdout",
     "output_type": "stream",
     "text": [
      "\n",
      "[Epoch 83] Loss: 188.5672 | Time: 152.33s | Dead Features: 71.7%\n"
     ]
    },
    {
     "name": "stderr",
     "output_type": "stream",
     "text": [
      "Epoch 84/100: 100%|██████████| 508/508 [02:31<00:00,  3.36it/s, loss=0.363]\n"
     ]
    },
    {
     "name": "stdout",
     "output_type": "stream",
     "text": [
      "\n",
      "[Epoch 84] Loss: 188.5940 | Time: 151.33s | Dead Features: 71.5%\n"
     ]
    },
    {
     "name": "stderr",
     "output_type": "stream",
     "text": [
      "Epoch 85/100: 100%|██████████| 508/508 [02:32<00:00,  3.34it/s, loss=0.374]\n"
     ]
    },
    {
     "name": "stdout",
     "output_type": "stream",
     "text": [
      "\n",
      "[Epoch 85] Loss: 188.5142 | Time: 152.31s | Dead Features: 71.8%\n"
     ]
    },
    {
     "name": "stderr",
     "output_type": "stream",
     "text": [
      "Epoch 86/100: 100%|██████████| 508/508 [02:31<00:00,  3.35it/s, loss=0.37] \n"
     ]
    },
    {
     "name": "stdout",
     "output_type": "stream",
     "text": [
      "\n",
      "[Epoch 86] Loss: 188.5592 | Time: 151.70s | Dead Features: 71.7%\n"
     ]
    },
    {
     "name": "stderr",
     "output_type": "stream",
     "text": [
      "Epoch 87/100: 100%|██████████| 508/508 [02:31<00:00,  3.34it/s, loss=0.372]\n"
     ]
    },
    {
     "name": "stdout",
     "output_type": "stream",
     "text": [
      "\n",
      "[Epoch 87] Loss: 188.4761 | Time: 151.94s | Dead Features: 71.7%\n"
     ]
    },
    {
     "name": "stderr",
     "output_type": "stream",
     "text": [
      "Epoch 88/100: 100%|██████████| 508/508 [02:32<00:00,  3.33it/s, loss=0.375]\n"
     ]
    },
    {
     "name": "stdout",
     "output_type": "stream",
     "text": [
      "\n",
      "[Epoch 88] Loss: 188.5193 | Time: 152.69s | Dead Features: 71.7%\n"
     ]
    },
    {
     "name": "stderr",
     "output_type": "stream",
     "text": [
      "Epoch 89/100: 100%|██████████| 508/508 [02:32<00:00,  3.34it/s, loss=0.381]\n"
     ]
    },
    {
     "name": "stdout",
     "output_type": "stream",
     "text": [
      "\n",
      "[Epoch 89] Loss: 188.4429 | Time: 152.24s | Dead Features: 71.7%\n"
     ]
    },
    {
     "name": "stderr",
     "output_type": "stream",
     "text": [
      "Epoch 90/100: 100%|██████████| 508/508 [02:32<00:00,  3.34it/s, loss=0.382]\n"
     ]
    },
    {
     "name": "stdout",
     "output_type": "stream",
     "text": [
      "\n",
      "[Epoch 90] Loss: 188.4697 | Time: 152.30s | Dead Features: 71.8%\n"
     ]
    },
    {
     "name": "stderr",
     "output_type": "stream",
     "text": [
      "Epoch 91/100: 100%|██████████| 508/508 [02:32<00:00,  3.33it/s, loss=0.373]\n"
     ]
    },
    {
     "name": "stdout",
     "output_type": "stream",
     "text": [
      "\n",
      "[Epoch 91] Loss: 188.4235 | Time: 152.76s | Dead Features: 71.7%\n"
     ]
    },
    {
     "name": "stderr",
     "output_type": "stream",
     "text": [
      "Epoch 92/100: 100%|██████████| 508/508 [02:32<00:00,  3.34it/s, loss=0.365]\n"
     ]
    },
    {
     "name": "stdout",
     "output_type": "stream",
     "text": [
      "\n",
      "[Epoch 92] Loss: 188.4192 | Time: 152.15s | Dead Features: 71.8%\n"
     ]
    },
    {
     "name": "stderr",
     "output_type": "stream",
     "text": [
      "Epoch 93/100: 100%|██████████| 508/508 [02:31<00:00,  3.35it/s, loss=0.381]\n"
     ]
    },
    {
     "name": "stdout",
     "output_type": "stream",
     "text": [
      "\n",
      "[Epoch 93] Loss: 188.3983 | Time: 151.71s | Dead Features: 71.9%\n"
     ]
    },
    {
     "name": "stderr",
     "output_type": "stream",
     "text": [
      "Epoch 94/100: 100%|██████████| 508/508 [02:32<00:00,  3.33it/s, loss=0.354]\n"
     ]
    },
    {
     "name": "stdout",
     "output_type": "stream",
     "text": [
      "\n",
      "[Epoch 94] Loss: 188.3731 | Time: 152.40s | Dead Features: 71.9%\n"
     ]
    },
    {
     "name": "stderr",
     "output_type": "stream",
     "text": [
      "Epoch 95/100: 100%|██████████| 508/508 [02:32<00:00,  3.33it/s, loss=0.375]\n"
     ]
    },
    {
     "name": "stdout",
     "output_type": "stream",
     "text": [
      "\n",
      "[Epoch 95] Loss: 188.3853 | Time: 152.36s | Dead Features: 71.9%\n"
     ]
    },
    {
     "name": "stderr",
     "output_type": "stream",
     "text": [
      "Epoch 96/100: 100%|██████████| 508/508 [02:31<00:00,  3.34it/s, loss=0.368]\n"
     ]
    },
    {
     "name": "stdout",
     "output_type": "stream",
     "text": [
      "\n",
      "[Epoch 96] Loss: 188.3297 | Time: 151.93s | Dead Features: 71.9%\n"
     ]
    },
    {
     "name": "stderr",
     "output_type": "stream",
     "text": [
      "Epoch 97/100: 100%|██████████| 508/508 [02:31<00:00,  3.34it/s, loss=0.375]\n"
     ]
    },
    {
     "name": "stdout",
     "output_type": "stream",
     "text": [
      "\n",
      "[Epoch 97] Loss: 188.3638 | Time: 151.95s | Dead Features: 71.8%\n"
     ]
    },
    {
     "name": "stderr",
     "output_type": "stream",
     "text": [
      "Epoch 98/100: 100%|██████████| 508/508 [02:32<00:00,  3.34it/s, loss=0.373]\n"
     ]
    },
    {
     "name": "stdout",
     "output_type": "stream",
     "text": [
      "\n",
      "[Epoch 98] Loss: 188.2775 | Time: 152.21s | Dead Features: 72.0%\n"
     ]
    },
    {
     "name": "stderr",
     "output_type": "stream",
     "text": [
      "Epoch 99/100: 100%|██████████| 508/508 [02:31<00:00,  3.35it/s, loss=0.377]\n"
     ]
    },
    {
     "name": "stdout",
     "output_type": "stream",
     "text": [
      "\n",
      "[Epoch 99] Loss: 188.3318 | Time: 151.61s | Dead Features: 71.7%\n"
     ]
    },
    {
     "name": "stderr",
     "output_type": "stream",
     "text": [
      "Epoch 100/100: 100%|██████████| 508/508 [02:32<00:00,  3.32it/s, loss=0.367]"
     ]
    },
    {
     "name": "stdout",
     "output_type": "stream",
     "text": [
      "\n",
      "[Epoch 100] Loss: 188.2568 | Time: 152.88s | Dead Features: 71.7%\n"
     ]
    },
    {
     "name": "stderr",
     "output_type": "stream",
     "text": [
      "\n"
     ]
    }
   ],
   "source": [
    "train_usae(\n",
    "    names=list(models.keys()),\n",
    "    models=SAEs,\n",
    "    dataloader=activations_dataloader,\n",
    "    criterion=criterion,\n",
    "    nb_epochs=epochs,\n",
    "    optimizers=optimizers,\n",
    "    schedulers=schedulers,\n",
    "    device=\"cuda\",\n",
    "    seed=42,\n",
    ")"
   ]
  },
  {
   "cell_type": "code",
   "execution_count": null,
   "id": "3c622fdc",
   "metadata": {},
   "outputs": [
    {
     "ename": "",
     "evalue": "",
     "output_type": "error",
     "traceback": [
      "\u001b[1;31mThe Kernel crashed while executing code in the current cell or a previous cell. \n",
      "\u001b[1;31mPlease review the code in the cell(s) to identify a possible cause of the failure. \n",
      "\u001b[1;31mClick <a href='https://aka.ms/vscodeJupyterKernelCrash'>here</a> for more info. \n",
      "\u001b[1;31mView Jupyter <a href='command:jupyter.viewOutput'>log</a> for further details."
     ]
    }
   ],
   "source": [
    "model_state_dicts = {name: model.state_dict() for name, model in SAEs.items()}\n",
    "torch.save(model_state_dicts, \"./models/ViT_MLP.pt\")"
   ]
  },
  {
   "cell_type": "code",
   "execution_count": 10,
   "id": "e95cd8a9",
   "metadata": {},
   "outputs": [
    {
     "name": "stdout",
     "output_type": "stream",
     "text": [
      "<All keys matched successfully>\n"
     ]
    }
   ],
   "source": [
    "model_path = \"./models/ViT_MLP.pt\"\n",
    "state = torch.load(model_path)\n",
    "\n",
    "for name, sae in SAEs.items():\n",
    "    print(sae.load_state_dict(state[name]))"
   ]
  },
  {
   "cell_type": "code",
   "execution_count": null,
   "id": "d71a677a",
   "metadata": {},
   "outputs": [
    {
     "name": "stderr",
     "output_type": "stream",
     "text": [
      "100%|██████████| 508/508 [14:12<00:00,  1.68s/it]\n"
     ]
    },
    {
     "name": "stdout",
     "output_type": "stream",
     "text": [
      "6144\n",
      "Skipping cuz 0\n",
      "Skipping cuz 0\n",
      "Skipping cuz 0\n",
      "Skipping cuz 0\n",
      "Skipping cuz 0\n",
      "Skipping cuz 0\n",
      "Skipping cuz 0\n",
      "Skipping cuz 0\n",
      "Skipping cuz 0\n",
      "Skipping cuz 0\n",
      "Skipping cuz 0\n",
      "Skipping cuz 0\n",
      "Skipping cuz 0\n",
      "Skipping cuz 0\n",
      "Skipping cuz 0\n",
      "Skipping cuz 0\n",
      "Skipping cuz 0\n",
      "Skipping cuz 0\n",
      "Skipping cuz 0\n",
      "Skipping cuz 0\n",
      "Skipping cuz 0\n",
      "Skipping cuz 0\n",
      "Skipping cuz 0\n",
      "Skipping cuz 0\n",
      "Skipping cuz 0\n",
      "Skipping cuz 0\n",
      "Skipping cuz 0\n",
      "Skipping cuz 0\n",
      "Skipping cuz 0\n",
      "Skipping cuz 0\n",
      "Skipping cuz 0\n",
      "Skipping cuz 0\n",
      "Skipping cuz 0\n",
      "Skipping cuz 0\n",
      "Skipping cuz 0\n",
      "Skipping cuz 0\n",
      "Skipping cuz 0\n",
      "Skipping cuz 0\n",
      "Skipping cuz 0\n",
      "Skipping cuz 0\n",
      "Skipping cuz 0\n",
      "Skipping cuz 0\n",
      "Skipping cuz 0\n",
      "Skipping cuz 0\n",
      "Skipping cuz 0\n",
      "Skipping cuz 0\n",
      "Skipping cuz 0\n",
      "Skipping cuz 0\n",
      "Skipping cuz 0\n",
      "Skipping cuz 0\n",
      "Skipping cuz 0\n",
      "Skipping cuz 0\n",
      "Skipping cuz 0\n",
      "Skipping cuz 0\n",
      "Skipping cuz 0\n",
      "Skipping cuz 0\n",
      "Skipping cuz 0\n",
      "Skipping cuz 0\n",
      "Skipping cuz 0\n",
      "Skipping cuz 0\n",
      "Skipping cuz 0\n",
      "Skipping cuz 0\n",
      "Skipping cuz 0\n",
      "Skipping cuz 0\n",
      "Skipping cuz 0\n",
      "Skipping cuz 0\n",
      "Skipping cuz 0\n",
      "Skipping cuz 0\n",
      "Skipping cuz 0\n",
      "Skipping cuz 0\n",
      "Skipping cuz 0\n",
      "Skipping cuz 0\n",
      "Skipping cuz 0\n",
      "Skipping cuz 0\n",
      "Skipping cuz 0\n",
      "Skipping cuz 0\n",
      "Skipping cuz 0\n",
      "Skipping cuz 0\n",
      "Skipping cuz 0\n",
      "Skipping cuz 0\n",
      "Skipping cuz 0\n",
      "Skipping cuz 0\n",
      "Skipping cuz 0\n",
      "Skipping cuz 0\n",
      "Skipping cuz 0\n",
      "Skipping cuz 0\n",
      "Skipping cuz 0\n",
      "Skipping cuz 0\n",
      "Skipping cuz 0\n",
      "Skipping cuz 0\n",
      "Skipping cuz 0\n",
      "Skipping cuz 0\n",
      "Skipping cuz 0\n",
      "Skipping cuz 0\n",
      "Skipping cuz 0\n",
      "Skipping cuz 0\n",
      "Skipping cuz 0\n",
      "Skipping cuz 0\n",
      "Skipping cuz 0\n",
      "Skipping cuz 0\n",
      "Skipping cuz 0\n",
      "Skipping cuz 0\n",
      "Skipping cuz 0\n",
      "Skipping cuz 0\n",
      "Skipping cuz 0\n",
      "Skipping cuz 0\n",
      "Skipping cuz 0\n",
      "Skipping cuz 0\n",
      "Skipping cuz 0\n",
      "Skipping cuz 0\n",
      "Skipping cuz 0\n",
      "Skipping cuz 0\n",
      "Skipping cuz 0\n",
      "Skipping cuz 0\n",
      "Skipping cuz 0\n",
      "Skipping cuz 0\n",
      "Skipping cuz 0\n",
      "Skipping cuz 0\n",
      "Skipping cuz 0\n",
      "Skipping cuz 0\n",
      "Skipping cuz 0\n",
      "Skipping cuz 0\n",
      "Skipping cuz 0\n",
      "Skipping cuz 0\n",
      "Skipping cuz 0\n",
      "Skipping cuz 0\n",
      "Skipping cuz 0\n",
      "Skipping cuz 0\n",
      "Skipping cuz 0\n",
      "Skipping cuz 0\n",
      "Skipping cuz 0\n",
      "Skipping cuz 0\n",
      "Skipping cuz 0\n",
      "Skipping cuz 0\n",
      "Skipping cuz 0\n",
      "Skipping cuz 0\n",
      "Skipping cuz 0\n",
      "Skipping cuz 0\n",
      "Skipping cuz 0\n",
      "Skipping cuz 0\n",
      "Skipping cuz 0\n",
      "Skipping cuz 0\n",
      "Skipping cuz 0\n",
      "Skipping cuz 0\n",
      "Skipping cuz 0\n",
      "Skipping cuz 0\n",
      "Skipping cuz 0\n",
      "Skipping cuz 0\n",
      "Skipping cuz 0\n",
      "Skipping cuz 0\n",
      "Skipping cuz 0\n",
      "Skipping cuz 0\n",
      "Skipping cuz 0\n",
      "Skipping cuz 0\n",
      "Skipping cuz 0\n",
      "Skipping cuz 0\n",
      "Skipping cuz 0\n",
      "Skipping cuz 0\n",
      "Skipping cuz 0\n",
      "Skipping cuz 0\n",
      "Skipping cuz 0\n",
      "Skipping cuz 0\n",
      "Skipping cuz 0\n",
      "Skipping cuz 0\n",
      "Skipping cuz 0\n",
      "Skipping cuz 0\n",
      "Skipping cuz 0\n",
      "Skipping cuz 0\n",
      "Skipping cuz 0\n",
      "Skipping cuz 0\n",
      "Skipping cuz 0\n",
      "Skipping cuz 0\n",
      "Skipping cuz 0\n",
      "Skipping cuz 0\n",
      "Skipping cuz 0\n",
      "Skipping cuz 0\n",
      "Skipping cuz 0\n",
      "Skipping cuz 0\n",
      "Skipping cuz 0\n",
      "Skipping cuz 0\n",
      "Skipping cuz 0\n",
      "Skipping cuz 0\n",
      "Skipping cuz 0\n",
      "Skipping cuz 0\n",
      "Skipping cuz 0\n",
      "Skipping cuz 0\n",
      "Skipping cuz 0\n",
      "Skipping cuz 0\n",
      "Skipping cuz 0\n",
      "Skipping cuz 0\n",
      "Skipping cuz 0\n",
      "Skipping cuz 0\n",
      "Skipping cuz 0\n",
      "Skipping cuz 0\n",
      "Skipping cuz 0\n",
      "Skipping cuz 0\n",
      "Skipping cuz 0\n",
      "Skipping cuz 0\n",
      "Skipping cuz 0\n",
      "Skipping cuz 0\n",
      "Skipping cuz 0\n",
      "Skipping cuz 0\n",
      "Skipping cuz 0\n",
      "Skipping cuz 0\n",
      "Skipping cuz 0\n",
      "Skipping cuz 0\n",
      "Skipping cuz 0\n",
      "Skipping cuz 0\n",
      "Skipping cuz 0\n",
      "Skipping cuz 0\n",
      "Skipping cuz 0\n",
      "Skipping cuz 0\n",
      "Skipping cuz 0\n",
      "Skipping cuz 0\n",
      "Skipping cuz 0\n",
      "Skipping cuz 0\n",
      "Skipping cuz 0\n",
      "Skipping cuz 0\n",
      "Skipping cuz 0\n",
      "Skipping cuz 0\n",
      "Skipping cuz 0\n",
      "Skipping cuz 0\n",
      "Skipping cuz 0\n",
      "Skipping cuz 0\n",
      "Skipping cuz 0\n",
      "Skipping cuz 0\n",
      "Skipping cuz 0\n",
      "Skipping cuz 0\n",
      "Skipping cuz 0\n",
      "Skipping cuz 0\n",
      "Skipping cuz 0\n",
      "Skipping cuz 0\n",
      "Skipping cuz 0\n",
      "Skipping cuz 0\n",
      "Skipping cuz 0\n",
      "Skipping cuz 0\n",
      "Skipping cuz 0\n",
      "Skipping cuz 0\n",
      "Skipping cuz 0\n",
      "Skipping cuz 0\n",
      "Skipping cuz 0\n",
      "Skipping cuz 0\n",
      "Skipping cuz 0\n",
      "Skipping cuz 0\n",
      "Skipping cuz 0\n",
      "Skipping cuz 0\n",
      "Skipping cuz 0\n",
      "Skipping cuz 0\n",
      "Skipping cuz 0\n",
      "Skipping cuz 0\n",
      "Skipping cuz 0\n",
      "Skipping cuz 0\n",
      "Skipping cuz 0\n",
      "Skipping cuz 0\n",
      "Skipping cuz 0\n",
      "Skipping cuz 0\n",
      "Skipping cuz 0\n",
      "Skipping cuz 0\n",
      "Skipping cuz 0\n",
      "Skipping cuz 0\n",
      "Skipping cuz 0\n",
      "Skipping cuz 0\n",
      "Skipping cuz 0\n",
      "Skipping cuz 0\n",
      "Skipping cuz 0\n",
      "Skipping cuz 0\n",
      "Skipping cuz 0\n",
      "Skipping cuz 0\n",
      "Skipping cuz 0\n",
      "Skipping cuz 0\n",
      "Skipping cuz 0\n",
      "Skipping cuz 0\n",
      "Skipping cuz 0\n",
      "Skipping cuz 0\n",
      "Skipping cuz 0\n",
      "Skipping cuz 0\n",
      "Skipping cuz 0\n",
      "Skipping cuz 0\n",
      "Skipping cuz 0\n",
      "Skipping cuz 0\n",
      "Skipping cuz 0\n",
      "Skipping cuz 0\n",
      "Skipping cuz 0\n",
      "Skipping cuz 0\n",
      "Skipping cuz 0\n",
      "Skipping cuz 0\n",
      "Skipping cuz 0\n",
      "Skipping cuz 0\n",
      "Skipping cuz 0\n",
      "Skipping cuz 0\n",
      "Skipping cuz 0\n",
      "Skipping cuz 0\n",
      "Skipping cuz 0\n",
      "Skipping cuz 0\n",
      "Skipping cuz 0\n",
      "Skipping cuz 0\n",
      "Skipping cuz 0\n",
      "Skipping cuz 0\n",
      "Skipping cuz 0\n",
      "Skipping cuz 0\n",
      "Skipping cuz 0\n",
      "Skipping cuz 0\n",
      "Skipping cuz 0\n",
      "Skipping cuz 0\n",
      "Skipping cuz 0\n",
      "Skipping cuz 0\n",
      "Skipping cuz 0\n",
      "Skipping cuz 0\n",
      "Skipping cuz 0\n",
      "Skipping cuz 0\n",
      "Skipping cuz 0\n",
      "Skipping cuz 0\n",
      "Skipping cuz 0\n",
      "Skipping cuz 0\n",
      "Skipping cuz 0\n",
      "Skipping cuz 0\n",
      "Skipping cuz 0\n",
      "Skipping cuz 0\n",
      "Skipping cuz 0\n",
      "Skipping cuz 0\n",
      "Skipping cuz 0\n",
      "Skipping cuz 0\n",
      "Skipping cuz 0\n",
      "Skipping cuz 0\n",
      "Skipping cuz 0\n",
      "Skipping cuz 0\n",
      "Skipping cuz 0\n",
      "Skipping cuz 0\n",
      "Skipping cuz 0\n",
      "Skipping cuz 0\n",
      "Skipping cuz 0\n",
      "Skipping cuz 0\n",
      "Skipping cuz 0\n",
      "Skipping cuz 0\n",
      "Skipping cuz 0\n",
      "Skipping cuz 0\n",
      "Skipping cuz 0\n",
      "Skipping cuz 0\n",
      "Skipping cuz 0\n",
      "Skipping cuz 0\n",
      "Skipping cuz 0\n",
      "Skipping cuz 0\n",
      "Skipping cuz 0\n",
      "Skipping cuz 0\n",
      "Skipping cuz 0\n",
      "Skipping cuz 0\n",
      "Skipping cuz 0\n",
      "Skipping cuz 0\n",
      "Skipping cuz 0\n",
      "Skipping cuz 0\n",
      "Skipping cuz 0\n",
      "Skipping cuz 0\n",
      "Skipping cuz 0\n",
      "Skipping cuz 0\n",
      "Skipping cuz 0\n",
      "Skipping cuz 0\n",
      "Skipping cuz 0\n",
      "Skipping cuz 0\n",
      "Skipping cuz 0\n",
      "Skipping cuz 0\n",
      "Skipping cuz 0\n",
      "Skipping cuz 0\n",
      "Skipping cuz 0\n",
      "Skipping cuz 0\n",
      "Skipping cuz 0\n",
      "Skipping cuz 0\n",
      "Skipping cuz 0\n",
      "Skipping cuz 0\n",
      "Skipping cuz 0\n",
      "Skipping cuz 0\n",
      "Skipping cuz 0\n",
      "Skipping cuz 0\n",
      "Skipping cuz 0\n",
      "Skipping cuz 0\n",
      "Skipping cuz 0\n",
      "Skipping cuz 0\n",
      "Skipping cuz 0\n",
      "Skipping cuz 0\n",
      "Skipping cuz 0\n",
      "Skipping cuz 0\n",
      "Skipping cuz 0\n",
      "Skipping cuz 0\n",
      "Skipping cuz 0\n",
      "Skipping cuz 0\n",
      "Skipping cuz 0\n",
      "Skipping cuz 0\n",
      "Skipping cuz 0\n",
      "Skipping cuz 0\n",
      "Skipping cuz 0\n",
      "Skipping cuz 0\n",
      "Skipping cuz 0\n",
      "Skipping cuz 0\n",
      "Skipping cuz 0\n",
      "Skipping cuz 0\n",
      "Skipping cuz 0\n",
      "Skipping cuz 0\n",
      "Skipping cuz 0\n",
      "Skipping cuz 0\n",
      "Skipping cuz 0\n",
      "Skipping cuz 0\n",
      "Skipping cuz 0\n",
      "Skipping cuz 0\n",
      "Skipping cuz 0\n",
      "Skipping cuz 0\n",
      "Skipping cuz 0\n",
      "Skipping cuz 0\n",
      "Skipping cuz 0\n",
      "Skipping cuz 0\n",
      "Skipping cuz 0\n",
      "Skipping cuz 0\n",
      "Skipping cuz 0\n",
      "Skipping cuz 0\n",
      "Skipping cuz 0\n",
      "Skipping cuz 0\n",
      "Skipping cuz 0\n",
      "Skipping cuz 0\n",
      "Skipping cuz 0\n",
      "Skipping cuz 0\n",
      "Skipping cuz 0\n",
      "Skipping cuz 0\n",
      "Skipping cuz 0\n",
      "Skipping cuz 0\n",
      "Skipping cuz 0\n",
      "Skipping cuz 0\n",
      "Skipping cuz 0\n",
      "Skipping cuz 0\n",
      "Skipping cuz 0\n",
      "Skipping cuz 0\n",
      "Skipping cuz 0\n",
      "Skipping cuz 0\n",
      "Skipping cuz 0\n",
      "Skipping cuz 0\n",
      "Skipping cuz 0\n",
      "Skipping cuz 0\n",
      "Skipping cuz 0\n",
      "Skipping cuz 0\n",
      "Skipping cuz 0\n",
      "Skipping cuz 0\n",
      "Skipping cuz 0\n",
      "Skipping cuz 0\n",
      "Skipping cuz 0\n",
      "Skipping cuz 0\n",
      "Skipping cuz 0\n",
      "Skipping cuz 0\n",
      "Skipping cuz 0\n",
      "Skipping cuz 0\n",
      "Skipping cuz 0\n",
      "Skipping cuz 0\n",
      "Skipping cuz 0\n",
      "Skipping cuz 0\n",
      "Skipping cuz 0\n",
      "Skipping cuz 0\n",
      "Skipping cuz 0\n",
      "Skipping cuz 0\n",
      "Skipping cuz 0\n",
      "Skipping cuz 0\n",
      "Skipping cuz 0\n",
      "Skipping cuz 0\n",
      "Skipping cuz 0\n",
      "Skipping cuz 0\n",
      "Skipping cuz 0\n",
      "Skipping cuz 0\n",
      "Skipping cuz 0\n",
      "Skipping cuz 0\n",
      "Skipping cuz 0\n",
      "Skipping cuz 0\n",
      "Skipping cuz 0\n",
      "Skipping cuz 0\n",
      "Skipping cuz 0\n",
      "Skipping cuz 0\n",
      "Skipping cuz 0\n",
      "Skipping cuz 0\n",
      "Skipping cuz 0\n",
      "Skipping cuz 0\n",
      "Skipping cuz 0\n",
      "Skipping cuz 0\n",
      "Skipping cuz 0\n",
      "Skipping cuz 0\n",
      "Skipping cuz 0\n",
      "Skipping cuz 0\n",
      "Skipping cuz 0\n",
      "Skipping cuz 0\n",
      "Skipping cuz 0\n",
      "Skipping cuz 0\n",
      "Skipping cuz 0\n",
      "Skipping cuz 0\n",
      "Skipping cuz 0\n",
      "Skipping cuz 0\n",
      "Skipping cuz 0\n",
      "Skipping cuz 0\n",
      "Skipping cuz 0\n",
      "Skipping cuz 0\n",
      "Skipping cuz 0\n",
      "Skipping cuz 0\n",
      "Skipping cuz 0\n",
      "Skipping cuz 0\n",
      "Skipping cuz 0\n",
      "Skipping cuz 0\n",
      "Skipping cuz 0\n",
      "Skipping cuz 0\n",
      "Skipping cuz 0\n",
      "Skipping cuz 0\n",
      "Skipping cuz 0\n",
      "Skipping cuz 0\n",
      "Skipping cuz 0\n",
      "Skipping cuz 0\n",
      "Skipping cuz 0\n",
      "Skipping cuz 0\n",
      "Skipping cuz 0\n",
      "Skipping cuz 0\n",
      "Skipping cuz 0\n",
      "Skipping cuz 0\n",
      "Skipping cuz 0\n",
      "Skipping cuz 0\n",
      "Skipping cuz 0\n",
      "Skipping cuz 0\n",
      "Skipping cuz 0\n",
      "Skipping cuz 0\n",
      "Skipping cuz 0\n",
      "Skipping cuz 0\n",
      "Skipping cuz 0\n",
      "Skipping cuz 0\n",
      "Skipping cuz 0\n",
      "Skipping cuz 0\n",
      "Skipping cuz 0\n",
      "Skipping cuz 0\n",
      "Skipping cuz 0\n",
      "Skipping cuz 0\n",
      "Skipping cuz 0\n",
      "Skipping cuz 0\n",
      "Skipping cuz 0\n",
      "Skipping cuz 0\n",
      "Skipping cuz 0\n",
      "Skipping cuz 0\n",
      "Skipping cuz 0\n",
      "Skipping cuz 0\n",
      "Skipping cuz 0\n",
      "Skipping cuz 0\n",
      "Skipping cuz 0\n",
      "Skipping cuz 0\n",
      "Skipping cuz 0\n",
      "Skipping cuz 0\n",
      "Skipping cuz 0\n",
      "Skipping cuz 0\n",
      "Skipping cuz 0\n",
      "Skipping cuz 0\n",
      "Skipping cuz 0\n",
      "Skipping cuz 0\n",
      "Skipping cuz 0\n",
      "Skipping cuz 0\n",
      "Skipping cuz 0\n",
      "Skipping cuz 0\n",
      "Skipping cuz 0\n",
      "Skipping cuz 0\n",
      "Skipping cuz 0\n",
      "Skipping cuz 0\n",
      "Skipping cuz 0\n",
      "Skipping cuz 0\n",
      "Skipping cuz 0\n",
      "Skipping cuz 0\n",
      "Skipping cuz 0\n",
      "Skipping cuz 0\n",
      "Skipping cuz 0\n",
      "Skipping cuz 0\n",
      "Skipping cuz 0\n",
      "Skipping cuz 0\n",
      "Skipping cuz 0\n",
      "Skipping cuz 0\n",
      "Skipping cuz 0\n",
      "Skipping cuz 0\n",
      "Skipping cuz 0\n",
      "Skipping cuz 0\n",
      "Skipping cuz 0\n",
      "Skipping cuz 0\n",
      "Skipping cuz 0\n",
      "Skipping cuz 0\n",
      "Skipping cuz 0\n",
      "Skipping cuz 0\n",
      "Skipping cuz 0\n",
      "Skipping cuz 0\n",
      "Skipping cuz 0\n",
      "Skipping cuz 0\n",
      "Skipping cuz 0\n",
      "Skipping cuz 0\n",
      "Skipping cuz 0\n",
      "Skipping cuz 0\n",
      "Skipping cuz 0\n",
      "Skipping cuz 0\n",
      "Skipping cuz 0\n",
      "Skipping cuz 0\n",
      "Skipping cuz 0\n",
      "Skipping cuz 0\n",
      "Skipping cuz 0\n",
      "Skipping cuz 0\n",
      "Skipping cuz 0\n",
      "Skipping cuz 0\n",
      "Skipping cuz 0\n",
      "Skipping cuz 0\n",
      "Skipping cuz 0\n",
      "Skipping cuz 0\n",
      "Skipping cuz 0\n",
      "Skipping cuz 0\n",
      "Skipping cuz 0\n",
      "Skipping cuz 0\n",
      "Skipping cuz 0\n",
      "Skipping cuz 0\n",
      "Skipping cuz 0\n",
      "Skipping cuz 0\n",
      "Skipping cuz 0\n",
      "Skipping cuz 0\n",
      "Skipping cuz 0\n",
      "Skipping cuz 0\n",
      "Skipping cuz 0\n",
      "Skipping cuz 0\n",
      "Skipping cuz 0\n",
      "Skipping cuz 0\n",
      "Skipping cuz 0\n",
      "Skipping cuz 0\n",
      "Skipping cuz 0\n",
      "Skipping cuz 0\n",
      "Skipping cuz 0\n",
      "Skipping cuz 0\n",
      "Skipping cuz 0\n",
      "Skipping cuz 0\n",
      "Skipping cuz 0\n",
      "Skipping cuz 0\n",
      "Skipping cuz 0\n",
      "Skipping cuz 0\n",
      "Skipping cuz 0\n",
      "Skipping cuz 0\n",
      "Skipping cuz 0\n",
      "Skipping cuz 0\n",
      "Skipping cuz 0\n",
      "Skipping cuz 0\n",
      "Skipping cuz 0\n",
      "Skipping cuz 0\n",
      "Skipping cuz 0\n",
      "Skipping cuz 0\n",
      "Skipping cuz 0\n",
      "Skipping cuz 0\n",
      "Skipping cuz 0\n",
      "Skipping cuz 0\n",
      "Skipping cuz 0\n",
      "Skipping cuz 0\n",
      "Skipping cuz 0\n",
      "Skipping cuz 0\n",
      "Skipping cuz 0\n",
      "Skipping cuz 0\n",
      "Skipping cuz 0\n",
      "Skipping cuz 0\n",
      "Skipping cuz 0\n",
      "Skipping cuz 0\n",
      "Skipping cuz 0\n",
      "Skipping cuz 0\n",
      "Skipping cuz 0\n",
      "Skipping cuz 0\n",
      "Skipping cuz 0\n",
      "Skipping cuz 0\n",
      "Skipping cuz 0\n",
      "Skipping cuz 0\n",
      "Skipping cuz 0\n",
      "Skipping cuz 0\n",
      "Skipping cuz 0\n",
      "Skipping cuz 0\n",
      "Skipping cuz 0\n",
      "Skipping cuz 0\n",
      "Skipping cuz 0\n",
      "Skipping cuz 0\n",
      "Skipping cuz 0\n",
      "Skipping cuz 0\n",
      "Skipping cuz 0\n",
      "Skipping cuz 0\n",
      "Skipping cuz 0\n",
      "Skipping cuz 0\n",
      "Skipping cuz 0\n",
      "Skipping cuz 0\n",
      "Skipping cuz 0\n",
      "Skipping cuz 0\n",
      "Skipping cuz 0\n",
      "Skipping cuz 0\n",
      "Skipping cuz 0\n",
      "Skipping cuz 0\n",
      "Skipping cuz 0\n",
      "Skipping cuz 0\n",
      "Skipping cuz 0\n",
      "Skipping cuz 0\n",
      "Skipping cuz 0\n",
      "Skipping cuz 0\n",
      "Skipping cuz 0\n",
      "Skipping cuz 0\n",
      "Skipping cuz 0\n",
      "Skipping cuz 0\n",
      "Skipping cuz 0\n",
      "Skipping cuz 0\n",
      "Skipping cuz 0\n",
      "Skipping cuz 0\n",
      "Skipping cuz 0\n",
      "Skipping cuz 0\n",
      "Skipping cuz 0\n",
      "Skipping cuz 0\n",
      "Skipping cuz 0\n",
      "Skipping cuz 0\n",
      "Skipping cuz 0\n",
      "Skipping cuz 0\n",
      "Skipping cuz 0\n",
      "Skipping cuz 0\n",
      "Skipping cuz 0\n",
      "Skipping cuz 0\n",
      "Skipping cuz 0\n",
      "Skipping cuz 0\n",
      "Skipping cuz 0\n",
      "Skipping cuz 0\n",
      "Skipping cuz 0\n",
      "Skipping cuz 0\n",
      "Skipping cuz 0\n",
      "Skipping cuz 0\n",
      "Skipping cuz 0\n",
      "Skipping cuz 0\n",
      "Skipping cuz 0\n",
      "Skipping cuz 0\n",
      "Skipping cuz 0\n",
      "Skipping cuz 0\n",
      "Skipping cuz 0\n",
      "Skipping cuz 0\n",
      "Skipping cuz 0\n",
      "Skipping cuz 0\n",
      "Skipping cuz 0\n",
      "Skipping cuz 0\n",
      "Skipping cuz 0\n",
      "Skipping cuz 0\n",
      "Skipping cuz 0\n",
      "Skipping cuz 0\n",
      "Skipping cuz 0\n",
      "Skipping cuz 0\n",
      "Skipping cuz 0\n",
      "Skipping cuz 0\n",
      "Skipping cuz 0\n",
      "Skipping cuz 0\n",
      "Skipping cuz 0\n",
      "Skipping cuz 0\n",
      "Skipping cuz 0\n",
      "Skipping cuz 0\n",
      "Skipping cuz 0\n",
      "Skipping cuz 0\n",
      "Skipping cuz 0\n",
      "Skipping cuz 0\n",
      "Skipping cuz 0\n",
      "Skipping cuz 0\n",
      "Skipping cuz 0\n",
      "Skipping cuz 0\n",
      "Skipping cuz 0\n",
      "Skipping cuz 0\n",
      "Skipping cuz 0\n",
      "Skipping cuz 0\n",
      "Skipping cuz 0\n",
      "Skipping cuz 0\n",
      "Skipping cuz 0\n",
      "Skipping cuz 0\n",
      "Skipping cuz 0\n",
      "Skipping cuz 0\n",
      "Skipping cuz 0\n",
      "Skipping cuz 0\n",
      "Skipping cuz 0\n",
      "Skipping cuz 0\n",
      "Skipping cuz 0\n",
      "Skipping cuz 0\n",
      "Skipping cuz 0\n",
      "Skipping cuz 0\n",
      "Skipping cuz 0\n",
      "Skipping cuz 0\n",
      "Skipping cuz 0\n",
      "Skipping cuz 0\n",
      "Skipping cuz 0\n",
      "Skipping cuz 0\n",
      "Skipping cuz 0\n",
      "Skipping cuz 0\n",
      "Skipping cuz 0\n",
      "Skipping cuz 0\n",
      "Skipping cuz 0\n",
      "Skipping cuz 0\n",
      "Skipping cuz 0\n",
      "Skipping cuz 0\n",
      "Skipping cuz 0\n",
      "Skipping cuz 0\n",
      "Skipping cuz 0\n",
      "Skipping cuz 0\n",
      "Skipping cuz 0\n",
      "Skipping cuz 0\n",
      "Skipping cuz 0\n",
      "Skipping cuz 0\n",
      "Skipping cuz 0\n",
      "Skipping cuz 0\n",
      "Skipping cuz 0\n",
      "Skipping cuz 0\n",
      "Skipping cuz 0\n",
      "Skipping cuz 0\n",
      "Skipping cuz 0\n",
      "Skipping cuz 0\n",
      "Skipping cuz 0\n",
      "Skipping cuz 0\n",
      "Skipping cuz 0\n",
      "Skipping cuz 0\n",
      "Skipping cuz 0\n",
      "Skipping cuz 0\n",
      "Skipping cuz 0\n",
      "Skipping cuz 0\n",
      "Skipping cuz 0\n",
      "Skipping cuz 0\n",
      "Skipping cuz 0\n",
      "Skipping cuz 0\n",
      "Skipping cuz 0\n",
      "Skipping cuz 0\n",
      "Skipping cuz 0\n",
      "Skipping cuz 0\n",
      "Skipping cuz 0\n",
      "Skipping cuz 0\n",
      "Skipping cuz 0\n",
      "Skipping cuz 0\n",
      "Skipping cuz 0\n",
      "Skipping cuz 0\n",
      "Skipping cuz 0\n",
      "Skipping cuz 0\n",
      "Skipping cuz 0\n",
      "Skipping cuz 0\n",
      "Skipping cuz 0\n",
      "Skipping cuz 0\n",
      "Skipping cuz 0\n",
      "Skipping cuz 0\n",
      "Skipping cuz 0\n",
      "Skipping cuz 0\n",
      "Skipping cuz 0\n",
      "Skipping cuz 0\n",
      "Skipping cuz 0\n",
      "Skipping cuz 0\n",
      "Skipping cuz 0\n",
      "Skipping cuz 0\n",
      "Skipping cuz 0\n",
      "Skipping cuz 0\n",
      "Skipping cuz 0\n",
      "Skipping cuz 0\n",
      "Skipping cuz 0\n",
      "Skipping cuz 0\n",
      "Skipping cuz 0\n",
      "Skipping cuz 0\n",
      "Skipping cuz 0\n",
      "Skipping cuz 0\n",
      "Skipping cuz 0\n",
      "Skipping cuz 0\n",
      "Skipping cuz 0\n",
      "Skipping cuz 0\n",
      "Skipping cuz 0\n",
      "Skipping cuz 0\n",
      "Skipping cuz 0\n",
      "Skipping cuz 0\n",
      "Skipping cuz 0\n",
      "Skipping cuz 0\n",
      "Skipping cuz 0\n",
      "Skipping cuz 0\n",
      "Skipping cuz 0\n",
      "Skipping cuz 0\n",
      "Skipping cuz 0\n",
      "Skipping cuz 0\n",
      "Skipping cuz 0\n",
      "Skipping cuz 0\n",
      "Skipping cuz 0\n",
      "Skipping cuz 0\n",
      "Skipping cuz 0\n",
      "Skipping cuz 0\n",
      "Skipping cuz 0\n",
      "Skipping cuz 0\n",
      "Skipping cuz 0\n",
      "Skipping cuz 0\n",
      "Skipping cuz 0\n",
      "Skipping cuz 0\n",
      "Skipping cuz 0\n",
      "Skipping cuz 0\n",
      "Skipping cuz 0\n",
      "Skipping cuz 0\n",
      "Skipping cuz 0\n",
      "Skipping cuz 0\n",
      "Skipping cuz 0\n",
      "Skipping cuz 0\n",
      "Skipping cuz 0\n",
      "Skipping cuz 0\n",
      "Skipping cuz 0\n",
      "Skipping cuz 0\n",
      "Skipping cuz 0\n",
      "Skipping cuz 0\n",
      "Skipping cuz 0\n",
      "Skipping cuz 0\n",
      "Skipping cuz 0\n",
      "Skipping cuz 0\n",
      "Skipping cuz 0\n",
      "Skipping cuz 0\n",
      "Skipping cuz 0\n",
      "Skipping cuz 0\n",
      "Skipping cuz 0\n",
      "Skipping cuz 0\n",
      "Skipping cuz 0\n",
      "Skipping cuz 0\n",
      "Skipping cuz 0\n",
      "Skipping cuz 0\n",
      "Skipping cuz 0\n",
      "Skipping cuz 0\n",
      "Skipping cuz 0\n",
      "Skipping cuz 0\n",
      "Skipping cuz 0\n",
      "Skipping cuz 0\n",
      "Skipping cuz 0\n",
      "Skipping cuz 0\n",
      "Skipping cuz 0\n",
      "Skipping cuz 0\n",
      "Skipping cuz 0\n",
      "Skipping cuz 0\n",
      "Skipping cuz 0\n",
      "Skipping cuz 0\n",
      "Skipping cuz 0\n",
      "Skipping cuz 0\n",
      "Skipping cuz 0\n",
      "Skipping cuz 0\n",
      "Skipping cuz 0\n",
      "Skipping cuz 0\n",
      "Skipping cuz 0\n",
      "Skipping cuz 0\n",
      "Skipping cuz 0\n",
      "Skipping cuz 0\n",
      "Skipping cuz 0\n",
      "Skipping cuz 0\n",
      "Skipping cuz 0\n",
      "Skipping cuz 0\n",
      "Skipping cuz 0\n",
      "Skipping cuz 0\n",
      "Skipping cuz 0\n",
      "Skipping cuz 0\n",
      "Skipping cuz 0\n",
      "Skipping cuz 0\n",
      "Skipping cuz 0\n",
      "Skipping cuz 0\n",
      "Skipping cuz 0\n",
      "Skipping cuz 0\n",
      "Skipping cuz 0\n",
      "Skipping cuz 0\n",
      "Skipping cuz 0\n",
      "Skipping cuz 0\n",
      "Skipping cuz 0\n",
      "Skipping cuz 0\n",
      "Skipping cuz 0\n",
      "Skipping cuz 0\n",
      "Skipping cuz 0\n",
      "Skipping cuz 0\n",
      "Skipping cuz 0\n",
      "Skipping cuz 0\n",
      "Skipping cuz 0\n",
      "Skipping cuz 0\n",
      "Skipping cuz 0\n",
      "Skipping cuz 0\n",
      "Skipping cuz 0\n",
      "Skipping cuz 0\n",
      "Skipping cuz 0\n",
      "Skipping cuz 0\n",
      "Skipping cuz 0\n",
      "Skipping cuz 0\n",
      "Skipping cuz 0\n",
      "Skipping cuz 0\n",
      "Skipping cuz 0\n",
      "Skipping cuz 0\n",
      "Skipping cuz 0\n",
      "Skipping cuz 0\n",
      "Skipping cuz 0\n",
      "Skipping cuz 0\n",
      "Skipping cuz 0\n",
      "Skipping cuz 0\n",
      "Skipping cuz 0\n",
      "Skipping cuz 0\n",
      "Skipping cuz 0\n",
      "Skipping cuz 0\n",
      "Skipping cuz 0\n",
      "Skipping cuz 0\n",
      "Skipping cuz 0\n",
      "Skipping cuz 0\n",
      "Skipping cuz 0\n",
      "Skipping cuz 0\n",
      "Skipping cuz 0\n",
      "Skipping cuz 0\n",
      "Skipping cuz 0\n",
      "Skipping cuz 0\n",
      "Skipping cuz 0\n",
      "Skipping cuz 0\n",
      "Skipping cuz 0\n",
      "Skipping cuz 0\n",
      "Skipping cuz 0\n",
      "Skipping cuz 0\n",
      "Skipping cuz 0\n",
      "Skipping cuz 0\n",
      "Skipping cuz 0\n",
      "Skipping cuz 0\n",
      "Skipping cuz 0\n",
      "Skipping cuz 0\n",
      "Skipping cuz 0\n",
      "Skipping cuz 0\n",
      "Skipping cuz 0\n",
      "Skipping cuz 0\n",
      "Skipping cuz 0\n",
      "Skipping cuz 0\n",
      "Skipping cuz 0\n",
      "Skipping cuz 0\n",
      "Skipping cuz 0\n",
      "Skipping cuz 0\n",
      "Skipping cuz 0\n",
      "Skipping cuz 0\n",
      "Skipping cuz 0\n",
      "Skipping cuz 0\n",
      "Skipping cuz 0\n",
      "Skipping cuz 0\n",
      "Skipping cuz 0\n",
      "Skipping cuz 0\n",
      "Skipping cuz 0\n",
      "Skipping cuz 0\n",
      "Skipping cuz 0\n",
      "Skipping cuz 0\n",
      "Skipping cuz 0\n",
      "Skipping cuz 0\n",
      "Skipping cuz 0\n",
      "Skipping cuz 0\n",
      "Skipping cuz 0\n",
      "Skipping cuz 0\n",
      "Skipping cuz 0\n",
      "Skipping cuz 0\n",
      "Skipping cuz 0\n",
      "Skipping cuz 0\n",
      "Skipping cuz 0\n",
      "Skipping cuz 0\n",
      "Skipping cuz 0\n",
      "Skipping cuz 0\n",
      "Skipping cuz 0\n",
      "Skipping cuz 0\n",
      "Skipping cuz 0\n",
      "Skipping cuz 0\n",
      "Skipping cuz 0\n",
      "Skipping cuz 0\n",
      "Skipping cuz 0\n",
      "Skipping cuz 0\n",
      "Skipping cuz 0\n",
      "Skipping cuz 0\n",
      "Skipping cuz 0\n",
      "Skipping cuz 0\n",
      "Skipping cuz 0\n",
      "Skipping cuz 0\n",
      "Skipping cuz 0\n",
      "Skipping cuz 0\n",
      "Skipping cuz 0\n",
      "Skipping cuz 0\n",
      "Skipping cuz 0\n",
      "Skipping cuz 0\n",
      "Skipping cuz 0\n",
      "Skipping cuz 0\n",
      "Skipping cuz 0\n",
      "Skipping cuz 0\n",
      "Skipping cuz 0\n",
      "Skipping cuz 0\n",
      "Skipping cuz 0\n",
      "Skipping cuz 0\n",
      "Skipping cuz 0\n",
      "Skipping cuz 0\n",
      "Skipping cuz 0\n",
      "Skipping cuz 0\n",
      "Skipping cuz 0\n",
      "Skipping cuz 0\n",
      "Skipping cuz 0\n",
      "Skipping cuz 0\n",
      "Skipping cuz 0\n",
      "Skipping cuz 0\n",
      "Skipping cuz 0\n",
      "Skipping cuz 0\n",
      "Skipping cuz 0\n",
      "Skipping cuz 0\n",
      "Skipping cuz 0\n",
      "Skipping cuz 0\n",
      "Skipping cuz 0\n",
      "Skipping cuz 0\n",
      "Skipping cuz 0\n",
      "Skipping cuz 0\n",
      "Skipping cuz 0\n",
      "Skipping cuz 0\n",
      "Skipping cuz 0\n",
      "Skipping cuz 0\n",
      "Skipping cuz 0\n",
      "Skipping cuz 0\n",
      "Skipping cuz 0\n",
      "Skipping cuz 0\n",
      "Skipping cuz 0\n",
      "Skipping cuz 0\n",
      "Skipping cuz 0\n",
      "Skipping cuz 0\n",
      "Skipping cuz 0\n",
      "Skipping cuz 0\n",
      "Skipping cuz 0\n",
      "Skipping cuz 0\n",
      "Skipping cuz 0\n",
      "Skipping cuz 0\n",
      "Skipping cuz 0\n",
      "Skipping cuz 0\n",
      "Skipping cuz 0\n",
      "Skipping cuz 0\n",
      "Skipping cuz 0\n",
      "Skipping cuz 0\n",
      "Skipping cuz 0\n",
      "Skipping cuz 0\n",
      "Skipping cuz 0\n",
      "Skipping cuz 0\n",
      "Skipping cuz 0\n",
      "Skipping cuz 0\n",
      "Skipping cuz 0\n",
      "Skipping cuz 0\n",
      "Skipping cuz 0\n",
      "Skipping cuz 0\n",
      "Skipping cuz 0\n",
      "Skipping cuz 0\n",
      "Skipping cuz 0\n",
      "Skipping cuz 0\n",
      "Skipping cuz 0\n",
      "Skipping cuz 0\n",
      "Skipping cuz 0\n",
      "Skipping cuz 0\n",
      "Skipping cuz 0\n",
      "Skipping cuz 0\n",
      "Skipping cuz 0\n",
      "Skipping cuz 0\n",
      "Skipping cuz 0\n",
      "Skipping cuz 0\n",
      "Skipping cuz 0\n",
      "Skipping cuz 0\n",
      "Skipping cuz 0\n",
      "Skipping cuz 0\n",
      "Skipping cuz 0\n",
      "Skipping cuz 0\n",
      "Skipping cuz 0\n",
      "Skipping cuz 0\n",
      "Skipping cuz 0\n",
      "Skipping cuz 0\n",
      "Skipping cuz 0\n",
      "Skipping cuz 0\n",
      "Skipping cuz 0\n",
      "Skipping cuz 0\n",
      "Skipping cuz 0\n",
      "Skipping cuz 0\n",
      "Skipping cuz 0\n",
      "Skipping cuz 0\n",
      "Skipping cuz 0\n",
      "Skipping cuz 0\n",
      "Skipping cuz 0\n",
      "Skipping cuz 0\n",
      "Skipping cuz 0\n",
      "Skipping cuz 0\n",
      "Skipping cuz 0\n",
      "Skipping cuz 0\n",
      "Skipping cuz 0\n",
      "Skipping cuz 0\n",
      "Skipping cuz 0\n",
      "Skipping cuz 0\n",
      "Skipping cuz 0\n",
      "Skipping cuz 0\n",
      "Skipping cuz 0\n",
      "Skipping cuz 0\n",
      "Skipping cuz 0\n",
      "Skipping cuz 0\n",
      "Skipping cuz 0\n",
      "Skipping cuz 0\n",
      "Skipping cuz 0\n",
      "Skipping cuz 0\n",
      "Skipping cuz 0\n",
      "Skipping cuz 0\n",
      "Skipping cuz 0\n",
      "Skipping cuz 0\n",
      "Skipping cuz 0\n",
      "Skipping cuz 0\n",
      "Skipping cuz 0\n",
      "Skipping cuz 0\n",
      "Skipping cuz 0\n",
      "Skipping cuz 0\n",
      "Skipping cuz 0\n",
      "Skipping cuz 0\n",
      "Skipping cuz 0\n",
      "Skipping cuz 0\n",
      "Skipping cuz 0\n",
      "Skipping cuz 0\n",
      "Skipping cuz 0\n",
      "Skipping cuz 0\n",
      "Skipping cuz 0\n",
      "Skipping cuz 0\n",
      "Skipping cuz 0\n",
      "Skipping cuz 0\n",
      "Skipping cuz 0\n",
      "Skipping cuz 0\n",
      "Skipping cuz 0\n",
      "Skipping cuz 0\n",
      "Skipping cuz 0\n",
      "Skipping cuz 0\n",
      "Skipping cuz 0\n",
      "Skipping cuz 0\n",
      "Skipping cuz 0\n",
      "Skipping cuz 0\n",
      "Skipping cuz 0\n",
      "Skipping cuz 0\n",
      "Skipping cuz 0\n",
      "Skipping cuz 0\n",
      "Skipping cuz 0\n",
      "Skipping cuz 0\n",
      "Skipping cuz 0\n",
      "Skipping cuz 0\n",
      "Skipping cuz 0\n",
      "Skipping cuz 0\n",
      "Skipping cuz 0\n",
      "Skipping cuz 0\n",
      "Skipping cuz 0\n",
      "Skipping cuz 0\n",
      "Skipping cuz 0\n",
      "Skipping cuz 0\n",
      "Skipping cuz 0\n",
      "Skipping cuz 0\n",
      "Skipping cuz 0\n",
      "Skipping cuz 0\n",
      "Skipping cuz 0\n",
      "Skipping cuz 0\n",
      "Skipping cuz 0\n",
      "Skipping cuz 0\n",
      "Skipping cuz 0\n",
      "Skipping cuz 0\n",
      "Skipping cuz 0\n",
      "Skipping cuz 0\n",
      "Skipping cuz 0\n",
      "Skipping cuz 0\n",
      "Skipping cuz 0\n",
      "Skipping cuz 0\n",
      "Skipping cuz 0\n",
      "Skipping cuz 0\n",
      "Skipping cuz 0\n",
      "Skipping cuz 0\n",
      "Skipping cuz 0\n",
      "Skipping cuz 0\n",
      "Skipping cuz 0\n",
      "Skipping cuz 0\n",
      "Skipping cuz 0\n",
      "Skipping cuz 0\n",
      "Skipping cuz 0\n",
      "Skipping cuz 0\n",
      "Skipping cuz 0\n",
      "Skipping cuz 0\n",
      "Skipping cuz 0\n",
      "Skipping cuz 0\n",
      "Skipping cuz 0\n",
      "Skipping cuz 0\n",
      "Skipping cuz 0\n",
      "Skipping cuz 0\n",
      "Skipping cuz 0\n",
      "Skipping cuz 0\n",
      "Skipping cuz 0\n",
      "Skipping cuz 0\n",
      "Skipping cuz 0\n",
      "Skipping cuz 0\n",
      "Skipping cuz 0\n",
      "Skipping cuz 0\n",
      "Skipping cuz 0\n",
      "Skipping cuz 0\n",
      "Skipping cuz 0\n",
      "Skipping cuz 0\n",
      "Skipping cuz 0\n",
      "Skipping cuz 0\n",
      "Skipping cuz 0\n",
      "Skipping cuz 0\n",
      "Skipping cuz 0\n",
      "Skipping cuz 0\n",
      "Skipping cuz 0\n",
      "Skipping cuz 0\n",
      "Skipping cuz 0\n",
      "Skipping cuz 0\n",
      "Skipping cuz 0\n",
      "Skipping cuz 0\n",
      "Skipping cuz 0\n",
      "Skipping cuz 0\n",
      "Skipping cuz 0\n",
      "Skipping cuz 0\n",
      "Skipping cuz 0\n",
      "Skipping cuz 0\n",
      "Skipping cuz 0\n",
      "Skipping cuz 0\n",
      "Skipping cuz 0\n",
      "Skipping cuz 0\n",
      "Skipping cuz 0\n",
      "Skipping cuz 0\n",
      "Skipping cuz 0\n",
      "Skipping cuz 0\n",
      "Skipping cuz 0\n",
      "Skipping cuz 0\n",
      "Skipping cuz 0\n",
      "Skipping cuz 0\n",
      "Skipping cuz 0\n",
      "Skipping cuz 0\n",
      "Skipping cuz 0\n",
      "Skipping cuz 0\n",
      "Skipping cuz 0\n",
      "Skipping cuz 0\n",
      "Skipping cuz 0\n",
      "Skipping cuz 0\n",
      "Skipping cuz 0\n",
      "Skipping cuz 0\n",
      "Skipping cuz 0\n",
      "Skipping cuz 0\n",
      "Skipping cuz 0\n",
      "Skipping cuz 0\n",
      "Skipping cuz 0\n",
      "Skipping cuz 0\n",
      "Skipping cuz 0\n",
      "Skipping cuz 0\n",
      "Skipping cuz 0\n",
      "Skipping cuz 0\n",
      "Skipping cuz 0\n",
      "Skipping cuz 0\n",
      "Skipping cuz 0\n",
      "Skipping cuz 0\n",
      "Skipping cuz 0\n",
      "Skipping cuz 0\n",
      "Skipping cuz 0\n",
      "Skipping cuz 0\n",
      "Skipping cuz 0\n",
      "Skipping cuz 0\n",
      "Skipping cuz 0\n",
      "Skipping cuz 0\n",
      "Skipping cuz 0\n",
      "Skipping cuz 0\n",
      "Skipping cuz 0\n",
      "Skipping cuz 0\n",
      "Skipping cuz 0\n",
      "Skipping cuz 0\n",
      "Skipping cuz 0\n",
      "Skipping cuz 0\n",
      "Skipping cuz 0\n",
      "Skipping cuz 0\n",
      "Skipping cuz 0\n",
      "Skipping cuz 0\n",
      "Skipping cuz 0\n",
      "Skipping cuz 0\n",
      "Skipping cuz 0\n",
      "Skipping cuz 0\n",
      "Skipping cuz 0\n",
      "Skipping cuz 0\n",
      "Skipping cuz 0\n",
      "Skipping cuz 0\n",
      "Skipping cuz 0\n",
      "Skipping cuz 0\n",
      "Skipping cuz 0\n",
      "Skipping cuz 0\n",
      "Skipping cuz 0\n",
      "Skipping cuz 0\n",
      "Skipping cuz 0\n",
      "Skipping cuz 0\n",
      "Skipping cuz 0\n",
      "Skipping cuz 0\n",
      "Skipping cuz 0\n",
      "Skipping cuz 0\n",
      "Skipping cuz 0\n",
      "Skipping cuz 0\n",
      "Skipping cuz 0\n",
      "Skipping cuz 0\n",
      "Skipping cuz 0\n",
      "Skipping cuz 0\n",
      "Skipping cuz 0\n",
      "Skipping cuz 0\n",
      "Skipping cuz 0\n",
      "Skipping cuz 0\n",
      "Skipping cuz 0\n",
      "Skipping cuz 0\n",
      "Skipping cuz 0\n",
      "Skipping cuz 0\n",
      "Skipping cuz 0\n",
      "Skipping cuz 0\n",
      "Skipping cuz 0\n",
      "Skipping cuz 0\n",
      "Skipping cuz 0\n",
      "Skipping cuz 0\n",
      "Skipping cuz 0\n",
      "Skipping cuz 0\n",
      "Skipping cuz 0\n",
      "Skipping cuz 0\n",
      "Skipping cuz 0\n",
      "Skipping cuz 0\n",
      "Skipping cuz 0\n",
      "Skipping cuz 0\n",
      "Skipping cuz 0\n",
      "Skipping cuz 0\n",
      "Skipping cuz 0\n",
      "Skipping cuz 0\n",
      "Skipping cuz 0\n",
      "Skipping cuz 0\n",
      "Skipping cuz 0\n",
      "Skipping cuz 0\n",
      "Skipping cuz 0\n",
      "Skipping cuz 0\n",
      "Skipping cuz 0\n",
      "Skipping cuz 0\n",
      "Skipping cuz 0\n",
      "Skipping cuz 0\n",
      "Skipping cuz 0\n",
      "Skipping cuz 0\n",
      "Skipping cuz 0\n",
      "Skipping cuz 0\n",
      "Skipping cuz 0\n",
      "Skipping cuz 0\n",
      "Skipping cuz 0\n",
      "Skipping cuz 0\n",
      "Skipping cuz 0\n",
      "Skipping cuz 0\n",
      "Skipping cuz 0\n",
      "Skipping cuz 0\n",
      "Skipping cuz 0\n",
      "Skipping cuz 0\n",
      "Skipping cuz 0\n",
      "Skipping cuz 0\n",
      "Skipping cuz 0\n",
      "Skipping cuz 0\n",
      "Skipping cuz 0\n",
      "Skipping cuz 0\n",
      "Skipping cuz 0\n",
      "Skipping cuz 0\n",
      "Skipping cuz 0\n",
      "Skipping cuz 0\n",
      "Skipping cuz 0\n",
      "Skipping cuz 0\n",
      "Skipping cuz 0\n",
      "Skipping cuz 0\n",
      "Skipping cuz 0\n",
      "Skipping cuz 0\n",
      "Skipping cuz 0\n",
      "Skipping cuz 0\n",
      "Skipping cuz 0\n",
      "Skipping cuz 0\n",
      "Skipping cuz 0\n",
      "Skipping cuz 0\n",
      "Skipping cuz 0\n",
      "Skipping cuz 0\n",
      "Skipping cuz 0\n",
      "Skipping cuz 0\n",
      "Skipping cuz 0\n",
      "Skipping cuz 0\n",
      "Skipping cuz 0\n",
      "Skipping cuz 0\n",
      "Skipping cuz 0\n",
      "Skipping cuz 0\n",
      "Skipping cuz 0\n",
      "Skipping cuz 0\n",
      "Skipping cuz 0\n",
      "Skipping cuz 0\n",
      "Skipping cuz 0\n",
      "Skipping cuz 0\n",
      "Skipping cuz 0\n",
      "Skipping cuz 0\n",
      "Skipping cuz 0\n",
      "Skipping cuz 0\n",
      "Skipping cuz 0\n",
      "Skipping cuz 0\n",
      "Skipping cuz 0\n",
      "Skipping cuz 0\n",
      "Skipping cuz 0\n",
      "Skipping cuz 0\n",
      "Skipping cuz 0\n",
      "Skipping cuz 0\n",
      "Skipping cuz 0\n",
      "Skipping cuz 0\n",
      "Skipping cuz 0\n",
      "Skipping cuz 0\n",
      "Skipping cuz 0\n",
      "Skipping cuz 0\n",
      "Skipping cuz 0\n",
      "Skipping cuz 0\n",
      "Skipping cuz 0\n",
      "Skipping cuz 0\n",
      "Skipping cuz 0\n",
      "Skipping cuz 0\n",
      "Skipping cuz 0\n",
      "Skipping cuz 0\n",
      "Skipping cuz 0\n",
      "Skipping cuz 0\n",
      "Skipping cuz 0\n",
      "Skipping cuz 0\n",
      "Skipping cuz 0\n",
      "Skipping cuz 0\n",
      "Skipping cuz 0\n",
      "Skipping cuz 0\n",
      "Skipping cuz 0\n",
      "Skipping cuz 0\n",
      "Skipping cuz 0\n",
      "Skipping cuz 0\n",
      "Skipping cuz 0\n",
      "Skipping cuz 0\n",
      "Skipping cuz 0\n",
      "Skipping cuz 0\n",
      "Skipping cuz 0\n",
      "Skipping cuz 0\n",
      "Skipping cuz 0\n",
      "Skipping cuz 0\n",
      "Skipping cuz 0\n",
      "Skipping cuz 0\n",
      "Skipping cuz 0\n",
      "Skipping cuz 0\n",
      "Skipping cuz 0\n",
      "Skipping cuz 0\n",
      "Skipping cuz 0\n",
      "Skipping cuz 0\n",
      "Skipping cuz 0\n",
      "Skipping cuz 0\n",
      "Skipping cuz 0\n",
      "Skipping cuz 0\n",
      "Skipping cuz 0\n",
      "Skipping cuz 0\n",
      "Skipping cuz 0\n",
      "Skipping cuz 0\n",
      "Skipping cuz 0\n",
      "Skipping cuz 0\n",
      "Skipping cuz 0\n",
      "Skipping cuz 0\n",
      "Skipping cuz 0\n",
      "Skipping cuz 0\n",
      "Skipping cuz 0\n",
      "Skipping cuz 0\n",
      "Skipping cuz 0\n",
      "Skipping cuz 0\n",
      "Skipping cuz 0\n",
      "Skipping cuz 0\n",
      "Skipping cuz 0\n",
      "Skipping cuz 0\n",
      "Skipping cuz 0\n",
      "Skipping cuz 0\n",
      "Skipping cuz 0\n",
      "Skipping cuz 0\n",
      "Skipping cuz 0\n",
      "Skipping cuz 0\n",
      "Skipping cuz 0\n",
      "Skipping cuz 0\n",
      "Skipping cuz 0\n",
      "Skipping cuz 0\n",
      "Skipping cuz 0\n",
      "Skipping cuz 0\n",
      "Skipping cuz 0\n",
      "Skipping cuz 0\n",
      "Skipping cuz 0\n",
      "Skipping cuz 0\n",
      "Skipping cuz 0\n",
      "Skipping cuz 0\n",
      "Skipping cuz 0\n",
      "Skipping cuz 0\n",
      "Skipping cuz 0\n",
      "Skipping cuz 0\n",
      "Skipping cuz 0\n",
      "Skipping cuz 0\n",
      "Skipping cuz 0\n",
      "Skipping cuz 0\n",
      "Skipping cuz 0\n",
      "Skipping cuz 0\n",
      "Skipping cuz 0\n",
      "Skipping cuz 0\n",
      "Skipping cuz 0\n",
      "Skipping cuz 0\n",
      "Skipping cuz 0\n",
      "Skipping cuz 0\n",
      "Skipping cuz 0\n",
      "Skipping cuz 0\n",
      "Skipping cuz 0\n",
      "Skipping cuz 0\n",
      "Skipping cuz 0\n",
      "Skipping cuz 0\n",
      "Skipping cuz 0\n",
      "Skipping cuz 0\n",
      "Skipping cuz 0\n",
      "Skipping cuz 0\n",
      "Skipping cuz 0\n",
      "Skipping cuz 0\n",
      "Skipping cuz 0\n",
      "Skipping cuz 0\n",
      "Skipping cuz 0\n",
      "Skipping cuz 0\n",
      "Skipping cuz 0\n",
      "Skipping cuz 0\n",
      "Skipping cuz 0\n",
      "Skipping cuz 0\n",
      "Skipping cuz 0\n",
      "Skipping cuz 0\n",
      "Skipping cuz 0\n",
      "Skipping cuz 0\n",
      "Skipping cuz 0\n",
      "Skipping cuz 0\n",
      "Skipping cuz 0\n",
      "Skipping cuz 0\n",
      "Skipping cuz 0\n",
      "Skipping cuz 0\n",
      "Skipping cuz 0\n",
      "Skipping cuz 0\n",
      "Skipping cuz 0\n",
      "Skipping cuz 0\n",
      "Skipping cuz 0\n",
      "Skipping cuz 0\n",
      "Skipping cuz 0\n",
      "Skipping cuz 0\n",
      "Skipping cuz 0\n",
      "Skipping cuz 0\n",
      "Skipping cuz 0\n",
      "Skipping cuz 0\n",
      "Skipping cuz 0\n",
      "Skipping cuz 0\n"
     ]
    }
   ],
   "source": [
    "### SAVE THE Z_sAES and then on them\n",
    "visualize_concepts(\n",
    "    activation_loader=activations_dataloader,\n",
    "    SAEs=SAEs,\n",
    "    num_concepts=concepts,\n",
    "    n_images=8,\n",
    "    patch_width=14, \n",
    "    save_dir=\"results/visualizer_ViT_MLP/\",\n",
    "    abort_threshold=0.0,\n",
    ")"
   ]
  },
  {
   "cell_type": "code",
   "execution_count": null,
   "id": "366ea0b9",
   "metadata": {},
   "outputs": [],
   "source": [
    "vit_full = timm.create_model('vit_base_patch16_224', pretrained=True)\n",
    "mlp = nn.Linear(concepts, 1000) # 1000 Classes\n",
    "vit_extractor = models[\"ViT\"]\n",
    "\n",
    "##################\n",
    "\n",
    "\n",
    "\n",
    "##################\n",
    "\n",
    "\n"
   ]
  }
 ],
 "metadata": {
  "kernelspec": {
   "display_name": "interpretability",
   "language": "python",
   "name": "python3"
  },
  "language_info": {
   "codemirror_mode": {
    "name": "ipython",
    "version": 3
   },
   "file_extension": ".py",
   "mimetype": "text/x-python",
   "name": "python",
   "nbconvert_exporter": "python",
   "pygments_lexer": "ipython3",
   "version": "3.13.5"
  }
 },
 "nbformat": 4,
 "nbformat_minor": 5
}
