{
 "cells": [
  {
   "cell_type": "code",
   "execution_count": 1,
   "id": "fd86d19d",
   "metadata": {},
   "outputs": [
    {
     "name": "stderr",
     "output_type": "stream",
     "text": [
      "c:\\Users\\sproj_ha\\miniconda3\\envs\\interpretability\\Lib\\site-packages\\tqdm\\auto.py:21: TqdmWarning: IProgress not found. Please update jupyter and ipywidgets. See https://ipywidgets.readthedocs.io/en/stable/user_install.html\n",
      "  from .autonotebook import tqdm as notebook_tqdm\n"
     ]
    }
   ],
   "source": [
    "import torch\n",
    "import torchvision\n",
    "from lib.data_handlers import Load_ImageNet100, Load_PACS\n",
    "from overcomplete.models import DinoV2, ViT, ResNet\n",
    "from torch.utils.data import DataLoader, TensorDataset\n",
    "from overcomplete.sae import TopKSAE, train_sae\n",
    "from overcomplete.visualization import (overlay_top_heatmaps, evidence_top_images, zoom_top_images, contour_top_image)\n",
    "import os\n",
    "import matplotlib.pyplot as plt\n",
    "from einops import rearrange\n",
    "from lib.universal_trainer import train_usae\n",
    "from lib.activation_generator import Load_activation_dataloader\n",
    "import torch.nn as nn\n",
    "from torch.optim.lr_scheduler import SequentialLR, LinearLR, CosineAnnealingLR\n",
    "import timm\n",
    "from torchsummary import summary\n",
    "from lib.visualizer import visualize_concepts\n",
    "from domainbed import algorithms\n",
    "\n",
    "device = torch.device(\"cuda\" if torch.cuda.is_available() else \"cpu\")"
   ]
  },
  {
   "cell_type": "code",
   "execution_count": 2,
   "id": "9534ea9b",
   "metadata": {},
   "outputs": [
    {
     "name": "stderr",
     "output_type": "stream",
     "text": [
      "c:\\Users\\sproj_ha\\miniconda3\\envs\\interpretability\\Lib\\site-packages\\torchvision\\models\\_utils.py:208: UserWarning: The parameter 'pretrained' is deprecated since 0.13 and may be removed in the future, please use 'weights' instead.\n",
      "  warnings.warn(\n",
      "c:\\Users\\sproj_ha\\miniconda3\\envs\\interpretability\\Lib\\site-packages\\torchvision\\models\\_utils.py:223: UserWarning: Arguments other than a weight enum or `None` for 'weights' are deprecated since 0.13 and may be removed in the future. The current behavior is equivalent to passing `weights=ResNet50_Weights.IMAGENET1K_V1`. You can also use `weights=ResNet50_Weights.DEFAULT` to get the most up-to-date weights.\n",
      "  warnings.warn(msg)\n"
     ]
    },
    {
     "data": {
      "text/plain": [
       "<All keys matched successfully>"
      ]
     },
     "execution_count": 2,
     "metadata": {},
     "output_type": "execute_result"
    }
   ],
   "source": [
    "\n",
    "checkpoint_ERM = torch.load(r\"C:\\Users\\sproj_ha\\Desktop\\vision_interp\\models\\PACS\\ERM_sketch\\model.pkl\")\n",
    "checkpoint_IRM = torch.load(r\"C:\\Users\\sproj_ha\\Desktop\\vision_interp\\models\\PACS\\IRM_sketch\\model.pkl\")\n",
    "\n",
    "model_ERM = algorithms.ERM(input_shape=checkpoint_ERM[\"model_input_shape\"],hparams= checkpoint_ERM[\"model_hparams\"],num_domains= checkpoint_ERM[\"model_num_domains\"],num_classes= checkpoint_ERM[\"model_num_classes\"])\n",
    "model_IRM = algorithms.IRM(input_shape=checkpoint_IRM[\"model_input_shape\"],hparams= checkpoint_IRM[\"model_hparams\"],num_domains= checkpoint_IRM[\"model_num_domains\"],num_classes= checkpoint_IRM[\"model_num_classes\"])\n",
    "\n",
    "model_ERM.load_state_dict(checkpoint_ERM[\"model_dict\"])\n",
    "model_IRM.load_state_dict(checkpoint_IRM[\"model_dict\"])"
   ]
  },
  {
   "cell_type": "code",
   "execution_count": 3,
   "id": "2119ed46",
   "metadata": {},
   "outputs": [
    {
     "data": {
      "text/plain": [
       "Sequential(\n",
       "  (0): ResNet(\n",
       "    (network): ResNet(\n",
       "      (conv1): Conv2d(3, 64, kernel_size=(7, 7), stride=(2, 2), padding=(3, 3), bias=False)\n",
       "      (bn1): BatchNorm2d(64, eps=1e-05, momentum=0.1, affine=True, track_running_stats=True)\n",
       "      (act1): ReLU(inplace=True)\n",
       "      (maxpool): MaxPool2d(kernel_size=3, stride=2, padding=1, dilation=1, ceil_mode=False)\n",
       "      (layer1): Sequential(\n",
       "        (0): Bottleneck(\n",
       "          (conv1): Conv2d(64, 64, kernel_size=(1, 1), stride=(1, 1), bias=False)\n",
       "          (bn1): BatchNorm2d(64, eps=1e-05, momentum=0.1, affine=True, track_running_stats=True)\n",
       "          (act1): ReLU(inplace=True)\n",
       "          (conv2): Conv2d(64, 64, kernel_size=(3, 3), stride=(1, 1), padding=(1, 1), bias=False)\n",
       "          (bn2): BatchNorm2d(64, eps=1e-05, momentum=0.1, affine=True, track_running_stats=True)\n",
       "          (drop_block): Identity()\n",
       "          (act2): ReLU(inplace=True)\n",
       "          (aa): Identity()\n",
       "          (conv3): Conv2d(64, 256, kernel_size=(1, 1), stride=(1, 1), bias=False)\n",
       "          (bn3): BatchNorm2d(256, eps=1e-05, momentum=0.1, affine=True, track_running_stats=True)\n",
       "          (act3): ReLU(inplace=True)\n",
       "          (downsample): Sequential(\n",
       "            (0): Conv2d(64, 256, kernel_size=(1, 1), stride=(1, 1), bias=False)\n",
       "            (1): BatchNorm2d(256, eps=1e-05, momentum=0.1, affine=True, track_running_stats=True)\n",
       "          )\n",
       "        )\n",
       "        (1): Bottleneck(\n",
       "          (conv1): Conv2d(256, 64, kernel_size=(1, 1), stride=(1, 1), bias=False)\n",
       "          (bn1): BatchNorm2d(64, eps=1e-05, momentum=0.1, affine=True, track_running_stats=True)\n",
       "          (act1): ReLU(inplace=True)\n",
       "          (conv2): Conv2d(64, 64, kernel_size=(3, 3), stride=(1, 1), padding=(1, 1), bias=False)\n",
       "          (bn2): BatchNorm2d(64, eps=1e-05, momentum=0.1, affine=True, track_running_stats=True)\n",
       "          (drop_block): Identity()\n",
       "          (act2): ReLU(inplace=True)\n",
       "          (aa): Identity()\n",
       "          (conv3): Conv2d(64, 256, kernel_size=(1, 1), stride=(1, 1), bias=False)\n",
       "          (bn3): BatchNorm2d(256, eps=1e-05, momentum=0.1, affine=True, track_running_stats=True)\n",
       "          (act3): ReLU(inplace=True)\n",
       "        )\n",
       "        (2): Bottleneck(\n",
       "          (conv1): Conv2d(256, 64, kernel_size=(1, 1), stride=(1, 1), bias=False)\n",
       "          (bn1): BatchNorm2d(64, eps=1e-05, momentum=0.1, affine=True, track_running_stats=True)\n",
       "          (act1): ReLU(inplace=True)\n",
       "          (conv2): Conv2d(64, 64, kernel_size=(3, 3), stride=(1, 1), padding=(1, 1), bias=False)\n",
       "          (bn2): BatchNorm2d(64, eps=1e-05, momentum=0.1, affine=True, track_running_stats=True)\n",
       "          (drop_block): Identity()\n",
       "          (act2): ReLU(inplace=True)\n",
       "          (aa): Identity()\n",
       "          (conv3): Conv2d(64, 256, kernel_size=(1, 1), stride=(1, 1), bias=False)\n",
       "          (bn3): BatchNorm2d(256, eps=1e-05, momentum=0.1, affine=True, track_running_stats=True)\n",
       "          (act3): ReLU(inplace=True)\n",
       "        )\n",
       "      )\n",
       "      (layer2): Sequential(\n",
       "        (0): Bottleneck(\n",
       "          (conv1): Conv2d(256, 128, kernel_size=(1, 1), stride=(1, 1), bias=False)\n",
       "          (bn1): BatchNorm2d(128, eps=1e-05, momentum=0.1, affine=True, track_running_stats=True)\n",
       "          (act1): ReLU(inplace=True)\n",
       "          (conv2): Conv2d(128, 128, kernel_size=(3, 3), stride=(2, 2), padding=(1, 1), bias=False)\n",
       "          (bn2): BatchNorm2d(128, eps=1e-05, momentum=0.1, affine=True, track_running_stats=True)\n",
       "          (drop_block): Identity()\n",
       "          (act2): ReLU(inplace=True)\n",
       "          (aa): Identity()\n",
       "          (conv3): Conv2d(128, 512, kernel_size=(1, 1), stride=(1, 1), bias=False)\n",
       "          (bn3): BatchNorm2d(512, eps=1e-05, momentum=0.1, affine=True, track_running_stats=True)\n",
       "          (act3): ReLU(inplace=True)\n",
       "          (downsample): Sequential(\n",
       "            (0): Conv2d(256, 512, kernel_size=(1, 1), stride=(2, 2), bias=False)\n",
       "            (1): BatchNorm2d(512, eps=1e-05, momentum=0.1, affine=True, track_running_stats=True)\n",
       "          )\n",
       "        )\n",
       "        (1): Bottleneck(\n",
       "          (conv1): Conv2d(512, 128, kernel_size=(1, 1), stride=(1, 1), bias=False)\n",
       "          (bn1): BatchNorm2d(128, eps=1e-05, momentum=0.1, affine=True, track_running_stats=True)\n",
       "          (act1): ReLU(inplace=True)\n",
       "          (conv2): Conv2d(128, 128, kernel_size=(3, 3), stride=(1, 1), padding=(1, 1), bias=False)\n",
       "          (bn2): BatchNorm2d(128, eps=1e-05, momentum=0.1, affine=True, track_running_stats=True)\n",
       "          (drop_block): Identity()\n",
       "          (act2): ReLU(inplace=True)\n",
       "          (aa): Identity()\n",
       "          (conv3): Conv2d(128, 512, kernel_size=(1, 1), stride=(1, 1), bias=False)\n",
       "          (bn3): BatchNorm2d(512, eps=1e-05, momentum=0.1, affine=True, track_running_stats=True)\n",
       "          (act3): ReLU(inplace=True)\n",
       "        )\n",
       "        (2): Bottleneck(\n",
       "          (conv1): Conv2d(512, 128, kernel_size=(1, 1), stride=(1, 1), bias=False)\n",
       "          (bn1): BatchNorm2d(128, eps=1e-05, momentum=0.1, affine=True, track_running_stats=True)\n",
       "          (act1): ReLU(inplace=True)\n",
       "          (conv2): Conv2d(128, 128, kernel_size=(3, 3), stride=(1, 1), padding=(1, 1), bias=False)\n",
       "          (bn2): BatchNorm2d(128, eps=1e-05, momentum=0.1, affine=True, track_running_stats=True)\n",
       "          (drop_block): Identity()\n",
       "          (act2): ReLU(inplace=True)\n",
       "          (aa): Identity()\n",
       "          (conv3): Conv2d(128, 512, kernel_size=(1, 1), stride=(1, 1), bias=False)\n",
       "          (bn3): BatchNorm2d(512, eps=1e-05, momentum=0.1, affine=True, track_running_stats=True)\n",
       "          (act3): ReLU(inplace=True)\n",
       "        )\n",
       "        (3): Bottleneck(\n",
       "          (conv1): Conv2d(512, 128, kernel_size=(1, 1), stride=(1, 1), bias=False)\n",
       "          (bn1): BatchNorm2d(128, eps=1e-05, momentum=0.1, affine=True, track_running_stats=True)\n",
       "          (act1): ReLU(inplace=True)\n",
       "          (conv2): Conv2d(128, 128, kernel_size=(3, 3), stride=(1, 1), padding=(1, 1), bias=False)\n",
       "          (bn2): BatchNorm2d(128, eps=1e-05, momentum=0.1, affine=True, track_running_stats=True)\n",
       "          (drop_block): Identity()\n",
       "          (act2): ReLU(inplace=True)\n",
       "          (aa): Identity()\n",
       "          (conv3): Conv2d(128, 512, kernel_size=(1, 1), stride=(1, 1), bias=False)\n",
       "          (bn3): BatchNorm2d(512, eps=1e-05, momentum=0.1, affine=True, track_running_stats=True)\n",
       "          (act3): ReLU(inplace=True)\n",
       "        )\n",
       "      )\n",
       "      (layer3): Sequential(\n",
       "        (0): Bottleneck(\n",
       "          (conv1): Conv2d(512, 256, kernel_size=(1, 1), stride=(1, 1), bias=False)\n",
       "          (bn1): BatchNorm2d(256, eps=1e-05, momentum=0.1, affine=True, track_running_stats=True)\n",
       "          (act1): ReLU(inplace=True)\n",
       "          (conv2): Conv2d(256, 256, kernel_size=(3, 3), stride=(2, 2), padding=(1, 1), bias=False)\n",
       "          (bn2): BatchNorm2d(256, eps=1e-05, momentum=0.1, affine=True, track_running_stats=True)\n",
       "          (drop_block): Identity()\n",
       "          (act2): ReLU(inplace=True)\n",
       "          (aa): Identity()\n",
       "          (conv3): Conv2d(256, 1024, kernel_size=(1, 1), stride=(1, 1), bias=False)\n",
       "          (bn3): BatchNorm2d(1024, eps=1e-05, momentum=0.1, affine=True, track_running_stats=True)\n",
       "          (act3): ReLU(inplace=True)\n",
       "          (downsample): Sequential(\n",
       "            (0): Conv2d(512, 1024, kernel_size=(1, 1), stride=(2, 2), bias=False)\n",
       "            (1): BatchNorm2d(1024, eps=1e-05, momentum=0.1, affine=True, track_running_stats=True)\n",
       "          )\n",
       "        )\n",
       "        (1): Bottleneck(\n",
       "          (conv1): Conv2d(1024, 256, kernel_size=(1, 1), stride=(1, 1), bias=False)\n",
       "          (bn1): BatchNorm2d(256, eps=1e-05, momentum=0.1, affine=True, track_running_stats=True)\n",
       "          (act1): ReLU(inplace=True)\n",
       "          (conv2): Conv2d(256, 256, kernel_size=(3, 3), stride=(1, 1), padding=(1, 1), bias=False)\n",
       "          (bn2): BatchNorm2d(256, eps=1e-05, momentum=0.1, affine=True, track_running_stats=True)\n",
       "          (drop_block): Identity()\n",
       "          (act2): ReLU(inplace=True)\n",
       "          (aa): Identity()\n",
       "          (conv3): Conv2d(256, 1024, kernel_size=(1, 1), stride=(1, 1), bias=False)\n",
       "          (bn3): BatchNorm2d(1024, eps=1e-05, momentum=0.1, affine=True, track_running_stats=True)\n",
       "          (act3): ReLU(inplace=True)\n",
       "        )\n",
       "        (2): Bottleneck(\n",
       "          (conv1): Conv2d(1024, 256, kernel_size=(1, 1), stride=(1, 1), bias=False)\n",
       "          (bn1): BatchNorm2d(256, eps=1e-05, momentum=0.1, affine=True, track_running_stats=True)\n",
       "          (act1): ReLU(inplace=True)\n",
       "          (conv2): Conv2d(256, 256, kernel_size=(3, 3), stride=(1, 1), padding=(1, 1), bias=False)\n",
       "          (bn2): BatchNorm2d(256, eps=1e-05, momentum=0.1, affine=True, track_running_stats=True)\n",
       "          (drop_block): Identity()\n",
       "          (act2): ReLU(inplace=True)\n",
       "          (aa): Identity()\n",
       "          (conv3): Conv2d(256, 1024, kernel_size=(1, 1), stride=(1, 1), bias=False)\n",
       "          (bn3): BatchNorm2d(1024, eps=1e-05, momentum=0.1, affine=True, track_running_stats=True)\n",
       "          (act3): ReLU(inplace=True)\n",
       "        )\n",
       "        (3): Bottleneck(\n",
       "          (conv1): Conv2d(1024, 256, kernel_size=(1, 1), stride=(1, 1), bias=False)\n",
       "          (bn1): BatchNorm2d(256, eps=1e-05, momentum=0.1, affine=True, track_running_stats=True)\n",
       "          (act1): ReLU(inplace=True)\n",
       "          (conv2): Conv2d(256, 256, kernel_size=(3, 3), stride=(1, 1), padding=(1, 1), bias=False)\n",
       "          (bn2): BatchNorm2d(256, eps=1e-05, momentum=0.1, affine=True, track_running_stats=True)\n",
       "          (drop_block): Identity()\n",
       "          (act2): ReLU(inplace=True)\n",
       "          (aa): Identity()\n",
       "          (conv3): Conv2d(256, 1024, kernel_size=(1, 1), stride=(1, 1), bias=False)\n",
       "          (bn3): BatchNorm2d(1024, eps=1e-05, momentum=0.1, affine=True, track_running_stats=True)\n",
       "          (act3): ReLU(inplace=True)\n",
       "        )\n",
       "        (4): Bottleneck(\n",
       "          (conv1): Conv2d(1024, 256, kernel_size=(1, 1), stride=(1, 1), bias=False)\n",
       "          (bn1): BatchNorm2d(256, eps=1e-05, momentum=0.1, affine=True, track_running_stats=True)\n",
       "          (act1): ReLU(inplace=True)\n",
       "          (conv2): Conv2d(256, 256, kernel_size=(3, 3), stride=(1, 1), padding=(1, 1), bias=False)\n",
       "          (bn2): BatchNorm2d(256, eps=1e-05, momentum=0.1, affine=True, track_running_stats=True)\n",
       "          (drop_block): Identity()\n",
       "          (act2): ReLU(inplace=True)\n",
       "          (aa): Identity()\n",
       "          (conv3): Conv2d(256, 1024, kernel_size=(1, 1), stride=(1, 1), bias=False)\n",
       "          (bn3): BatchNorm2d(1024, eps=1e-05, momentum=0.1, affine=True, track_running_stats=True)\n",
       "          (act3): ReLU(inplace=True)\n",
       "        )\n",
       "        (5): Bottleneck(\n",
       "          (conv1): Conv2d(1024, 256, kernel_size=(1, 1), stride=(1, 1), bias=False)\n",
       "          (bn1): BatchNorm2d(256, eps=1e-05, momentum=0.1, affine=True, track_running_stats=True)\n",
       "          (act1): ReLU(inplace=True)\n",
       "          (conv2): Conv2d(256, 256, kernel_size=(3, 3), stride=(1, 1), padding=(1, 1), bias=False)\n",
       "          (bn2): BatchNorm2d(256, eps=1e-05, momentum=0.1, affine=True, track_running_stats=True)\n",
       "          (drop_block): Identity()\n",
       "          (act2): ReLU(inplace=True)\n",
       "          (aa): Identity()\n",
       "          (conv3): Conv2d(256, 1024, kernel_size=(1, 1), stride=(1, 1), bias=False)\n",
       "          (bn3): BatchNorm2d(1024, eps=1e-05, momentum=0.1, affine=True, track_running_stats=True)\n",
       "          (act3): ReLU(inplace=True)\n",
       "        )\n",
       "      )\n",
       "      (layer4): Sequential(\n",
       "        (0): Bottleneck(\n",
       "          (conv1): Conv2d(1024, 512, kernel_size=(1, 1), stride=(1, 1), bias=False)\n",
       "          (bn1): BatchNorm2d(512, eps=1e-05, momentum=0.1, affine=True, track_running_stats=True)\n",
       "          (act1): ReLU(inplace=True)\n",
       "          (conv2): Conv2d(512, 512, kernel_size=(3, 3), stride=(2, 2), padding=(1, 1), bias=False)\n",
       "          (bn2): BatchNorm2d(512, eps=1e-05, momentum=0.1, affine=True, track_running_stats=True)\n",
       "          (drop_block): Identity()\n",
       "          (act2): ReLU(inplace=True)\n",
       "          (aa): Identity()\n",
       "          (conv3): Conv2d(512, 2048, kernel_size=(1, 1), stride=(1, 1), bias=False)\n",
       "          (bn3): BatchNorm2d(2048, eps=1e-05, momentum=0.1, affine=True, track_running_stats=True)\n",
       "          (act3): ReLU(inplace=True)\n",
       "          (downsample): Sequential(\n",
       "            (0): Conv2d(1024, 2048, kernel_size=(1, 1), stride=(2, 2), bias=False)\n",
       "            (1): BatchNorm2d(2048, eps=1e-05, momentum=0.1, affine=True, track_running_stats=True)\n",
       "          )\n",
       "        )\n",
       "        (1): Bottleneck(\n",
       "          (conv1): Conv2d(2048, 512, kernel_size=(1, 1), stride=(1, 1), bias=False)\n",
       "          (bn1): BatchNorm2d(512, eps=1e-05, momentum=0.1, affine=True, track_running_stats=True)\n",
       "          (act1): ReLU(inplace=True)\n",
       "          (conv2): Conv2d(512, 512, kernel_size=(3, 3), stride=(1, 1), padding=(1, 1), bias=False)\n",
       "          (bn2): BatchNorm2d(512, eps=1e-05, momentum=0.1, affine=True, track_running_stats=True)\n",
       "          (drop_block): Identity()\n",
       "          (act2): ReLU(inplace=True)\n",
       "          (aa): Identity()\n",
       "          (conv3): Conv2d(512, 2048, kernel_size=(1, 1), stride=(1, 1), bias=False)\n",
       "          (bn3): BatchNorm2d(2048, eps=1e-05, momentum=0.1, affine=True, track_running_stats=True)\n",
       "          (act3): ReLU(inplace=True)\n",
       "        )\n",
       "        (2): Bottleneck(\n",
       "          (conv1): Conv2d(2048, 512, kernel_size=(1, 1), stride=(1, 1), bias=False)\n",
       "          (bn1): BatchNorm2d(512, eps=1e-05, momentum=0.1, affine=True, track_running_stats=True)\n",
       "          (act1): ReLU(inplace=True)\n",
       "          (conv2): Conv2d(512, 512, kernel_size=(3, 3), stride=(1, 1), padding=(1, 1), bias=False)\n",
       "          (bn2): BatchNorm2d(512, eps=1e-05, momentum=0.1, affine=True, track_running_stats=True)\n",
       "          (drop_block): Identity()\n",
       "          (act2): ReLU(inplace=True)\n",
       "          (aa): Identity()\n",
       "          (conv3): Conv2d(512, 2048, kernel_size=(1, 1), stride=(1, 1), bias=False)\n",
       "          (bn3): BatchNorm2d(2048, eps=1e-05, momentum=0.1, affine=True, track_running_stats=True)\n",
       "          (act3): ReLU(inplace=True)\n",
       "        )\n",
       "      )\n",
       "      (fc): Identity()\n",
       "      (global_pool): Identity()\n",
       "    )\n",
       "    (dropout): Dropout(p=0.0, inplace=False)\n",
       "    (activation): Identity()\n",
       "  )\n",
       "  (1): Linear(in_features=2048, out_features=7, bias=True)\n",
       ")"
      ]
     },
     "execution_count": 3,
     "metadata": {},
     "output_type": "execute_result"
    }
   ],
   "source": [
    "model_ERM.network"
   ]
  },
  {
   "cell_type": "code",
   "execution_count": 16,
   "id": "74961ac0",
   "metadata": {},
   "outputs": [
    {
     "name": "stdout",
     "output_type": "stream",
     "text": [
      "torch.Size([1, 2048, 28, 28])\n"
     ]
    }
   ],
   "source": [
    "x = torch.ones((1, 64, 224, 224)).to(device)\n",
    "x = model_ERM.network[0].network.layer1(x)\n",
    "x = model_ERM.network[0].network.layer2(x)\n",
    "x = model_ERM.network[0].network.layer3(x)\n",
    "x = model_ERM.network[0].network.layer4(x)\n",
    "\n",
    "print(x.shape)"
   ]
  },
  {
   "cell_type": "code",
   "execution_count": 3,
   "id": "a68d84da",
   "metadata": {},
   "outputs": [],
   "source": [
    "models = {\n",
    "    \"ERM\": model_ERM,\n",
    "    \"IRM\": model_IRM\n",
    "}\n",
    "\n",
    "activation_dir = \"activations/PACS_sketch_ResNet_ERM_IRM\"\n",
    "image_loader = Load_PACS(root_dir=\"C:/Users/sproj_ha/Desktop/vision_interp/datasets/data/PACS\", batch_size=32)\n",
    "\n",
    "activations_dataloader = Load_activation_dataloader(\n",
    "    models=models,\n",
    "    image_dataloader=image_loader,\n",
    "    max_seq_len=None,   \n",
    "    save_dir=activation_dir, \n",
    "    generate=False,  \n",
    "    rearrange_string='n c w h -> (n w h) c'\n",
    "    )"
   ]
  },
  {
   "cell_type": "markdown",
   "id": "e35fc11e",
   "metadata": {},
   "source": [
    "SAE Visualization"
   ]
  },
  {
   "cell_type": "code",
   "execution_count": 4,
   "id": "0cae4a05",
   "metadata": {},
   "outputs": [],
   "source": [
    "concepts = 2048 * 8\n",
    "epochs = 50\n",
    "lr=5e-5\n",
    "sample = next(iter(activations_dataloader))"
   ]
  },
  {
   "cell_type": "code",
   "execution_count": 5,
   "id": "27ed1e5d",
   "metadata": {},
   "outputs": [],
   "source": [
    "SAEs = {}\n",
    "optimizers = {}\n",
    "schedulers = {}\n",
    "\n",
    "for key, model in models.items():\n",
    "  SAEs[key] = TopKSAE(sample[f\"activations_{key}\"].shape[-1], nb_concepts=concepts, top_k=16, device='cuda')\n",
    "  optimizers[key] = torch.optim.Adam(SAEs[key].parameters(), lr=lr)\n",
    "\n",
    "  warmup_scheduler = LinearLR(optimizers[key], start_factor=1e-6 / 3e-4, end_factor=1.0, total_iters=10)\n",
    "  cosine_scheduler = CosineAnnealingLR(optimizers[key], T_max=epochs, eta_min=1e-6)\n",
    "  schedulers[key] = SequentialLR(optimizers[key], schedulers=[warmup_scheduler, cosine_scheduler], milestones=[10])\n",
    "\n",
    "\n",
    "criterion = nn.L1Loss(reduction=\"mean\")"
   ]
  },
  {
   "cell_type": "code",
   "execution_count": null,
   "id": "698beefe",
   "metadata": {},
   "outputs": [
    {
     "name": "stderr",
     "output_type": "stream",
     "text": [
      "Epoch 1/50: 100%|██████████| 313/313 [00:12<00:00, 24.30it/s, loss=0.483]\n"
     ]
    },
    {
     "name": "stdout",
     "output_type": "stream",
     "text": [
      "\n",
      "[Epoch 1] Loss: 153.3956 | Time: 12.88s | Dead Features: 0.0%\n"
     ]
    },
    {
     "name": "stderr",
     "output_type": "stream",
     "text": [
      "Epoch 2/50: 100%|██████████| 313/313 [00:12<00:00, 24.47it/s, loss=0.45] \n"
     ]
    },
    {
     "name": "stdout",
     "output_type": "stream",
     "text": [
      "\n",
      "[Epoch 2] Loss: 139.5057 | Time: 12.79s | Dead Features: 0.0%\n"
     ]
    },
    {
     "name": "stderr",
     "output_type": "stream",
     "text": [
      "Epoch 3/50: 100%|██████████| 313/313 [00:12<00:00, 24.47it/s, loss=0.439]\n"
     ]
    },
    {
     "name": "stdout",
     "output_type": "stream",
     "text": [
      "\n",
      "[Epoch 3] Loss: 132.7015 | Time: 12.79s | Dead Features: 0.0%\n"
     ]
    },
    {
     "name": "stderr",
     "output_type": "stream",
     "text": [
      "Epoch 4/50: 100%|██████████| 313/313 [00:12<00:00, 24.44it/s, loss=0.409]\n"
     ]
    },
    {
     "name": "stdout",
     "output_type": "stream",
     "text": [
      "\n",
      "[Epoch 4] Loss: 128.7990 | Time: 12.81s | Dead Features: 0.0%\n"
     ]
    },
    {
     "name": "stderr",
     "output_type": "stream",
     "text": [
      "Epoch 5/50: 100%|██████████| 313/313 [00:12<00:00, 24.58it/s, loss=0.396]\n"
     ]
    },
    {
     "name": "stdout",
     "output_type": "stream",
     "text": [
      "\n",
      "[Epoch 5] Loss: 124.4995 | Time: 12.74s | Dead Features: 0.0%\n"
     ]
    },
    {
     "name": "stderr",
     "output_type": "stream",
     "text": [
      "Epoch 6/50: 100%|██████████| 313/313 [00:12<00:00, 24.98it/s, loss=0.383]\n"
     ]
    },
    {
     "name": "stdout",
     "output_type": "stream",
     "text": [
      "\n",
      "[Epoch 6] Loss: 120.1503 | Time: 12.53s | Dead Features: 0.0%\n"
     ]
    },
    {
     "name": "stderr",
     "output_type": "stream",
     "text": [
      "Epoch 7/50: 100%|██████████| 313/313 [00:12<00:00, 24.82it/s, loss=0.351]\n"
     ]
    },
    {
     "name": "stdout",
     "output_type": "stream",
     "text": [
      "\n",
      "[Epoch 7] Loss: 115.1426 | Time: 12.61s | Dead Features: 0.0%\n"
     ]
    },
    {
     "name": "stderr",
     "output_type": "stream",
     "text": [
      "Epoch 8/50: 100%|██████████| 313/313 [00:12<00:00, 24.77it/s, loss=0.325]\n"
     ]
    },
    {
     "name": "stdout",
     "output_type": "stream",
     "text": [
      "\n",
      "[Epoch 8] Loss: 110.9025 | Time: 12.64s | Dead Features: 0.0%\n"
     ]
    },
    {
     "name": "stderr",
     "output_type": "stream",
     "text": [
      "Epoch 9/50: 100%|██████████| 313/313 [00:12<00:00, 24.78it/s, loss=0.332]\n"
     ]
    },
    {
     "name": "stdout",
     "output_type": "stream",
     "text": [
      "\n",
      "[Epoch 9] Loss: 108.0776 | Time: 12.63s | Dead Features: 0.0%\n"
     ]
    },
    {
     "name": "stderr",
     "output_type": "stream",
     "text": [
      "Epoch 10/50: 100%|██████████| 313/313 [00:12<00:00, 24.89it/s, loss=0.31] \n"
     ]
    },
    {
     "name": "stdout",
     "output_type": "stream",
     "text": [
      "\n",
      "[Epoch 10] Loss: 105.4842 | Time: 12.58s | Dead Features: 0.0%\n"
     ]
    },
    {
     "name": "stderr",
     "output_type": "stream",
     "text": [
      "Epoch 11/50: 100%|██████████| 313/313 [00:12<00:00, 24.89it/s, loss=0.322]\n"
     ]
    },
    {
     "name": "stdout",
     "output_type": "stream",
     "text": [
      "\n",
      "[Epoch 11] Loss: 103.8012 | Time: 12.57s | Dead Features: 0.0%\n"
     ]
    },
    {
     "name": "stderr",
     "output_type": "stream",
     "text": [
      "Epoch 12/50: 100%|██████████| 313/313 [00:12<00:00, 24.87it/s, loss=0.314]\n"
     ]
    },
    {
     "name": "stdout",
     "output_type": "stream",
     "text": [
      "\n",
      "[Epoch 12] Loss: 102.2510 | Time: 12.59s | Dead Features: 0.0%\n"
     ]
    },
    {
     "name": "stderr",
     "output_type": "stream",
     "text": [
      "Epoch 13/50: 100%|██████████| 313/313 [00:12<00:00, 24.75it/s, loss=0.303]\n"
     ]
    },
    {
     "name": "stdout",
     "output_type": "stream",
     "text": [
      "\n",
      "[Epoch 13] Loss: 101.0727 | Time: 12.65s | Dead Features: 0.0%\n"
     ]
    },
    {
     "name": "stderr",
     "output_type": "stream",
     "text": [
      "Epoch 14/50: 100%|██████████| 313/313 [00:12<00:00, 24.45it/s, loss=0.299]\n"
     ]
    },
    {
     "name": "stdout",
     "output_type": "stream",
     "text": [
      "\n",
      "[Epoch 14] Loss: 100.0539 | Time: 12.80s | Dead Features: 0.0%\n"
     ]
    },
    {
     "name": "stderr",
     "output_type": "stream",
     "text": [
      "Epoch 15/50: 100%|██████████| 313/313 [00:12<00:00, 24.78it/s, loss=0.293]\n"
     ]
    },
    {
     "name": "stdout",
     "output_type": "stream",
     "text": [
      "\n",
      "[Epoch 15] Loss: 99.1464 | Time: 12.63s | Dead Features: 0.0%\n"
     ]
    },
    {
     "name": "stderr",
     "output_type": "stream",
     "text": [
      "Epoch 16/50: 100%|██████████| 313/313 [00:12<00:00, 24.86it/s, loss=0.296]\n"
     ]
    },
    {
     "name": "stdout",
     "output_type": "stream",
     "text": [
      "\n",
      "[Epoch 16] Loss: 98.3598 | Time: 12.59s | Dead Features: 0.0%\n"
     ]
    },
    {
     "name": "stderr",
     "output_type": "stream",
     "text": [
      "Epoch 17/50: 100%|██████████| 313/313 [00:12<00:00, 24.85it/s, loss=0.301]\n"
     ]
    },
    {
     "name": "stdout",
     "output_type": "stream",
     "text": [
      "\n",
      "[Epoch 17] Loss: 97.7082 | Time: 12.60s | Dead Features: 0.0%\n"
     ]
    },
    {
     "name": "stderr",
     "output_type": "stream",
     "text": [
      "Epoch 18/50: 100%|██████████| 313/313 [00:12<00:00, 24.88it/s, loss=0.298]\n"
     ]
    },
    {
     "name": "stdout",
     "output_type": "stream",
     "text": [
      "\n",
      "[Epoch 18] Loss: 97.3233 | Time: 12.58s | Dead Features: 0.0%\n"
     ]
    },
    {
     "name": "stderr",
     "output_type": "stream",
     "text": [
      "Epoch 19/50: 100%|██████████| 313/313 [00:12<00:00, 24.92it/s, loss=0.284]\n"
     ]
    },
    {
     "name": "stdout",
     "output_type": "stream",
     "text": [
      "\n",
      "[Epoch 19] Loss: 96.8576 | Time: 12.56s | Dead Features: 0.0%\n"
     ]
    },
    {
     "name": "stderr",
     "output_type": "stream",
     "text": [
      "Epoch 20/50: 100%|██████████| 313/313 [00:12<00:00, 24.93it/s, loss=0.305]\n"
     ]
    },
    {
     "name": "stdout",
     "output_type": "stream",
     "text": [
      "\n",
      "[Epoch 20] Loss: 96.5266 | Time: 12.56s | Dead Features: 0.0%\n"
     ]
    },
    {
     "name": "stderr",
     "output_type": "stream",
     "text": [
      "Epoch 21/50: 100%|██████████| 313/313 [00:12<00:00, 24.87it/s, loss=0.3]  \n"
     ]
    },
    {
     "name": "stdout",
     "output_type": "stream",
     "text": [
      "\n",
      "[Epoch 21] Loss: 96.1979 | Time: 12.59s | Dead Features: 0.0%\n"
     ]
    },
    {
     "name": "stderr",
     "output_type": "stream",
     "text": [
      "Epoch 22/50: 100%|██████████| 313/313 [00:12<00:00, 24.82it/s, loss=0.29] \n"
     ]
    },
    {
     "name": "stdout",
     "output_type": "stream",
     "text": [
      "\n",
      "[Epoch 22] Loss: 95.8962 | Time: 12.61s | Dead Features: 0.0%\n"
     ]
    },
    {
     "name": "stderr",
     "output_type": "stream",
     "text": [
      "Epoch 23/50: 100%|██████████| 313/313 [00:12<00:00, 24.85it/s, loss=0.287]\n"
     ]
    },
    {
     "name": "stdout",
     "output_type": "stream",
     "text": [
      "\n",
      "[Epoch 23] Loss: 95.5329 | Time: 12.60s | Dead Features: 0.0%\n"
     ]
    },
    {
     "name": "stderr",
     "output_type": "stream",
     "text": [
      "Epoch 24/50: 100%|██████████| 313/313 [00:12<00:00, 24.85it/s, loss=0.292]\n"
     ]
    },
    {
     "name": "stdout",
     "output_type": "stream",
     "text": [
      "\n",
      "[Epoch 24] Loss: 95.3544 | Time: 12.60s | Dead Features: 0.0%\n"
     ]
    },
    {
     "name": "stderr",
     "output_type": "stream",
     "text": [
      "Epoch 25/50: 100%|██████████| 313/313 [00:12<00:00, 24.87it/s, loss=0.288]\n"
     ]
    },
    {
     "name": "stdout",
     "output_type": "stream",
     "text": [
      "\n",
      "[Epoch 25] Loss: 95.0243 | Time: 12.59s | Dead Features: 0.0%\n"
     ]
    },
    {
     "name": "stderr",
     "output_type": "stream",
     "text": [
      "Epoch 26/50: 100%|██████████| 313/313 [00:12<00:00, 24.89it/s, loss=0.271]\n"
     ]
    },
    {
     "name": "stdout",
     "output_type": "stream",
     "text": [
      "\n",
      "[Epoch 26] Loss: 94.8506 | Time: 12.58s | Dead Features: 0.0%\n"
     ]
    },
    {
     "name": "stderr",
     "output_type": "stream",
     "text": [
      "Epoch 27/50: 100%|██████████| 313/313 [00:12<00:00, 24.72it/s, loss=0.277]\n"
     ]
    },
    {
     "name": "stdout",
     "output_type": "stream",
     "text": [
      "\n",
      "[Epoch 27] Loss: 94.6798 | Time: 12.67s | Dead Features: 0.0%\n"
     ]
    },
    {
     "name": "stderr",
     "output_type": "stream",
     "text": [
      "Epoch 28/50: 100%|██████████| 313/313 [00:12<00:00, 24.87it/s, loss=0.29] \n"
     ]
    },
    {
     "name": "stdout",
     "output_type": "stream",
     "text": [
      "\n",
      "[Epoch 28] Loss: 94.5175 | Time: 12.59s | Dead Features: 0.0%\n"
     ]
    },
    {
     "name": "stderr",
     "output_type": "stream",
     "text": [
      "Epoch 29/50: 100%|██████████| 313/313 [00:12<00:00, 24.84it/s, loss=0.284]\n"
     ]
    },
    {
     "name": "stdout",
     "output_type": "stream",
     "text": [
      "\n",
      "[Epoch 29] Loss: 94.3126 | Time: 12.60s | Dead Features: 0.0%\n"
     ]
    },
    {
     "name": "stderr",
     "output_type": "stream",
     "text": [
      "Epoch 30/50: 100%|██████████| 313/313 [00:12<00:00, 24.87it/s, loss=0.287]\n"
     ]
    },
    {
     "name": "stdout",
     "output_type": "stream",
     "text": [
      "\n",
      "[Epoch 30] Loss: 94.0892 | Time: 12.59s | Dead Features: 0.0%\n"
     ]
    },
    {
     "name": "stderr",
     "output_type": "stream",
     "text": [
      "Epoch 31/50: 100%|██████████| 313/313 [00:12<00:00, 24.73it/s, loss=0.285]\n"
     ]
    },
    {
     "name": "stdout",
     "output_type": "stream",
     "text": [
      "\n",
      "[Epoch 31] Loss: 94.0214 | Time: 12.66s | Dead Features: 0.0%\n"
     ]
    },
    {
     "name": "stderr",
     "output_type": "stream",
     "text": [
      "Epoch 32/50: 100%|██████████| 313/313 [00:12<00:00, 24.62it/s, loss=0.278]\n"
     ]
    },
    {
     "name": "stdout",
     "output_type": "stream",
     "text": [
      "\n",
      "[Epoch 32] Loss: 93.6565 | Time: 12.71s | Dead Features: 0.0%\n"
     ]
    },
    {
     "name": "stderr",
     "output_type": "stream",
     "text": [
      "Epoch 33/50: 100%|██████████| 313/313 [00:12<00:00, 24.65it/s, loss=0.277]\n"
     ]
    },
    {
     "name": "stdout",
     "output_type": "stream",
     "text": [
      "\n",
      "[Epoch 33] Loss: 93.6005 | Time: 12.70s | Dead Features: 0.0%\n"
     ]
    },
    {
     "name": "stderr",
     "output_type": "stream",
     "text": [
      "Epoch 34/50: 100%|██████████| 313/313 [00:12<00:00, 24.89it/s, loss=0.279]\n"
     ]
    },
    {
     "name": "stdout",
     "output_type": "stream",
     "text": [
      "\n",
      "[Epoch 34] Loss: 93.5496 | Time: 12.57s | Dead Features: 0.0%\n"
     ]
    },
    {
     "name": "stderr",
     "output_type": "stream",
     "text": [
      "Epoch 35/50: 100%|██████████| 313/313 [00:12<00:00, 24.89it/s, loss=0.275]\n"
     ]
    },
    {
     "name": "stdout",
     "output_type": "stream",
     "text": [
      "\n",
      "[Epoch 35] Loss: 93.2015 | Time: 12.58s | Dead Features: 0.0%\n"
     ]
    },
    {
     "name": "stderr",
     "output_type": "stream",
     "text": [
      "Epoch 36/50: 100%|██████████| 313/313 [00:12<00:00, 24.74it/s, loss=0.279]\n"
     ]
    },
    {
     "name": "stdout",
     "output_type": "stream",
     "text": [
      "\n",
      "[Epoch 36] Loss: 93.0385 | Time: 12.65s | Dead Features: 0.0%\n"
     ]
    },
    {
     "name": "stderr",
     "output_type": "stream",
     "text": [
      "Epoch 37/50: 100%|██████████| 313/313 [00:12<00:00, 24.72it/s, loss=0.262]\n"
     ]
    },
    {
     "name": "stdout",
     "output_type": "stream",
     "text": [
      "\n",
      "[Epoch 37] Loss: 92.8056 | Time: 12.66s | Dead Features: 0.0%\n"
     ]
    },
    {
     "name": "stderr",
     "output_type": "stream",
     "text": [
      "Epoch 38/50: 100%|██████████| 313/313 [00:12<00:00, 24.80it/s, loss=0.269]\n"
     ]
    },
    {
     "name": "stdout",
     "output_type": "stream",
     "text": [
      "\n",
      "[Epoch 38] Loss: 92.6513 | Time: 12.62s | Dead Features: 0.0%\n"
     ]
    },
    {
     "name": "stderr",
     "output_type": "stream",
     "text": [
      "Epoch 39/50: 100%|██████████| 313/313 [00:12<00:00, 24.88it/s, loss=0.273]\n"
     ]
    },
    {
     "name": "stdout",
     "output_type": "stream",
     "text": [
      "\n",
      "[Epoch 39] Loss: 92.4614 | Time: 12.58s | Dead Features: 0.0%\n"
     ]
    },
    {
     "name": "stderr",
     "output_type": "stream",
     "text": [
      "Epoch 40/50: 100%|██████████| 313/313 [00:12<00:00, 24.77it/s, loss=0.275]\n"
     ]
    },
    {
     "name": "stdout",
     "output_type": "stream",
     "text": [
      "\n",
      "[Epoch 40] Loss: 92.3271 | Time: 12.64s | Dead Features: 0.0%\n"
     ]
    },
    {
     "name": "stderr",
     "output_type": "stream",
     "text": [
      "Epoch 41/50: 100%|██████████| 313/313 [00:12<00:00, 24.55it/s, loss=0.26] \n"
     ]
    },
    {
     "name": "stdout",
     "output_type": "stream",
     "text": [
      "\n",
      "[Epoch 41] Loss: 92.1635 | Time: 12.75s | Dead Features: 0.0%\n"
     ]
    },
    {
     "name": "stderr",
     "output_type": "stream",
     "text": [
      "Epoch 42/50: 100%|██████████| 313/313 [00:12<00:00, 24.74it/s, loss=0.262]\n"
     ]
    },
    {
     "name": "stdout",
     "output_type": "stream",
     "text": [
      "\n",
      "[Epoch 42] Loss: 92.0067 | Time: 12.65s | Dead Features: 0.0%\n"
     ]
    },
    {
     "name": "stderr",
     "output_type": "stream",
     "text": [
      "Epoch 43/50: 100%|██████████| 313/313 [00:12<00:00, 24.68it/s, loss=0.271]\n"
     ]
    },
    {
     "name": "stdout",
     "output_type": "stream",
     "text": [
      "\n",
      "[Epoch 43] Loss: 91.8277 | Time: 12.68s | Dead Features: 0.0%\n"
     ]
    },
    {
     "name": "stderr",
     "output_type": "stream",
     "text": [
      "Epoch 44/50: 100%|██████████| 313/313 [00:12<00:00, 24.83it/s, loss=0.271]\n"
     ]
    },
    {
     "name": "stdout",
     "output_type": "stream",
     "text": [
      "\n",
      "[Epoch 44] Loss: 91.6838 | Time: 12.61s | Dead Features: 0.0%\n"
     ]
    },
    {
     "name": "stderr",
     "output_type": "stream",
     "text": [
      "Epoch 45/50: 100%|██████████| 313/313 [00:12<00:00, 24.78it/s, loss=0.258]\n"
     ]
    },
    {
     "name": "stdout",
     "output_type": "stream",
     "text": [
      "\n",
      "[Epoch 45] Loss: 91.4962 | Time: 12.63s | Dead Features: 0.0%\n"
     ]
    },
    {
     "name": "stderr",
     "output_type": "stream",
     "text": [
      "Epoch 46/50: 100%|██████████| 313/313 [00:12<00:00, 24.74it/s, loss=0.271]\n"
     ]
    },
    {
     "name": "stdout",
     "output_type": "stream",
     "text": [
      "\n",
      "[Epoch 46] Loss: 91.1868 | Time: 12.65s | Dead Features: 0.0%\n"
     ]
    },
    {
     "name": "stderr",
     "output_type": "stream",
     "text": [
      "Epoch 47/50: 100%|██████████| 313/313 [00:12<00:00, 24.70it/s, loss=0.259]\n"
     ]
    },
    {
     "name": "stdout",
     "output_type": "stream",
     "text": [
      "\n",
      "[Epoch 47] Loss: 91.1165 | Time: 12.67s | Dead Features: 0.0%\n"
     ]
    },
    {
     "name": "stderr",
     "output_type": "stream",
     "text": [
      "Epoch 48/50: 100%|██████████| 313/313 [00:12<00:00, 24.63it/s, loss=0.274]\n"
     ]
    },
    {
     "name": "stdout",
     "output_type": "stream",
     "text": [
      "\n",
      "[Epoch 48] Loss: 90.8270 | Time: 12.71s | Dead Features: 0.0%\n"
     ]
    },
    {
     "name": "stderr",
     "output_type": "stream",
     "text": [
      "Epoch 49/50: 100%|██████████| 313/313 [00:12<00:00, 24.76it/s, loss=0.278]\n"
     ]
    },
    {
     "name": "stdout",
     "output_type": "stream",
     "text": [
      "\n",
      "[Epoch 49] Loss: 90.6712 | Time: 12.64s | Dead Features: 0.0%\n"
     ]
    },
    {
     "name": "stderr",
     "output_type": "stream",
     "text": [
      "Epoch 50/50: 100%|██████████| 313/313 [00:12<00:00, 24.69it/s, loss=0.252]\n"
     ]
    },
    {
     "name": "stdout",
     "output_type": "stream",
     "text": [
      "\n",
      "[Epoch 50] Loss: 90.5260 | Time: 12.68s | Dead Features: 0.0%\n"
     ]
    }
   ],
   "source": [
    "train_usae(names=list(models.keys()),\n",
    "           models=SAEs,\n",
    "           dataloader=activations_dataloader,\n",
    "           criterion=criterion,\n",
    "           nb_epochs=epochs,\n",
    "           optimizers=optimizers,\n",
    "           schedulers=schedulers,\n",
    "           device='cuda')"
   ]
  },
  {
   "cell_type": "code",
   "execution_count": 8,
   "id": "b69b4236",
   "metadata": {},
   "outputs": [],
   "source": [
    "model_state_dicts = {name: model.state_dict() for name, model in SAEs.items()}\n",
    "torch.save(model_state_dicts, \"./models/USAEs_ResNet_ERM_IRM.pt\")"
   ]
  },
  {
   "cell_type": "code",
   "execution_count": 6,
   "id": "1f75c6fb",
   "metadata": {},
   "outputs": [
    {
     "name": "stdout",
     "output_type": "stream",
     "text": [
      "<All keys matched successfully>\n",
      "<All keys matched successfully>\n"
     ]
    }
   ],
   "source": [
    "model_state_dicts = torch.load(\"./models/USAEs_ResNet_ERM_IRM.pt\")\n",
    "for name, model in SAEs.items():\n",
    "    print(model.load_state_dict(model_state_dicts[name]))"
   ]
  },
  {
   "cell_type": "code",
   "execution_count": null,
   "id": "17a2f63d",
   "metadata": {},
   "outputs": [],
   "source": [
    "val_activation_dir = \"activations/ImageNet100_Dino_ViT_VAL\"\n",
    "val_image_loader = Load_ImageNet100(root_dir=r\"C:\\Users\\sproj_ha\\Desktop\\vision_interp\\datasets\\imagenet100\\val.X\", transform=None, batch_size=256, shuffle=True)\n",
    "\n",
    "val_activations_dataloader = Load_activation_dataloader(\n",
    "    models=models,\n",
    "    image_dataloader=val_image_loader,\n",
    "    max_seq_len=None,   \n",
    "    save_dir=val_activation_dir, \n",
    "    generate=True,  \n",
    "    rearrange_string='n c w h -> (n w h) c'\n",
    ")"
   ]
  },
  {
   "cell_type": "code",
   "execution_count": 8,
   "id": "98c7e594",
   "metadata": {},
   "outputs": [
    {
     "data": {
      "text/plain": [
       "torch.Size([1, 1568, 2048])"
      ]
     },
     "execution_count": 8,
     "metadata": {},
     "output_type": "execute_result"
    }
   ],
   "source": [
    "sample = next(iter(activations_dataloader))\n",
    "\n",
    "sample['activations_IRM'].shape"
   ]
  },
  {
   "cell_type": "code",
   "execution_count": 14,
   "id": "92c3dfc7",
   "metadata": {},
   "outputs": [],
   "source": [
    "import matplotlib.pyplot as plt\n",
    "import torch\n",
    "from einops import rearrange\n",
    "import heapq\n",
    "from overcomplete.visualization.plot_utils import (\n",
    "    get_image_dimensions,\n",
    "    interpolate_cv2,\n",
    "    show,\n",
    ")\n",
    "from overcomplete.visualization.cmaps import VIRIDIS_ALPHA\n",
    "import itertools\n",
    "from pathlib import Path\n",
    "from tqdm import tqdm\n",
    "from concurrent.futures import ProcessPoolExecutor\n",
    "from copy import deepcopy\n",
    "from torch.profiler import profile, record_function, ProfilerActivity\n",
    "\n",
    "\n",
    "\n",
    "device = torch.device(\"cuda\" if torch.cuda.is_available() else \"cpu\")\n",
    "\n",
    "\n",
    "def save_concept_plot(concept_id, save_dir):\n",
    "    save_dir = Path(save_dir)\n",
    "    save_dir.mkdir(parents=True, exist_ok=True)  # Ensure the directory exists\n",
    "\n",
    "    filename = f\"concept_{concept_id:04d}.png\"\n",
    "    filepath = save_dir / filename\n",
    "    plt.savefig(filepath, bbox_inches=\"tight\", dpi=300)\n",
    "\n",
    "\n",
    "import time\n",
    "import heapq\n",
    "import itertools\n",
    "from tqdm import tqdm\n",
    "import torch\n",
    "from einops import rearrange\n",
    "\n",
    "def visualize_concepts2(\n",
    "    activation_loader,\n",
    "    SAEs,\n",
    "    save_dir,\n",
    "    patch_width,\n",
    "    num_concepts,\n",
    "    n_images=10,\n",
    "    abort_threshold=0,\n",
    "):\n",
    "    import os\n",
    "    os.makedirs(save_dir, exist_ok=True)\n",
    "\n",
    "    print(\"Starting concept visualizer...\\n\")\n",
    "\n",
    "    # Initialize a heap for each model that will store the (score, image)\n",
    "    print(\"Initializing heaps...\")\n",
    "    start = time.time()\n",
    "    heaps = {\n",
    "        name: {concept_id: [] for concept_id in range(num_concepts)}\n",
    "        for name in SAEs.keys()\n",
    "    }\n",
    "    print(f\"Heap initialization time: {time.time() - start:.2f}s\\n\")\n",
    "\n",
    "    for _, sae in SAEs.items():\n",
    "        sae.eval()\n",
    "        sae.to(device)\n",
    "\n",
    "    counter = itertools.count()\n",
    "\n",
    "    for batch_idx, batch in enumerate(tqdm(activation_loader)):\n",
    "        print(f\"\\n--- Batch {batch_idx} ---\")\n",
    "\n",
    "        for name, sae in SAEs.items():\n",
    "            print(f\"Processing model: {name}\")\n",
    "\n",
    "            # Step 1: Encode\n",
    "            start = time.time()\n",
    "            with torch.no_grad():\n",
    "                x = batch[f\"activations_{name}\"].squeeze().to(device)\n",
    "                _, heatmaps = sae.encode(x)\n",
    "            print(f\"Encoding time: {time.time() - start:.2f}s\")\n",
    "\n",
    "            # Step 2: Rearranging heatmaps\n",
    "            start = time.time()\n",
    "            heatmaps = rearrange(\n",
    "                heatmaps, \"(n w h) d -> n w h d\", w=patch_width, h=patch_width\n",
    "            )  # shape: [B, w, h, D]\n",
    "            print(f\"Rearrange time: {time.time() - start:.2f}s\")\n",
    "\n",
    "            # Step 3: Move data to CPU\n",
    "            start = time.time()\n",
    "            images_cpu = batch[\"images\"].squeeze().cpu()\n",
    "            heatmaps_cpu = heatmaps.cpu()\n",
    "            print(f\"CPU transfer time: {time.time() - start:.2f}s\")\n",
    "\n",
    "            # Step 4: Compute mean heatmaps\n",
    "            start = time.time()\n",
    "            B, w, h, D = heatmaps.shape\n",
    "            mean_heatmaps = heatmaps.mean(dim=(1, 2))  # shape: [B, D]\n",
    "            print(f\"Mean heatmap computation time: {time.time() - start:.2f}s\")\n",
    "\n",
    "            # Step 5: Concept-wise scoring and heap maintenance\n",
    "            start = time.time()\n",
    "            for concept_id in range(D):\n",
    "                scores = mean_heatmaps[:, concept_id]  # [B]\n",
    "\n",
    "                valid_mask = scores > abort_threshold\n",
    "                if not valid_mask.any():\n",
    "                    continue\n",
    "\n",
    "                valid_scores = scores[valid_mask]\n",
    "                valid_indices = valid_mask.nonzero(as_tuple=True)[0]\n",
    "\n",
    "                top_scores, top_ranks = torch.topk(valid_scores, k=min(n_images, valid_scores.size(0)))\n",
    "                top_indices = valid_indices[top_ranks]\n",
    "\n",
    "                for score, idx in zip(top_scores, top_indices):\n",
    "                    z = {\n",
    "                        \"image\": images_cpu[idx],\n",
    "                        \"heatmap\": heatmaps_cpu[idx, :, :, concept_id],\n",
    "                    }\n",
    "                    score_item = (-score.item(), next(counter), z)\n",
    "\n",
    "                    heap = heaps[name][concept_id]\n",
    "                    if len(heap) < n_images:\n",
    "                        heapq.heappush(heap, score_item)\n",
    "                    else:\n",
    "                        heapq.heappushpop(heap, score_item)\n",
    "            print(f\"Heap update time: {time.time() - start:.2f}s\")\n",
    "\n",
    "    print(\"\\nFinished processing all batches.\")\n",
    "\n",
    "    with ProcessPoolExecutor() as executor:\n",
    "        args = ((concept, heaps, SAEs, n_images, save_dir) for concept in range(num_concepts))\n",
    "        list(tqdm(executor.map(lambda p: worker(*p), args), total=num_concepts))\n",
    "\n",
    "\n",
    "def worker(concept, heaps, SAEs, n_images, save_dir):\n",
    "    if all(len(heaps[name][concept]) == 0 for name in SAEs.keys()):\n",
    "        return\n",
    "    else:\n",
    "        subset = {key: deepcopy(heaps[key][concept]) for key in SAEs.keys()}\n",
    "        plot_concept_grid(concept, subset, n_images, save_dir)\n",
    "\n",
    "\n",
    "def plot_concept_grid(concept_id, subset, n_images, save_dir):\n",
    "    \"\"\"\n",
    "    Plots and saves the visualization grid for a single concept.\n",
    "    \"\"\"\n",
    "    rows_per_model = 2\n",
    "    total_rows = len(subset) * rows_per_model\n",
    "    fig = plt.figure(figsize=(n_images * 2.5, total_rows * 2.5))\n",
    "\n",
    "    for j, (name, _) in enumerate(subset.items()):\n",
    "        \n",
    "        heap = subset[name]\n",
    "        title_row = j * rows_per_model + 1\n",
    "        image_row_start = title_row + 1\n",
    "\n",
    "        # Title row\n",
    "        title_ax = plt.subplot(total_rows, n_images, (title_row - 1) * n_images + 1)\n",
    "        plt.axis(\"off\")\n",
    "        plt.text(\n",
    "            0.5,\n",
    "            0.5,\n",
    "            name,\n",
    "            ha=\"center\",\n",
    "            va=\"center\",\n",
    "            fontsize=14,\n",
    "            weight=\"bold\",\n",
    "            transform=title_ax.transAxes,\n",
    "        )\n",
    "\n",
    "        # Image rows\n",
    "        for i in range(n_images):\n",
    "            \n",
    "            if heap:\n",
    "                idx = (image_row_start - 1) * n_images + i + 1                \n",
    "                _, _, z = heapq.heappop(heap)\n",
    "                image, heat = z[\"image\"], z[\"heatmap\"]\n",
    "\n",
    "                width, height = get_image_dimensions(image)\n",
    "                heatmap = interpolate_cv2(heat, (width, height))\n",
    "\n",
    "                ax = plt.subplot(total_rows, n_images, idx)\n",
    "                ax.axis(\"off\")\n",
    "                show(image)\n",
    "                show(heatmap, cmap=VIRIDIS_ALPHA, alpha=1.0)\n",
    "            \n",
    "            else:\n",
    "                ax = plt.subplot(total_rows, n_images, idx)\n",
    "                ax.axis(\"off\")\n",
    "                show(torch.zeros(3, 224, 224))\n",
    "\n",
    "    plt.tight_layout()\n",
    "    save_concept_plot(concept_id, save_dir)\n",
    "    plt.close()"
   ]
  },
  {
   "cell_type": "code",
   "execution_count": 15,
   "id": "a44dfa36",
   "metadata": {},
   "outputs": [
    {
     "name": "stdout",
     "output_type": "stream",
     "text": [
      "Starting concept visualizer...\n",
      "\n",
      "Initializing heaps...\n",
      "Heap initialization time: 0.00s\n",
      "\n"
     ]
    },
    {
     "name": "stderr",
     "output_type": "stream",
     "text": [
      "  0%|          | 0/313 [00:00<?, ?it/s]"
     ]
    },
    {
     "name": "stdout",
     "output_type": "stream",
     "text": [
      "\n",
      "--- Batch 0 ---\n",
      "Processing model: ERM\n",
      "Encoding time: 0.01s\n",
      "Rearrange time: 0.00s\n",
      "CPU transfer time: 0.16s\n",
      "Mean heatmap computation time: 0.00s\n",
      "Heap update time: 1.40s\n",
      "Processing model: IRM\n",
      "Encoding time: 0.00s\n",
      "Rearrange time: 0.00s\n",
      "CPU transfer time: 0.02s\n",
      "Mean heatmap computation time: 0.00s\n"
     ]
    },
    {
     "name": "stderr",
     "output_type": "stream",
     "text": [
      "  0%|          | 1/313 [00:02<13:14,  2.54s/it]"
     ]
    },
    {
     "name": "stdout",
     "output_type": "stream",
     "text": [
      "Heap update time: 0.93s\n",
      "\n",
      "--- Batch 1 ---\n",
      "Processing model: ERM\n",
      "Encoding time: 0.00s\n",
      "Rearrange time: 0.00s\n",
      "CPU transfer time: 0.06s\n",
      "Mean heatmap computation time: 0.00s\n",
      "Heap update time: 1.45s\n",
      "Processing model: IRM\n",
      "Encoding time: 0.00s\n",
      "Rearrange time: 0.00s\n",
      "CPU transfer time: 0.06s\n",
      "Mean heatmap computation time: 0.00s\n"
     ]
    },
    {
     "name": "stderr",
     "output_type": "stream",
     "text": [
      "  1%|          | 2/313 [00:05<13:08,  2.54s/it]"
     ]
    },
    {
     "name": "stdout",
     "output_type": "stream",
     "text": [
      "Heap update time: 0.93s\n",
      "\n",
      "--- Batch 2 ---\n",
      "Processing model: ERM\n",
      "Encoding time: 0.00s\n",
      "Rearrange time: 0.00s\n",
      "CPU transfer time: 0.06s\n",
      "Mean heatmap computation time: 0.00s\n",
      "Heap update time: 1.48s\n",
      "Processing model: IRM\n",
      "Encoding time: 0.00s\n",
      "Rearrange time: 0.00s\n",
      "CPU transfer time: 0.02s\n",
      "Mean heatmap computation time: 0.00s\n"
     ]
    },
    {
     "name": "stderr",
     "output_type": "stream",
     "text": [
      "  1%|          | 3/313 [00:07<12:56,  2.51s/it]"
     ]
    },
    {
     "name": "stdout",
     "output_type": "stream",
     "text": [
      "Heap update time: 0.89s\n",
      "\n",
      "--- Batch 3 ---\n",
      "Processing model: ERM\n",
      "Encoding time: 0.00s\n",
      "Rearrange time: 0.00s\n",
      "CPU transfer time: 0.06s\n",
      "Mean heatmap computation time: 0.00s\n",
      "Heap update time: 1.39s\n",
      "Processing model: IRM\n",
      "Encoding time: 0.00s\n",
      "Rearrange time: 0.00s\n",
      "CPU transfer time: 0.06s\n",
      "Mean heatmap computation time: 0.00s\n"
     ]
    },
    {
     "name": "stderr",
     "output_type": "stream",
     "text": [
      "  1%|▏         | 4/313 [00:09<12:45,  2.48s/it]"
     ]
    },
    {
     "name": "stdout",
     "output_type": "stream",
     "text": [
      "Heap update time: 0.89s\n",
      "\n",
      "--- Batch 4 ---\n",
      "Processing model: ERM\n",
      "Encoding time: 0.00s\n",
      "Rearrange time: 0.00s\n",
      "CPU transfer time: 0.06s\n",
      "Mean heatmap computation time: 0.00s\n",
      "Heap update time: 1.38s\n",
      "Processing model: IRM\n",
      "Encoding time: 0.00s\n",
      "Rearrange time: 0.00s\n",
      "CPU transfer time: 0.06s\n",
      "Mean heatmap computation time: 0.00s\n"
     ]
    },
    {
     "name": "stderr",
     "output_type": "stream",
     "text": [
      "  2%|▏         | 5/313 [00:12<12:39,  2.47s/it]"
     ]
    },
    {
     "name": "stdout",
     "output_type": "stream",
     "text": [
      "Heap update time: 0.92s\n",
      "\n",
      "--- Batch 5 ---\n",
      "Processing model: ERM\n",
      "Encoding time: 0.00s\n",
      "Rearrange time: 0.00s\n",
      "CPU transfer time: 0.06s\n",
      "Mean heatmap computation time: 0.00s\n",
      "Heap update time: 1.50s\n",
      "Processing model: IRM\n",
      "Encoding time: 0.00s\n",
      "Rearrange time: 0.00s\n",
      "CPU transfer time: 0.06s\n",
      "Mean heatmap computation time: 0.00s\n"
     ]
    },
    {
     "name": "stderr",
     "output_type": "stream",
     "text": [
      "  2%|▏         | 6/313 [00:14<12:47,  2.50s/it]"
     ]
    },
    {
     "name": "stdout",
     "output_type": "stream",
     "text": [
      "Heap update time: 0.91s\n",
      "\n",
      "--- Batch 6 ---\n",
      "Processing model: ERM\n",
      "Encoding time: 0.00s\n",
      "Rearrange time: 0.00s\n",
      "CPU transfer time: 0.06s\n",
      "Mean heatmap computation time: 0.00s\n",
      "Heap update time: 1.44s\n",
      "Processing model: IRM\n",
      "Encoding time: 0.00s\n",
      "Rearrange time: 0.00s\n",
      "CPU transfer time: 0.06s\n",
      "Mean heatmap computation time: 0.00s\n"
     ]
    },
    {
     "name": "stderr",
     "output_type": "stream",
     "text": [
      "  2%|▏         | 7/313 [00:17<12:52,  2.52s/it]"
     ]
    },
    {
     "name": "stdout",
     "output_type": "stream",
     "text": [
      "Heap update time: 0.99s\n",
      "\n",
      "--- Batch 7 ---\n",
      "Processing model: ERM\n",
      "Encoding time: 0.00s\n",
      "Rearrange time: 0.00s\n",
      "CPU transfer time: 0.06s\n",
      "Mean heatmap computation time: 0.00s\n",
      "Heap update time: 1.43s\n",
      "Processing model: IRM\n",
      "Encoding time: 0.00s\n",
      "Rearrange time: 0.00s\n",
      "CPU transfer time: 0.06s\n",
      "Mean heatmap computation time: 0.00s\n"
     ]
    },
    {
     "name": "stderr",
     "output_type": "stream",
     "text": [
      "  3%|▎         | 8/313 [00:20<12:44,  2.51s/it]"
     ]
    },
    {
     "name": "stdout",
     "output_type": "stream",
     "text": [
      "Heap update time: 0.90s\n",
      "\n",
      "--- Batch 8 ---\n",
      "Processing model: ERM\n",
      "Encoding time: 0.00s\n",
      "Rearrange time: 0.00s\n",
      "CPU transfer time: 0.06s\n",
      "Mean heatmap computation time: 0.00s\n",
      "Heap update time: 1.37s\n",
      "Processing model: IRM\n",
      "Encoding time: 0.00s\n",
      "Rearrange time: 0.00s\n",
      "CPU transfer time: 0.02s\n",
      "Mean heatmap computation time: 0.00s\n"
     ]
    },
    {
     "name": "stderr",
     "output_type": "stream",
     "text": [
      "  3%|▎         | 9/313 [00:22<12:27,  2.46s/it]"
     ]
    },
    {
     "name": "stdout",
     "output_type": "stream",
     "text": [
      "Heap update time: 0.88s\n",
      "\n",
      "--- Batch 9 ---\n",
      "Processing model: ERM\n",
      "Encoding time: 0.00s\n",
      "Rearrange time: 0.00s\n",
      "CPU transfer time: 0.06s\n",
      "Mean heatmap computation time: 0.00s\n",
      "Heap update time: 1.47s\n",
      "Processing model: IRM\n",
      "Encoding time: 0.00s\n",
      "Rearrange time: 0.00s\n",
      "CPU transfer time: 0.06s\n",
      "Mean heatmap computation time: 0.00s\n"
     ]
    },
    {
     "name": "stderr",
     "output_type": "stream",
     "text": [
      "  3%|▎         | 10/313 [00:24<12:35,  2.49s/it]"
     ]
    },
    {
     "name": "stdout",
     "output_type": "stream",
     "text": [
      "Heap update time: 0.95s\n",
      "\n",
      "--- Batch 10 ---\n",
      "Processing model: ERM\n",
      "Encoding time: 0.00s\n",
      "Rearrange time: 0.00s\n",
      "CPU transfer time: 0.06s\n",
      "Mean heatmap computation time: 0.00s\n",
      "Heap update time: 1.63s\n",
      "Processing model: IRM\n",
      "Encoding time: 0.00s\n",
      "Rearrange time: 0.00s\n",
      "CPU transfer time: 0.06s\n",
      "Mean heatmap computation time: 0.00s\n"
     ]
    },
    {
     "name": "stderr",
     "output_type": "stream",
     "text": [
      "  4%|▎         | 11/313 [00:27<12:55,  2.57s/it]"
     ]
    },
    {
     "name": "stdout",
     "output_type": "stream",
     "text": [
      "Heap update time: 0.97s\n",
      "\n",
      "--- Batch 11 ---\n",
      "Processing model: ERM\n",
      "Encoding time: 0.00s\n",
      "Rearrange time: 0.00s\n",
      "CPU transfer time: 0.06s\n",
      "Mean heatmap computation time: 0.00s\n",
      "Heap update time: 1.37s\n",
      "Processing model: IRM\n",
      "Encoding time: 0.00s\n",
      "Rearrange time: 0.00s\n",
      "CPU transfer time: 0.02s\n",
      "Mean heatmap computation time: 0.00s\n"
     ]
    },
    {
     "name": "stderr",
     "output_type": "stream",
     "text": [
      "  4%|▍         | 12/313 [00:30<12:45,  2.54s/it]"
     ]
    },
    {
     "name": "stdout",
     "output_type": "stream",
     "text": [
      "Heap update time: 0.89s\n",
      "\n",
      "--- Batch 12 ---\n",
      "Processing model: ERM\n",
      "Encoding time: 0.00s\n",
      "Rearrange time: 0.00s\n",
      "CPU transfer time: 0.06s\n",
      "Mean heatmap computation time: 0.00s\n",
      "Heap update time: 1.49s\n",
      "Processing model: IRM\n",
      "Encoding time: 0.00s\n",
      "Rearrange time: 0.00s\n",
      "CPU transfer time: 0.06s\n",
      "Mean heatmap computation time: 0.00s\n"
     ]
    },
    {
     "name": "stderr",
     "output_type": "stream",
     "text": [
      "  4%|▍         | 13/313 [00:32<12:43,  2.55s/it]"
     ]
    },
    {
     "name": "stdout",
     "output_type": "stream",
     "text": [
      "Heap update time: 0.91s\n",
      "\n",
      "--- Batch 13 ---\n",
      "Processing model: ERM\n",
      "Encoding time: 0.00s\n",
      "Rearrange time: 0.00s\n",
      "CPU transfer time: 0.06s\n",
      "Mean heatmap computation time: 0.00s\n",
      "Heap update time: 1.41s\n",
      "Processing model: IRM\n",
      "Encoding time: 0.00s\n",
      "Rearrange time: 0.00s\n",
      "CPU transfer time: 0.06s\n",
      "Mean heatmap computation time: 0.00s\n"
     ]
    },
    {
     "name": "stderr",
     "output_type": "stream",
     "text": [
      "  4%|▍         | 14/313 [00:35<12:39,  2.54s/it]"
     ]
    },
    {
     "name": "stdout",
     "output_type": "stream",
     "text": [
      "Heap update time: 0.97s\n",
      "\n",
      "--- Batch 14 ---\n",
      "Processing model: ERM\n",
      "Encoding time: 0.00s\n",
      "Rearrange time: 0.00s\n",
      "CPU transfer time: 0.06s\n",
      "Mean heatmap computation time: 0.00s\n",
      "Heap update time: 1.43s\n",
      "Processing model: IRM\n",
      "Encoding time: 0.00s\n",
      "Rearrange time: 0.00s\n",
      "CPU transfer time: 0.06s\n",
      "Mean heatmap computation time: 0.00s\n"
     ]
    },
    {
     "name": "stderr",
     "output_type": "stream",
     "text": [
      "  5%|▍         | 15/313 [00:37<12:22,  2.49s/it]"
     ]
    },
    {
     "name": "stdout",
     "output_type": "stream",
     "text": [
      "Heap update time: 0.80s\n",
      "\n",
      "--- Batch 15 ---\n",
      "Processing model: ERM\n",
      "Encoding time: 0.00s\n",
      "Rearrange time: 0.00s\n",
      "CPU transfer time: 0.02s\n",
      "Mean heatmap computation time: 0.00s\n",
      "Heap update time: 1.49s\n",
      "Processing model: IRM\n",
      "Encoding time: 0.00s\n",
      "Rearrange time: 0.00s\n",
      "CPU transfer time: 0.06s\n",
      "Mean heatmap computation time: 0.00s\n"
     ]
    },
    {
     "name": "stderr",
     "output_type": "stream",
     "text": [
      "  5%|▌         | 16/313 [00:40<12:25,  2.51s/it]"
     ]
    },
    {
     "name": "stdout",
     "output_type": "stream",
     "text": [
      "Heap update time: 0.95s\n",
      "\n",
      "--- Batch 16 ---\n",
      "Processing model: ERM\n",
      "Encoding time: 0.00s\n",
      "Rearrange time: 0.00s\n",
      "CPU transfer time: 0.06s\n",
      "Mean heatmap computation time: 0.00s\n",
      "Heap update time: 1.46s\n",
      "Processing model: IRM\n",
      "Encoding time: 0.00s\n",
      "Rearrange time: 0.00s\n",
      "CPU transfer time: 0.06s\n",
      "Mean heatmap computation time: 0.00s\n"
     ]
    },
    {
     "name": "stderr",
     "output_type": "stream",
     "text": [
      "  5%|▌         | 17/313 [00:42<12:21,  2.50s/it]"
     ]
    },
    {
     "name": "stdout",
     "output_type": "stream",
     "text": [
      "Heap update time: 0.89s\n",
      "\n",
      "--- Batch 17 ---\n",
      "Processing model: ERM\n",
      "Encoding time: 0.00s\n",
      "Rearrange time: 0.00s\n",
      "CPU transfer time: 0.06s\n",
      "Mean heatmap computation time: 0.00s\n",
      "Heap update time: 1.43s\n",
      "Processing model: IRM\n",
      "Encoding time: 0.00s\n",
      "Rearrange time: 0.00s\n",
      "CPU transfer time: 0.06s\n",
      "Mean heatmap computation time: 0.00s\n"
     ]
    },
    {
     "name": "stderr",
     "output_type": "stream",
     "text": [
      "  6%|▌         | 18/313 [00:45<12:14,  2.49s/it]"
     ]
    },
    {
     "name": "stdout",
     "output_type": "stream",
     "text": [
      "Heap update time: 0.89s\n",
      "\n",
      "--- Batch 18 ---\n",
      "Processing model: ERM\n",
      "Encoding time: 0.00s\n",
      "Rearrange time: 0.00s\n",
      "CPU transfer time: 0.06s\n",
      "Mean heatmap computation time: 0.00s\n",
      "Heap update time: 1.47s\n",
      "Processing model: IRM\n",
      "Encoding time: 0.00s\n",
      "Rearrange time: 0.00s\n",
      "CPU transfer time: 0.06s\n",
      "Mean heatmap computation time: 0.00s\n"
     ]
    },
    {
     "name": "stderr",
     "output_type": "stream",
     "text": [
      "  6%|▌         | 19/313 [00:47<12:07,  2.48s/it]"
     ]
    },
    {
     "name": "stdout",
     "output_type": "stream",
     "text": [
      "Heap update time: 0.83s\n",
      "\n",
      "--- Batch 19 ---\n",
      "Processing model: ERM\n",
      "Encoding time: 0.00s\n",
      "Rearrange time: 0.00s\n",
      "CPU transfer time: 0.02s\n",
      "Mean heatmap computation time: 0.00s\n",
      "Heap update time: 1.42s\n",
      "Processing model: IRM\n",
      "Encoding time: 0.00s\n",
      "Rearrange time: 0.00s\n",
      "CPU transfer time: 0.06s\n",
      "Mean heatmap computation time: 0.00s\n"
     ]
    },
    {
     "name": "stderr",
     "output_type": "stream",
     "text": [
      "  6%|▋         | 20/313 [00:49<11:57,  2.45s/it]"
     ]
    },
    {
     "name": "stdout",
     "output_type": "stream",
     "text": [
      "Heap update time: 0.86s\n",
      "\n",
      "--- Batch 20 ---\n",
      "Processing model: ERM\n",
      "Encoding time: 0.00s\n",
      "Rearrange time: 0.00s\n",
      "CPU transfer time: 0.06s\n",
      "Mean heatmap computation time: 0.00s\n",
      "Heap update time: 1.52s\n",
      "Processing model: IRM\n",
      "Encoding time: 0.00s\n",
      "Rearrange time: 0.00s\n",
      "CPU transfer time: 0.06s\n",
      "Mean heatmap computation time: 0.00s\n"
     ]
    },
    {
     "name": "stderr",
     "output_type": "stream",
     "text": [
      "  7%|▋         | 21/313 [00:52<12:07,  2.49s/it]"
     ]
    },
    {
     "name": "stdout",
     "output_type": "stream",
     "text": [
      "Heap update time: 0.92s\n",
      "\n",
      "--- Batch 21 ---\n",
      "Processing model: ERM\n",
      "Encoding time: 0.00s\n",
      "Rearrange time: 0.00s\n",
      "CPU transfer time: 0.06s\n",
      "Mean heatmap computation time: 0.00s\n",
      "Heap update time: 1.33s\n",
      "Processing model: IRM\n",
      "Encoding time: 0.00s\n",
      "Rearrange time: 0.00s\n",
      "CPU transfer time: 0.06s\n",
      "Mean heatmap computation time: 0.00s\n"
     ]
    },
    {
     "name": "stderr",
     "output_type": "stream",
     "text": [
      "  7%|▋         | 22/313 [00:54<11:53,  2.45s/it]"
     ]
    },
    {
     "name": "stdout",
     "output_type": "stream",
     "text": [
      "Heap update time: 0.89s\n",
      "\n",
      "--- Batch 22 ---\n",
      "Processing model: ERM\n",
      "Encoding time: 0.00s\n",
      "Rearrange time: 0.00s\n",
      "CPU transfer time: 0.02s\n",
      "Mean heatmap computation time: 0.00s\n",
      "Heap update time: 1.42s\n",
      "Processing model: IRM\n",
      "Encoding time: 0.00s\n",
      "Rearrange time: 0.00s\n",
      "CPU transfer time: 0.06s\n",
      "Mean heatmap computation time: 0.00s\n"
     ]
    },
    {
     "name": "stderr",
     "output_type": "stream",
     "text": [
      "  7%|▋         | 23/313 [00:57<11:45,  2.43s/it]"
     ]
    },
    {
     "name": "stdout",
     "output_type": "stream",
     "text": [
      "Heap update time: 0.87s\n",
      "\n",
      "--- Batch 23 ---\n",
      "Processing model: ERM\n",
      "Encoding time: 0.00s\n",
      "Rearrange time: 0.00s\n",
      "CPU transfer time: 0.06s\n",
      "Mean heatmap computation time: 0.00s\n",
      "Heap update time: 1.41s\n",
      "Processing model: IRM\n",
      "Encoding time: 0.00s\n",
      "Rearrange time: 0.00s\n",
      "CPU transfer time: 0.06s\n",
      "Mean heatmap computation time: 0.00s\n"
     ]
    },
    {
     "name": "stderr",
     "output_type": "stream",
     "text": [
      "  8%|▊         | 24/313 [00:59<11:44,  2.44s/it]"
     ]
    },
    {
     "name": "stdout",
     "output_type": "stream",
     "text": [
      "Heap update time: 0.89s\n",
      "\n",
      "--- Batch 24 ---\n",
      "Processing model: ERM\n",
      "Encoding time: 0.00s\n",
      "Rearrange time: 0.00s\n",
      "CPU transfer time: 0.06s\n",
      "Mean heatmap computation time: 0.00s\n",
      "Heap update time: 1.38s\n",
      "Processing model: IRM\n",
      "Encoding time: 0.00s\n",
      "Rearrange time: 0.00s\n",
      "CPU transfer time: 0.06s\n",
      "Mean heatmap computation time: 0.00s\n"
     ]
    },
    {
     "name": "stderr",
     "output_type": "stream",
     "text": [
      "  8%|▊         | 25/313 [01:02<11:38,  2.42s/it]"
     ]
    },
    {
     "name": "stdout",
     "output_type": "stream",
     "text": [
      "Heap update time: 0.87s\n",
      "\n",
      "--- Batch 25 ---\n",
      "Processing model: ERM\n",
      "Encoding time: 0.00s\n",
      "Rearrange time: 0.00s\n",
      "CPU transfer time: 0.06s\n",
      "Mean heatmap computation time: 0.00s\n",
      "Heap update time: 1.41s\n",
      "Processing model: IRM\n",
      "Encoding time: 0.00s\n",
      "Rearrange time: 0.00s\n",
      "CPU transfer time: 0.06s\n",
      "Mean heatmap computation time: 0.00s\n"
     ]
    },
    {
     "name": "stderr",
     "output_type": "stream",
     "text": [
      "  8%|▊         | 26/313 [01:04<11:41,  2.44s/it]"
     ]
    },
    {
     "name": "stdout",
     "output_type": "stream",
     "text": [
      "Heap update time: 0.93s\n",
      "\n",
      "--- Batch 26 ---\n",
      "Processing model: ERM\n",
      "Encoding time: 0.00s\n",
      "Rearrange time: 0.00s\n",
      "CPU transfer time: 0.06s\n",
      "Mean heatmap computation time: 0.00s\n",
      "Heap update time: 1.33s\n",
      "Processing model: IRM\n",
      "Encoding time: 0.00s\n",
      "Rearrange time: 0.00s\n",
      "CPU transfer time: 0.02s\n",
      "Mean heatmap computation time: 0.00s\n"
     ]
    },
    {
     "name": "stderr",
     "output_type": "stream",
     "text": [
      "  9%|▊         | 27/313 [01:06<11:26,  2.40s/it]"
     ]
    },
    {
     "name": "stdout",
     "output_type": "stream",
     "text": [
      "Heap update time: 0.88s\n",
      "\n",
      "--- Batch 27 ---\n",
      "Processing model: ERM\n",
      "Encoding time: 0.00s\n",
      "Rearrange time: 0.00s\n",
      "CPU transfer time: 0.06s\n",
      "Mean heatmap computation time: 0.00s\n",
      "Heap update time: 1.48s\n",
      "Processing model: IRM\n",
      "Encoding time: 0.00s\n",
      "Rearrange time: 0.00s\n",
      "CPU transfer time: 0.06s\n",
      "Mean heatmap computation time: 0.00s\n"
     ]
    },
    {
     "name": "stderr",
     "output_type": "stream",
     "text": [
      "  9%|▉         | 28/313 [01:09<11:34,  2.44s/it]"
     ]
    },
    {
     "name": "stdout",
     "output_type": "stream",
     "text": [
      "Heap update time: 0.90s\n",
      "\n",
      "--- Batch 28 ---\n",
      "Processing model: ERM\n",
      "Encoding time: 0.00s\n",
      "Rearrange time: 0.00s\n",
      "CPU transfer time: 0.06s\n",
      "Mean heatmap computation time: 0.00s\n",
      "Heap update time: 1.33s\n",
      "Processing model: IRM\n",
      "Encoding time: 0.00s\n",
      "Rearrange time: 0.00s\n",
      "CPU transfer time: 0.02s\n",
      "Mean heatmap computation time: 0.00s\n"
     ]
    },
    {
     "name": "stderr",
     "output_type": "stream",
     "text": [
      "  9%|▉         | 29/313 [01:11<11:17,  2.39s/it]"
     ]
    },
    {
     "name": "stdout",
     "output_type": "stream",
     "text": [
      "Heap update time: 0.83s\n",
      "\n",
      "--- Batch 29 ---\n",
      "Processing model: ERM\n",
      "Encoding time: 0.00s\n",
      "Rearrange time: 0.00s\n",
      "CPU transfer time: 0.06s\n",
      "Mean heatmap computation time: 0.00s\n",
      "Heap update time: 1.33s\n",
      "Processing model: IRM\n",
      "Encoding time: 0.00s\n",
      "Rearrange time: 0.00s\n",
      "CPU transfer time: 0.06s\n",
      "Mean heatmap computation time: 0.00s\n"
     ]
    },
    {
     "name": "stderr",
     "output_type": "stream",
     "text": [
      " 10%|▉         | 30/313 [01:14<11:10,  2.37s/it]"
     ]
    },
    {
     "name": "stdout",
     "output_type": "stream",
     "text": [
      "Heap update time: 0.85s\n",
      "\n",
      "--- Batch 30 ---\n",
      "Processing model: ERM\n",
      "Encoding time: 0.00s\n",
      "Rearrange time: 0.00s\n",
      "CPU transfer time: 0.06s\n",
      "Mean heatmap computation time: 0.00s\n",
      "Heap update time: 1.36s\n",
      "Processing model: IRM\n",
      "Encoding time: 0.00s\n",
      "Rearrange time: 0.00s\n",
      "CPU transfer time: 0.02s\n",
      "Mean heatmap computation time: 0.00s\n"
     ]
    },
    {
     "name": "stderr",
     "output_type": "stream",
     "text": [
      " 10%|▉         | 31/313 [01:16<11:07,  2.37s/it]"
     ]
    },
    {
     "name": "stdout",
     "output_type": "stream",
     "text": [
      "Heap update time: 0.89s\n",
      "\n",
      "--- Batch 31 ---\n",
      "Processing model: ERM\n",
      "Encoding time: 0.00s\n",
      "Rearrange time: 0.00s\n",
      "CPU transfer time: 0.06s\n",
      "Mean heatmap computation time: 0.00s\n",
      "Heap update time: 1.39s\n",
      "Processing model: IRM\n",
      "Encoding time: 0.00s\n",
      "Rearrange time: 0.00s\n",
      "CPU transfer time: 0.06s\n",
      "Mean heatmap computation time: 0.00s\n"
     ]
    },
    {
     "name": "stderr",
     "output_type": "stream",
     "text": [
      " 10%|█         | 32/313 [01:18<11:12,  2.39s/it]"
     ]
    },
    {
     "name": "stdout",
     "output_type": "stream",
     "text": [
      "Heap update time: 0.92s\n",
      "\n",
      "--- Batch 32 ---\n",
      "Processing model: ERM\n",
      "Encoding time: 0.00s\n",
      "Rearrange time: 0.00s\n",
      "CPU transfer time: 0.06s\n",
      "Mean heatmap computation time: 0.00s\n",
      "Heap update time: 1.36s\n",
      "Processing model: IRM\n",
      "Encoding time: 0.00s\n",
      "Rearrange time: 0.00s\n",
      "CPU transfer time: 0.06s\n",
      "Mean heatmap computation time: 0.00s\n"
     ]
    },
    {
     "name": "stderr",
     "output_type": "stream",
     "text": [
      " 11%|█         | 33/313 [01:21<11:06,  2.38s/it]"
     ]
    },
    {
     "name": "stdout",
     "output_type": "stream",
     "text": [
      "Heap update time: 0.84s\n",
      "\n",
      "--- Batch 33 ---\n",
      "Processing model: ERM\n",
      "Encoding time: 0.00s\n",
      "Rearrange time: 0.00s\n",
      "CPU transfer time: 0.02s\n",
      "Mean heatmap computation time: 0.00s\n",
      "Heap update time: 1.44s\n",
      "Processing model: IRM\n",
      "Encoding time: 0.00s\n",
      "Rearrange time: 0.00s\n",
      "CPU transfer time: 0.06s\n",
      "Mean heatmap computation time: 0.00s\n"
     ]
    },
    {
     "name": "stderr",
     "output_type": "stream",
     "text": [
      " 11%|█         | 34/313 [01:23<11:08,  2.39s/it]"
     ]
    },
    {
     "name": "stdout",
     "output_type": "stream",
     "text": [
      "Heap update time: 0.89s\n",
      "\n",
      "--- Batch 34 ---\n",
      "Processing model: ERM\n",
      "Encoding time: 0.00s\n",
      "Rearrange time: 0.00s\n",
      "CPU transfer time: 0.06s\n",
      "Mean heatmap computation time: 0.00s\n",
      "Heap update time: 1.51s\n",
      "Processing model: IRM\n",
      "Encoding time: 0.00s\n",
      "Rearrange time: 0.00s\n",
      "CPU transfer time: 0.06s\n",
      "Mean heatmap computation time: 0.00s\n"
     ]
    },
    {
     "name": "stderr",
     "output_type": "stream",
     "text": [
      " 11%|█         | 35/313 [01:26<11:14,  2.43s/it]"
     ]
    },
    {
     "name": "stdout",
     "output_type": "stream",
     "text": [
      "Heap update time: 0.84s\n",
      "\n",
      "--- Batch 35 ---\n",
      "Processing model: ERM\n",
      "Encoding time: 0.00s\n",
      "Rearrange time: 0.00s\n",
      "CPU transfer time: 0.02s\n",
      "Mean heatmap computation time: 0.00s\n",
      "Heap update time: 1.44s\n",
      "Processing model: IRM\n",
      "Encoding time: 0.00s\n",
      "Rearrange time: 0.00s\n",
      "CPU transfer time: 0.06s\n",
      "Mean heatmap computation time: 0.00s\n"
     ]
    },
    {
     "name": "stderr",
     "output_type": "stream",
     "text": [
      " 12%|█▏        | 36/313 [01:28<11:11,  2.42s/it]"
     ]
    },
    {
     "name": "stdout",
     "output_type": "stream",
     "text": [
      "Heap update time: 0.88s\n",
      "\n",
      "--- Batch 36 ---\n",
      "Processing model: ERM\n",
      "Encoding time: 0.00s\n",
      "Rearrange time: 0.00s\n",
      "CPU transfer time: 0.06s\n",
      "Mean heatmap computation time: 0.00s\n",
      "Heap update time: 1.39s\n",
      "Processing model: IRM\n",
      "Encoding time: 0.00s\n",
      "Rearrange time: 0.00s\n",
      "CPU transfer time: 0.06s\n",
      "Mean heatmap computation time: 0.00s\n"
     ]
    },
    {
     "name": "stderr",
     "output_type": "stream",
     "text": [
      " 12%|█▏        | 37/313 [01:31<11:12,  2.44s/it]"
     ]
    },
    {
     "name": "stdout",
     "output_type": "stream",
     "text": [
      "Heap update time: 0.92s\n",
      "\n",
      "--- Batch 37 ---\n",
      "Processing model: ERM\n",
      "Encoding time: 0.00s\n",
      "Rearrange time: 0.00s\n",
      "CPU transfer time: 0.06s\n",
      "Mean heatmap computation time: 0.00s\n",
      "Heap update time: 1.46s\n",
      "Processing model: IRM\n",
      "Encoding time: 0.00s\n",
      "Rearrange time: 0.00s\n",
      "CPU transfer time: 0.06s\n",
      "Mean heatmap computation time: 0.00s\n"
     ]
    },
    {
     "name": "stderr",
     "output_type": "stream",
     "text": [
      " 12%|█▏        | 38/313 [01:33<11:22,  2.48s/it]"
     ]
    },
    {
     "name": "stdout",
     "output_type": "stream",
     "text": [
      "Heap update time: 0.99s\n",
      "\n",
      "--- Batch 38 ---\n",
      "Processing model: ERM\n",
      "Encoding time: 0.00s\n",
      "Rearrange time: 0.00s\n",
      "CPU transfer time: 0.06s\n",
      "Mean heatmap computation time: 0.00s\n",
      "Heap update time: 1.56s\n",
      "Processing model: IRM\n",
      "Encoding time: 0.00s\n",
      "Rearrange time: 0.00s\n",
      "CPU transfer time: 0.06s\n",
      "Mean heatmap computation time: 0.00s\n"
     ]
    },
    {
     "name": "stderr",
     "output_type": "stream",
     "text": [
      " 12%|█▏        | 39/313 [01:36<11:27,  2.51s/it]"
     ]
    },
    {
     "name": "stdout",
     "output_type": "stream",
     "text": [
      "Heap update time: 0.87s\n",
      "\n",
      "--- Batch 39 ---\n",
      "Processing model: ERM\n",
      "Encoding time: 0.00s\n",
      "Rearrange time: 0.00s\n",
      "CPU transfer time: 0.02s\n",
      "Mean heatmap computation time: 0.00s\n",
      "Heap update time: 1.41s\n",
      "Processing model: IRM\n",
      "Encoding time: 0.00s\n",
      "Rearrange time: 0.00s\n",
      "CPU transfer time: 0.06s\n",
      "Mean heatmap computation time: 0.00s\n"
     ]
    },
    {
     "name": "stderr",
     "output_type": "stream",
     "text": [
      " 13%|█▎        | 40/313 [01:38<11:15,  2.48s/it]"
     ]
    },
    {
     "name": "stdout",
     "output_type": "stream",
     "text": [
      "Heap update time: 0.88s\n",
      "\n",
      "--- Batch 40 ---\n",
      "Processing model: ERM\n",
      "Encoding time: 0.00s\n",
      "Rearrange time: 0.00s\n",
      "CPU transfer time: 0.06s\n",
      "Mean heatmap computation time: 0.00s\n",
      "Heap update time: 1.49s\n",
      "Processing model: IRM\n",
      "Encoding time: 0.00s\n",
      "Rearrange time: 0.00s\n",
      "CPU transfer time: 0.06s\n",
      "Mean heatmap computation time: 0.00s\n"
     ]
    },
    {
     "name": "stderr",
     "output_type": "stream",
     "text": [
      " 13%|█▎        | 41/313 [01:41<11:16,  2.49s/it]"
     ]
    },
    {
     "name": "stdout",
     "output_type": "stream",
     "text": [
      "Heap update time: 0.88s\n",
      "\n",
      "--- Batch 41 ---\n",
      "Processing model: ERM\n",
      "Encoding time: 0.00s\n",
      "Rearrange time: 0.00s\n",
      "CPU transfer time: 0.06s\n",
      "Mean heatmap computation time: 0.00s\n",
      "Heap update time: 1.48s\n",
      "Processing model: IRM\n",
      "Encoding time: 0.00s\n",
      "Rearrange time: 0.00s\n",
      "CPU transfer time: 0.06s\n",
      "Mean heatmap computation time: 0.00s\n"
     ]
    },
    {
     "name": "stderr",
     "output_type": "stream",
     "text": [
      " 13%|█▎        | 42/313 [01:43<11:16,  2.49s/it]"
     ]
    },
    {
     "name": "stdout",
     "output_type": "stream",
     "text": [
      "Heap update time: 0.89s\n",
      "\n",
      "--- Batch 42 ---\n",
      "Processing model: ERM\n",
      "Encoding time: 0.00s\n",
      "Rearrange time: 0.00s\n",
      "CPU transfer time: 0.02s\n",
      "Mean heatmap computation time: 0.00s\n",
      "Heap update time: 1.43s\n",
      "Processing model: IRM\n",
      "Encoding time: 0.00s\n",
      "Rearrange time: 0.00s\n",
      "CPU transfer time: 0.06s\n",
      "Mean heatmap computation time: 0.00s\n"
     ]
    },
    {
     "name": "stderr",
     "output_type": "stream",
     "text": [
      " 14%|█▎        | 43/313 [01:46<11:05,  2.47s/it]"
     ]
    },
    {
     "name": "stdout",
     "output_type": "stream",
     "text": [
      "Heap update time: 0.86s\n",
      "\n",
      "--- Batch 43 ---\n",
      "Processing model: ERM\n",
      "Encoding time: 0.00s\n",
      "Rearrange time: 0.00s\n",
      "CPU transfer time: 0.06s\n",
      "Mean heatmap computation time: 0.00s\n",
      "Heap update time: 1.55s\n",
      "Processing model: IRM\n",
      "Encoding time: 0.00s\n",
      "Rearrange time: 0.00s\n",
      "CPU transfer time: 0.06s\n",
      "Mean heatmap computation time: 0.00s\n"
     ]
    },
    {
     "name": "stderr",
     "output_type": "stream",
     "text": [
      " 14%|█▍        | 44/313 [01:48<11:09,  2.49s/it]"
     ]
    },
    {
     "name": "stdout",
     "output_type": "stream",
     "text": [
      "Heap update time: 0.85s\n",
      "\n",
      "--- Batch 44 ---\n",
      "Processing model: ERM\n",
      "Encoding time: 0.00s\n",
      "Rearrange time: 0.00s\n",
      "CPU transfer time: 0.02s\n",
      "Mean heatmap computation time: 0.00s\n",
      "Heap update time: 1.38s\n",
      "Processing model: IRM\n",
      "Encoding time: 0.00s\n",
      "Rearrange time: 0.00s\n",
      "CPU transfer time: 0.06s\n",
      "Mean heatmap computation time: 0.00s\n"
     ]
    },
    {
     "name": "stderr",
     "output_type": "stream",
     "text": [
      " 14%|█▍        | 45/313 [01:50<10:57,  2.45s/it]"
     ]
    },
    {
     "name": "stdout",
     "output_type": "stream",
     "text": [
      "Heap update time: 0.89s\n",
      "\n",
      "--- Batch 45 ---\n",
      "Processing model: ERM\n",
      "Encoding time: 0.00s\n",
      "Rearrange time: 0.00s\n",
      "CPU transfer time: 0.06s\n",
      "Mean heatmap computation time: 0.00s\n",
      "Heap update time: 1.37s\n",
      "Processing model: IRM\n",
      "Encoding time: 0.00s\n",
      "Rearrange time: 0.00s\n",
      "CPU transfer time: 0.06s\n",
      "Mean heatmap computation time: 0.00s\n"
     ]
    },
    {
     "name": "stderr",
     "output_type": "stream",
     "text": [
      " 15%|█▍        | 46/313 [01:53<10:55,  2.45s/it]"
     ]
    },
    {
     "name": "stdout",
     "output_type": "stream",
     "text": [
      "Heap update time: 0.95s\n",
      "\n",
      "--- Batch 46 ---\n",
      "Processing model: ERM\n",
      "Encoding time: 0.00s\n",
      "Rearrange time: 0.00s\n",
      "CPU transfer time: 0.06s\n",
      "Mean heatmap computation time: 0.00s\n",
      "Heap update time: 1.51s\n",
      "Processing model: IRM\n",
      "Encoding time: 0.00s\n",
      "Rearrange time: 0.00s\n",
      "CPU transfer time: 0.06s\n",
      "Mean heatmap computation time: 0.00s\n"
     ]
    },
    {
     "name": "stderr",
     "output_type": "stream",
     "text": [
      " 15%|█▌        | 47/313 [01:55<11:04,  2.50s/it]"
     ]
    },
    {
     "name": "stdout",
     "output_type": "stream",
     "text": [
      "Heap update time: 0.95s\n",
      "\n",
      "--- Batch 47 ---\n",
      "Processing model: ERM\n",
      "Encoding time: 0.00s\n",
      "Rearrange time: 0.00s\n",
      "CPU transfer time: 0.06s\n",
      "Mean heatmap computation time: 0.00s\n",
      "Heap update time: 1.43s\n",
      "Processing model: IRM\n",
      "Encoding time: 0.00s\n",
      "Rearrange time: 0.00s\n",
      "CPU transfer time: 0.06s\n",
      "Mean heatmap computation time: 0.00s\n"
     ]
    },
    {
     "name": "stderr",
     "output_type": "stream",
     "text": [
      " 15%|█▌        | 48/313 [01:58<11:01,  2.50s/it]"
     ]
    },
    {
     "name": "stdout",
     "output_type": "stream",
     "text": [
      "Heap update time: 0.91s\n",
      "\n",
      "--- Batch 48 ---\n",
      "Processing model: ERM\n",
      "Encoding time: 0.00s\n",
      "Rearrange time: 0.00s\n",
      "CPU transfer time: 0.06s\n",
      "Mean heatmap computation time: 0.00s\n",
      "Heap update time: 1.42s\n",
      "Processing model: IRM\n",
      "Encoding time: 0.00s\n",
      "Rearrange time: 0.00s\n",
      "CPU transfer time: 0.06s\n",
      "Mean heatmap computation time: 0.00s\n"
     ]
    },
    {
     "name": "stderr",
     "output_type": "stream",
     "text": [
      " 16%|█▌        | 49/313 [02:00<10:56,  2.49s/it]"
     ]
    },
    {
     "name": "stdout",
     "output_type": "stream",
     "text": [
      "Heap update time: 0.90s\n",
      "\n",
      "--- Batch 49 ---\n",
      "Processing model: ERM\n",
      "Encoding time: 0.00s\n",
      "Rearrange time: 0.00s\n",
      "CPU transfer time: 0.06s\n",
      "Mean heatmap computation time: 0.00s\n",
      "Heap update time: 1.36s\n",
      "Processing model: IRM\n",
      "Encoding time: 0.00s\n",
      "Rearrange time: 0.00s\n",
      "CPU transfer time: 0.06s\n",
      "Mean heatmap computation time: 0.00s\n"
     ]
    },
    {
     "name": "stderr",
     "output_type": "stream",
     "text": [
      " 16%|█▌        | 50/313 [02:03<10:53,  2.49s/it]"
     ]
    },
    {
     "name": "stdout",
     "output_type": "stream",
     "text": [
      "Heap update time: 0.98s\n",
      "\n",
      "--- Batch 50 ---\n",
      "Processing model: ERM\n",
      "Encoding time: 0.00s\n",
      "Rearrange time: 0.00s\n",
      "CPU transfer time: 0.06s\n",
      "Mean heatmap computation time: 0.00s\n",
      "Heap update time: 1.36s\n",
      "Processing model: IRM\n",
      "Encoding time: 0.00s\n",
      "Rearrange time: 0.00s\n",
      "CPU transfer time: 0.06s\n",
      "Mean heatmap computation time: 0.00s\n"
     ]
    },
    {
     "name": "stderr",
     "output_type": "stream",
     "text": [
      " 16%|█▋        | 51/313 [02:05<10:43,  2.46s/it]"
     ]
    },
    {
     "name": "stdout",
     "output_type": "stream",
     "text": [
      "Heap update time: 0.89s\n",
      "\n",
      "--- Batch 51 ---\n",
      "Processing model: ERM\n",
      "Encoding time: 0.00s\n",
      "Rearrange time: 0.00s\n",
      "CPU transfer time: 0.06s\n",
      "Mean heatmap computation time: 0.00s\n",
      "Heap update time: 1.35s\n",
      "Processing model: IRM\n",
      "Encoding time: 0.00s\n",
      "Rearrange time: 0.00s\n",
      "CPU transfer time: 0.06s\n",
      "Mean heatmap computation time: 0.00s\n"
     ]
    },
    {
     "name": "stderr",
     "output_type": "stream",
     "text": [
      " 17%|█▋        | 52/313 [02:08<10:41,  2.46s/it]"
     ]
    },
    {
     "name": "stdout",
     "output_type": "stream",
     "text": [
      "Heap update time: 0.96s\n",
      "\n",
      "--- Batch 52 ---\n",
      "Processing model: ERM\n",
      "Encoding time: 0.00s\n",
      "Rearrange time: 0.00s\n",
      "CPU transfer time: 0.02s\n",
      "Mean heatmap computation time: 0.00s\n",
      "Heap update time: 1.43s\n",
      "Processing model: IRM\n",
      "Encoding time: 0.00s\n",
      "Rearrange time: 0.00s\n",
      "CPU transfer time: 0.06s\n",
      "Mean heatmap computation time: 0.00s\n"
     ]
    },
    {
     "name": "stderr",
     "output_type": "stream",
     "text": [
      " 17%|█▋        | 53/313 [02:10<10:33,  2.43s/it]"
     ]
    },
    {
     "name": "stdout",
     "output_type": "stream",
     "text": [
      "Heap update time: 0.85s\n",
      "\n",
      "--- Batch 53 ---\n",
      "Processing model: ERM\n",
      "Encoding time: 0.00s\n",
      "Rearrange time: 0.00s\n",
      "CPU transfer time: 0.06s\n",
      "Mean heatmap computation time: 0.00s\n",
      "Heap update time: 1.42s\n",
      "Processing model: IRM\n",
      "Encoding time: 0.00s\n",
      "Rearrange time: 0.00s\n",
      "CPU transfer time: 0.06s\n",
      "Mean heatmap computation time: 0.00s\n"
     ]
    },
    {
     "name": "stderr",
     "output_type": "stream",
     "text": [
      " 17%|█▋        | 54/313 [02:13<10:27,  2.42s/it]"
     ]
    },
    {
     "name": "stdout",
     "output_type": "stream",
     "text": [
      "Heap update time: 0.83s\n",
      "\n",
      "--- Batch 54 ---\n",
      "Processing model: ERM\n",
      "Encoding time: 0.00s\n",
      "Rearrange time: 0.00s\n",
      "CPU transfer time: 0.06s\n",
      "Mean heatmap computation time: 0.00s\n",
      "Heap update time: 1.43s\n",
      "Processing model: IRM\n",
      "Encoding time: 0.00s\n",
      "Rearrange time: 0.00s\n",
      "CPU transfer time: 0.06s\n",
      "Mean heatmap computation time: 0.00s\n"
     ]
    },
    {
     "name": "stderr",
     "output_type": "stream",
     "text": [
      " 18%|█▊        | 55/313 [02:15<10:28,  2.44s/it]"
     ]
    },
    {
     "name": "stdout",
     "output_type": "stream",
     "text": [
      "Heap update time: 0.89s\n",
      "\n",
      "--- Batch 55 ---\n",
      "Processing model: ERM\n",
      "Encoding time: 0.00s\n",
      "Rearrange time: 0.00s\n",
      "CPU transfer time: 0.06s\n",
      "Mean heatmap computation time: 0.00s\n",
      "Heap update time: 1.37s\n",
      "Processing model: IRM\n",
      "Encoding time: 0.00s\n",
      "Rearrange time: 0.00s\n",
      "CPU transfer time: 0.06s\n",
      "Mean heatmap computation time: 0.00s\n"
     ]
    },
    {
     "name": "stderr",
     "output_type": "stream",
     "text": [
      " 18%|█▊        | 56/313 [02:17<10:26,  2.44s/it]"
     ]
    },
    {
     "name": "stdout",
     "output_type": "stream",
     "text": [
      "Heap update time: 0.93s\n",
      "\n",
      "--- Batch 56 ---\n",
      "Processing model: ERM\n",
      "Encoding time: 0.00s\n",
      "Rearrange time: 0.00s\n",
      "CPU transfer time: 0.06s\n",
      "Mean heatmap computation time: 0.00s\n",
      "Heap update time: 1.42s\n",
      "Processing model: IRM\n",
      "Encoding time: 0.00s\n",
      "Rearrange time: 0.00s\n",
      "CPU transfer time: 0.06s\n",
      "Mean heatmap computation time: 0.00s\n"
     ]
    },
    {
     "name": "stderr",
     "output_type": "stream",
     "text": [
      " 18%|█▊        | 57/313 [02:20<10:30,  2.46s/it]"
     ]
    },
    {
     "name": "stdout",
     "output_type": "stream",
     "text": [
      "Heap update time: 0.95s\n",
      "\n",
      "--- Batch 57 ---\n",
      "Processing model: ERM\n",
      "Encoding time: 0.00s\n",
      "Rearrange time: 0.00s\n",
      "CPU transfer time: 0.06s\n",
      "Mean heatmap computation time: 0.00s\n",
      "Heap update time: 1.54s\n",
      "Processing model: IRM\n",
      "Encoding time: 0.00s\n",
      "Rearrange time: 0.00s\n",
      "CPU transfer time: 0.06s\n",
      "Mean heatmap computation time: 0.00s\n"
     ]
    },
    {
     "name": "stderr",
     "output_type": "stream",
     "text": [
      " 19%|█▊        | 58/313 [02:23<10:48,  2.54s/it]"
     ]
    },
    {
     "name": "stdout",
     "output_type": "stream",
     "text": [
      "Heap update time: 1.03s\n",
      "\n",
      "--- Batch 58 ---\n",
      "Processing model: ERM\n",
      "Encoding time: 0.00s\n",
      "Rearrange time: 0.00s\n",
      "CPU transfer time: 0.06s\n",
      "Mean heatmap computation time: 0.00s\n",
      "Heap update time: 1.55s\n",
      "Processing model: IRM\n",
      "Encoding time: 0.00s\n",
      "Rearrange time: 0.00s\n",
      "CPU transfer time: 0.06s\n",
      "Mean heatmap computation time: 0.00s\n"
     ]
    },
    {
     "name": "stderr",
     "output_type": "stream",
     "text": [
      " 19%|█▉        | 59/313 [02:25<10:43,  2.54s/it]"
     ]
    },
    {
     "name": "stdout",
     "output_type": "stream",
     "text": [
      "Heap update time: 0.82s\n",
      "\n",
      "--- Batch 59 ---\n",
      "Processing model: ERM\n",
      "Encoding time: 0.00s\n",
      "Rearrange time: 0.00s\n",
      "CPU transfer time: 0.02s\n",
      "Mean heatmap computation time: 0.00s\n",
      "Heap update time: 1.29s\n",
      "Processing model: IRM\n",
      "Encoding time: 0.00s\n",
      "Rearrange time: 0.00s\n",
      "CPU transfer time: 0.06s\n",
      "Mean heatmap computation time: 0.00s\n"
     ]
    },
    {
     "name": "stderr",
     "output_type": "stream",
     "text": [
      " 19%|█▉        | 60/313 [02:28<10:24,  2.47s/it]"
     ]
    },
    {
     "name": "stdout",
     "output_type": "stream",
     "text": [
      "Heap update time: 0.93s\n",
      "\n",
      "--- Batch 60 ---\n",
      "Processing model: ERM\n",
      "Encoding time: 0.00s\n",
      "Rearrange time: 0.00s\n",
      "CPU transfer time: 0.06s\n",
      "Mean heatmap computation time: 0.00s\n",
      "Heap update time: 1.43s\n",
      "Processing model: IRM\n",
      "Encoding time: 0.00s\n",
      "Rearrange time: 0.00s\n",
      "CPU transfer time: 0.06s\n",
      "Mean heatmap computation time: 0.00s\n"
     ]
    },
    {
     "name": "stderr",
     "output_type": "stream",
     "text": [
      " 19%|█▉        | 61/313 [02:30<10:23,  2.48s/it]"
     ]
    },
    {
     "name": "stdout",
     "output_type": "stream",
     "text": [
      "Heap update time: 0.91s\n",
      "\n",
      "--- Batch 61 ---\n",
      "Processing model: ERM\n",
      "Encoding time: 0.00s\n",
      "Rearrange time: 0.00s\n",
      "CPU transfer time: 0.06s\n",
      "Mean heatmap computation time: 0.00s\n",
      "Heap update time: 1.45s\n",
      "Processing model: IRM\n",
      "Encoding time: 0.00s\n",
      "Rearrange time: 0.00s\n",
      "CPU transfer time: 0.06s\n",
      "Mean heatmap computation time: 0.00s\n"
     ]
    },
    {
     "name": "stderr",
     "output_type": "stream",
     "text": [
      " 20%|█▉        | 62/313 [02:33<10:21,  2.47s/it]"
     ]
    },
    {
     "name": "stdout",
     "output_type": "stream",
     "text": [
      "Heap update time: 0.88s\n",
      "\n",
      "--- Batch 62 ---\n",
      "Processing model: ERM\n",
      "Encoding time: 0.00s\n",
      "Rearrange time: 0.00s\n",
      "CPU transfer time: 0.06s\n",
      "Mean heatmap computation time: 0.00s\n",
      "Heap update time: 1.42s\n",
      "Processing model: IRM\n",
      "Encoding time: 0.00s\n",
      "Rearrange time: 0.00s\n",
      "CPU transfer time: 0.06s\n",
      "Mean heatmap computation time: 0.00s\n"
     ]
    },
    {
     "name": "stderr",
     "output_type": "stream",
     "text": [
      " 20%|██        | 63/313 [02:35<10:15,  2.46s/it]"
     ]
    },
    {
     "name": "stdout",
     "output_type": "stream",
     "text": [
      "Heap update time: 0.86s\n",
      "\n",
      "--- Batch 63 ---\n",
      "Processing model: ERM\n",
      "Encoding time: 0.00s\n",
      "Rearrange time: 0.00s\n",
      "CPU transfer time: 0.06s\n",
      "Mean heatmap computation time: 0.00s\n",
      "Heap update time: 1.37s\n",
      "Processing model: IRM\n",
      "Encoding time: 0.00s\n",
      "Rearrange time: 0.00s\n",
      "CPU transfer time: 0.02s\n",
      "Mean heatmap computation time: 0.00s\n"
     ]
    },
    {
     "name": "stderr",
     "output_type": "stream",
     "text": [
      " 20%|██        | 64/313 [02:37<10:03,  2.42s/it]"
     ]
    },
    {
     "name": "stdout",
     "output_type": "stream",
     "text": [
      "Heap update time: 0.85s\n",
      "\n",
      "--- Batch 64 ---\n",
      "Processing model: ERM\n",
      "Encoding time: 0.00s\n",
      "Rearrange time: 0.00s\n",
      "CPU transfer time: 0.06s\n",
      "Mean heatmap computation time: 0.00s\n",
      "Heap update time: 1.40s\n",
      "Processing model: IRM\n",
      "Encoding time: 0.00s\n",
      "Rearrange time: 0.00s\n",
      "CPU transfer time: 0.06s\n",
      "Mean heatmap computation time: 0.00s\n"
     ]
    },
    {
     "name": "stderr",
     "output_type": "stream",
     "text": [
      " 21%|██        | 65/313 [02:40<10:04,  2.44s/it]"
     ]
    },
    {
     "name": "stdout",
     "output_type": "stream",
     "text": [
      "Heap update time: 0.93s\n",
      "\n",
      "--- Batch 65 ---\n",
      "Processing model: ERM\n",
      "Encoding time: 0.00s\n",
      "Rearrange time: 0.00s\n",
      "CPU transfer time: 0.06s\n",
      "Mean heatmap computation time: 0.00s\n",
      "Heap update time: 1.36s\n",
      "Processing model: IRM\n",
      "Encoding time: 0.00s\n",
      "Rearrange time: 0.00s\n",
      "CPU transfer time: 0.06s\n",
      "Mean heatmap computation time: 0.00s\n"
     ]
    },
    {
     "name": "stderr",
     "output_type": "stream",
     "text": [
      " 21%|██        | 66/313 [02:42<09:56,  2.42s/it]"
     ]
    },
    {
     "name": "stdout",
     "output_type": "stream",
     "text": [
      "Heap update time: 0.85s\n",
      "\n",
      "--- Batch 66 ---\n",
      "Processing model: ERM\n",
      "Encoding time: 0.00s\n",
      "Rearrange time: 0.00s\n",
      "CPU transfer time: 0.02s\n",
      "Mean heatmap computation time: 0.00s\n",
      "Heap update time: 1.29s\n",
      "Processing model: IRM\n",
      "Encoding time: 0.00s\n",
      "Rearrange time: 0.00s\n",
      "CPU transfer time: 0.06s\n",
      "Mean heatmap computation time: 0.00s\n"
     ]
    },
    {
     "name": "stderr",
     "output_type": "stream",
     "text": [
      " 21%|██▏       | 67/313 [02:44<09:45,  2.38s/it]"
     ]
    },
    {
     "name": "stdout",
     "output_type": "stream",
     "text": [
      "Heap update time: 0.91s\n",
      "\n",
      "--- Batch 67 ---\n",
      "Processing model: ERM\n",
      "Encoding time: 0.00s\n",
      "Rearrange time: 0.00s\n",
      "CPU transfer time: 0.06s\n",
      "Mean heatmap computation time: 0.00s\n",
      "Heap update time: 1.39s\n",
      "Processing model: IRM\n",
      "Encoding time: 0.00s\n",
      "Rearrange time: 0.00s\n",
      "CPU transfer time: 0.06s\n",
      "Mean heatmap computation time: 0.00s\n"
     ]
    },
    {
     "name": "stderr",
     "output_type": "stream",
     "text": [
      " 22%|██▏       | 68/313 [02:47<09:42,  2.38s/it]"
     ]
    },
    {
     "name": "stdout",
     "output_type": "stream",
     "text": [
      "Heap update time: 0.85s\n",
      "\n",
      "--- Batch 68 ---\n",
      "Processing model: ERM\n",
      "Encoding time: 0.00s\n",
      "Rearrange time: 0.00s\n",
      "CPU transfer time: 0.06s\n",
      "Mean heatmap computation time: 0.00s\n",
      "Heap update time: 1.34s\n",
      "Processing model: IRM\n",
      "Encoding time: 0.00s\n",
      "Rearrange time: 0.00s\n",
      "CPU transfer time: 0.06s\n",
      "Mean heatmap computation time: 0.00s\n"
     ]
    },
    {
     "name": "stderr",
     "output_type": "stream",
     "text": [
      " 22%|██▏       | 69/313 [02:49<09:40,  2.38s/it]"
     ]
    },
    {
     "name": "stdout",
     "output_type": "stream",
     "text": [
      "Heap update time: 0.90s\n",
      "\n",
      "--- Batch 69 ---\n",
      "Processing model: ERM\n",
      "Encoding time: 0.00s\n",
      "Rearrange time: 0.00s\n",
      "CPU transfer time: 0.02s\n",
      "Mean heatmap computation time: 0.00s\n",
      "Heap update time: 1.36s\n",
      "Processing model: IRM\n",
      "Encoding time: 0.00s\n",
      "Rearrange time: 0.00s\n",
      "CPU transfer time: 0.06s\n",
      "Mean heatmap computation time: 0.00s\n"
     ]
    },
    {
     "name": "stderr",
     "output_type": "stream",
     "text": [
      " 22%|██▏       | 70/313 [02:51<09:34,  2.37s/it]"
     ]
    },
    {
     "name": "stdout",
     "output_type": "stream",
     "text": [
      "Heap update time: 0.87s\n",
      "\n",
      "--- Batch 70 ---\n",
      "Processing model: ERM\n",
      "Encoding time: 0.00s\n",
      "Rearrange time: 0.00s\n",
      "CPU transfer time: 0.06s\n",
      "Mean heatmap computation time: 0.00s\n",
      "Heap update time: 1.48s\n",
      "Processing model: IRM\n",
      "Encoding time: 0.00s\n",
      "Rearrange time: 0.00s\n",
      "CPU transfer time: 0.06s\n",
      "Mean heatmap computation time: 0.00s\n"
     ]
    },
    {
     "name": "stderr",
     "output_type": "stream",
     "text": [
      " 23%|██▎       | 71/313 [02:54<09:47,  2.43s/it]"
     ]
    },
    {
     "name": "stdout",
     "output_type": "stream",
     "text": [
      "Heap update time: 0.94s\n",
      "\n",
      "--- Batch 71 ---\n",
      "Processing model: ERM\n",
      "Encoding time: 0.00s\n",
      "Rearrange time: 0.00s\n",
      "CPU transfer time: 0.06s\n",
      "Mean heatmap computation time: 0.00s\n",
      "Heap update time: 1.48s\n",
      "Processing model: IRM\n",
      "Encoding time: 0.00s\n",
      "Rearrange time: 0.00s\n",
      "CPU transfer time: 0.06s\n",
      "Mean heatmap computation time: 0.00s\n"
     ]
    },
    {
     "name": "stderr",
     "output_type": "stream",
     "text": [
      " 23%|██▎       | 72/313 [02:57<10:00,  2.49s/it]"
     ]
    },
    {
     "name": "stdout",
     "output_type": "stream",
     "text": [
      "Heap update time: 1.02s\n",
      "\n",
      "--- Batch 72 ---\n",
      "Processing model: ERM\n",
      "Encoding time: 0.00s\n",
      "Rearrange time: 0.00s\n",
      "CPU transfer time: 0.06s\n",
      "Mean heatmap computation time: 0.00s\n",
      "Heap update time: 1.36s\n",
      "Processing model: IRM\n",
      "Encoding time: 0.00s\n",
      "Rearrange time: 0.00s\n",
      "CPU transfer time: 0.06s\n",
      "Mean heatmap computation time: 0.00s\n"
     ]
    },
    {
     "name": "stderr",
     "output_type": "stream",
     "text": [
      " 23%|██▎       | 73/313 [02:59<09:47,  2.45s/it]"
     ]
    },
    {
     "name": "stdout",
     "output_type": "stream",
     "text": [
      "Heap update time: 0.83s\n",
      "\n",
      "--- Batch 73 ---\n",
      "Processing model: ERM\n",
      "Encoding time: 0.00s\n",
      "Rearrange time: 0.00s\n",
      "CPU transfer time: 0.02s\n",
      "Mean heatmap computation time: 0.00s\n",
      "Heap update time: 1.29s\n",
      "Processing model: IRM\n",
      "Encoding time: 0.00s\n",
      "Rearrange time: 0.00s\n",
      "CPU transfer time: 0.06s\n",
      "Mean heatmap computation time: 0.00s\n"
     ]
    },
    {
     "name": "stderr",
     "output_type": "stream",
     "text": [
      " 24%|██▎       | 74/313 [03:01<09:32,  2.40s/it]"
     ]
    },
    {
     "name": "stdout",
     "output_type": "stream",
     "text": [
      "Heap update time: 0.89s\n",
      "\n",
      "--- Batch 74 ---\n",
      "Processing model: ERM\n",
      "Encoding time: 0.00s\n",
      "Rearrange time: 0.00s\n",
      "CPU transfer time: 0.06s\n",
      "Mean heatmap computation time: 0.00s\n",
      "Heap update time: 1.45s\n",
      "Processing model: IRM\n",
      "Encoding time: 0.00s\n",
      "Rearrange time: 0.00s\n",
      "CPU transfer time: 0.06s\n",
      "Mean heatmap computation time: 0.00s\n"
     ]
    },
    {
     "name": "stderr",
     "output_type": "stream",
     "text": [
      " 24%|██▍       | 75/313 [03:04<09:39,  2.44s/it]"
     ]
    },
    {
     "name": "stdout",
     "output_type": "stream",
     "text": [
      "Heap update time: 0.93s\n",
      "\n",
      "--- Batch 75 ---\n",
      "Processing model: ERM\n",
      "Encoding time: 0.00s\n",
      "Rearrange time: 0.00s\n",
      "CPU transfer time: 0.06s\n",
      "Mean heatmap computation time: 0.00s\n",
      "Heap update time: 1.53s\n",
      "Processing model: IRM\n",
      "Encoding time: 0.00s\n",
      "Rearrange time: 0.00s\n",
      "CPU transfer time: 0.06s\n",
      "Mean heatmap computation time: 0.00s\n"
     ]
    },
    {
     "name": "stderr",
     "output_type": "stream",
     "text": [
      " 24%|██▍       | 76/313 [03:06<09:45,  2.47s/it]"
     ]
    },
    {
     "name": "stdout",
     "output_type": "stream",
     "text": [
      "Heap update time: 0.87s\n",
      "\n",
      "--- Batch 76 ---\n",
      "Processing model: ERM\n",
      "Encoding time: 0.00s\n",
      "Rearrange time: 0.00s\n",
      "CPU transfer time: 0.06s\n",
      "Mean heatmap computation time: 0.00s\n",
      "Heap update time: 1.41s\n",
      "Processing model: IRM\n",
      "Encoding time: 0.00s\n",
      "Rearrange time: 0.00s\n",
      "CPU transfer time: 0.06s\n",
      "Mean heatmap computation time: 0.00s\n"
     ]
    },
    {
     "name": "stderr",
     "output_type": "stream",
     "text": [
      " 25%|██▍       | 77/313 [03:09<09:42,  2.47s/it]"
     ]
    },
    {
     "name": "stdout",
     "output_type": "stream",
     "text": [
      "Heap update time: 0.90s\n",
      "\n",
      "--- Batch 77 ---\n",
      "Processing model: ERM\n",
      "Encoding time: 0.00s\n",
      "Rearrange time: 0.00s\n",
      "CPU transfer time: 0.06s\n",
      "Mean heatmap computation time: 0.00s\n",
      "Heap update time: 1.45s\n",
      "Processing model: IRM\n",
      "Encoding time: 0.00s\n",
      "Rearrange time: 0.00s\n",
      "CPU transfer time: 0.02s\n",
      "Mean heatmap computation time: 0.00s\n"
     ]
    },
    {
     "name": "stderr",
     "output_type": "stream",
     "text": [
      " 25%|██▍       | 78/313 [03:11<09:41,  2.47s/it]"
     ]
    },
    {
     "name": "stdout",
     "output_type": "stream",
     "text": [
      "Heap update time: 0.93s\n",
      "\n",
      "--- Batch 78 ---\n",
      "Processing model: ERM\n",
      "Encoding time: 0.00s\n",
      "Rearrange time: 0.00s\n",
      "CPU transfer time: 0.06s\n",
      "Mean heatmap computation time: 0.00s\n",
      "Heap update time: 1.39s\n",
      "Processing model: IRM\n",
      "Encoding time: 0.00s\n",
      "Rearrange time: 0.00s\n",
      "CPU transfer time: 0.06s\n",
      "Mean heatmap computation time: 0.00s\n"
     ]
    },
    {
     "name": "stderr",
     "output_type": "stream",
     "text": [
      " 25%|██▌       | 79/313 [03:14<09:41,  2.48s/it]"
     ]
    },
    {
     "name": "stdout",
     "output_type": "stream",
     "text": [
      "Heap update time: 0.98s\n",
      "\n",
      "--- Batch 79 ---\n",
      "Processing model: ERM\n",
      "Encoding time: 0.00s\n",
      "Rearrange time: 0.00s\n",
      "CPU transfer time: 0.06s\n",
      "Mean heatmap computation time: 0.00s\n",
      "Heap update time: 1.49s\n",
      "Processing model: IRM\n",
      "Encoding time: 0.00s\n",
      "Rearrange time: 0.00s\n",
      "CPU transfer time: 0.06s\n",
      "Mean heatmap computation time: 0.00s\n"
     ]
    },
    {
     "name": "stderr",
     "output_type": "stream",
     "text": [
      " 26%|██▌       | 80/313 [03:16<09:44,  2.51s/it]"
     ]
    },
    {
     "name": "stdout",
     "output_type": "stream",
     "text": [
      "Heap update time: 0.93s\n",
      "\n",
      "--- Batch 80 ---\n",
      "Processing model: ERM\n",
      "Encoding time: 0.00s\n",
      "Rearrange time: 0.00s\n",
      "CPU transfer time: 0.06s\n",
      "Mean heatmap computation time: 0.00s\n",
      "Heap update time: 1.45s\n",
      "Processing model: IRM\n",
      "Encoding time: 0.00s\n",
      "Rearrange time: 0.00s\n",
      "CPU transfer time: 0.06s\n",
      "Mean heatmap computation time: 0.00s\n"
     ]
    },
    {
     "name": "stderr",
     "output_type": "stream",
     "text": [
      " 26%|██▌       | 81/313 [03:19<09:39,  2.50s/it]"
     ]
    },
    {
     "name": "stdout",
     "output_type": "stream",
     "text": [
      "Heap update time: 0.87s\n",
      "\n",
      "--- Batch 81 ---\n",
      "Processing model: ERM\n",
      "Encoding time: 0.00s\n",
      "Rearrange time: 0.00s\n",
      "CPU transfer time: 0.06s\n",
      "Mean heatmap computation time: 0.00s\n",
      "Heap update time: 1.43s\n",
      "Processing model: IRM\n",
      "Encoding time: 0.00s\n",
      "Rearrange time: 0.00s\n",
      "CPU transfer time: 0.06s\n",
      "Mean heatmap computation time: 0.00s\n"
     ]
    },
    {
     "name": "stderr",
     "output_type": "stream",
     "text": [
      " 26%|██▌       | 82/313 [03:21<09:36,  2.49s/it]"
     ]
    },
    {
     "name": "stdout",
     "output_type": "stream",
     "text": [
      "Heap update time: 0.92s\n",
      "\n",
      "--- Batch 82 ---\n",
      "Processing model: ERM\n",
      "Encoding time: 0.00s\n",
      "Rearrange time: 0.00s\n",
      "CPU transfer time: 0.02s\n",
      "Mean heatmap computation time: 0.00s\n",
      "Heap update time: 1.47s\n",
      "Processing model: IRM\n",
      "Encoding time: 0.00s\n",
      "Rearrange time: 0.00s\n",
      "CPU transfer time: 0.06s\n",
      "Mean heatmap computation time: 0.00s\n"
     ]
    },
    {
     "name": "stderr",
     "output_type": "stream",
     "text": [
      " 27%|██▋       | 83/313 [03:24<09:30,  2.48s/it]"
     ]
    },
    {
     "name": "stdout",
     "output_type": "stream",
     "text": [
      "Heap update time: 0.87s\n",
      "\n",
      "--- Batch 83 ---\n",
      "Processing model: ERM\n",
      "Encoding time: 0.00s\n",
      "Rearrange time: 0.00s\n",
      "CPU transfer time: 0.06s\n",
      "Mean heatmap computation time: 0.00s\n",
      "Heap update time: 1.46s\n",
      "Processing model: IRM\n",
      "Encoding time: 0.00s\n",
      "Rearrange time: 0.00s\n",
      "CPU transfer time: 0.06s\n",
      "Mean heatmap computation time: 0.00s\n"
     ]
    },
    {
     "name": "stderr",
     "output_type": "stream",
     "text": [
      " 27%|██▋       | 84/313 [03:26<09:30,  2.49s/it]"
     ]
    },
    {
     "name": "stdout",
     "output_type": "stream",
     "text": [
      "Heap update time: 0.91s\n",
      "\n",
      "--- Batch 84 ---\n",
      "Processing model: ERM\n",
      "Encoding time: 0.00s\n",
      "Rearrange time: 0.00s\n",
      "CPU transfer time: 0.06s\n",
      "Mean heatmap computation time: 0.00s\n",
      "Heap update time: 1.41s\n",
      "Processing model: IRM\n",
      "Encoding time: 0.00s\n",
      "Rearrange time: 0.00s\n",
      "CPU transfer time: 0.06s\n",
      "Mean heatmap computation time: 0.00s\n"
     ]
    },
    {
     "name": "stderr",
     "output_type": "stream",
     "text": [
      " 27%|██▋       | 85/313 [03:29<09:27,  2.49s/it]"
     ]
    },
    {
     "name": "stdout",
     "output_type": "stream",
     "text": [
      "Heap update time: 0.94s\n",
      "\n",
      "--- Batch 85 ---\n",
      "Processing model: ERM\n",
      "Encoding time: 0.00s\n",
      "Rearrange time: 0.00s\n",
      "CPU transfer time: 0.06s\n",
      "Mean heatmap computation time: 0.00s\n",
      "Heap update time: 1.50s\n",
      "Processing model: IRM\n",
      "Encoding time: 0.00s\n",
      "Rearrange time: 0.00s\n",
      "CPU transfer time: 0.06s\n",
      "Mean heatmap computation time: 0.00s\n"
     ]
    },
    {
     "name": "stderr",
     "output_type": "stream",
     "text": [
      " 27%|██▋       | 86/313 [03:31<09:29,  2.51s/it]"
     ]
    },
    {
     "name": "stdout",
     "output_type": "stream",
     "text": [
      "Heap update time: 0.90s\n",
      "\n",
      "--- Batch 86 ---\n",
      "Processing model: ERM\n",
      "Encoding time: 0.00s\n",
      "Rearrange time: 0.00s\n",
      "CPU transfer time: 0.06s\n",
      "Mean heatmap computation time: 0.00s\n",
      "Heap update time: 1.46s\n",
      "Processing model: IRM\n",
      "Encoding time: 0.00s\n",
      "Rearrange time: 0.00s\n",
      "CPU transfer time: 0.06s\n",
      "Mean heatmap computation time: 0.00s\n"
     ]
    },
    {
     "name": "stderr",
     "output_type": "stream",
     "text": [
      " 28%|██▊       | 87/313 [03:34<09:27,  2.51s/it]"
     ]
    },
    {
     "name": "stdout",
     "output_type": "stream",
     "text": [
      "Heap update time: 0.91s\n",
      "\n",
      "--- Batch 87 ---\n",
      "Processing model: ERM\n",
      "Encoding time: 0.00s\n",
      "Rearrange time: 0.00s\n",
      "CPU transfer time: 0.02s\n",
      "Mean heatmap computation time: 0.00s\n",
      "Heap update time: 1.43s\n",
      "Processing model: IRM\n",
      "Encoding time: 0.00s\n",
      "Rearrange time: 0.00s\n",
      "CPU transfer time: 0.06s\n",
      "Mean heatmap computation time: 0.00s\n"
     ]
    },
    {
     "name": "stderr",
     "output_type": "stream",
     "text": [
      " 28%|██▊       | 88/313 [03:36<09:22,  2.50s/it]"
     ]
    },
    {
     "name": "stdout",
     "output_type": "stream",
     "text": [
      "Heap update time: 0.94s\n",
      "\n",
      "--- Batch 88 ---\n",
      "Processing model: ERM\n",
      "Encoding time: 0.00s\n",
      "Rearrange time: 0.00s\n",
      "CPU transfer time: 0.06s\n",
      "Mean heatmap computation time: 0.00s\n",
      "Heap update time: 1.37s\n",
      "Processing model: IRM\n",
      "Encoding time: 0.00s\n",
      "Rearrange time: 0.00s\n",
      "CPU transfer time: 0.06s\n",
      "Mean heatmap computation time: 0.00s\n"
     ]
    },
    {
     "name": "stderr",
     "output_type": "stream",
     "text": [
      " 28%|██▊       | 89/313 [03:39<09:12,  2.47s/it]"
     ]
    },
    {
     "name": "stdout",
     "output_type": "stream",
     "text": [
      "Heap update time: 0.88s\n",
      "\n",
      "--- Batch 89 ---\n",
      "Processing model: ERM\n",
      "Encoding time: 0.00s\n",
      "Rearrange time: 0.00s\n",
      "CPU transfer time: 0.06s\n",
      "Mean heatmap computation time: 0.00s\n",
      "Heap update time: 1.39s\n",
      "Processing model: IRM\n",
      "Encoding time: 0.00s\n",
      "Rearrange time: 0.00s\n",
      "CPU transfer time: 0.06s\n",
      "Mean heatmap computation time: 0.00s\n"
     ]
    },
    {
     "name": "stderr",
     "output_type": "stream",
     "text": [
      " 29%|██▉       | 90/313 [03:41<09:08,  2.46s/it]"
     ]
    },
    {
     "name": "stdout",
     "output_type": "stream",
     "text": [
      "Heap update time: 0.92s\n",
      "\n",
      "--- Batch 90 ---\n",
      "Processing model: ERM\n",
      "Encoding time: 0.00s\n",
      "Rearrange time: 0.00s\n",
      "CPU transfer time: 0.06s\n",
      "Mean heatmap computation time: 0.00s\n",
      "Heap update time: 1.40s\n",
      "Processing model: IRM\n",
      "Encoding time: 0.00s\n",
      "Rearrange time: 0.00s\n",
      "CPU transfer time: 0.06s\n",
      "Mean heatmap computation time: 0.00s\n"
     ]
    },
    {
     "name": "stderr",
     "output_type": "stream",
     "text": [
      " 29%|██▉       | 91/313 [03:44<09:04,  2.45s/it]"
     ]
    },
    {
     "name": "stdout",
     "output_type": "stream",
     "text": [
      "Heap update time: 0.88s\n",
      "\n",
      "--- Batch 91 ---\n",
      "Processing model: ERM\n",
      "Encoding time: 0.00s\n",
      "Rearrange time: 0.00s\n",
      "CPU transfer time: 0.06s\n",
      "Mean heatmap computation time: 0.00s\n",
      "Heap update time: 1.44s\n",
      "Processing model: IRM\n",
      "Encoding time: 0.00s\n",
      "Rearrange time: 0.00s\n",
      "CPU transfer time: 0.06s\n",
      "Mean heatmap computation time: 0.00s\n"
     ]
    },
    {
     "name": "stderr",
     "output_type": "stream",
     "text": [
      " 29%|██▉       | 92/313 [03:46<09:02,  2.46s/it]"
     ]
    },
    {
     "name": "stdout",
     "output_type": "stream",
     "text": [
      "Heap update time: 0.88s\n",
      "\n",
      "--- Batch 92 ---\n",
      "Processing model: ERM\n",
      "Encoding time: 0.00s\n",
      "Rearrange time: 0.00s\n",
      "CPU transfer time: 0.02s\n",
      "Mean heatmap computation time: 0.00s\n",
      "Heap update time: 1.42s\n",
      "Processing model: IRM\n",
      "Encoding time: 0.00s\n",
      "Rearrange time: 0.00s\n",
      "CPU transfer time: 0.06s\n",
      "Mean heatmap computation time: 0.00s\n"
     ]
    },
    {
     "name": "stderr",
     "output_type": "stream",
     "text": [
      " 30%|██▉       | 93/313 [03:49<08:57,  2.45s/it]"
     ]
    },
    {
     "name": "stdout",
     "output_type": "stream",
     "text": [
      "Heap update time: 0.90s\n",
      "\n",
      "--- Batch 93 ---\n",
      "Processing model: ERM\n",
      "Encoding time: 0.00s\n",
      "Rearrange time: 0.00s\n",
      "CPU transfer time: 0.06s\n",
      "Mean heatmap computation time: 0.00s\n",
      "Heap update time: 1.48s\n",
      "Processing model: IRM\n",
      "Encoding time: 0.00s\n",
      "Rearrange time: 0.00s\n",
      "CPU transfer time: 0.06s\n",
      "Mean heatmap computation time: 0.00s\n"
     ]
    },
    {
     "name": "stderr",
     "output_type": "stream",
     "text": [
      " 30%|███       | 94/313 [03:51<09:03,  2.48s/it]"
     ]
    },
    {
     "name": "stdout",
     "output_type": "stream",
     "text": [
      "Heap update time: 0.94s\n",
      "\n",
      "--- Batch 94 ---\n",
      "Processing model: ERM\n",
      "Encoding time: 0.00s\n",
      "Rearrange time: 0.00s\n",
      "CPU transfer time: 0.06s\n",
      "Mean heatmap computation time: 0.00s\n",
      "Heap update time: 1.34s\n",
      "Processing model: IRM\n",
      "Encoding time: 0.00s\n",
      "Rearrange time: 0.00s\n",
      "CPU transfer time: 0.02s\n",
      "Mean heatmap computation time: 0.00s\n"
     ]
    },
    {
     "name": "stderr",
     "output_type": "stream",
     "text": [
      " 30%|███       | 95/313 [03:54<08:55,  2.46s/it]"
     ]
    },
    {
     "name": "stdout",
     "output_type": "stream",
     "text": [
      "Heap update time: 0.95s\n",
      "\n",
      "--- Batch 95 ---\n",
      "Processing model: ERM\n",
      "Encoding time: 0.00s\n",
      "Rearrange time: 0.00s\n",
      "CPU transfer time: 0.06s\n",
      "Mean heatmap computation time: 0.00s\n",
      "Heap update time: 1.41s\n",
      "Processing model: IRM\n",
      "Encoding time: 0.00s\n",
      "Rearrange time: 0.00s\n",
      "CPU transfer time: 0.06s\n",
      "Mean heatmap computation time: 0.00s\n"
     ]
    },
    {
     "name": "stderr",
     "output_type": "stream",
     "text": [
      " 31%|███       | 96/313 [03:56<08:52,  2.45s/it]"
     ]
    },
    {
     "name": "stdout",
     "output_type": "stream",
     "text": [
      "Heap update time: 0.89s\n",
      "\n",
      "--- Batch 96 ---\n",
      "Processing model: ERM\n",
      "Encoding time: 0.00s\n",
      "Rearrange time: 0.00s\n",
      "CPU transfer time: 0.01s\n",
      "Mean heatmap computation time: 0.00s\n",
      "Heap update time: 1.02s\n",
      "Processing model: IRM\n",
      "Encoding time: 0.00s\n",
      "Rearrange time: 0.00s\n",
      "CPU transfer time: 0.01s\n",
      "Mean heatmap computation time: 0.00s\n"
     ]
    },
    {
     "name": "stderr",
     "output_type": "stream",
     "text": [
      " 31%|███       | 97/313 [03:58<08:18,  2.31s/it]"
     ]
    },
    {
     "name": "stdout",
     "output_type": "stream",
     "text": [
      "Heap update time: 0.92s\n",
      "\n",
      "--- Batch 97 ---\n",
      "Processing model: ERM\n",
      "Encoding time: 0.00s\n",
      "Rearrange time: 0.00s\n",
      "CPU transfer time: 0.06s\n",
      "Mean heatmap computation time: 0.00s\n",
      "Heap update time: 1.50s\n",
      "Processing model: IRM\n",
      "Encoding time: 0.00s\n",
      "Rearrange time: 0.00s\n",
      "CPU transfer time: 0.06s\n",
      "Mean heatmap computation time: 0.00s\n"
     ]
    },
    {
     "name": "stderr",
     "output_type": "stream",
     "text": [
      " 31%|███▏      | 98/313 [04:01<08:35,  2.40s/it]"
     ]
    },
    {
     "name": "stdout",
     "output_type": "stream",
     "text": [
      "Heap update time: 0.95s\n",
      "\n",
      "--- Batch 98 ---\n",
      "Processing model: ERM\n",
      "Encoding time: 0.00s\n",
      "Rearrange time: 0.00s\n",
      "CPU transfer time: 0.06s\n",
      "Mean heatmap computation time: 0.00s\n",
      "Heap update time: 1.52s\n",
      "Processing model: IRM\n",
      "Encoding time: 0.00s\n",
      "Rearrange time: 0.00s\n",
      "CPU transfer time: 0.06s\n",
      "Mean heatmap computation time: 0.00s\n"
     ]
    },
    {
     "name": "stderr",
     "output_type": "stream",
     "text": [
      " 32%|███▏      | 99/313 [04:03<08:49,  2.47s/it]"
     ]
    },
    {
     "name": "stdout",
     "output_type": "stream",
     "text": [
      "Heap update time: 0.99s\n",
      "\n",
      "--- Batch 99 ---\n",
      "Processing model: ERM\n",
      "Encoding time: 0.00s\n",
      "Rearrange time: 0.00s\n",
      "CPU transfer time: 0.06s\n",
      "Mean heatmap computation time: 0.00s\n",
      "Heap update time: 1.41s\n",
      "Processing model: IRM\n",
      "Encoding time: 0.00s\n",
      "Rearrange time: 0.00s\n",
      "CPU transfer time: 0.02s\n",
      "Mean heatmap computation time: 0.00s\n"
     ]
    },
    {
     "name": "stderr",
     "output_type": "stream",
     "text": [
      " 32%|███▏      | 100/313 [04:06<08:45,  2.46s/it]"
     ]
    },
    {
     "name": "stdout",
     "output_type": "stream",
     "text": [
      "Heap update time: 0.94s\n",
      "\n",
      "--- Batch 100 ---\n",
      "Processing model: ERM\n",
      "Encoding time: 0.00s\n",
      "Rearrange time: 0.00s\n",
      "CPU transfer time: 0.06s\n",
      "Mean heatmap computation time: 0.00s\n",
      "Heap update time: 1.65s\n",
      "Processing model: IRM\n",
      "Encoding time: 0.00s\n",
      "Rearrange time: 0.00s\n",
      "CPU transfer time: 0.06s\n",
      "Mean heatmap computation time: 0.00s\n"
     ]
    },
    {
     "name": "stderr",
     "output_type": "stream",
     "text": [
      " 32%|███▏      | 101/313 [04:08<08:58,  2.54s/it]"
     ]
    },
    {
     "name": "stdout",
     "output_type": "stream",
     "text": [
      "Heap update time: 0.92s\n",
      "\n",
      "--- Batch 101 ---\n",
      "Processing model: ERM\n",
      "Encoding time: 0.00s\n",
      "Rearrange time: 0.00s\n",
      "CPU transfer time: 0.06s\n",
      "Mean heatmap computation time: 0.00s\n",
      "Heap update time: 1.43s\n",
      "Processing model: IRM\n",
      "Encoding time: 0.00s\n",
      "Rearrange time: 0.00s\n",
      "CPU transfer time: 0.06s\n",
      "Mean heatmap computation time: 0.00s\n"
     ]
    },
    {
     "name": "stderr",
     "output_type": "stream",
     "text": [
      " 33%|███▎      | 102/313 [04:11<08:55,  2.54s/it]"
     ]
    },
    {
     "name": "stdout",
     "output_type": "stream",
     "text": [
      "Heap update time: 0.95s\n",
      "\n",
      "--- Batch 102 ---\n",
      "Processing model: ERM\n",
      "Encoding time: 0.00s\n",
      "Rearrange time: 0.00s\n",
      "CPU transfer time: 0.06s\n",
      "Mean heatmap computation time: 0.00s\n",
      "Heap update time: 1.52s\n",
      "Processing model: IRM\n",
      "Encoding time: 0.00s\n",
      "Rearrange time: 0.00s\n",
      "CPU transfer time: 0.06s\n",
      "Mean heatmap computation time: 0.00s\n"
     ]
    },
    {
     "name": "stderr",
     "output_type": "stream",
     "text": [
      " 33%|███▎      | 103/313 [04:13<08:56,  2.55s/it]"
     ]
    },
    {
     "name": "stdout",
     "output_type": "stream",
     "text": [
      "Heap update time: 0.94s\n",
      "\n",
      "--- Batch 103 ---\n",
      "Processing model: ERM\n",
      "Encoding time: 0.00s\n",
      "Rearrange time: 0.00s\n",
      "CPU transfer time: 0.06s\n",
      "Mean heatmap computation time: 0.00s\n",
      "Heap update time: 1.53s\n",
      "Processing model: IRM\n",
      "Encoding time: 0.00s\n",
      "Rearrange time: 0.00s\n",
      "CPU transfer time: 0.06s\n",
      "Mean heatmap computation time: 0.00s\n"
     ]
    },
    {
     "name": "stderr",
     "output_type": "stream",
     "text": [
      " 33%|███▎      | 104/313 [04:16<08:56,  2.57s/it]"
     ]
    },
    {
     "name": "stdout",
     "output_type": "stream",
     "text": [
      "Heap update time: 0.92s\n",
      "\n",
      "--- Batch 104 ---\n",
      "Processing model: ERM\n",
      "Encoding time: 0.00s\n",
      "Rearrange time: 0.00s\n",
      "CPU transfer time: 0.02s\n",
      "Mean heatmap computation time: 0.00s\n",
      "Heap update time: 1.48s\n",
      "Processing model: IRM\n",
      "Encoding time: 0.00s\n",
      "Rearrange time: 0.00s\n",
      "CPU transfer time: 0.06s\n",
      "Mean heatmap computation time: 0.00s\n"
     ]
    },
    {
     "name": "stderr",
     "output_type": "stream",
     "text": [
      " 34%|███▎      | 105/313 [04:19<08:49,  2.54s/it]"
     ]
    },
    {
     "name": "stdout",
     "output_type": "stream",
     "text": [
      "Heap update time: 0.92s\n",
      "\n",
      "--- Batch 105 ---\n",
      "Processing model: ERM\n",
      "Encoding time: 0.00s\n",
      "Rearrange time: 0.00s\n",
      "CPU transfer time: 0.06s\n",
      "Mean heatmap computation time: 0.00s\n",
      "Heap update time: 1.50s\n",
      "Processing model: IRM\n",
      "Encoding time: 0.00s\n",
      "Rearrange time: 0.00s\n",
      "CPU transfer time: 0.06s\n",
      "Mean heatmap computation time: 0.00s\n"
     ]
    },
    {
     "name": "stderr",
     "output_type": "stream",
     "text": [
      " 34%|███▍      | 106/313 [04:21<08:45,  2.54s/it]"
     ]
    },
    {
     "name": "stdout",
     "output_type": "stream",
     "text": [
      "Heap update time: 0.87s\n",
      "\n",
      "--- Batch 106 ---\n",
      "Processing model: ERM\n",
      "Encoding time: 0.00s\n",
      "Rearrange time: 0.00s\n",
      "CPU transfer time: 0.06s\n",
      "Mean heatmap computation time: 0.00s\n",
      "Heap update time: 1.58s\n",
      "Processing model: IRM\n",
      "Encoding time: 0.00s\n",
      "Rearrange time: 0.00s\n",
      "CPU transfer time: 0.06s\n",
      "Mean heatmap computation time: 0.00s\n"
     ]
    },
    {
     "name": "stderr",
     "output_type": "stream",
     "text": [
      " 34%|███▍      | 107/313 [04:24<08:50,  2.57s/it]"
     ]
    },
    {
     "name": "stdout",
     "output_type": "stream",
     "text": [
      "Heap update time: 0.93s\n",
      "\n",
      "--- Batch 107 ---\n",
      "Processing model: ERM\n",
      "Encoding time: 0.00s\n",
      "Rearrange time: 0.00s\n",
      "CPU transfer time: 0.02s\n",
      "Mean heatmap computation time: 0.00s\n",
      "Heap update time: 1.50s\n",
      "Processing model: IRM\n",
      "Encoding time: 0.00s\n",
      "Rearrange time: 0.00s\n",
      "CPU transfer time: 0.06s\n",
      "Mean heatmap computation time: 0.00s\n"
     ]
    },
    {
     "name": "stderr",
     "output_type": "stream",
     "text": [
      " 35%|███▍      | 108/313 [04:26<08:45,  2.56s/it]"
     ]
    },
    {
     "name": "stdout",
     "output_type": "stream",
     "text": [
      "Heap update time: 0.93s\n",
      "\n",
      "--- Batch 108 ---\n",
      "Processing model: ERM\n",
      "Encoding time: 0.00s\n",
      "Rearrange time: 0.00s\n",
      "CPU transfer time: 0.06s\n",
      "Mean heatmap computation time: 0.00s\n",
      "Heap update time: 1.42s\n",
      "Processing model: IRM\n",
      "Encoding time: 0.00s\n",
      "Rearrange time: 0.00s\n",
      "CPU transfer time: 0.06s\n",
      "Mean heatmap computation time: 0.00s\n"
     ]
    },
    {
     "name": "stderr",
     "output_type": "stream",
     "text": [
      " 35%|███▍      | 109/313 [04:29<08:45,  2.58s/it]"
     ]
    },
    {
     "name": "stdout",
     "output_type": "stream",
     "text": [
      "Heap update time: 1.04s\n",
      "\n",
      "--- Batch 109 ---\n",
      "Processing model: ERM\n",
      "Encoding time: 0.00s\n",
      "Rearrange time: 0.00s\n",
      "CPU transfer time: 0.06s\n",
      "Mean heatmap computation time: 0.00s\n",
      "Heap update time: 1.68s\n",
      "Processing model: IRM\n",
      "Encoding time: 0.00s\n",
      "Rearrange time: 0.00s\n",
      "CPU transfer time: 0.06s\n",
      "Mean heatmap computation time: 0.00s\n"
     ]
    },
    {
     "name": "stderr",
     "output_type": "stream",
     "text": [
      " 35%|███▌      | 110/313 [04:32<08:57,  2.65s/it]"
     ]
    },
    {
     "name": "stdout",
     "output_type": "stream",
     "text": [
      "Heap update time: 1.00s\n",
      "\n",
      "--- Batch 110 ---\n",
      "Processing model: ERM\n",
      "Encoding time: 0.00s\n",
      "Rearrange time: 0.00s\n",
      "CPU transfer time: 0.06s\n",
      "Mean heatmap computation time: 0.00s\n",
      "Heap update time: 1.65s\n",
      "Processing model: IRM\n",
      "Encoding time: 0.00s\n",
      "Rearrange time: 0.00s\n",
      "CPU transfer time: 0.06s\n",
      "Mean heatmap computation time: 0.00s\n"
     ]
    },
    {
     "name": "stderr",
     "output_type": "stream",
     "text": [
      " 35%|███▌      | 111/313 [04:34<08:57,  2.66s/it]"
     ]
    },
    {
     "name": "stdout",
     "output_type": "stream",
     "text": [
      "Heap update time: 0.90s\n",
      "\n",
      "--- Batch 111 ---\n",
      "Processing model: ERM\n",
      "Encoding time: 0.00s\n",
      "Rearrange time: 0.00s\n",
      "CPU transfer time: 0.06s\n",
      "Mean heatmap computation time: 0.00s\n",
      "Heap update time: 1.51s\n",
      "Processing model: IRM\n",
      "Encoding time: 0.00s\n",
      "Rearrange time: 0.00s\n",
      "CPU transfer time: 0.06s\n",
      "Mean heatmap computation time: 0.00s\n"
     ]
    },
    {
     "name": "stderr",
     "output_type": "stream",
     "text": [
      " 36%|███▌      | 112/313 [04:37<08:51,  2.65s/it]"
     ]
    },
    {
     "name": "stdout",
     "output_type": "stream",
     "text": [
      "Heap update time: 0.96s\n",
      "\n",
      "--- Batch 112 ---\n",
      "Processing model: ERM\n",
      "Encoding time: 0.00s\n",
      "Rearrange time: 0.00s\n",
      "CPU transfer time: 0.06s\n",
      "Mean heatmap computation time: 0.00s\n",
      "Heap update time: 1.69s\n",
      "Processing model: IRM\n",
      "Encoding time: 0.00s\n",
      "Rearrange time: 0.00s\n",
      "CPU transfer time: 0.06s\n",
      "Mean heatmap computation time: 0.00s\n"
     ]
    },
    {
     "name": "stderr",
     "output_type": "stream",
     "text": [
      " 36%|███▌      | 113/313 [04:40<08:57,  2.69s/it]"
     ]
    },
    {
     "name": "stdout",
     "output_type": "stream",
     "text": [
      "Heap update time: 0.95s\n",
      "\n",
      "--- Batch 113 ---\n",
      "Processing model: ERM\n",
      "Encoding time: 0.00s\n",
      "Rearrange time: 0.00s\n",
      "CPU transfer time: 0.06s\n",
      "Mean heatmap computation time: 0.00s\n",
      "Heap update time: 1.42s\n",
      "Processing model: IRM\n",
      "Encoding time: 0.00s\n",
      "Rearrange time: 0.00s\n",
      "CPU transfer time: 0.06s\n",
      "Mean heatmap computation time: 0.00s\n"
     ]
    },
    {
     "name": "stderr",
     "output_type": "stream",
     "text": [
      " 36%|███▋      | 114/313 [04:42<08:51,  2.67s/it]"
     ]
    },
    {
     "name": "stdout",
     "output_type": "stream",
     "text": [
      "Heap update time: 1.07s\n",
      "\n",
      "--- Batch 114 ---\n",
      "Processing model: ERM\n",
      "Encoding time: 0.00s\n",
      "Rearrange time: 0.00s\n",
      "CPU transfer time: 0.06s\n",
      "Mean heatmap computation time: 0.00s\n",
      "Heap update time: 1.63s\n",
      "Processing model: IRM\n",
      "Encoding time: 0.00s\n",
      "Rearrange time: 0.00s\n",
      "CPU transfer time: 0.06s\n",
      "Mean heatmap computation time: 0.00s\n"
     ]
    },
    {
     "name": "stderr",
     "output_type": "stream",
     "text": [
      " 37%|███▋      | 115/313 [04:45<08:53,  2.70s/it]"
     ]
    },
    {
     "name": "stdout",
     "output_type": "stream",
     "text": [
      "Heap update time: 0.98s\n",
      "\n",
      "--- Batch 115 ---\n",
      "Processing model: ERM\n",
      "Encoding time: 0.00s\n",
      "Rearrange time: 0.00s\n",
      "CPU transfer time: 0.06s\n",
      "Mean heatmap computation time: 0.00s\n",
      "Heap update time: 1.53s\n",
      "Processing model: IRM\n",
      "Encoding time: 0.00s\n",
      "Rearrange time: 0.00s\n",
      "CPU transfer time: 0.06s\n",
      "Mean heatmap computation time: 0.00s\n"
     ]
    },
    {
     "name": "stderr",
     "output_type": "stream",
     "text": [
      " 37%|███▋      | 116/313 [04:48<08:48,  2.68s/it]"
     ]
    },
    {
     "name": "stdout",
     "output_type": "stream",
     "text": [
      "Heap update time: 0.97s\n",
      "\n",
      "--- Batch 116 ---\n",
      "Processing model: ERM\n",
      "Encoding time: 0.00s\n",
      "Rearrange time: 0.00s\n",
      "CPU transfer time: 0.06s\n",
      "Mean heatmap computation time: 0.00s\n",
      "Heap update time: 1.68s\n",
      "Processing model: IRM\n",
      "Encoding time: 0.00s\n",
      "Rearrange time: 0.00s\n",
      "CPU transfer time: 0.06s\n",
      "Mean heatmap computation time: 0.00s\n"
     ]
    },
    {
     "name": "stderr",
     "output_type": "stream",
     "text": [
      " 37%|███▋      | 117/313 [04:51<08:54,  2.73s/it]"
     ]
    },
    {
     "name": "stdout",
     "output_type": "stream",
     "text": [
      "Heap update time: 1.02s\n",
      "\n",
      "--- Batch 117 ---\n",
      "Processing model: ERM\n",
      "Encoding time: 0.00s\n",
      "Rearrange time: 0.00s\n",
      "CPU transfer time: 0.06s\n",
      "Mean heatmap computation time: 0.00s\n",
      "Heap update time: 1.59s\n",
      "Processing model: IRM\n",
      "Encoding time: 0.00s\n",
      "Rearrange time: 0.00s\n",
      "CPU transfer time: 0.06s\n",
      "Mean heatmap computation time: 0.00s\n"
     ]
    },
    {
     "name": "stderr",
     "output_type": "stream",
     "text": [
      " 38%|███▊      | 118/313 [04:53<08:50,  2.72s/it]"
     ]
    },
    {
     "name": "stdout",
     "output_type": "stream",
     "text": [
      "Heap update time: 0.96s\n",
      "\n",
      "--- Batch 118 ---\n",
      "Processing model: ERM\n",
      "Encoding time: 0.00s\n",
      "Rearrange time: 0.00s\n",
      "CPU transfer time: 0.06s\n",
      "Mean heatmap computation time: 0.00s\n",
      "Heap update time: 1.42s\n",
      "Processing model: IRM\n",
      "Encoding time: 0.00s\n",
      "Rearrange time: 0.00s\n",
      "CPU transfer time: 0.06s\n",
      "Mean heatmap computation time: 0.00s\n"
     ]
    },
    {
     "name": "stderr",
     "output_type": "stream",
     "text": [
      " 38%|███▊      | 119/313 [04:56<08:31,  2.64s/it]"
     ]
    },
    {
     "name": "stdout",
     "output_type": "stream",
     "text": [
      "Heap update time: 0.88s\n",
      "\n",
      "--- Batch 119 ---\n",
      "Processing model: ERM\n",
      "Encoding time: 0.00s\n",
      "Rearrange time: 0.00s\n",
      "CPU transfer time: 0.02s\n",
      "Mean heatmap computation time: 0.00s\n",
      "Heap update time: 1.47s\n",
      "Processing model: IRM\n",
      "Encoding time: 0.00s\n",
      "Rearrange time: 0.00s\n",
      "CPU transfer time: 0.06s\n",
      "Mean heatmap computation time: 0.00s\n"
     ]
    },
    {
     "name": "stderr",
     "output_type": "stream",
     "text": [
      " 38%|███▊      | 120/313 [04:58<08:23,  2.61s/it]"
     ]
    },
    {
     "name": "stdout",
     "output_type": "stream",
     "text": [
      "Heap update time: 0.97s\n",
      "\n",
      "--- Batch 120 ---\n",
      "Processing model: ERM\n",
      "Encoding time: 0.00s\n",
      "Rearrange time: 0.00s\n",
      "CPU transfer time: 0.06s\n",
      "Mean heatmap computation time: 0.00s\n",
      "Heap update time: 1.50s\n",
      "Processing model: IRM\n",
      "Encoding time: 0.00s\n",
      "Rearrange time: 0.00s\n",
      "CPU transfer time: 0.06s\n",
      "Mean heatmap computation time: 0.00s\n"
     ]
    },
    {
     "name": "stderr",
     "output_type": "stream",
     "text": [
      " 39%|███▊      | 121/313 [05:01<08:20,  2.61s/it]"
     ]
    },
    {
     "name": "stdout",
     "output_type": "stream",
     "text": [
      "Heap update time: 0.96s\n",
      "\n",
      "--- Batch 121 ---\n",
      "Processing model: ERM\n",
      "Encoding time: 0.00s\n",
      "Rearrange time: 0.00s\n",
      "CPU transfer time: 0.06s\n",
      "Mean heatmap computation time: 0.00s\n",
      "Heap update time: 1.47s\n",
      "Processing model: IRM\n",
      "Encoding time: 0.00s\n",
      "Rearrange time: 0.00s\n",
      "CPU transfer time: 0.06s\n",
      "Mean heatmap computation time: 0.00s\n"
     ]
    },
    {
     "name": "stderr",
     "output_type": "stream",
     "text": [
      " 39%|███▉      | 122/313 [05:03<08:13,  2.58s/it]"
     ]
    },
    {
     "name": "stdout",
     "output_type": "stream",
     "text": [
      "Heap update time: 0.91s\n",
      "\n",
      "--- Batch 122 ---\n",
      "Processing model: ERM\n",
      "Encoding time: 0.00s\n",
      "Rearrange time: 0.00s\n",
      "CPU transfer time: 0.02s\n",
      "Mean heatmap computation time: 0.00s\n",
      "Heap update time: 1.30s\n",
      "Processing model: IRM\n",
      "Encoding time: 0.00s\n",
      "Rearrange time: 0.00s\n",
      "CPU transfer time: 0.06s\n",
      "Mean heatmap computation time: 0.00s\n"
     ]
    },
    {
     "name": "stderr",
     "output_type": "stream",
     "text": [
      " 39%|███▉      | 123/313 [05:06<07:58,  2.52s/it]"
     ]
    },
    {
     "name": "stdout",
     "output_type": "stream",
     "text": [
      "Heap update time: 0.96s\n",
      "\n",
      "--- Batch 123 ---\n",
      "Processing model: ERM\n",
      "Encoding time: 0.00s\n",
      "Rearrange time: 0.00s\n",
      "CPU transfer time: 0.06s\n",
      "Mean heatmap computation time: 0.00s\n",
      "Heap update time: 1.46s\n",
      "Processing model: IRM\n",
      "Encoding time: 0.00s\n",
      "Rearrange time: 0.00s\n",
      "CPU transfer time: 0.06s\n",
      "Mean heatmap computation time: 0.00s\n"
     ]
    },
    {
     "name": "stderr",
     "output_type": "stream",
     "text": [
      " 40%|███▉      | 124/313 [05:08<07:55,  2.51s/it]"
     ]
    },
    {
     "name": "stdout",
     "output_type": "stream",
     "text": [
      "Heap update time: 0.91s\n",
      "\n",
      "--- Batch 124 ---\n",
      "Processing model: ERM\n",
      "Encoding time: 0.00s\n",
      "Rearrange time: 0.00s\n",
      "CPU transfer time: 0.06s\n",
      "Mean heatmap computation time: 0.00s\n",
      "Heap update time: 1.57s\n",
      "Processing model: IRM\n",
      "Encoding time: 0.00s\n",
      "Rearrange time: 0.00s\n",
      "CPU transfer time: 0.06s\n",
      "Mean heatmap computation time: 0.00s\n"
     ]
    },
    {
     "name": "stderr",
     "output_type": "stream",
     "text": [
      " 40%|███▉      | 125/313 [05:11<07:57,  2.54s/it]"
     ]
    },
    {
     "name": "stdout",
     "output_type": "stream",
     "text": [
      "Heap update time: 0.88s\n",
      "\n",
      "--- Batch 125 ---\n",
      "Processing model: ERM\n",
      "Encoding time: 0.00s\n",
      "Rearrange time: 0.00s\n",
      "CPU transfer time: 0.06s\n",
      "Mean heatmap computation time: 0.00s\n",
      "Heap update time: 1.36s\n",
      "Processing model: IRM\n",
      "Encoding time: 0.00s\n",
      "Rearrange time: 0.00s\n",
      "CPU transfer time: 0.02s\n",
      "Mean heatmap computation time: 0.00s\n"
     ]
    },
    {
     "name": "stderr",
     "output_type": "stream",
     "text": [
      " 40%|████      | 126/313 [05:13<07:42,  2.47s/it]"
     ]
    },
    {
     "name": "stdout",
     "output_type": "stream",
     "text": [
      "Heap update time: 0.85s\n",
      "\n",
      "--- Batch 126 ---\n",
      "Processing model: ERM\n",
      "Encoding time: 0.00s\n",
      "Rearrange time: 0.00s\n",
      "CPU transfer time: 0.06s\n",
      "Mean heatmap computation time: 0.00s\n",
      "Heap update time: 1.52s\n",
      "Processing model: IRM\n",
      "Encoding time: 0.00s\n",
      "Rearrange time: 0.00s\n",
      "CPU transfer time: 0.06s\n",
      "Mean heatmap computation time: 0.00s\n"
     ]
    },
    {
     "name": "stderr",
     "output_type": "stream",
     "text": [
      " 41%|████      | 127/313 [05:16<07:47,  2.51s/it]"
     ]
    },
    {
     "name": "stdout",
     "output_type": "stream",
     "text": [
      "Heap update time: 0.94s\n",
      "\n",
      "--- Batch 127 ---\n",
      "Processing model: ERM\n",
      "Encoding time: 0.00s\n",
      "Rearrange time: 0.00s\n",
      "CPU transfer time: 0.06s\n",
      "Mean heatmap computation time: 0.00s\n",
      "Heap update time: 1.59s\n",
      "Processing model: IRM\n",
      "Encoding time: 0.00s\n",
      "Rearrange time: 0.00s\n",
      "CPU transfer time: 0.06s\n",
      "Mean heatmap computation time: 0.00s\n"
     ]
    },
    {
     "name": "stderr",
     "output_type": "stream",
     "text": [
      " 41%|████      | 128/313 [05:18<07:47,  2.53s/it]"
     ]
    },
    {
     "name": "stdout",
     "output_type": "stream",
     "text": [
      "Heap update time: 0.83s\n",
      "\n",
      "--- Batch 128 ---\n",
      "Processing model: ERM\n",
      "Encoding time: 0.00s\n",
      "Rearrange time: 0.00s\n",
      "CPU transfer time: 0.02s\n",
      "Mean heatmap computation time: 0.00s\n",
      "Heap update time: 1.37s\n",
      "Processing model: IRM\n",
      "Encoding time: 0.00s\n",
      "Rearrange time: 0.00s\n",
      "CPU transfer time: 0.06s\n",
      "Mean heatmap computation time: 0.00s\n"
     ]
    },
    {
     "name": "stderr",
     "output_type": "stream",
     "text": [
      " 41%|████      | 129/313 [05:21<07:38,  2.49s/it]"
     ]
    },
    {
     "name": "stdout",
     "output_type": "stream",
     "text": [
      "Heap update time: 0.94s\n",
      "\n",
      "--- Batch 129 ---\n",
      "Processing model: ERM\n",
      "Encoding time: 0.00s\n",
      "Rearrange time: 0.00s\n",
      "CPU transfer time: 0.06s\n",
      "Mean heatmap computation time: 0.00s\n",
      "Heap update time: 1.47s\n",
      "Processing model: IRM\n",
      "Encoding time: 0.00s\n",
      "Rearrange time: 0.00s\n",
      "CPU transfer time: 0.06s\n",
      "Mean heatmap computation time: 0.00s\n"
     ]
    },
    {
     "name": "stderr",
     "output_type": "stream",
     "text": [
      " 42%|████▏     | 130/313 [05:23<07:39,  2.51s/it]"
     ]
    },
    {
     "name": "stdout",
     "output_type": "stream",
     "text": [
      "Heap update time: 0.93s\n",
      "\n",
      "--- Batch 130 ---\n",
      "Processing model: ERM\n",
      "Encoding time: 0.00s\n",
      "Rearrange time: 0.00s\n",
      "CPU transfer time: 0.06s\n",
      "Mean heatmap computation time: 0.00s\n",
      "Heap update time: 1.55s\n",
      "Processing model: IRM\n",
      "Encoding time: 0.00s\n",
      "Rearrange time: 0.00s\n",
      "CPU transfer time: 0.06s\n",
      "Mean heatmap computation time: 0.00s\n"
     ]
    },
    {
     "name": "stderr",
     "output_type": "stream",
     "text": [
      " 42%|████▏     | 131/313 [05:26<07:48,  2.58s/it]"
     ]
    },
    {
     "name": "stdout",
     "output_type": "stream",
     "text": [
      "Heap update time: 1.04s\n",
      "\n",
      "--- Batch 131 ---\n",
      "Processing model: ERM\n",
      "Encoding time: 0.00s\n",
      "Rearrange time: 0.00s\n",
      "CPU transfer time: 0.06s\n",
      "Mean heatmap computation time: 0.00s\n",
      "Heap update time: 1.53s\n",
      "Processing model: IRM\n",
      "Encoding time: 0.00s\n",
      "Rearrange time: 0.00s\n",
      "CPU transfer time: 0.06s\n",
      "Mean heatmap computation time: 0.00s\n"
     ]
    },
    {
     "name": "stderr",
     "output_type": "stream",
     "text": [
      " 42%|████▏     | 132/313 [05:29<07:49,  2.59s/it]"
     ]
    },
    {
     "name": "stdout",
     "output_type": "stream",
     "text": [
      "Heap update time: 0.97s\n",
      "\n",
      "--- Batch 132 ---\n",
      "Processing model: ERM\n",
      "Encoding time: 0.00s\n",
      "Rearrange time: 0.00s\n",
      "CPU transfer time: 0.06s\n",
      "Mean heatmap computation time: 0.00s\n",
      "Heap update time: 1.49s\n",
      "Processing model: IRM\n",
      "Encoding time: 0.00s\n",
      "Rearrange time: 0.00s\n",
      "CPU transfer time: 0.06s\n",
      "Mean heatmap computation time: 0.00s\n"
     ]
    },
    {
     "name": "stderr",
     "output_type": "stream",
     "text": [
      " 42%|████▏     | 133/313 [05:31<07:43,  2.57s/it]"
     ]
    },
    {
     "name": "stdout",
     "output_type": "stream",
     "text": [
      "Heap update time: 0.89s\n",
      "\n",
      "--- Batch 133 ---\n",
      "Processing model: ERM\n",
      "Encoding time: 0.00s\n",
      "Rearrange time: 0.00s\n",
      "CPU transfer time: 0.06s\n",
      "Mean heatmap computation time: 0.00s\n",
      "Heap update time: 1.37s\n",
      "Processing model: IRM\n",
      "Encoding time: 0.00s\n",
      "Rearrange time: 0.00s\n",
      "CPU transfer time: 0.02s\n",
      "Mean heatmap computation time: 0.00s\n"
     ]
    },
    {
     "name": "stderr",
     "output_type": "stream",
     "text": [
      " 43%|████▎     | 134/313 [05:34<07:33,  2.53s/it]"
     ]
    },
    {
     "name": "stdout",
     "output_type": "stream",
     "text": [
      "Heap update time: 0.96s\n",
      "\n",
      "--- Batch 134 ---\n",
      "Processing model: ERM\n",
      "Encoding time: 0.00s\n",
      "Rearrange time: 0.00s\n",
      "CPU transfer time: 0.06s\n",
      "Mean heatmap computation time: 0.00s\n",
      "Heap update time: 1.54s\n",
      "Processing model: IRM\n",
      "Encoding time: 0.00s\n",
      "Rearrange time: 0.00s\n",
      "CPU transfer time: 0.06s\n",
      "Mean heatmap computation time: 0.00s\n"
     ]
    },
    {
     "name": "stderr",
     "output_type": "stream",
     "text": [
      " 43%|████▎     | 135/313 [05:36<07:38,  2.58s/it]"
     ]
    },
    {
     "name": "stdout",
     "output_type": "stream",
     "text": [
      "Heap update time: 1.00s\n",
      "\n",
      "--- Batch 135 ---\n",
      "Processing model: ERM\n",
      "Encoding time: 0.00s\n",
      "Rearrange time: 0.00s\n",
      "CPU transfer time: 0.06s\n",
      "Mean heatmap computation time: 0.00s\n",
      "Heap update time: 1.53s\n",
      "Processing model: IRM\n",
      "Encoding time: 0.00s\n",
      "Rearrange time: 0.00s\n",
      "CPU transfer time: 0.06s\n",
      "Mean heatmap computation time: 0.00s\n"
     ]
    },
    {
     "name": "stderr",
     "output_type": "stream",
     "text": [
      " 43%|████▎     | 136/313 [05:39<07:40,  2.60s/it]"
     ]
    },
    {
     "name": "stdout",
     "output_type": "stream",
     "text": [
      "Heap update time: 0.98s\n",
      "\n",
      "--- Batch 136 ---\n",
      "Processing model: ERM\n",
      "Encoding time: 0.00s\n",
      "Rearrange time: 0.00s\n",
      "CPU transfer time: 0.06s\n",
      "Mean heatmap computation time: 0.00s\n",
      "Heap update time: 1.47s\n",
      "Processing model: IRM\n",
      "Encoding time: 0.00s\n",
      "Rearrange time: 0.00s\n",
      "CPU transfer time: 0.06s\n",
      "Mean heatmap computation time: 0.00s\n"
     ]
    },
    {
     "name": "stderr",
     "output_type": "stream",
     "text": [
      " 44%|████▍     | 137/313 [05:42<07:36,  2.59s/it]"
     ]
    },
    {
     "name": "stdout",
     "output_type": "stream",
     "text": [
      "Heap update time: 0.95s\n",
      "\n",
      "--- Batch 137 ---\n",
      "Processing model: ERM\n",
      "Encoding time: 0.00s\n",
      "Rearrange time: 0.00s\n",
      "CPU transfer time: 0.06s\n",
      "Mean heatmap computation time: 0.00s\n",
      "Heap update time: 1.40s\n",
      "Processing model: IRM\n",
      "Encoding time: 0.00s\n",
      "Rearrange time: 0.00s\n",
      "CPU transfer time: 0.06s\n",
      "Mean heatmap computation time: 0.00s\n"
     ]
    },
    {
     "name": "stderr",
     "output_type": "stream",
     "text": [
      " 44%|████▍     | 138/313 [05:44<07:25,  2.55s/it]"
     ]
    },
    {
     "name": "stdout",
     "output_type": "stream",
     "text": [
      "Heap update time: 0.89s\n",
      "\n",
      "--- Batch 138 ---\n",
      "Processing model: ERM\n",
      "Encoding time: 0.00s\n",
      "Rearrange time: 0.00s\n",
      "CPU transfer time: 0.06s\n",
      "Mean heatmap computation time: 0.00s\n",
      "Heap update time: 1.40s\n",
      "Processing model: IRM\n",
      "Encoding time: 0.00s\n",
      "Rearrange time: 0.00s\n",
      "CPU transfer time: 0.06s\n",
      "Mean heatmap computation time: 0.00s\n"
     ]
    },
    {
     "name": "stderr",
     "output_type": "stream",
     "text": [
      " 44%|████▍     | 139/313 [05:47<07:19,  2.53s/it]"
     ]
    },
    {
     "name": "stdout",
     "output_type": "stream",
     "text": [
      "Heap update time: 0.93s\n",
      "\n",
      "--- Batch 139 ---\n",
      "Processing model: ERM\n",
      "Encoding time: 0.00s\n",
      "Rearrange time: 0.00s\n",
      "CPU transfer time: 0.02s\n",
      "Mean heatmap computation time: 0.00s\n",
      "Heap update time: 1.52s\n",
      "Processing model: IRM\n",
      "Encoding time: 0.00s\n",
      "Rearrange time: 0.00s\n",
      "CPU transfer time: 0.06s\n",
      "Mean heatmap computation time: 0.00s\n"
     ]
    },
    {
     "name": "stderr",
     "output_type": "stream",
     "text": [
      " 45%|████▍     | 140/313 [05:49<07:16,  2.53s/it]"
     ]
    },
    {
     "name": "stdout",
     "output_type": "stream",
     "text": [
      "Heap update time: 0.90s\n",
      "\n",
      "--- Batch 140 ---\n",
      "Processing model: ERM\n",
      "Encoding time: 0.00s\n",
      "Rearrange time: 0.00s\n",
      "CPU transfer time: 0.06s\n",
      "Mean heatmap computation time: 0.00s\n",
      "Heap update time: 1.40s\n",
      "Processing model: IRM\n",
      "Encoding time: 0.00s\n",
      "Rearrange time: 0.00s\n",
      "CPU transfer time: 0.06s\n",
      "Mean heatmap computation time: 0.00s\n"
     ]
    },
    {
     "name": "stderr",
     "output_type": "stream",
     "text": [
      " 45%|████▌     | 141/313 [05:51<07:07,  2.48s/it]"
     ]
    },
    {
     "name": "stdout",
     "output_type": "stream",
     "text": [
      "Heap update time: 0.85s\n",
      "\n",
      "--- Batch 141 ---\n",
      "Processing model: ERM\n",
      "Encoding time: 0.00s\n",
      "Rearrange time: 0.00s\n",
      "CPU transfer time: 0.06s\n",
      "Mean heatmap computation time: 0.00s\n",
      "Heap update time: 1.43s\n",
      "Processing model: IRM\n",
      "Encoding time: 0.00s\n",
      "Rearrange time: 0.00s\n",
      "CPU transfer time: 0.02s\n",
      "Mean heatmap computation time: 0.00s\n"
     ]
    },
    {
     "name": "stderr",
     "output_type": "stream",
     "text": [
      " 45%|████▌     | 142/313 [05:54<07:06,  2.50s/it]"
     ]
    },
    {
     "name": "stdout",
     "output_type": "stream",
     "text": [
      "Heap update time: 0.98s\n",
      "\n",
      "--- Batch 142 ---\n",
      "Processing model: ERM\n",
      "Encoding time: 0.00s\n",
      "Rearrange time: 0.00s\n",
      "CPU transfer time: 0.06s\n",
      "Mean heatmap computation time: 0.00s\n",
      "Heap update time: 1.50s\n",
      "Processing model: IRM\n",
      "Encoding time: 0.00s\n",
      "Rearrange time: 0.00s\n",
      "CPU transfer time: 0.06s\n",
      "Mean heatmap computation time: 0.00s\n"
     ]
    },
    {
     "name": "stderr",
     "output_type": "stream",
     "text": [
      " 46%|████▌     | 143/313 [05:57<07:07,  2.51s/it]"
     ]
    },
    {
     "name": "stdout",
     "output_type": "stream",
     "text": [
      "Heap update time: 0.91s\n",
      "\n",
      "--- Batch 143 ---\n",
      "Processing model: ERM\n",
      "Encoding time: 0.00s\n",
      "Rearrange time: 0.00s\n",
      "CPU transfer time: 0.06s\n",
      "Mean heatmap computation time: 0.00s\n",
      "Heap update time: 1.52s\n",
      "Processing model: IRM\n",
      "Encoding time: 0.00s\n",
      "Rearrange time: 0.00s\n",
      "CPU transfer time: 0.06s\n",
      "Mean heatmap computation time: 0.00s\n"
     ]
    },
    {
     "name": "stderr",
     "output_type": "stream",
     "text": [
      " 46%|████▌     | 144/313 [05:59<07:07,  2.53s/it]"
     ]
    },
    {
     "name": "stdout",
     "output_type": "stream",
     "text": [
      "Heap update time: 0.90s\n",
      "\n",
      "--- Batch 144 ---\n",
      "Processing model: ERM\n",
      "Encoding time: 0.00s\n",
      "Rearrange time: 0.00s\n",
      "CPU transfer time: 0.06s\n",
      "Mean heatmap computation time: 0.00s\n",
      "Heap update time: 1.49s\n",
      "Processing model: IRM\n",
      "Encoding time: 0.00s\n",
      "Rearrange time: 0.00s\n",
      "CPU transfer time: 0.06s\n",
      "Mean heatmap computation time: 0.00s\n"
     ]
    },
    {
     "name": "stderr",
     "output_type": "stream",
     "text": [
      " 46%|████▋     | 145/313 [06:02<07:05,  2.53s/it]"
     ]
    },
    {
     "name": "stdout",
     "output_type": "stream",
     "text": [
      "Heap update time: 0.90s\n",
      "\n",
      "--- Batch 145 ---\n",
      "Processing model: ERM\n",
      "Encoding time: 0.00s\n",
      "Rearrange time: 0.00s\n",
      "CPU transfer time: 0.02s\n",
      "Mean heatmap computation time: 0.00s\n",
      "Heap update time: 1.40s\n",
      "Processing model: IRM\n",
      "Encoding time: 0.00s\n",
      "Rearrange time: 0.00s\n",
      "CPU transfer time: 0.06s\n",
      "Mean heatmap computation time: 0.00s\n"
     ]
    },
    {
     "name": "stderr",
     "output_type": "stream",
     "text": [
      " 47%|████▋     | 146/313 [06:04<06:56,  2.50s/it]"
     ]
    },
    {
     "name": "stdout",
     "output_type": "stream",
     "text": [
      "Heap update time: 0.91s\n",
      "\n",
      "--- Batch 146 ---\n",
      "Processing model: ERM\n",
      "Encoding time: 0.00s\n",
      "Rearrange time: 0.00s\n",
      "CPU transfer time: 0.06s\n",
      "Mean heatmap computation time: 0.00s\n",
      "Heap update time: 1.47s\n",
      "Processing model: IRM\n",
      "Encoding time: 0.00s\n",
      "Rearrange time: 0.00s\n",
      "CPU transfer time: 0.06s\n",
      "Mean heatmap computation time: 0.00s\n"
     ]
    },
    {
     "name": "stderr",
     "output_type": "stream",
     "text": [
      " 47%|████▋     | 147/313 [06:07<06:55,  2.50s/it]"
     ]
    },
    {
     "name": "stdout",
     "output_type": "stream",
     "text": [
      "Heap update time: 0.90s\n",
      "\n",
      "--- Batch 147 ---\n",
      "Processing model: ERM\n",
      "Encoding time: 0.00s\n",
      "Rearrange time: 0.00s\n",
      "CPU transfer time: 0.06s\n",
      "Mean heatmap computation time: 0.00s\n",
      "Heap update time: 1.49s\n",
      "Processing model: IRM\n",
      "Encoding time: 0.00s\n",
      "Rearrange time: 0.00s\n",
      "CPU transfer time: 0.06s\n",
      "Mean heatmap computation time: 0.00s\n"
     ]
    },
    {
     "name": "stderr",
     "output_type": "stream",
     "text": [
      " 47%|████▋     | 148/313 [06:09<06:57,  2.53s/it]"
     ]
    },
    {
     "name": "stdout",
     "output_type": "stream",
     "text": [
      "Heap update time: 0.96s\n",
      "\n",
      "--- Batch 148 ---\n",
      "Processing model: ERM\n",
      "Encoding time: 0.00s\n",
      "Rearrange time: 0.00s\n",
      "CPU transfer time: 0.06s\n",
      "Mean heatmap computation time: 0.00s\n",
      "Heap update time: 1.52s\n",
      "Processing model: IRM\n",
      "Encoding time: 0.00s\n",
      "Rearrange time: 0.00s\n",
      "CPU transfer time: 0.06s\n",
      "Mean heatmap computation time: 0.00s\n"
     ]
    },
    {
     "name": "stderr",
     "output_type": "stream",
     "text": [
      " 48%|████▊     | 149/313 [06:12<06:59,  2.56s/it]"
     ]
    },
    {
     "name": "stdout",
     "output_type": "stream",
     "text": [
      "Heap update time: 0.96s\n",
      "\n",
      "--- Batch 149 ---\n",
      "Processing model: ERM\n",
      "Encoding time: 0.00s\n",
      "Rearrange time: 0.00s\n",
      "CPU transfer time: 0.06s\n",
      "Mean heatmap computation time: 0.00s\n",
      "Heap update time: 1.48s\n",
      "Processing model: IRM\n",
      "Encoding time: 0.00s\n",
      "Rearrange time: 0.00s\n",
      "CPU transfer time: 0.06s\n",
      "Mean heatmap computation time: 0.00s\n"
     ]
    },
    {
     "name": "stderr",
     "output_type": "stream",
     "text": [
      " 48%|████▊     | 150/313 [06:14<06:58,  2.57s/it]"
     ]
    },
    {
     "name": "stdout",
     "output_type": "stream",
     "text": [
      "Heap update time: 0.95s\n",
      "\n",
      "--- Batch 150 ---\n",
      "Processing model: ERM\n",
      "Encoding time: 0.00s\n",
      "Rearrange time: 0.00s\n",
      "CPU transfer time: 0.06s\n",
      "Mean heatmap computation time: 0.00s\n",
      "Heap update time: 1.49s\n",
      "Processing model: IRM\n",
      "Encoding time: 0.00s\n",
      "Rearrange time: 0.00s\n",
      "CPU transfer time: 0.06s\n",
      "Mean heatmap computation time: 0.00s\n"
     ]
    },
    {
     "name": "stderr",
     "output_type": "stream",
     "text": [
      " 48%|████▊     | 151/313 [06:17<06:59,  2.59s/it]"
     ]
    },
    {
     "name": "stdout",
     "output_type": "stream",
     "text": [
      "Heap update time: 1.00s\n",
      "\n",
      "--- Batch 151 ---\n",
      "Processing model: ERM\n",
      "Encoding time: 0.00s\n",
      "Rearrange time: 0.00s\n",
      "CPU transfer time: 0.06s\n",
      "Mean heatmap computation time: 0.00s\n",
      "Heap update time: 1.48s\n",
      "Processing model: IRM\n",
      "Encoding time: 0.00s\n",
      "Rearrange time: 0.00s\n",
      "CPU transfer time: 0.06s\n",
      "Mean heatmap computation time: 0.00s\n"
     ]
    },
    {
     "name": "stderr",
     "output_type": "stream",
     "text": [
      " 49%|████▊     | 152/313 [06:20<07:01,  2.62s/it]"
     ]
    },
    {
     "name": "stdout",
     "output_type": "stream",
     "text": [
      "Heap update time: 1.06s\n",
      "\n",
      "--- Batch 152 ---\n",
      "Processing model: ERM\n",
      "Encoding time: 0.00s\n",
      "Rearrange time: 0.00s\n",
      "CPU transfer time: 0.06s\n",
      "Mean heatmap computation time: 0.00s\n",
      "Heap update time: 1.48s\n",
      "Processing model: IRM\n",
      "Encoding time: 0.00s\n",
      "Rearrange time: 0.00s\n",
      "CPU transfer time: 0.02s\n",
      "Mean heatmap computation time: 0.00s\n"
     ]
    },
    {
     "name": "stderr",
     "output_type": "stream",
     "text": [
      " 49%|████▉     | 153/313 [06:22<06:55,  2.59s/it]"
     ]
    },
    {
     "name": "stdout",
     "output_type": "stream",
     "text": [
      "Heap update time: 0.95s\n",
      "\n",
      "--- Batch 153 ---\n",
      "Processing model: ERM\n",
      "Encoding time: 0.00s\n",
      "Rearrange time: 0.00s\n",
      "CPU transfer time: 0.06s\n",
      "Mean heatmap computation time: 0.00s\n",
      "Heap update time: 1.41s\n",
      "Processing model: IRM\n",
      "Encoding time: 0.00s\n",
      "Rearrange time: 0.00s\n",
      "CPU transfer time: 0.06s\n",
      "Mean heatmap computation time: 0.00s\n"
     ]
    },
    {
     "name": "stderr",
     "output_type": "stream",
     "text": [
      " 49%|████▉     | 154/313 [06:25<06:48,  2.57s/it]"
     ]
    },
    {
     "name": "stdout",
     "output_type": "stream",
     "text": [
      "Heap update time: 0.94s\n",
      "\n",
      "--- Batch 154 ---\n",
      "Processing model: ERM\n",
      "Encoding time: 0.00s\n",
      "Rearrange time: 0.00s\n",
      "CPU transfer time: 0.06s\n",
      "Mean heatmap computation time: 0.00s\n",
      "Heap update time: 1.45s\n",
      "Processing model: IRM\n",
      "Encoding time: 0.00s\n",
      "Rearrange time: 0.00s\n",
      "CPU transfer time: 0.06s\n",
      "Mean heatmap computation time: 0.00s\n"
     ]
    },
    {
     "name": "stderr",
     "output_type": "stream",
     "text": [
      " 50%|████▉     | 155/313 [06:27<06:41,  2.54s/it]"
     ]
    },
    {
     "name": "stdout",
     "output_type": "stream",
     "text": [
      "Heap update time: 0.87s\n",
      "\n",
      "--- Batch 155 ---\n",
      "Processing model: ERM\n",
      "Encoding time: 0.00s\n",
      "Rearrange time: 0.00s\n",
      "CPU transfer time: 0.06s\n",
      "Mean heatmap computation time: 0.00s\n",
      "Heap update time: 1.40s\n",
      "Processing model: IRM\n",
      "Encoding time: 0.00s\n",
      "Rearrange time: 0.00s\n",
      "CPU transfer time: 0.02s\n",
      "Mean heatmap computation time: 0.00s\n"
     ]
    },
    {
     "name": "stderr",
     "output_type": "stream",
     "text": [
      " 50%|████▉     | 156/313 [06:30<06:34,  2.51s/it]"
     ]
    },
    {
     "name": "stdout",
     "output_type": "stream",
     "text": [
      "Heap update time: 0.94s\n",
      "\n",
      "--- Batch 156 ---\n",
      "Processing model: ERM\n",
      "Encoding time: 0.00s\n",
      "Rearrange time: 0.00s\n",
      "CPU transfer time: 0.06s\n",
      "Mean heatmap computation time: 0.00s\n",
      "Heap update time: 1.44s\n",
      "Processing model: IRM\n",
      "Encoding time: 0.00s\n",
      "Rearrange time: 0.00s\n",
      "CPU transfer time: 0.06s\n",
      "Mean heatmap computation time: 0.00s\n"
     ]
    },
    {
     "name": "stderr",
     "output_type": "stream",
     "text": [
      " 50%|█████     | 157/313 [06:32<06:32,  2.51s/it]"
     ]
    },
    {
     "name": "stdout",
     "output_type": "stream",
     "text": [
      "Heap update time: 0.92s\n",
      "\n",
      "--- Batch 157 ---\n",
      "Processing model: ERM\n",
      "Encoding time: 0.00s\n",
      "Rearrange time: 0.00s\n",
      "CPU transfer time: 0.06s\n",
      "Mean heatmap computation time: 0.00s\n",
      "Heap update time: 1.42s\n",
      "Processing model: IRM\n",
      "Encoding time: 0.00s\n",
      "Rearrange time: 0.00s\n",
      "CPU transfer time: 0.06s\n",
      "Mean heatmap computation time: 0.00s\n"
     ]
    },
    {
     "name": "stderr",
     "output_type": "stream",
     "text": [
      " 50%|█████     | 158/313 [06:35<06:28,  2.51s/it]"
     ]
    },
    {
     "name": "stdout",
     "output_type": "stream",
     "text": [
      "Heap update time: 0.91s\n",
      "\n",
      "--- Batch 158 ---\n",
      "Processing model: ERM\n",
      "Encoding time: 0.00s\n",
      "Rearrange time: 0.00s\n",
      "CPU transfer time: 0.06s\n",
      "Mean heatmap computation time: 0.00s\n",
      "Heap update time: 1.40s\n",
      "Processing model: IRM\n",
      "Encoding time: 0.00s\n",
      "Rearrange time: 0.00s\n",
      "CPU transfer time: 0.06s\n",
      "Mean heatmap computation time: 0.00s\n"
     ]
    },
    {
     "name": "stderr",
     "output_type": "stream",
     "text": [
      " 51%|█████     | 159/313 [06:37<06:25,  2.50s/it]"
     ]
    },
    {
     "name": "stdout",
     "output_type": "stream",
     "text": [
      "Heap update time: 0.94s\n",
      "\n",
      "--- Batch 159 ---\n",
      "Processing model: ERM\n",
      "Encoding time: 0.00s\n",
      "Rearrange time: 0.00s\n",
      "CPU transfer time: 0.06s\n",
      "Mean heatmap computation time: 0.00s\n",
      "Heap update time: 1.52s\n",
      "Processing model: IRM\n",
      "Encoding time: 0.00s\n",
      "Rearrange time: 0.00s\n",
      "CPU transfer time: 0.06s\n",
      "Mean heatmap computation time: 0.00s\n"
     ]
    },
    {
     "name": "stderr",
     "output_type": "stream",
     "text": [
      " 51%|█████     | 160/313 [06:40<06:26,  2.53s/it]"
     ]
    },
    {
     "name": "stdout",
     "output_type": "stream",
     "text": [
      "Heap update time: 0.92s\n",
      "\n",
      "--- Batch 160 ---\n",
      "Processing model: ERM\n",
      "Encoding time: 0.00s\n",
      "Rearrange time: 0.00s\n",
      "CPU transfer time: 0.06s\n",
      "Mean heatmap computation time: 0.00s\n",
      "Heap update time: 1.49s\n",
      "Processing model: IRM\n",
      "Encoding time: 0.00s\n",
      "Rearrange time: 0.00s\n",
      "CPU transfer time: 0.06s\n",
      "Mean heatmap computation time: 0.00s\n"
     ]
    },
    {
     "name": "stderr",
     "output_type": "stream",
     "text": [
      " 51%|█████▏    | 161/313 [06:42<06:25,  2.53s/it]"
     ]
    },
    {
     "name": "stdout",
     "output_type": "stream",
     "text": [
      "Heap update time: 0.91s\n",
      "\n",
      "--- Batch 161 ---\n",
      "Processing model: ERM\n",
      "Encoding time: 0.00s\n",
      "Rearrange time: 0.00s\n",
      "CPU transfer time: 0.06s\n",
      "Mean heatmap computation time: 0.00s\n",
      "Heap update time: 1.44s\n",
      "Processing model: IRM\n",
      "Encoding time: 0.00s\n",
      "Rearrange time: 0.00s\n",
      "CPU transfer time: 0.06s\n",
      "Mean heatmap computation time: 0.00s\n"
     ]
    },
    {
     "name": "stderr",
     "output_type": "stream",
     "text": [
      " 52%|█████▏    | 162/313 [06:45<06:23,  2.54s/it]"
     ]
    },
    {
     "name": "stdout",
     "output_type": "stream",
     "text": [
      "Heap update time: 0.96s\n",
      "\n",
      "--- Batch 162 ---\n",
      "Processing model: ERM\n",
      "Encoding time: 0.00s\n",
      "Rearrange time: 0.00s\n",
      "CPU transfer time: 0.06s\n",
      "Mean heatmap computation time: 0.00s\n",
      "Heap update time: 1.45s\n",
      "Processing model: IRM\n",
      "Encoding time: 0.00s\n",
      "Rearrange time: 0.00s\n",
      "CPU transfer time: 0.06s\n",
      "Mean heatmap computation time: 0.00s\n"
     ]
    },
    {
     "name": "stderr",
     "output_type": "stream",
     "text": [
      " 52%|█████▏    | 163/313 [06:47<06:20,  2.54s/it]"
     ]
    },
    {
     "name": "stdout",
     "output_type": "stream",
     "text": [
      "Heap update time: 0.93s\n",
      "\n",
      "--- Batch 163 ---\n",
      "Processing model: ERM\n",
      "Encoding time: 0.00s\n",
      "Rearrange time: 0.00s\n",
      "CPU transfer time: 0.06s\n",
      "Mean heatmap computation time: 0.00s\n",
      "Heap update time: 1.52s\n",
      "Processing model: IRM\n",
      "Encoding time: 0.00s\n",
      "Rearrange time: 0.00s\n",
      "CPU transfer time: 0.07s\n",
      "Mean heatmap computation time: 0.00s\n"
     ]
    },
    {
     "name": "stderr",
     "output_type": "stream",
     "text": [
      " 52%|█████▏    | 164/313 [06:50<06:29,  2.61s/it]"
     ]
    },
    {
     "name": "stdout",
     "output_type": "stream",
     "text": [
      "Heap update time: 1.12s\n",
      "\n",
      "--- Batch 164 ---\n",
      "Processing model: ERM\n",
      "Encoding time: 0.00s\n",
      "Rearrange time: 0.00s\n",
      "CPU transfer time: 0.06s\n",
      "Mean heatmap computation time: 0.00s\n",
      "Heap update time: 1.47s\n",
      "Processing model: IRM\n",
      "Encoding time: 0.00s\n",
      "Rearrange time: 0.00s\n",
      "CPU transfer time: 0.06s\n",
      "Mean heatmap computation time: 0.00s\n"
     ]
    },
    {
     "name": "stderr",
     "output_type": "stream",
     "text": [
      " 53%|█████▎    | 165/313 [06:53<06:21,  2.57s/it]"
     ]
    },
    {
     "name": "stdout",
     "output_type": "stream",
     "text": [
      "Heap update time: 0.88s\n",
      "\n",
      "--- Batch 165 ---\n",
      "Processing model: ERM\n",
      "Encoding time: 0.00s\n",
      "Rearrange time: 0.00s\n",
      "CPU transfer time: 0.06s\n",
      "Mean heatmap computation time: 0.00s\n",
      "Heap update time: 1.58s\n",
      "Processing model: IRM\n",
      "Encoding time: 0.00s\n",
      "Rearrange time: 0.00s\n",
      "CPU transfer time: 0.06s\n",
      "Mean heatmap computation time: 0.00s\n"
     ]
    },
    {
     "name": "stderr",
     "output_type": "stream",
     "text": [
      " 53%|█████▎    | 166/313 [06:55<06:20,  2.59s/it]"
     ]
    },
    {
     "name": "stdout",
     "output_type": "stream",
     "text": [
      "Heap update time: 0.89s\n",
      "\n",
      "--- Batch 166 ---\n",
      "Processing model: ERM\n",
      "Encoding time: 0.00s\n",
      "Rearrange time: 0.00s\n",
      "CPU transfer time: 0.06s\n",
      "Mean heatmap computation time: 0.00s\n",
      "Heap update time: 1.42s\n",
      "Processing model: IRM\n",
      "Encoding time: 0.00s\n",
      "Rearrange time: 0.00s\n",
      "CPU transfer time: 0.06s\n",
      "Mean heatmap computation time: 0.00s\n"
     ]
    },
    {
     "name": "stderr",
     "output_type": "stream",
     "text": [
      " 53%|█████▎    | 167/313 [06:58<06:15,  2.57s/it]"
     ]
    },
    {
     "name": "stdout",
     "output_type": "stream",
     "text": [
      "Heap update time: 0.96s\n",
      "\n",
      "--- Batch 167 ---\n",
      "Processing model: ERM\n",
      "Encoding time: 0.00s\n",
      "Rearrange time: 0.00s\n",
      "CPU transfer time: 0.06s\n",
      "Mean heatmap computation time: 0.00s\n",
      "Heap update time: 1.43s\n",
      "Processing model: IRM\n",
      "Encoding time: 0.00s\n",
      "Rearrange time: 0.00s\n",
      "CPU transfer time: 0.06s\n",
      "Mean heatmap computation time: 0.00s\n"
     ]
    },
    {
     "name": "stderr",
     "output_type": "stream",
     "text": [
      " 54%|█████▎    | 168/313 [07:00<06:08,  2.54s/it]"
     ]
    },
    {
     "name": "stdout",
     "output_type": "stream",
     "text": [
      "Heap update time: 0.90s\n",
      "\n",
      "--- Batch 168 ---\n",
      "Processing model: ERM\n",
      "Encoding time: 0.00s\n",
      "Rearrange time: 0.00s\n",
      "CPU transfer time: 0.06s\n",
      "Mean heatmap computation time: 0.00s\n",
      "Heap update time: 1.37s\n",
      "Processing model: IRM\n",
      "Encoding time: 0.00s\n",
      "Rearrange time: 0.00s\n",
      "CPU transfer time: 0.06s\n",
      "Mean heatmap computation time: 0.00s\n"
     ]
    },
    {
     "name": "stderr",
     "output_type": "stream",
     "text": [
      " 54%|█████▍    | 169/313 [07:03<05:56,  2.48s/it]"
     ]
    },
    {
     "name": "stdout",
     "output_type": "stream",
     "text": [
      "Heap update time: 0.80s\n",
      "\n",
      "--- Batch 169 ---\n",
      "Processing model: ERM\n",
      "Encoding time: 0.00s\n",
      "Rearrange time: 0.00s\n",
      "CPU transfer time: 0.02s\n",
      "Mean heatmap computation time: 0.00s\n",
      "Heap update time: 1.38s\n",
      "Processing model: IRM\n",
      "Encoding time: 0.00s\n",
      "Rearrange time: 0.00s\n",
      "CPU transfer time: 0.06s\n",
      "Mean heatmap computation time: 0.00s\n"
     ]
    },
    {
     "name": "stderr",
     "output_type": "stream",
     "text": [
      " 54%|█████▍    | 170/313 [07:05<05:49,  2.44s/it]"
     ]
    },
    {
     "name": "stdout",
     "output_type": "stream",
     "text": [
      "Heap update time: 0.87s\n",
      "\n",
      "--- Batch 170 ---\n",
      "Processing model: ERM\n",
      "Encoding time: 0.00s\n",
      "Rearrange time: 0.00s\n",
      "CPU transfer time: 0.06s\n",
      "Mean heatmap computation time: 0.00s\n",
      "Heap update time: 1.43s\n",
      "Processing model: IRM\n",
      "Encoding time: 0.00s\n",
      "Rearrange time: 0.00s\n",
      "CPU transfer time: 0.06s\n",
      "Mean heatmap computation time: 0.00s\n"
     ]
    },
    {
     "name": "stderr",
     "output_type": "stream",
     "text": [
      " 55%|█████▍    | 171/313 [07:07<05:48,  2.46s/it]"
     ]
    },
    {
     "name": "stdout",
     "output_type": "stream",
     "text": [
      "Heap update time: 0.91s\n",
      "\n",
      "--- Batch 171 ---\n",
      "Processing model: ERM\n",
      "Encoding time: 0.00s\n",
      "Rearrange time: 0.00s\n",
      "CPU transfer time: 0.06s\n",
      "Mean heatmap computation time: 0.00s\n",
      "Heap update time: 1.49s\n",
      "Processing model: IRM\n",
      "Encoding time: 0.00s\n",
      "Rearrange time: 0.00s\n",
      "CPU transfer time: 0.06s\n",
      "Mean heatmap computation time: 0.00s\n"
     ]
    },
    {
     "name": "stderr",
     "output_type": "stream",
     "text": [
      " 55%|█████▍    | 172/313 [07:10<05:49,  2.48s/it]"
     ]
    },
    {
     "name": "stdout",
     "output_type": "stream",
     "text": [
      "Heap update time: 0.90s\n",
      "\n",
      "--- Batch 172 ---\n",
      "Processing model: ERM\n",
      "Encoding time: 0.00s\n",
      "Rearrange time: 0.00s\n",
      "CPU transfer time: 0.06s\n",
      "Mean heatmap computation time: 0.00s\n",
      "Heap update time: 1.43s\n",
      "Processing model: IRM\n",
      "Encoding time: 0.00s\n",
      "Rearrange time: 0.00s\n",
      "CPU transfer time: 0.06s\n",
      "Mean heatmap computation time: 0.00s\n"
     ]
    },
    {
     "name": "stderr",
     "output_type": "stream",
     "text": [
      " 55%|█████▌    | 173/313 [07:12<05:47,  2.48s/it]"
     ]
    },
    {
     "name": "stdout",
     "output_type": "stream",
     "text": [
      "Heap update time: 0.90s\n",
      "\n",
      "--- Batch 173 ---\n",
      "Processing model: ERM\n",
      "Encoding time: 0.00s\n",
      "Rearrange time: 0.00s\n",
      "CPU transfer time: 0.02s\n",
      "Mean heatmap computation time: 0.00s\n",
      "Heap update time: 1.47s\n",
      "Processing model: IRM\n",
      "Encoding time: 0.00s\n",
      "Rearrange time: 0.00s\n",
      "CPU transfer time: 0.06s\n",
      "Mean heatmap computation time: 0.00s\n"
     ]
    },
    {
     "name": "stderr",
     "output_type": "stream",
     "text": [
      " 56%|█████▌    | 174/313 [07:15<05:48,  2.51s/it]"
     ]
    },
    {
     "name": "stdout",
     "output_type": "stream",
     "text": [
      "Heap update time: 0.98s\n",
      "\n",
      "--- Batch 174 ---\n",
      "Processing model: ERM\n",
      "Encoding time: 0.00s\n",
      "Rearrange time: 0.00s\n",
      "CPU transfer time: 0.06s\n",
      "Mean heatmap computation time: 0.00s\n",
      "Heap update time: 1.44s\n",
      "Processing model: IRM\n",
      "Encoding time: 0.00s\n",
      "Rearrange time: 0.00s\n",
      "CPU transfer time: 0.06s\n",
      "Mean heatmap computation time: 0.00s\n"
     ]
    },
    {
     "name": "stderr",
     "output_type": "stream",
     "text": [
      " 56%|█████▌    | 175/313 [07:17<05:43,  2.49s/it]"
     ]
    },
    {
     "name": "stdout",
     "output_type": "stream",
     "text": [
      "Heap update time: 0.87s\n",
      "\n",
      "--- Batch 175 ---\n",
      "Processing model: ERM\n",
      "Encoding time: 0.00s\n",
      "Rearrange time: 0.00s\n",
      "CPU transfer time: 0.06s\n",
      "Mean heatmap computation time: 0.00s\n",
      "Heap update time: 1.56s\n",
      "Processing model: IRM\n",
      "Encoding time: 0.00s\n",
      "Rearrange time: 0.00s\n",
      "CPU transfer time: 0.06s\n",
      "Mean heatmap computation time: 0.00s\n"
     ]
    },
    {
     "name": "stderr",
     "output_type": "stream",
     "text": [
      " 56%|█████▌    | 176/313 [07:20<05:47,  2.54s/it]"
     ]
    },
    {
     "name": "stdout",
     "output_type": "stream",
     "text": [
      "Heap update time: 0.94s\n",
      "\n",
      "--- Batch 176 ---\n",
      "Processing model: ERM\n",
      "Encoding time: 0.00s\n",
      "Rearrange time: 0.00s\n",
      "CPU transfer time: 0.06s\n",
      "Mean heatmap computation time: 0.00s\n",
      "Heap update time: 1.37s\n",
      "Processing model: IRM\n",
      "Encoding time: 0.00s\n",
      "Rearrange time: 0.00s\n",
      "CPU transfer time: 0.06s\n",
      "Mean heatmap computation time: 0.00s\n"
     ]
    },
    {
     "name": "stderr",
     "output_type": "stream",
     "text": [
      " 57%|█████▋    | 177/313 [07:23<05:41,  2.51s/it]"
     ]
    },
    {
     "name": "stdout",
     "output_type": "stream",
     "text": [
      "Heap update time: 0.93s\n",
      "\n",
      "--- Batch 177 ---\n",
      "Processing model: ERM\n",
      "Encoding time: 0.00s\n",
      "Rearrange time: 0.00s\n",
      "CPU transfer time: 0.06s\n",
      "Mean heatmap computation time: 0.00s\n",
      "Heap update time: 1.63s\n",
      "Processing model: IRM\n",
      "Encoding time: 0.00s\n",
      "Rearrange time: 0.00s\n",
      "CPU transfer time: 0.06s\n",
      "Mean heatmap computation time: 0.00s\n"
     ]
    },
    {
     "name": "stderr",
     "output_type": "stream",
     "text": [
      " 57%|█████▋    | 178/313 [07:25<05:47,  2.58s/it]"
     ]
    },
    {
     "name": "stdout",
     "output_type": "stream",
     "text": [
      "Heap update time: 0.95s\n",
      "\n",
      "--- Batch 178 ---\n",
      "Processing model: ERM\n",
      "Encoding time: 0.00s\n",
      "Rearrange time: 0.00s\n",
      "CPU transfer time: 0.06s\n",
      "Mean heatmap computation time: 0.00s\n",
      "Heap update time: 1.51s\n",
      "Processing model: IRM\n",
      "Encoding time: 0.00s\n",
      "Rearrange time: 0.00s\n",
      "CPU transfer time: 0.06s\n",
      "Mean heatmap computation time: 0.00s\n"
     ]
    },
    {
     "name": "stderr",
     "output_type": "stream",
     "text": [
      " 57%|█████▋    | 179/313 [07:28<05:46,  2.59s/it]"
     ]
    },
    {
     "name": "stdout",
     "output_type": "stream",
     "text": [
      "Heap update time: 0.96s\n",
      "\n",
      "--- Batch 179 ---\n",
      "Processing model: ERM\n",
      "Encoding time: 0.00s\n",
      "Rearrange time: 0.00s\n",
      "CPU transfer time: 0.02s\n",
      "Mean heatmap computation time: 0.00s\n",
      "Heap update time: 1.59s\n",
      "Processing model: IRM\n",
      "Encoding time: 0.00s\n",
      "Rearrange time: 0.00s\n",
      "CPU transfer time: 0.06s\n",
      "Mean heatmap computation time: 0.00s\n"
     ]
    },
    {
     "name": "stderr",
     "output_type": "stream",
     "text": [
      " 58%|█████▊    | 180/313 [07:31<05:46,  2.60s/it]"
     ]
    },
    {
     "name": "stdout",
     "output_type": "stream",
     "text": [
      "Heap update time: 0.95s\n",
      "\n",
      "--- Batch 180 ---\n",
      "Processing model: ERM\n",
      "Encoding time: 0.00s\n",
      "Rearrange time: 0.00s\n",
      "CPU transfer time: 0.06s\n",
      "Mean heatmap computation time: 0.00s\n",
      "Heap update time: 1.54s\n",
      "Processing model: IRM\n",
      "Encoding time: 0.00s\n",
      "Rearrange time: 0.00s\n",
      "CPU transfer time: 0.06s\n",
      "Mean heatmap computation time: 0.00s\n"
     ]
    },
    {
     "name": "stderr",
     "output_type": "stream",
     "text": [
      " 58%|█████▊    | 181/313 [07:33<05:42,  2.60s/it]"
     ]
    },
    {
     "name": "stdout",
     "output_type": "stream",
     "text": [
      "Heap update time: 0.90s\n",
      "\n",
      "--- Batch 181 ---\n",
      "Processing model: ERM\n",
      "Encoding time: 0.00s\n",
      "Rearrange time: 0.00s\n",
      "CPU transfer time: 0.06s\n",
      "Mean heatmap computation time: 0.00s\n",
      "Heap update time: 1.60s\n",
      "Processing model: IRM\n",
      "Encoding time: 0.00s\n",
      "Rearrange time: 0.00s\n",
      "CPU transfer time: 0.06s\n",
      "Mean heatmap computation time: 0.00s\n"
     ]
    },
    {
     "name": "stderr",
     "output_type": "stream",
     "text": [
      " 58%|█████▊    | 182/313 [07:36<05:45,  2.64s/it]"
     ]
    },
    {
     "name": "stdout",
     "output_type": "stream",
     "text": [
      "Heap update time: 0.98s\n",
      "\n",
      "--- Batch 182 ---\n",
      "Processing model: ERM\n",
      "Encoding time: 0.00s\n",
      "Rearrange time: 0.00s\n",
      "CPU transfer time: 0.06s\n",
      "Mean heatmap computation time: 0.00s\n",
      "Heap update time: 1.49s\n",
      "Processing model: IRM\n",
      "Encoding time: 0.00s\n",
      "Rearrange time: 0.00s\n",
      "CPU transfer time: 0.06s\n",
      "Mean heatmap computation time: 0.00s\n"
     ]
    },
    {
     "name": "stderr",
     "output_type": "stream",
     "text": [
      " 58%|█████▊    | 183/313 [07:39<05:43,  2.64s/it]"
     ]
    },
    {
     "name": "stdout",
     "output_type": "stream",
     "text": [
      "Heap update time: 1.03s\n",
      "\n",
      "--- Batch 183 ---\n",
      "Processing model: ERM\n",
      "Encoding time: 0.00s\n",
      "Rearrange time: 0.00s\n",
      "CPU transfer time: 0.06s\n",
      "Mean heatmap computation time: 0.00s\n",
      "Heap update time: 1.45s\n",
      "Processing model: IRM\n",
      "Encoding time: 0.00s\n",
      "Rearrange time: 0.00s\n",
      "CPU transfer time: 0.06s\n",
      "Mean heatmap computation time: 0.00s\n"
     ]
    },
    {
     "name": "stderr",
     "output_type": "stream",
     "text": [
      " 59%|█████▉    | 184/313 [07:41<05:37,  2.62s/it]"
     ]
    },
    {
     "name": "stdout",
     "output_type": "stream",
     "text": [
      "Heap update time: 0.96s\n",
      "\n",
      "--- Batch 184 ---\n",
      "Processing model: ERM\n",
      "Encoding time: 0.00s\n",
      "Rearrange time: 0.00s\n",
      "CPU transfer time: 0.06s\n",
      "Mean heatmap computation time: 0.00s\n",
      "Heap update time: 1.41s\n",
      "Processing model: IRM\n",
      "Encoding time: 0.00s\n",
      "Rearrange time: 0.00s\n",
      "CPU transfer time: 0.06s\n",
      "Mean heatmap computation time: 0.00s\n"
     ]
    },
    {
     "name": "stderr",
     "output_type": "stream",
     "text": [
      " 59%|█████▉    | 185/313 [07:44<05:30,  2.59s/it]"
     ]
    },
    {
     "name": "stdout",
     "output_type": "stream",
     "text": [
      "Heap update time: 0.96s\n",
      "\n",
      "--- Batch 185 ---\n",
      "Processing model: ERM\n",
      "Encoding time: 0.00s\n",
      "Rearrange time: 0.00s\n",
      "CPU transfer time: 0.06s\n",
      "Mean heatmap computation time: 0.00s\n",
      "Heap update time: 1.45s\n",
      "Processing model: IRM\n",
      "Encoding time: 0.00s\n",
      "Rearrange time: 0.00s\n",
      "CPU transfer time: 0.02s\n",
      "Mean heatmap computation time: 0.00s\n"
     ]
    },
    {
     "name": "stderr",
     "output_type": "stream",
     "text": [
      " 59%|█████▉    | 186/313 [07:46<05:26,  2.57s/it]"
     ]
    },
    {
     "name": "stdout",
     "output_type": "stream",
     "text": [
      "Heap update time: 0.99s\n",
      "\n",
      "--- Batch 186 ---\n",
      "Processing model: ERM\n",
      "Encoding time: 0.00s\n",
      "Rearrange time: 0.00s\n",
      "CPU transfer time: 0.06s\n",
      "Mean heatmap computation time: 0.00s\n",
      "Heap update time: 1.49s\n",
      "Processing model: IRM\n",
      "Encoding time: 0.00s\n",
      "Rearrange time: 0.00s\n",
      "CPU transfer time: 0.06s\n",
      "Mean heatmap computation time: 0.00s\n"
     ]
    },
    {
     "name": "stderr",
     "output_type": "stream",
     "text": [
      " 60%|█████▉    | 187/313 [07:49<05:24,  2.57s/it]"
     ]
    },
    {
     "name": "stdout",
     "output_type": "stream",
     "text": [
      "Heap update time: 0.95s\n",
      "\n",
      "--- Batch 187 ---\n",
      "Processing model: ERM\n",
      "Encoding time: 0.00s\n",
      "Rearrange time: 0.00s\n",
      "CPU transfer time: 0.06s\n",
      "Mean heatmap computation time: 0.00s\n",
      "Heap update time: 1.42s\n",
      "Processing model: IRM\n",
      "Encoding time: 0.00s\n",
      "Rearrange time: 0.00s\n",
      "CPU transfer time: 0.06s\n",
      "Mean heatmap computation time: 0.00s\n"
     ]
    },
    {
     "name": "stderr",
     "output_type": "stream",
     "text": [
      " 60%|██████    | 188/313 [07:51<05:19,  2.56s/it]"
     ]
    },
    {
     "name": "stdout",
     "output_type": "stream",
     "text": [
      "Heap update time: 0.95s\n",
      "\n",
      "--- Batch 188 ---\n",
      "Processing model: ERM\n",
      "Encoding time: 0.00s\n",
      "Rearrange time: 0.00s\n",
      "CPU transfer time: 0.06s\n",
      "Mean heatmap computation time: 0.00s\n",
      "Heap update time: 1.43s\n",
      "Processing model: IRM\n",
      "Encoding time: 0.00s\n",
      "Rearrange time: 0.00s\n",
      "CPU transfer time: 0.06s\n",
      "Mean heatmap computation time: 0.00s\n"
     ]
    },
    {
     "name": "stderr",
     "output_type": "stream",
     "text": [
      " 60%|██████    | 189/313 [07:54<05:17,  2.56s/it]"
     ]
    },
    {
     "name": "stdout",
     "output_type": "stream",
     "text": [
      "Heap update time: 0.99s\n",
      "\n",
      "--- Batch 189 ---\n",
      "Processing model: ERM\n",
      "Encoding time: 0.00s\n",
      "Rearrange time: 0.00s\n",
      "CPU transfer time: 0.06s\n",
      "Mean heatmap computation time: 0.00s\n",
      "Heap update time: 1.51s\n",
      "Processing model: IRM\n",
      "Encoding time: 0.00s\n",
      "Rearrange time: 0.00s\n",
      "CPU transfer time: 0.06s\n",
      "Mean heatmap computation time: 0.00s\n"
     ]
    },
    {
     "name": "stderr",
     "output_type": "stream",
     "text": [
      " 61%|██████    | 190/313 [07:56<05:14,  2.56s/it]"
     ]
    },
    {
     "name": "stdout",
     "output_type": "stream",
     "text": [
      "Heap update time: 0.88s\n",
      "\n",
      "--- Batch 190 ---\n",
      "Processing model: ERM\n",
      "Encoding time: 0.00s\n",
      "Rearrange time: 0.00s\n",
      "CPU transfer time: 0.06s\n",
      "Mean heatmap computation time: 0.00s\n",
      "Heap update time: 1.42s\n",
      "Processing model: IRM\n",
      "Encoding time: 0.00s\n",
      "Rearrange time: 0.00s\n",
      "CPU transfer time: 0.06s\n",
      "Mean heatmap computation time: 0.00s\n"
     ]
    },
    {
     "name": "stderr",
     "output_type": "stream",
     "text": [
      " 61%|██████    | 191/313 [07:59<05:09,  2.54s/it]"
     ]
    },
    {
     "name": "stdout",
     "output_type": "stream",
     "text": [
      "Heap update time: 0.93s\n",
      "\n",
      "--- Batch 191 ---\n",
      "Processing model: ERM\n",
      "Encoding time: 0.00s\n",
      "Rearrange time: 0.00s\n",
      "CPU transfer time: 0.02s\n",
      "Mean heatmap computation time: 0.00s\n",
      "Heap update time: 1.38s\n",
      "Processing model: IRM\n",
      "Encoding time: 0.00s\n",
      "Rearrange time: 0.00s\n",
      "CPU transfer time: 0.06s\n",
      "Mean heatmap computation time: 0.00s\n"
     ]
    },
    {
     "name": "stderr",
     "output_type": "stream",
     "text": [
      " 61%|██████▏   | 192/313 [08:01<05:02,  2.50s/it]"
     ]
    },
    {
     "name": "stdout",
     "output_type": "stream",
     "text": [
      "Heap update time: 0.91s\n",
      "\n",
      "--- Batch 192 ---\n",
      "Processing model: ERM\n",
      "Encoding time: 0.00s\n",
      "Rearrange time: 0.00s\n",
      "CPU transfer time: 0.06s\n",
      "Mean heatmap computation time: 0.00s\n",
      "Heap update time: 1.63s\n",
      "Processing model: IRM\n",
      "Encoding time: 0.00s\n",
      "Rearrange time: 0.00s\n",
      "CPU transfer time: 0.06s\n",
      "Mean heatmap computation time: 0.00s\n"
     ]
    },
    {
     "name": "stderr",
     "output_type": "stream",
     "text": [
      " 62%|██████▏   | 193/313 [08:04<05:09,  2.58s/it]"
     ]
    },
    {
     "name": "stdout",
     "output_type": "stream",
     "text": [
      "Heap update time: 0.99s\n",
      "\n",
      "--- Batch 193 ---\n",
      "Processing model: ERM\n",
      "Encoding time: 0.00s\n",
      "Rearrange time: 0.00s\n",
      "CPU transfer time: 0.06s\n",
      "Mean heatmap computation time: 0.00s\n",
      "Heap update time: 1.64s\n",
      "Processing model: IRM\n",
      "Encoding time: 0.00s\n",
      "Rearrange time: 0.00s\n",
      "CPU transfer time: 0.06s\n",
      "Mean heatmap computation time: 0.00s\n"
     ]
    },
    {
     "name": "stderr",
     "output_type": "stream",
     "text": [
      " 62%|██████▏   | 194/313 [08:07<05:14,  2.64s/it]"
     ]
    },
    {
     "name": "stdout",
     "output_type": "stream",
     "text": [
      "Heap update time: 0.99s\n",
      "\n",
      "--- Batch 194 ---\n",
      "Processing model: ERM\n",
      "Encoding time: 0.00s\n",
      "Rearrange time: 0.00s\n",
      "CPU transfer time: 0.06s\n",
      "Mean heatmap computation time: 0.00s\n",
      "Heap update time: 1.56s\n",
      "Processing model: IRM\n",
      "Encoding time: 0.00s\n",
      "Rearrange time: 0.00s\n",
      "CPU transfer time: 0.06s\n",
      "Mean heatmap computation time: 0.00s\n"
     ]
    },
    {
     "name": "stderr",
     "output_type": "stream",
     "text": [
      " 62%|██████▏   | 195/313 [08:10<05:13,  2.66s/it]"
     ]
    },
    {
     "name": "stdout",
     "output_type": "stream",
     "text": [
      "Heap update time: 1.01s\n",
      "\n",
      "--- Batch 195 ---\n",
      "Processing model: ERM\n",
      "Encoding time: 0.00s\n",
      "Rearrange time: 0.00s\n",
      "CPU transfer time: 0.06s\n",
      "Mean heatmap computation time: 0.00s\n",
      "Heap update time: 1.52s\n",
      "Processing model: IRM\n",
      "Encoding time: 0.00s\n",
      "Rearrange time: 0.00s\n",
      "CPU transfer time: 0.06s\n",
      "Mean heatmap computation time: 0.00s\n"
     ]
    },
    {
     "name": "stderr",
     "output_type": "stream",
     "text": [
      " 63%|██████▎   | 196/313 [08:12<05:09,  2.65s/it]"
     ]
    },
    {
     "name": "stdout",
     "output_type": "stream",
     "text": [
      "Heap update time: 0.96s\n",
      "\n",
      "--- Batch 196 ---\n",
      "Processing model: ERM\n",
      "Encoding time: 0.00s\n",
      "Rearrange time: 0.00s\n",
      "CPU transfer time: 0.06s\n",
      "Mean heatmap computation time: 0.00s\n",
      "Heap update time: 1.53s\n",
      "Processing model: IRM\n",
      "Encoding time: 0.00s\n",
      "Rearrange time: 0.00s\n",
      "CPU transfer time: 0.06s\n",
      "Mean heatmap computation time: 0.00s\n"
     ]
    },
    {
     "name": "stderr",
     "output_type": "stream",
     "text": [
      " 63%|██████▎   | 197/313 [08:15<05:11,  2.68s/it]"
     ]
    },
    {
     "name": "stdout",
     "output_type": "stream",
     "text": [
      "Heap update time: 1.08s\n",
      "\n",
      "--- Batch 197 ---\n",
      "Processing model: ERM\n",
      "Encoding time: 0.00s\n",
      "Rearrange time: 0.00s\n",
      "CPU transfer time: 0.06s\n",
      "Mean heatmap computation time: 0.00s\n",
      "Heap update time: 1.47s\n",
      "Processing model: IRM\n",
      "Encoding time: 0.00s\n",
      "Rearrange time: 0.00s\n",
      "CPU transfer time: 0.06s\n",
      "Mean heatmap computation time: 0.00s\n"
     ]
    },
    {
     "name": "stderr",
     "output_type": "stream",
     "text": [
      " 63%|██████▎   | 198/313 [08:17<05:02,  2.63s/it]"
     ]
    },
    {
     "name": "stdout",
     "output_type": "stream",
     "text": [
      "Heap update time: 0.89s\n",
      "\n",
      "--- Batch 198 ---\n",
      "Processing model: ERM\n",
      "Encoding time: 0.00s\n",
      "Rearrange time: 0.00s\n",
      "CPU transfer time: 0.06s\n",
      "Mean heatmap computation time: 0.00s\n",
      "Heap update time: 1.44s\n",
      "Processing model: IRM\n",
      "Encoding time: 0.00s\n",
      "Rearrange time: 0.00s\n",
      "CPU transfer time: 0.06s\n",
      "Mean heatmap computation time: 0.00s\n"
     ]
    },
    {
     "name": "stderr",
     "output_type": "stream",
     "text": [
      " 64%|██████▎   | 199/313 [08:20<04:59,  2.63s/it]"
     ]
    },
    {
     "name": "stdout",
     "output_type": "stream",
     "text": [
      "Heap update time: 1.04s\n",
      "\n",
      "--- Batch 199 ---\n",
      "Processing model: ERM\n",
      "Encoding time: 0.00s\n",
      "Rearrange time: 0.00s\n",
      "CPU transfer time: 0.06s\n",
      "Mean heatmap computation time: 0.00s\n",
      "Heap update time: 1.47s\n",
      "Processing model: IRM\n",
      "Encoding time: 0.00s\n",
      "Rearrange time: 0.00s\n",
      "CPU transfer time: 0.06s\n",
      "Mean heatmap computation time: 0.00s\n"
     ]
    },
    {
     "name": "stderr",
     "output_type": "stream",
     "text": [
      " 64%|██████▍   | 200/313 [08:23<04:57,  2.63s/it]"
     ]
    },
    {
     "name": "stdout",
     "output_type": "stream",
     "text": [
      "Heap update time: 1.02s\n",
      "\n",
      "--- Batch 200 ---\n",
      "Processing model: ERM\n",
      "Encoding time: 0.00s\n",
      "Rearrange time: 0.00s\n",
      "CPU transfer time: 0.06s\n",
      "Mean heatmap computation time: 0.00s\n",
      "Heap update time: 1.57s\n",
      "Processing model: IRM\n",
      "Encoding time: 0.00s\n",
      "Rearrange time: 0.00s\n",
      "CPU transfer time: 0.06s\n",
      "Mean heatmap computation time: 0.00s\n"
     ]
    },
    {
     "name": "stderr",
     "output_type": "stream",
     "text": [
      " 64%|██████▍   | 201/313 [08:25<04:59,  2.67s/it]"
     ]
    },
    {
     "name": "stdout",
     "output_type": "stream",
     "text": [
      "Heap update time: 1.05s\n",
      "\n",
      "--- Batch 201 ---\n",
      "Processing model: ERM\n",
      "Encoding time: 0.00s\n",
      "Rearrange time: 0.00s\n",
      "CPU transfer time: 0.06s\n",
      "Mean heatmap computation time: 0.00s\n",
      "Heap update time: 1.41s\n",
      "Processing model: IRM\n",
      "Encoding time: 0.00s\n",
      "Rearrange time: 0.00s\n",
      "CPU transfer time: 0.06s\n",
      "Mean heatmap computation time: 0.00s\n"
     ]
    },
    {
     "name": "stderr",
     "output_type": "stream",
     "text": [
      " 65%|██████▍   | 202/313 [08:28<04:56,  2.67s/it]"
     ]
    },
    {
     "name": "stdout",
     "output_type": "stream",
     "text": [
      "Heap update time: 1.11s\n",
      "\n",
      "--- Batch 202 ---\n",
      "Processing model: ERM\n",
      "Encoding time: 0.00s\n",
      "Rearrange time: 0.00s\n",
      "CPU transfer time: 0.06s\n",
      "Mean heatmap computation time: 0.00s\n",
      "Heap update time: 1.54s\n",
      "Processing model: IRM\n",
      "Encoding time: 0.00s\n",
      "Rearrange time: 0.00s\n",
      "CPU transfer time: 0.06s\n",
      "Mean heatmap computation time: 0.00s\n"
     ]
    },
    {
     "name": "stderr",
     "output_type": "stream",
     "text": [
      " 65%|██████▍   | 203/313 [08:31<04:53,  2.67s/it]"
     ]
    },
    {
     "name": "stdout",
     "output_type": "stream",
     "text": [
      "Heap update time: 0.98s\n",
      "\n",
      "--- Batch 203 ---\n",
      "Processing model: ERM\n",
      "Encoding time: 0.00s\n",
      "Rearrange time: 0.00s\n",
      "CPU transfer time: 0.06s\n",
      "Mean heatmap computation time: 0.00s\n",
      "Heap update time: 1.52s\n",
      "Processing model: IRM\n",
      "Encoding time: 0.00s\n",
      "Rearrange time: 0.00s\n",
      "CPU transfer time: 0.06s\n",
      "Mean heatmap computation time: 0.00s\n"
     ]
    },
    {
     "name": "stderr",
     "output_type": "stream",
     "text": [
      " 65%|██████▌   | 204/313 [08:33<04:50,  2.67s/it]"
     ]
    },
    {
     "name": "stdout",
     "output_type": "stream",
     "text": [
      "Heap update time: 0.99s\n",
      "\n",
      "--- Batch 204 ---\n",
      "Processing model: ERM\n",
      "Encoding time: 0.00s\n",
      "Rearrange time: 0.00s\n",
      "CPU transfer time: 0.06s\n",
      "Mean heatmap computation time: 0.00s\n",
      "Heap update time: 1.62s\n",
      "Processing model: IRM\n",
      "Encoding time: 0.00s\n",
      "Rearrange time: 0.00s\n",
      "CPU transfer time: 0.06s\n",
      "Mean heatmap computation time: 0.00s\n"
     ]
    },
    {
     "name": "stderr",
     "output_type": "stream",
     "text": [
      " 65%|██████▌   | 205/313 [08:36<04:48,  2.67s/it]"
     ]
    },
    {
     "name": "stdout",
     "output_type": "stream",
     "text": [
      "Heap update time: 0.92s\n",
      "\n",
      "--- Batch 205 ---\n",
      "Processing model: ERM\n",
      "Encoding time: 0.00s\n",
      "Rearrange time: 0.00s\n",
      "CPU transfer time: 0.06s\n",
      "Mean heatmap computation time: 0.00s\n",
      "Heap update time: 1.58s\n",
      "Processing model: IRM\n",
      "Encoding time: 0.00s\n",
      "Rearrange time: 0.00s\n",
      "CPU transfer time: 0.06s\n",
      "Mean heatmap computation time: 0.00s\n"
     ]
    },
    {
     "name": "stderr",
     "output_type": "stream",
     "text": [
      " 66%|██████▌   | 206/313 [08:39<04:43,  2.65s/it]"
     ]
    },
    {
     "name": "stdout",
     "output_type": "stream",
     "text": [
      "Heap update time: 0.88s\n",
      "\n",
      "--- Batch 206 ---\n",
      "Processing model: ERM\n",
      "Encoding time: 0.00s\n",
      "Rearrange time: 0.00s\n",
      "CPU transfer time: 0.06s\n",
      "Mean heatmap computation time: 0.00s\n",
      "Heap update time: 1.40s\n",
      "Processing model: IRM\n",
      "Encoding time: 0.00s\n",
      "Rearrange time: 0.00s\n",
      "CPU transfer time: 0.06s\n",
      "Mean heatmap computation time: 0.00s\n"
     ]
    },
    {
     "name": "stderr",
     "output_type": "stream",
     "text": [
      " 66%|██████▌   | 207/313 [08:42<04:46,  2.70s/it]"
     ]
    },
    {
     "name": "stdout",
     "output_type": "stream",
     "text": [
      "Heap update time: 1.27s\n",
      "\n",
      "--- Batch 207 ---\n",
      "Processing model: ERM\n",
      "Encoding time: 0.00s\n",
      "Rearrange time: 0.00s\n",
      "CPU transfer time: 0.06s\n",
      "Mean heatmap computation time: 0.00s\n",
      "Heap update time: 1.54s\n",
      "Processing model: IRM\n",
      "Encoding time: 0.00s\n",
      "Rearrange time: 0.00s\n",
      "CPU transfer time: 0.06s\n",
      "Mean heatmap computation time: 0.00s\n"
     ]
    },
    {
     "name": "stderr",
     "output_type": "stream",
     "text": [
      " 66%|██████▋   | 208/313 [08:44<04:40,  2.67s/it]"
     ]
    },
    {
     "name": "stdout",
     "output_type": "stream",
     "text": [
      "Heap update time: 0.90s\n",
      "\n",
      "--- Batch 208 ---\n",
      "Processing model: ERM\n",
      "Encoding time: 0.00s\n",
      "Rearrange time: 0.00s\n",
      "CPU transfer time: 0.06s\n",
      "Mean heatmap computation time: 0.00s\n",
      "Heap update time: 1.54s\n",
      "Processing model: IRM\n",
      "Encoding time: 0.00s\n",
      "Rearrange time: 0.00s\n",
      "CPU transfer time: 0.06s\n",
      "Mean heatmap computation time: 0.00s\n"
     ]
    },
    {
     "name": "stderr",
     "output_type": "stream",
     "text": [
      " 67%|██████▋   | 209/313 [08:47<04:36,  2.66s/it]"
     ]
    },
    {
     "name": "stdout",
     "output_type": "stream",
     "text": [
      "Heap update time: 0.94s\n",
      "\n",
      "--- Batch 209 ---\n",
      "Processing model: ERM\n",
      "Encoding time: 0.00s\n",
      "Rearrange time: 0.00s\n",
      "CPU transfer time: 0.06s\n",
      "Mean heatmap computation time: 0.00s\n",
      "Heap update time: 1.54s\n",
      "Processing model: IRM\n",
      "Encoding time: 0.00s\n",
      "Rearrange time: 0.00s\n",
      "CPU transfer time: 0.06s\n",
      "Mean heatmap computation time: 0.00s\n"
     ]
    },
    {
     "name": "stderr",
     "output_type": "stream",
     "text": [
      " 67%|██████▋   | 210/313 [08:49<04:32,  2.64s/it]"
     ]
    },
    {
     "name": "stdout",
     "output_type": "stream",
     "text": [
      "Heap update time: 0.92s\n",
      "\n",
      "--- Batch 210 ---\n",
      "Processing model: ERM\n",
      "Encoding time: 0.00s\n",
      "Rearrange time: 0.00s\n",
      "CPU transfer time: 0.02s\n",
      "Mean heatmap computation time: 0.00s\n",
      "Heap update time: 1.37s\n",
      "Processing model: IRM\n",
      "Encoding time: 0.00s\n",
      "Rearrange time: 0.00s\n",
      "CPU transfer time: 0.06s\n",
      "Mean heatmap computation time: 0.00s\n"
     ]
    },
    {
     "name": "stderr",
     "output_type": "stream",
     "text": [
      " 67%|██████▋   | 211/313 [08:52<04:23,  2.58s/it]"
     ]
    },
    {
     "name": "stdout",
     "output_type": "stream",
     "text": [
      "Heap update time: 0.97s\n",
      "\n",
      "--- Batch 211 ---\n",
      "Processing model: ERM\n",
      "Encoding time: 0.00s\n",
      "Rearrange time: 0.00s\n",
      "CPU transfer time: 0.06s\n",
      "Mean heatmap computation time: 0.00s\n",
      "Heap update time: 1.36s\n",
      "Processing model: IRM\n",
      "Encoding time: 0.00s\n",
      "Rearrange time: 0.00s\n",
      "CPU transfer time: 0.06s\n",
      "Mean heatmap computation time: 0.00s\n"
     ]
    },
    {
     "name": "stderr",
     "output_type": "stream",
     "text": [
      " 68%|██████▊   | 212/313 [08:54<04:14,  2.52s/it]"
     ]
    },
    {
     "name": "stdout",
     "output_type": "stream",
     "text": [
      "Heap update time: 0.88s\n",
      "\n",
      "--- Batch 212 ---\n",
      "Processing model: ERM\n",
      "Encoding time: 0.00s\n",
      "Rearrange time: 0.00s\n",
      "CPU transfer time: 0.06s\n",
      "Mean heatmap computation time: 0.00s\n",
      "Heap update time: 1.52s\n",
      "Processing model: IRM\n",
      "Encoding time: 0.00s\n",
      "Rearrange time: 0.00s\n",
      "CPU transfer time: 0.06s\n",
      "Mean heatmap computation time: 0.00s\n"
     ]
    },
    {
     "name": "stderr",
     "output_type": "stream",
     "text": [
      " 68%|██████▊   | 213/313 [08:57<04:11,  2.52s/it]"
     ]
    },
    {
     "name": "stdout",
     "output_type": "stream",
     "text": [
      "Heap update time: 0.84s\n",
      "\n",
      "--- Batch 213 ---\n",
      "Processing model: ERM\n",
      "Encoding time: 0.00s\n",
      "Rearrange time: 0.00s\n",
      "CPU transfer time: 0.02s\n",
      "Mean heatmap computation time: 0.00s\n",
      "Heap update time: 1.41s\n",
      "Processing model: IRM\n",
      "Encoding time: 0.00s\n",
      "Rearrange time: 0.00s\n",
      "CPU transfer time: 0.06s\n",
      "Mean heatmap computation time: 0.00s\n"
     ]
    },
    {
     "name": "stderr",
     "output_type": "stream",
     "text": [
      " 68%|██████▊   | 214/313 [08:59<04:08,  2.51s/it]"
     ]
    },
    {
     "name": "stdout",
     "output_type": "stream",
     "text": [
      "Heap update time: 0.96s\n",
      "\n",
      "--- Batch 214 ---\n",
      "Processing model: ERM\n",
      "Encoding time: 0.00s\n",
      "Rearrange time: 0.00s\n",
      "CPU transfer time: 0.06s\n",
      "Mean heatmap computation time: 0.00s\n",
      "Heap update time: 1.66s\n",
      "Processing model: IRM\n",
      "Encoding time: 0.00s\n",
      "Rearrange time: 0.00s\n",
      "CPU transfer time: 0.06s\n",
      "Mean heatmap computation time: 0.00s\n"
     ]
    },
    {
     "name": "stderr",
     "output_type": "stream",
     "text": [
      " 69%|██████▊   | 215/313 [09:02<04:16,  2.62s/it]"
     ]
    },
    {
     "name": "stdout",
     "output_type": "stream",
     "text": [
      "Heap update time: 1.08s\n",
      "\n",
      "--- Batch 215 ---\n",
      "Processing model: ERM\n",
      "Encoding time: 0.00s\n",
      "Rearrange time: 0.00s\n",
      "CPU transfer time: 0.06s\n",
      "Mean heatmap computation time: 0.00s\n",
      "Heap update time: 1.44s\n",
      "Processing model: IRM\n",
      "Encoding time: 0.00s\n",
      "Rearrange time: 0.00s\n",
      "CPU transfer time: 0.06s\n",
      "Mean heatmap computation time: 0.00s\n"
     ]
    },
    {
     "name": "stderr",
     "output_type": "stream",
     "text": [
      " 69%|██████▉   | 216/313 [09:05<04:09,  2.57s/it]"
     ]
    },
    {
     "name": "stdout",
     "output_type": "stream",
     "text": [
      "Heap update time: 0.87s\n",
      "\n",
      "--- Batch 216 ---\n",
      "Processing model: ERM\n",
      "Encoding time: 0.00s\n",
      "Rearrange time: 0.00s\n",
      "CPU transfer time: 0.06s\n",
      "Mean heatmap computation time: 0.00s\n",
      "Heap update time: 1.56s\n",
      "Processing model: IRM\n",
      "Encoding time: 0.00s\n",
      "Rearrange time: 0.00s\n",
      "CPU transfer time: 0.06s\n",
      "Mean heatmap computation time: 0.00s\n"
     ]
    },
    {
     "name": "stderr",
     "output_type": "stream",
     "text": [
      " 69%|██████▉   | 217/313 [09:07<04:09,  2.60s/it]"
     ]
    },
    {
     "name": "stdout",
     "output_type": "stream",
     "text": [
      "Heap update time: 0.97s\n",
      "\n",
      "--- Batch 217 ---\n",
      "Processing model: ERM\n",
      "Encoding time: 0.00s\n",
      "Rearrange time: 0.00s\n",
      "CPU transfer time: 0.06s\n",
      "Mean heatmap computation time: 0.00s\n",
      "Heap update time: 1.45s\n",
      "Processing model: IRM\n",
      "Encoding time: 0.00s\n",
      "Rearrange time: 0.00s\n",
      "CPU transfer time: 0.06s\n",
      "Mean heatmap computation time: 0.00s\n"
     ]
    },
    {
     "name": "stderr",
     "output_type": "stream",
     "text": [
      " 70%|██████▉   | 218/313 [09:10<04:06,  2.59s/it]"
     ]
    },
    {
     "name": "stdout",
     "output_type": "stream",
     "text": [
      "Heap update time: 0.99s\n",
      "\n",
      "--- Batch 218 ---\n",
      "Processing model: ERM\n",
      "Encoding time: 0.00s\n",
      "Rearrange time: 0.00s\n",
      "CPU transfer time: 0.06s\n",
      "Mean heatmap computation time: 0.00s\n",
      "Heap update time: 1.39s\n",
      "Processing model: IRM\n",
      "Encoding time: 0.00s\n",
      "Rearrange time: 0.00s\n",
      "CPU transfer time: 0.06s\n",
      "Mean heatmap computation time: 0.00s\n"
     ]
    },
    {
     "name": "stderr",
     "output_type": "stream",
     "text": [
      " 70%|██████▉   | 219/313 [09:12<04:03,  2.59s/it]"
     ]
    },
    {
     "name": "stdout",
     "output_type": "stream",
     "text": [
      "Heap update time: 1.03s\n",
      "\n",
      "--- Batch 219 ---\n",
      "Processing model: ERM\n",
      "Encoding time: 0.00s\n",
      "Rearrange time: 0.00s\n",
      "CPU transfer time: 0.06s\n",
      "Mean heatmap computation time: 0.00s\n",
      "Heap update time: 1.50s\n",
      "Processing model: IRM\n",
      "Encoding time: 0.00s\n",
      "Rearrange time: 0.00s\n",
      "CPU transfer time: 0.06s\n",
      "Mean heatmap computation time: 0.00s\n"
     ]
    },
    {
     "name": "stderr",
     "output_type": "stream",
     "text": [
      " 70%|███████   | 220/313 [09:15<04:02,  2.60s/it]"
     ]
    },
    {
     "name": "stdout",
     "output_type": "stream",
     "text": [
      "Heap update time: 0.99s\n",
      "\n",
      "--- Batch 220 ---\n",
      "Processing model: ERM\n",
      "Encoding time: 0.00s\n",
      "Rearrange time: 0.00s\n",
      "CPU transfer time: 0.06s\n",
      "Mean heatmap computation time: 0.00s\n",
      "Heap update time: 1.60s\n",
      "Processing model: IRM\n",
      "Encoding time: 0.00s\n",
      "Rearrange time: 0.00s\n",
      "CPU transfer time: 0.06s\n",
      "Mean heatmap computation time: 0.00s\n"
     ]
    },
    {
     "name": "stderr",
     "output_type": "stream",
     "text": [
      " 71%|███████   | 221/313 [09:18<04:00,  2.61s/it]"
     ]
    },
    {
     "name": "stdout",
     "output_type": "stream",
     "text": [
      "Heap update time: 0.89s\n",
      "\n",
      "--- Batch 221 ---\n",
      "Processing model: ERM\n",
      "Encoding time: 0.00s\n",
      "Rearrange time: 0.00s\n",
      "CPU transfer time: 0.06s\n",
      "Mean heatmap computation time: 0.00s\n",
      "Heap update time: 1.63s\n",
      "Processing model: IRM\n",
      "Encoding time: 0.00s\n",
      "Rearrange time: 0.00s\n",
      "CPU transfer time: 0.06s\n",
      "Mean heatmap computation time: 0.00s\n"
     ]
    },
    {
     "name": "stderr",
     "output_type": "stream",
     "text": [
      " 71%|███████   | 222/313 [09:20<04:01,  2.66s/it]"
     ]
    },
    {
     "name": "stdout",
     "output_type": "stream",
     "text": [
      "Heap update time: 0.98s\n",
      "\n",
      "--- Batch 222 ---\n",
      "Processing model: ERM\n",
      "Encoding time: 0.00s\n",
      "Rearrange time: 0.00s\n",
      "CPU transfer time: 0.06s\n",
      "Mean heatmap computation time: 0.00s\n",
      "Heap update time: 1.43s\n",
      "Processing model: IRM\n",
      "Encoding time: 0.00s\n",
      "Rearrange time: 0.00s\n",
      "CPU transfer time: 0.06s\n",
      "Mean heatmap computation time: 0.00s\n"
     ]
    },
    {
     "name": "stderr",
     "output_type": "stream",
     "text": [
      " 71%|███████   | 223/313 [09:23<03:53,  2.59s/it]"
     ]
    },
    {
     "name": "stdout",
     "output_type": "stream",
     "text": [
      "Heap update time: 0.86s\n",
      "\n",
      "--- Batch 223 ---\n",
      "Processing model: ERM\n",
      "Encoding time: 0.00s\n",
      "Rearrange time: 0.00s\n",
      "CPU transfer time: 0.06s\n",
      "Mean heatmap computation time: 0.00s\n",
      "Heap update time: 1.42s\n",
      "Processing model: IRM\n",
      "Encoding time: 0.00s\n",
      "Rearrange time: 0.00s\n",
      "CPU transfer time: 0.02s\n",
      "Mean heatmap computation time: 0.00s\n"
     ]
    },
    {
     "name": "stderr",
     "output_type": "stream",
     "text": [
      " 72%|███████▏  | 224/313 [09:25<03:46,  2.55s/it]"
     ]
    },
    {
     "name": "stdout",
     "output_type": "stream",
     "text": [
      "Heap update time: 0.91s\n",
      "\n",
      "--- Batch 224 ---\n",
      "Processing model: ERM\n",
      "Encoding time: 0.00s\n",
      "Rearrange time: 0.00s\n",
      "CPU transfer time: 0.06s\n",
      "Mean heatmap computation time: 0.00s\n",
      "Heap update time: 1.34s\n",
      "Processing model: IRM\n",
      "Encoding time: 0.00s\n",
      "Rearrange time: 0.00s\n",
      "CPU transfer time: 0.06s\n",
      "Mean heatmap computation time: 0.00s\n"
     ]
    },
    {
     "name": "stderr",
     "output_type": "stream",
     "text": [
      " 72%|███████▏  | 225/313 [09:28<03:40,  2.50s/it]"
     ]
    },
    {
     "name": "stdout",
     "output_type": "stream",
     "text": [
      "Heap update time: 0.91s\n",
      "\n",
      "--- Batch 225 ---\n",
      "Processing model: ERM\n",
      "Encoding time: 0.00s\n",
      "Rearrange time: 0.00s\n",
      "CPU transfer time: 0.06s\n",
      "Mean heatmap computation time: 0.00s\n",
      "Heap update time: 1.49s\n",
      "Processing model: IRM\n",
      "Encoding time: 0.00s\n",
      "Rearrange time: 0.00s\n",
      "CPU transfer time: 0.06s\n",
      "Mean heatmap computation time: 0.00s\n"
     ]
    },
    {
     "name": "stderr",
     "output_type": "stream",
     "text": [
      " 72%|███████▏  | 226/313 [09:30<03:38,  2.51s/it]"
     ]
    },
    {
     "name": "stdout",
     "output_type": "stream",
     "text": [
      "Heap update time: 0.88s\n",
      "\n",
      "--- Batch 226 ---\n",
      "Processing model: ERM\n",
      "Encoding time: 0.00s\n",
      "Rearrange time: 0.00s\n",
      "CPU transfer time: 0.02s\n",
      "Mean heatmap computation time: 0.00s\n",
      "Heap update time: 1.43s\n",
      "Processing model: IRM\n",
      "Encoding time: 0.00s\n",
      "Rearrange time: 0.00s\n",
      "CPU transfer time: 0.06s\n",
      "Mean heatmap computation time: 0.00s\n"
     ]
    },
    {
     "name": "stderr",
     "output_type": "stream",
     "text": [
      " 73%|███████▎  | 227/313 [09:33<03:33,  2.49s/it]"
     ]
    },
    {
     "name": "stdout",
     "output_type": "stream",
     "text": [
      "Heap update time: 0.90s\n",
      "\n",
      "--- Batch 227 ---\n",
      "Processing model: ERM\n",
      "Encoding time: 0.00s\n",
      "Rearrange time: 0.00s\n",
      "CPU transfer time: 0.06s\n",
      "Mean heatmap computation time: 0.00s\n",
      "Heap update time: 1.53s\n",
      "Processing model: IRM\n",
      "Encoding time: 0.00s\n",
      "Rearrange time: 0.00s\n",
      "CPU transfer time: 0.06s\n",
      "Mean heatmap computation time: 0.00s\n"
     ]
    },
    {
     "name": "stderr",
     "output_type": "stream",
     "text": [
      " 73%|███████▎  | 228/313 [09:35<03:34,  2.52s/it]"
     ]
    },
    {
     "name": "stdout",
     "output_type": "stream",
     "text": [
      "Heap update time: 0.93s\n",
      "\n",
      "--- Batch 228 ---\n",
      "Processing model: ERM\n",
      "Encoding time: 0.00s\n",
      "Rearrange time: 0.00s\n",
      "CPU transfer time: 0.06s\n",
      "Mean heatmap computation time: 0.00s\n",
      "Heap update time: 1.49s\n",
      "Processing model: IRM\n",
      "Encoding time: 0.00s\n",
      "Rearrange time: 0.00s\n",
      "CPU transfer time: 0.06s\n",
      "Mean heatmap computation time: 0.00s\n"
     ]
    },
    {
     "name": "stderr",
     "output_type": "stream",
     "text": [
      " 73%|███████▎  | 229/313 [09:38<03:33,  2.54s/it]"
     ]
    },
    {
     "name": "stdout",
     "output_type": "stream",
     "text": [
      "Heap update time: 0.95s\n",
      "\n",
      "--- Batch 229 ---\n",
      "Processing model: ERM\n",
      "Encoding time: 0.00s\n",
      "Rearrange time: 0.00s\n",
      "CPU transfer time: 0.02s\n",
      "Mean heatmap computation time: 0.00s\n",
      "Heap update time: 1.54s\n",
      "Processing model: IRM\n",
      "Encoding time: 0.00s\n",
      "Rearrange time: 0.00s\n",
      "CPU transfer time: 0.06s\n",
      "Mean heatmap computation time: 0.00s\n"
     ]
    },
    {
     "name": "stderr",
     "output_type": "stream",
     "text": [
      " 73%|███████▎  | 230/313 [09:40<03:33,  2.57s/it]"
     ]
    },
    {
     "name": "stdout",
     "output_type": "stream",
     "text": [
      "Heap update time: 0.97s\n",
      "\n",
      "--- Batch 230 ---\n",
      "Processing model: ERM\n",
      "Encoding time: 0.00s\n",
      "Rearrange time: 0.00s\n",
      "CPU transfer time: 0.06s\n",
      "Mean heatmap computation time: 0.00s\n",
      "Heap update time: 1.58s\n",
      "Processing model: IRM\n",
      "Encoding time: 0.00s\n",
      "Rearrange time: 0.00s\n",
      "CPU transfer time: 0.06s\n",
      "Mean heatmap computation time: 0.00s\n"
     ]
    },
    {
     "name": "stderr",
     "output_type": "stream",
     "text": [
      " 74%|███████▍  | 231/313 [09:43<03:33,  2.61s/it]"
     ]
    },
    {
     "name": "stdout",
     "output_type": "stream",
     "text": [
      "Heap update time: 0.98s\n",
      "\n",
      "--- Batch 231 ---\n",
      "Processing model: ERM\n",
      "Encoding time: 0.00s\n",
      "Rearrange time: 0.00s\n",
      "CPU transfer time: 0.06s\n",
      "Mean heatmap computation time: 0.00s\n",
      "Heap update time: 1.51s\n",
      "Processing model: IRM\n",
      "Encoding time: 0.00s\n",
      "Rearrange time: 0.00s\n",
      "CPU transfer time: 0.06s\n",
      "Mean heatmap computation time: 0.00s\n"
     ]
    },
    {
     "name": "stderr",
     "output_type": "stream",
     "text": [
      " 74%|███████▍  | 232/313 [09:46<03:33,  2.63s/it]"
     ]
    },
    {
     "name": "stdout",
     "output_type": "stream",
     "text": [
      "Heap update time: 1.03s\n",
      "\n",
      "--- Batch 232 ---\n",
      "Processing model: ERM\n",
      "Encoding time: 0.00s\n",
      "Rearrange time: 0.00s\n",
      "CPU transfer time: 0.06s\n",
      "Mean heatmap computation time: 0.00s\n",
      "Heap update time: 1.54s\n",
      "Processing model: IRM\n",
      "Encoding time: 0.00s\n",
      "Rearrange time: 0.00s\n",
      "CPU transfer time: 0.06s\n",
      "Mean heatmap computation time: 0.00s\n"
     ]
    },
    {
     "name": "stderr",
     "output_type": "stream",
     "text": [
      " 74%|███████▍  | 233/313 [09:48<03:29,  2.62s/it]"
     ]
    },
    {
     "name": "stdout",
     "output_type": "stream",
     "text": [
      "Heap update time: 0.89s\n",
      "\n",
      "--- Batch 233 ---\n",
      "Processing model: ERM\n",
      "Encoding time: 0.00s\n",
      "Rearrange time: 0.00s\n",
      "CPU transfer time: 0.06s\n",
      "Mean heatmap computation time: 0.00s\n",
      "Heap update time: 1.38s\n",
      "Processing model: IRM\n",
      "Encoding time: 0.00s\n",
      "Rearrange time: 0.00s\n",
      "CPU transfer time: 0.02s\n",
      "Mean heatmap computation time: 0.00s\n"
     ]
    },
    {
     "name": "stderr",
     "output_type": "stream",
     "text": [
      " 75%|███████▍  | 234/313 [09:51<03:24,  2.58s/it]"
     ]
    },
    {
     "name": "stdout",
     "output_type": "stream",
     "text": [
      "Heap update time: 1.01s\n",
      "\n",
      "--- Batch 234 ---\n",
      "Processing model: ERM\n",
      "Encoding time: 0.00s\n",
      "Rearrange time: 0.00s\n",
      "CPU transfer time: 0.06s\n",
      "Mean heatmap computation time: 0.00s\n",
      "Heap update time: 1.48s\n",
      "Processing model: IRM\n",
      "Encoding time: 0.00s\n",
      "Rearrange time: 0.00s\n",
      "CPU transfer time: 0.06s\n",
      "Mean heatmap computation time: 0.00s\n"
     ]
    },
    {
     "name": "stderr",
     "output_type": "stream",
     "text": [
      " 75%|███████▌  | 235/313 [09:54<03:21,  2.58s/it]"
     ]
    },
    {
     "name": "stdout",
     "output_type": "stream",
     "text": [
      "Heap update time: 0.95s\n",
      "\n",
      "--- Batch 235 ---\n",
      "Processing model: ERM\n",
      "Encoding time: 0.00s\n",
      "Rearrange time: 0.00s\n",
      "CPU transfer time: 0.06s\n",
      "Mean heatmap computation time: 0.00s\n",
      "Heap update time: 1.68s\n",
      "Processing model: IRM\n",
      "Encoding time: 0.00s\n",
      "Rearrange time: 0.00s\n",
      "CPU transfer time: 0.06s\n",
      "Mean heatmap computation time: 0.00s\n"
     ]
    },
    {
     "name": "stderr",
     "output_type": "stream",
     "text": [
      " 75%|███████▌  | 236/313 [09:56<03:23,  2.65s/it]"
     ]
    },
    {
     "name": "stdout",
     "output_type": "stream",
     "text": [
      "Heap update time: 0.98s\n",
      "\n",
      "--- Batch 236 ---\n",
      "Processing model: ERM\n",
      "Encoding time: 0.00s\n",
      "Rearrange time: 0.00s\n",
      "CPU transfer time: 0.06s\n",
      "Mean heatmap computation time: 0.00s\n",
      "Heap update time: 1.42s\n",
      "Processing model: IRM\n",
      "Encoding time: 0.00s\n",
      "Rearrange time: 0.00s\n",
      "CPU transfer time: 0.06s\n",
      "Mean heatmap computation time: 0.00s\n"
     ]
    },
    {
     "name": "stderr",
     "output_type": "stream",
     "text": [
      " 76%|███████▌  | 237/313 [09:59<03:19,  2.62s/it]"
     ]
    },
    {
     "name": "stdout",
     "output_type": "stream",
     "text": [
      "Heap update time: 0.99s\n",
      "\n",
      "--- Batch 237 ---\n",
      "Processing model: ERM\n",
      "Encoding time: 0.00s\n",
      "Rearrange time: 0.00s\n",
      "CPU transfer time: 0.06s\n",
      "Mean heatmap computation time: 0.00s\n",
      "Heap update time: 1.43s\n",
      "Processing model: IRM\n",
      "Encoding time: 0.00s\n",
      "Rearrange time: 0.00s\n",
      "CPU transfer time: 0.07s\n",
      "Mean heatmap computation time: 0.00s\n"
     ]
    },
    {
     "name": "stderr",
     "output_type": "stream",
     "text": [
      " 76%|███████▌  | 238/313 [10:01<03:15,  2.60s/it]"
     ]
    },
    {
     "name": "stdout",
     "output_type": "stream",
     "text": [
      "Heap update time: 0.95s\n",
      "\n",
      "--- Batch 238 ---\n",
      "Processing model: ERM\n",
      "Encoding time: 0.00s\n",
      "Rearrange time: 0.00s\n",
      "CPU transfer time: 0.06s\n",
      "Mean heatmap computation time: 0.00s\n",
      "Heap update time: 1.51s\n",
      "Processing model: IRM\n",
      "Encoding time: 0.00s\n",
      "Rearrange time: 0.00s\n",
      "CPU transfer time: 0.06s\n",
      "Mean heatmap computation time: 0.00s\n"
     ]
    },
    {
     "name": "stderr",
     "output_type": "stream",
     "text": [
      " 76%|███████▋  | 239/313 [10:04<03:12,  2.60s/it]"
     ]
    },
    {
     "name": "stdout",
     "output_type": "stream",
     "text": [
      "Heap update time: 0.93s\n",
      "\n",
      "--- Batch 239 ---\n",
      "Processing model: ERM\n",
      "Encoding time: 0.00s\n",
      "Rearrange time: 0.00s\n",
      "CPU transfer time: 0.06s\n",
      "Mean heatmap computation time: 0.00s\n",
      "Heap update time: 1.41s\n",
      "Processing model: IRM\n",
      "Encoding time: 0.00s\n",
      "Rearrange time: 0.00s\n",
      "CPU transfer time: 0.02s\n",
      "Mean heatmap computation time: 0.00s\n"
     ]
    },
    {
     "name": "stderr",
     "output_type": "stream",
     "text": [
      " 77%|███████▋  | 240/313 [10:06<03:05,  2.54s/it]"
     ]
    },
    {
     "name": "stdout",
     "output_type": "stream",
     "text": [
      "Heap update time: 0.88s\n",
      "\n",
      "--- Batch 240 ---\n",
      "Processing model: ERM\n",
      "Encoding time: 0.00s\n",
      "Rearrange time: 0.00s\n",
      "CPU transfer time: 0.06s\n",
      "Mean heatmap computation time: 0.00s\n",
      "Heap update time: 1.82s\n",
      "Processing model: IRM\n",
      "Encoding time: 0.00s\n",
      "Rearrange time: 0.00s\n",
      "CPU transfer time: 0.06s\n",
      "Mean heatmap computation time: 0.00s\n"
     ]
    },
    {
     "name": "stderr",
     "output_type": "stream",
     "text": [
      " 77%|███████▋  | 241/313 [10:09<03:13,  2.69s/it]"
     ]
    },
    {
     "name": "stdout",
     "output_type": "stream",
     "text": [
      "Heap update time: 1.05s\n",
      "\n",
      "--- Batch 241 ---\n",
      "Processing model: ERM\n",
      "Encoding time: 0.00s\n",
      "Rearrange time: 0.00s\n",
      "CPU transfer time: 0.06s\n",
      "Mean heatmap computation time: 0.00s\n",
      "Heap update time: 1.48s\n",
      "Processing model: IRM\n",
      "Encoding time: 0.00s\n",
      "Rearrange time: 0.00s\n",
      "CPU transfer time: 0.06s\n",
      "Mean heatmap computation time: 0.00s\n"
     ]
    },
    {
     "name": "stderr",
     "output_type": "stream",
     "text": [
      " 77%|███████▋  | 242/313 [10:12<03:07,  2.64s/it]"
     ]
    },
    {
     "name": "stdout",
     "output_type": "stream",
     "text": [
      "Heap update time: 0.90s\n",
      "\n",
      "--- Batch 242 ---\n",
      "Processing model: ERM\n",
      "Encoding time: 0.00s\n",
      "Rearrange time: 0.00s\n",
      "CPU transfer time: 0.06s\n",
      "Mean heatmap computation time: 0.00s\n",
      "Heap update time: 1.44s\n",
      "Processing model: IRM\n",
      "Encoding time: 0.00s\n",
      "Rearrange time: 0.00s\n",
      "CPU transfer time: 0.08s\n",
      "Mean heatmap computation time: 0.00s\n"
     ]
    },
    {
     "name": "stderr",
     "output_type": "stream",
     "text": [
      " 78%|███████▊  | 243/313 [10:15<03:02,  2.61s/it]"
     ]
    },
    {
     "name": "stdout",
     "output_type": "stream",
     "text": [
      "Heap update time: 0.92s\n",
      "\n",
      "--- Batch 243 ---\n",
      "Processing model: ERM\n",
      "Encoding time: 0.00s\n",
      "Rearrange time: 0.00s\n",
      "CPU transfer time: 0.06s\n",
      "Mean heatmap computation time: 0.00s\n",
      "Heap update time: 1.55s\n",
      "Processing model: IRM\n",
      "Encoding time: 0.00s\n",
      "Rearrange time: 0.00s\n",
      "CPU transfer time: 0.06s\n",
      "Mean heatmap computation time: 0.00s\n"
     ]
    },
    {
     "name": "stderr",
     "output_type": "stream",
     "text": [
      " 78%|███████▊  | 244/313 [10:17<03:02,  2.64s/it]"
     ]
    },
    {
     "name": "stdout",
     "output_type": "stream",
     "text": [
      "Heap update time: 1.03s\n",
      "\n",
      "--- Batch 244 ---\n",
      "Processing model: ERM\n",
      "Encoding time: 0.00s\n",
      "Rearrange time: 0.00s\n",
      "CPU transfer time: 0.09s\n",
      "Mean heatmap computation time: 0.00s\n",
      "Heap update time: 1.44s\n",
      "Processing model: IRM\n",
      "Encoding time: 0.00s\n",
      "Rearrange time: 0.00s\n",
      "CPU transfer time: 0.08s\n",
      "Mean heatmap computation time: 0.00s\n"
     ]
    },
    {
     "name": "stderr",
     "output_type": "stream",
     "text": [
      " 78%|███████▊  | 245/313 [10:20<03:00,  2.66s/it]"
     ]
    },
    {
     "name": "stdout",
     "output_type": "stream",
     "text": [
      "Heap update time: 1.04s\n",
      "\n",
      "--- Batch 245 ---\n",
      "Processing model: ERM\n",
      "Encoding time: 0.00s\n",
      "Rearrange time: 0.00s\n",
      "CPU transfer time: 0.06s\n",
      "Mean heatmap computation time: 0.00s\n",
      "Heap update time: 1.49s\n",
      "Processing model: IRM\n",
      "Encoding time: 0.00s\n",
      "Rearrange time: 0.00s\n",
      "CPU transfer time: 0.06s\n",
      "Mean heatmap computation time: 0.00s\n"
     ]
    },
    {
     "name": "stderr",
     "output_type": "stream",
     "text": [
      " 79%|███████▊  | 246/313 [10:23<02:56,  2.63s/it]"
     ]
    },
    {
     "name": "stdout",
     "output_type": "stream",
     "text": [
      "Heap update time: 0.92s\n",
      "\n",
      "--- Batch 246 ---\n",
      "Processing model: ERM\n",
      "Encoding time: 0.00s\n",
      "Rearrange time: 0.00s\n",
      "CPU transfer time: 0.06s\n",
      "Mean heatmap computation time: 0.00s\n",
      "Heap update time: 1.56s\n",
      "Processing model: IRM\n",
      "Encoding time: 0.00s\n",
      "Rearrange time: 0.00s\n",
      "CPU transfer time: 0.06s\n",
      "Mean heatmap computation time: 0.00s\n"
     ]
    },
    {
     "name": "stderr",
     "output_type": "stream",
     "text": [
      " 79%|███████▉  | 247/313 [10:25<02:54,  2.64s/it]"
     ]
    },
    {
     "name": "stdout",
     "output_type": "stream",
     "text": [
      "Heap update time: 0.96s\n",
      "\n",
      "--- Batch 247 ---\n",
      "Processing model: ERM\n",
      "Encoding time: 0.00s\n",
      "Rearrange time: 0.00s\n",
      "CPU transfer time: 0.15s\n",
      "Mean heatmap computation time: 0.00s\n",
      "Heap update time: 1.51s\n",
      "Processing model: IRM\n",
      "Encoding time: 0.00s\n",
      "Rearrange time: 0.00s\n",
      "CPU transfer time: 0.08s\n",
      "Mean heatmap computation time: 0.00s\n"
     ]
    },
    {
     "name": "stderr",
     "output_type": "stream",
     "text": [
      " 79%|███████▉  | 248/313 [10:28<02:55,  2.70s/it]"
     ]
    },
    {
     "name": "stdout",
     "output_type": "stream",
     "text": [
      "Heap update time: 1.06s\n",
      "\n",
      "--- Batch 248 ---\n",
      "Processing model: ERM\n",
      "Encoding time: 0.00s\n",
      "Rearrange time: 0.00s\n",
      "CPU transfer time: 0.06s\n",
      "Mean heatmap computation time: 0.00s\n",
      "Heap update time: 1.56s\n",
      "Processing model: IRM\n",
      "Encoding time: 0.00s\n",
      "Rearrange time: 0.00s\n",
      "CPU transfer time: 0.06s\n",
      "Mean heatmap computation time: 0.00s\n"
     ]
    },
    {
     "name": "stderr",
     "output_type": "stream",
     "text": [
      " 80%|███████▉  | 249/313 [10:31<02:53,  2.70s/it]"
     ]
    },
    {
     "name": "stdout",
     "output_type": "stream",
     "text": [
      "Heap update time: 0.99s\n",
      "\n",
      "--- Batch 249 ---\n",
      "Processing model: ERM\n",
      "Encoding time: 0.01s\n",
      "Rearrange time: 0.00s\n",
      "CPU transfer time: 0.06s\n",
      "Mean heatmap computation time: 0.00s\n",
      "Heap update time: 1.47s\n",
      "Processing model: IRM\n",
      "Encoding time: 0.00s\n",
      "Rearrange time: 0.00s\n",
      "CPU transfer time: 0.06s\n",
      "Mean heatmap computation time: 0.00s\n"
     ]
    },
    {
     "name": "stderr",
     "output_type": "stream",
     "text": [
      " 80%|███████▉  | 250/313 [10:33<02:46,  2.64s/it]"
     ]
    },
    {
     "name": "stdout",
     "output_type": "stream",
     "text": [
      "Heap update time: 0.88s\n",
      "\n",
      "--- Batch 250 ---\n",
      "Processing model: ERM\n",
      "Encoding time: 0.00s\n",
      "Rearrange time: 0.00s\n",
      "CPU transfer time: 0.06s\n",
      "Mean heatmap computation time: 0.00s\n",
      "Heap update time: 1.52s\n",
      "Processing model: IRM\n",
      "Encoding time: 0.00s\n",
      "Rearrange time: 0.00s\n",
      "CPU transfer time: 0.06s\n",
      "Mean heatmap computation time: 0.00s\n"
     ]
    },
    {
     "name": "stderr",
     "output_type": "stream",
     "text": [
      " 80%|████████  | 251/313 [10:36<02:43,  2.63s/it]"
     ]
    },
    {
     "name": "stdout",
     "output_type": "stream",
     "text": [
      "Heap update time: 0.95s\n",
      "\n",
      "--- Batch 251 ---\n",
      "Processing model: ERM\n",
      "Encoding time: 0.00s\n",
      "Rearrange time: 0.00s\n",
      "CPU transfer time: 0.06s\n",
      "Mean heatmap computation time: 0.00s\n",
      "Heap update time: 1.58s\n",
      "Processing model: IRM\n",
      "Encoding time: 0.00s\n",
      "Rearrange time: 0.00s\n",
      "CPU transfer time: 0.06s\n",
      "Mean heatmap computation time: 0.00s\n"
     ]
    },
    {
     "name": "stderr",
     "output_type": "stream",
     "text": [
      " 81%|████████  | 252/313 [10:38<02:41,  2.64s/it]"
     ]
    },
    {
     "name": "stdout",
     "output_type": "stream",
     "text": [
      "Heap update time: 0.94s\n",
      "\n",
      "--- Batch 252 ---\n",
      "Processing model: ERM\n",
      "Encoding time: 0.00s\n",
      "Rearrange time: 0.00s\n",
      "CPU transfer time: 0.06s\n",
      "Mean heatmap computation time: 0.00s\n",
      "Heap update time: 1.56s\n",
      "Processing model: IRM\n",
      "Encoding time: 0.00s\n",
      "Rearrange time: 0.00s\n",
      "CPU transfer time: 0.06s\n",
      "Mean heatmap computation time: 0.00s\n"
     ]
    },
    {
     "name": "stderr",
     "output_type": "stream",
     "text": [
      " 81%|████████  | 253/313 [10:41<02:39,  2.65s/it]"
     ]
    },
    {
     "name": "stdout",
     "output_type": "stream",
     "text": [
      "Heap update time: 0.97s\n",
      "\n",
      "--- Batch 253 ---\n",
      "Processing model: ERM\n",
      "Encoding time: 0.00s\n",
      "Rearrange time: 0.00s\n",
      "CPU transfer time: 0.06s\n",
      "Mean heatmap computation time: 0.00s\n",
      "Heap update time: 1.46s\n",
      "Processing model: IRM\n",
      "Encoding time: 0.00s\n",
      "Rearrange time: 0.00s\n",
      "CPU transfer time: 0.06s\n",
      "Mean heatmap computation time: 0.00s\n"
     ]
    },
    {
     "name": "stderr",
     "output_type": "stream",
     "text": [
      " 81%|████████  | 254/313 [10:44<02:35,  2.64s/it]"
     ]
    },
    {
     "name": "stdout",
     "output_type": "stream",
     "text": [
      "Heap update time: 0.99s\n",
      "\n",
      "--- Batch 254 ---\n",
      "Processing model: ERM\n",
      "Encoding time: 0.00s\n",
      "Rearrange time: 0.00s\n",
      "CPU transfer time: 0.06s\n",
      "Mean heatmap computation time: 0.00s\n",
      "Heap update time: 1.46s\n",
      "Processing model: IRM\n",
      "Encoding time: 0.00s\n",
      "Rearrange time: 0.00s\n",
      "CPU transfer time: 0.19s\n",
      "Mean heatmap computation time: 0.00s\n"
     ]
    },
    {
     "name": "stderr",
     "output_type": "stream",
     "text": [
      " 81%|████████▏ | 255/313 [10:46<02:33,  2.65s/it]"
     ]
    },
    {
     "name": "stdout",
     "output_type": "stream",
     "text": [
      "Heap update time: 0.93s\n",
      "\n",
      "--- Batch 255 ---\n",
      "Processing model: ERM\n",
      "Encoding time: 0.00s\n",
      "Rearrange time: 0.00s\n",
      "CPU transfer time: 0.06s\n",
      "Mean heatmap computation time: 0.00s\n",
      "Heap update time: 1.40s\n",
      "Processing model: IRM\n",
      "Encoding time: 0.00s\n",
      "Rearrange time: 0.00s\n",
      "CPU transfer time: 0.06s\n",
      "Mean heatmap computation time: 0.00s\n"
     ]
    },
    {
     "name": "stderr",
     "output_type": "stream",
     "text": [
      " 82%|████████▏ | 256/313 [10:49<02:29,  2.62s/it]"
     ]
    },
    {
     "name": "stdout",
     "output_type": "stream",
     "text": [
      "Heap update time: 1.01s\n",
      "\n",
      "--- Batch 256 ---\n",
      "Processing model: ERM\n",
      "Encoding time: 0.00s\n",
      "Rearrange time: 0.00s\n",
      "CPU transfer time: 0.06s\n",
      "Mean heatmap computation time: 0.00s\n",
      "Heap update time: 1.62s\n",
      "Processing model: IRM\n",
      "Encoding time: 0.00s\n",
      "Rearrange time: 0.00s\n",
      "CPU transfer time: 0.06s\n",
      "Mean heatmap computation time: 0.00s\n"
     ]
    },
    {
     "name": "stderr",
     "output_type": "stream",
     "text": [
      " 82%|████████▏ | 257/313 [10:52<02:29,  2.66s/it]"
     ]
    },
    {
     "name": "stdout",
     "output_type": "stream",
     "text": [
      "Heap update time: 0.98s\n",
      "\n",
      "--- Batch 257 ---\n",
      "Processing model: ERM\n",
      "Encoding time: 0.00s\n",
      "Rearrange time: 0.00s\n",
      "CPU transfer time: 0.06s\n",
      "Mean heatmap computation time: 0.00s\n",
      "Heap update time: 1.48s\n",
      "Processing model: IRM\n",
      "Encoding time: 0.00s\n",
      "Rearrange time: 0.00s\n",
      "CPU transfer time: 0.06s\n",
      "Mean heatmap computation time: 0.00s\n"
     ]
    },
    {
     "name": "stderr",
     "output_type": "stream",
     "text": [
      " 82%|████████▏ | 258/313 [10:54<02:23,  2.61s/it]"
     ]
    },
    {
     "name": "stdout",
     "output_type": "stream",
     "text": [
      "Heap update time: 0.87s\n",
      "\n",
      "--- Batch 258 ---\n",
      "Processing model: ERM\n",
      "Encoding time: 0.00s\n",
      "Rearrange time: 0.00s\n",
      "CPU transfer time: 0.06s\n",
      "Mean heatmap computation time: 0.00s\n",
      "Heap update time: 1.46s\n",
      "Processing model: IRM\n",
      "Encoding time: 0.00s\n",
      "Rearrange time: 0.00s\n",
      "CPU transfer time: 0.06s\n",
      "Mean heatmap computation time: 0.00s\n"
     ]
    },
    {
     "name": "stderr",
     "output_type": "stream",
     "text": [
      " 83%|████████▎ | 259/313 [10:57<02:19,  2.58s/it]"
     ]
    },
    {
     "name": "stdout",
     "output_type": "stream",
     "text": [
      "Heap update time: 0.90s\n",
      "\n",
      "--- Batch 259 ---\n",
      "Processing model: ERM\n",
      "Encoding time: 0.00s\n",
      "Rearrange time: 0.00s\n",
      "CPU transfer time: 0.06s\n",
      "Mean heatmap computation time: 0.00s\n",
      "Heap update time: 1.49s\n",
      "Processing model: IRM\n",
      "Encoding time: 0.00s\n",
      "Rearrange time: 0.00s\n",
      "CPU transfer time: 0.06s\n",
      "Mean heatmap computation time: 0.00s\n"
     ]
    },
    {
     "name": "stderr",
     "output_type": "stream",
     "text": [
      " 83%|████████▎ | 260/313 [11:00<02:20,  2.65s/it]"
     ]
    },
    {
     "name": "stdout",
     "output_type": "stream",
     "text": [
      "Heap update time: 1.16s\n",
      "\n",
      "--- Batch 260 ---\n",
      "Processing model: ERM\n",
      "Encoding time: 0.00s\n",
      "Rearrange time: 0.00s\n",
      "CPU transfer time: 0.06s\n",
      "Mean heatmap computation time: 0.00s\n",
      "Heap update time: 1.41s\n",
      "Processing model: IRM\n",
      "Encoding time: 0.00s\n",
      "Rearrange time: 0.00s\n",
      "CPU transfer time: 0.06s\n",
      "Mean heatmap computation time: 0.00s\n"
     ]
    },
    {
     "name": "stderr",
     "output_type": "stream",
     "text": [
      " 83%|████████▎ | 261/313 [11:02<02:14,  2.58s/it]"
     ]
    },
    {
     "name": "stdout",
     "output_type": "stream",
     "text": [
      "Heap update time: 0.87s\n",
      "\n",
      "--- Batch 261 ---\n",
      "Processing model: ERM\n",
      "Encoding time: 0.00s\n",
      "Rearrange time: 0.00s\n",
      "CPU transfer time: 0.06s\n",
      "Mean heatmap computation time: 0.00s\n",
      "Heap update time: 1.50s\n",
      "Processing model: IRM\n",
      "Encoding time: 0.00s\n",
      "Rearrange time: 0.00s\n",
      "CPU transfer time: 0.02s\n",
      "Mean heatmap computation time: 0.00s\n"
     ]
    },
    {
     "name": "stderr",
     "output_type": "stream",
     "text": [
      " 84%|████████▎ | 262/313 [11:05<02:10,  2.57s/it]"
     ]
    },
    {
     "name": "stdout",
     "output_type": "stream",
     "text": [
      "Heap update time: 0.92s\n",
      "\n",
      "--- Batch 262 ---\n",
      "Processing model: ERM\n",
      "Encoding time: 0.00s\n",
      "Rearrange time: 0.00s\n",
      "CPU transfer time: 0.06s\n",
      "Mean heatmap computation time: 0.00s\n",
      "Heap update time: 1.50s\n",
      "Processing model: IRM\n",
      "Encoding time: 0.00s\n",
      "Rearrange time: 0.00s\n",
      "CPU transfer time: 0.06s\n",
      "Mean heatmap computation time: 0.00s\n"
     ]
    },
    {
     "name": "stderr",
     "output_type": "stream",
     "text": [
      " 84%|████████▍ | 263/313 [11:07<02:09,  2.60s/it]"
     ]
    },
    {
     "name": "stdout",
     "output_type": "stream",
     "text": [
      "Heap update time: 1.02s\n",
      "\n",
      "--- Batch 263 ---\n",
      "Processing model: ERM\n",
      "Encoding time: 0.00s\n",
      "Rearrange time: 0.00s\n",
      "CPU transfer time: 0.06s\n",
      "Mean heatmap computation time: 0.00s\n",
      "Heap update time: 1.51s\n",
      "Processing model: IRM\n",
      "Encoding time: 0.00s\n",
      "Rearrange time: 0.00s\n",
      "CPU transfer time: 0.06s\n",
      "Mean heatmap computation time: 0.00s\n"
     ]
    },
    {
     "name": "stderr",
     "output_type": "stream",
     "text": [
      " 84%|████████▍ | 264/313 [11:10<02:07,  2.60s/it]"
     ]
    },
    {
     "name": "stdout",
     "output_type": "stream",
     "text": [
      "Heap update time: 0.95s\n",
      "\n",
      "--- Batch 264 ---\n",
      "Processing model: ERM\n",
      "Encoding time: 0.00s\n",
      "Rearrange time: 0.00s\n",
      "CPU transfer time: 0.02s\n",
      "Mean heatmap computation time: 0.00s\n",
      "Heap update time: 1.48s\n",
      "Processing model: IRM\n",
      "Encoding time: 0.00s\n",
      "Rearrange time: 0.00s\n",
      "CPU transfer time: 0.06s\n",
      "Mean heatmap computation time: 0.00s\n"
     ]
    },
    {
     "name": "stderr",
     "output_type": "stream",
     "text": [
      " 85%|████████▍ | 265/313 [11:12<02:03,  2.58s/it]"
     ]
    },
    {
     "name": "stdout",
     "output_type": "stream",
     "text": [
      "Heap update time: 0.92s\n",
      "\n",
      "--- Batch 265 ---\n",
      "Processing model: ERM\n",
      "Encoding time: 0.00s\n",
      "Rearrange time: 0.00s\n",
      "CPU transfer time: 0.06s\n",
      "Mean heatmap computation time: 0.00s\n",
      "Heap update time: 1.43s\n",
      "Processing model: IRM\n",
      "Encoding time: 0.00s\n",
      "Rearrange time: 0.00s\n",
      "CPU transfer time: 0.06s\n",
      "Mean heatmap computation time: 0.00s\n"
     ]
    },
    {
     "name": "stderr",
     "output_type": "stream",
     "text": [
      " 85%|████████▍ | 266/313 [11:15<01:59,  2.54s/it]"
     ]
    },
    {
     "name": "stdout",
     "output_type": "stream",
     "text": [
      "Heap update time: 0.89s\n",
      "\n",
      "--- Batch 266 ---\n",
      "Processing model: ERM\n",
      "Encoding time: 0.00s\n",
      "Rearrange time: 0.00s\n",
      "CPU transfer time: 0.06s\n",
      "Mean heatmap computation time: 0.00s\n",
      "Heap update time: 1.42s\n",
      "Processing model: IRM\n",
      "Encoding time: 0.00s\n",
      "Rearrange time: 0.00s\n",
      "CPU transfer time: 0.02s\n",
      "Mean heatmap computation time: 0.00s\n"
     ]
    },
    {
     "name": "stderr",
     "output_type": "stream",
     "text": [
      " 85%|████████▌ | 267/313 [11:17<01:56,  2.53s/it]"
     ]
    },
    {
     "name": "stdout",
     "output_type": "stream",
     "text": [
      "Heap update time: 0.95s\n",
      "\n",
      "--- Batch 267 ---\n",
      "Processing model: ERM\n",
      "Encoding time: 0.00s\n",
      "Rearrange time: 0.00s\n",
      "CPU transfer time: 0.07s\n",
      "Mean heatmap computation time: 0.00s\n",
      "Heap update time: 1.43s\n",
      "Processing model: IRM\n",
      "Encoding time: 0.00s\n",
      "Rearrange time: 0.00s\n",
      "CPU transfer time: 0.06s\n",
      "Mean heatmap computation time: 0.00s\n"
     ]
    },
    {
     "name": "stderr",
     "output_type": "stream",
     "text": [
      " 86%|████████▌ | 268/313 [11:20<01:54,  2.54s/it]"
     ]
    },
    {
     "name": "stdout",
     "output_type": "stream",
     "text": [
      "Heap update time: 0.98s\n",
      "\n",
      "--- Batch 268 ---\n",
      "Processing model: ERM\n",
      "Encoding time: 0.00s\n",
      "Rearrange time: 0.00s\n",
      "CPU transfer time: 0.06s\n",
      "Mean heatmap computation time: 0.00s\n",
      "Heap update time: 1.40s\n",
      "Processing model: IRM\n",
      "Encoding time: 0.00s\n",
      "Rearrange time: 0.00s\n",
      "CPU transfer time: 0.06s\n",
      "Mean heatmap computation time: 0.00s\n"
     ]
    },
    {
     "name": "stderr",
     "output_type": "stream",
     "text": [
      " 86%|████████▌ | 269/313 [11:22<01:51,  2.53s/it]"
     ]
    },
    {
     "name": "stdout",
     "output_type": "stream",
     "text": [
      "Heap update time: 0.94s\n",
      "\n",
      "--- Batch 269 ---\n",
      "Processing model: ERM\n",
      "Encoding time: 0.00s\n",
      "Rearrange time: 0.00s\n",
      "CPU transfer time: 0.06s\n",
      "Mean heatmap computation time: 0.00s\n",
      "Heap update time: 1.48s\n",
      "Processing model: IRM\n",
      "Encoding time: 0.00s\n",
      "Rearrange time: 0.00s\n",
      "CPU transfer time: 0.07s\n",
      "Mean heatmap computation time: 0.00s\n"
     ]
    },
    {
     "name": "stderr",
     "output_type": "stream",
     "text": [
      " 86%|████████▋ | 270/313 [11:25<01:48,  2.53s/it]"
     ]
    },
    {
     "name": "stdout",
     "output_type": "stream",
     "text": [
      "Heap update time: 0.91s\n",
      "\n",
      "--- Batch 270 ---\n",
      "Processing model: ERM\n",
      "Encoding time: 0.00s\n",
      "Rearrange time: 0.00s\n",
      "CPU transfer time: 0.06s\n",
      "Mean heatmap computation time: 0.00s\n",
      "Heap update time: 1.37s\n",
      "Processing model: IRM\n",
      "Encoding time: 0.00s\n",
      "Rearrange time: 0.00s\n",
      "CPU transfer time: 0.03s\n",
      "Mean heatmap computation time: 0.00s\n"
     ]
    },
    {
     "name": "stderr",
     "output_type": "stream",
     "text": [
      " 87%|████████▋ | 271/313 [11:27<01:44,  2.50s/it]"
     ]
    },
    {
     "name": "stdout",
     "output_type": "stream",
     "text": [
      "Heap update time: 0.93s\n",
      "\n",
      "--- Batch 271 ---\n",
      "Processing model: ERM\n",
      "Encoding time: 0.00s\n",
      "Rearrange time: 0.00s\n",
      "CPU transfer time: 0.06s\n",
      "Mean heatmap computation time: 0.00s\n",
      "Heap update time: 1.42s\n",
      "Processing model: IRM\n",
      "Encoding time: 0.00s\n",
      "Rearrange time: 0.00s\n",
      "CPU transfer time: 0.06s\n",
      "Mean heatmap computation time: 0.00s\n"
     ]
    },
    {
     "name": "stderr",
     "output_type": "stream",
     "text": [
      " 87%|████████▋ | 272/313 [11:30<01:43,  2.53s/it]"
     ]
    },
    {
     "name": "stdout",
     "output_type": "stream",
     "text": [
      "Heap update time: 1.02s\n",
      "\n",
      "--- Batch 272 ---\n",
      "Processing model: ERM\n",
      "Encoding time: 0.00s\n",
      "Rearrange time: 0.00s\n",
      "CPU transfer time: 0.06s\n",
      "Mean heatmap computation time: 0.00s\n",
      "Heap update time: 1.59s\n",
      "Processing model: IRM\n",
      "Encoding time: 0.00s\n",
      "Rearrange time: 0.00s\n",
      "CPU transfer time: 0.08s\n",
      "Mean heatmap computation time: 0.00s\n"
     ]
    },
    {
     "name": "stderr",
     "output_type": "stream",
     "text": [
      " 87%|████████▋ | 273/313 [11:33<01:43,  2.59s/it]"
     ]
    },
    {
     "name": "stdout",
     "output_type": "stream",
     "text": [
      "Heap update time: 0.97s\n",
      "\n",
      "--- Batch 273 ---\n",
      "Processing model: ERM\n",
      "Encoding time: 0.00s\n",
      "Rearrange time: 0.00s\n",
      "CPU transfer time: 0.03s\n",
      "Mean heatmap computation time: 0.00s\n",
      "Heap update time: 1.47s\n",
      "Processing model: IRM\n",
      "Encoding time: 0.00s\n",
      "Rearrange time: 0.00s\n",
      "CPU transfer time: 0.04s\n",
      "Mean heatmap computation time: 0.00s\n"
     ]
    },
    {
     "name": "stderr",
     "output_type": "stream",
     "text": [
      " 88%|████████▊ | 274/313 [11:35<01:39,  2.55s/it]"
     ]
    },
    {
     "name": "stdout",
     "output_type": "stream",
     "text": [
      "Heap update time: 0.88s\n",
      "\n",
      "--- Batch 274 ---\n",
      "Processing model: ERM\n",
      "Encoding time: 0.00s\n",
      "Rearrange time: 0.00s\n",
      "CPU transfer time: 0.04s\n",
      "Mean heatmap computation time: 0.00s\n",
      "Heap update time: 1.40s\n",
      "Processing model: IRM\n",
      "Encoding time: 0.00s\n",
      "Rearrange time: 0.00s\n",
      "CPU transfer time: 0.06s\n",
      "Mean heatmap computation time: 0.00s\n"
     ]
    },
    {
     "name": "stderr",
     "output_type": "stream",
     "text": [
      " 88%|████████▊ | 275/313 [11:38<01:36,  2.53s/it]"
     ]
    },
    {
     "name": "stdout",
     "output_type": "stream",
     "text": [
      "Heap update time: 0.96s\n",
      "\n",
      "--- Batch 275 ---\n",
      "Processing model: ERM\n",
      "Encoding time: 0.00s\n",
      "Rearrange time: 0.00s\n",
      "CPU transfer time: 0.06s\n",
      "Mean heatmap computation time: 0.00s\n",
      "Heap update time: 1.41s\n",
      "Processing model: IRM\n",
      "Encoding time: 0.00s\n",
      "Rearrange time: 0.00s\n",
      "CPU transfer time: 0.06s\n",
      "Mean heatmap computation time: 0.00s\n"
     ]
    },
    {
     "name": "stderr",
     "output_type": "stream",
     "text": [
      " 88%|████████▊ | 276/313 [11:40<01:33,  2.53s/it]"
     ]
    },
    {
     "name": "stdout",
     "output_type": "stream",
     "text": [
      "Heap update time: 0.98s\n",
      "\n",
      "--- Batch 276 ---\n",
      "Processing model: ERM\n",
      "Encoding time: 0.00s\n",
      "Rearrange time: 0.00s\n",
      "CPU transfer time: 0.06s\n",
      "Mean heatmap computation time: 0.00s\n",
      "Heap update time: 1.51s\n",
      "Processing model: IRM\n",
      "Encoding time: 0.00s\n",
      "Rearrange time: 0.00s\n",
      "CPU transfer time: 0.06s\n",
      "Mean heatmap computation time: 0.00s\n"
     ]
    },
    {
     "name": "stderr",
     "output_type": "stream",
     "text": [
      " 88%|████████▊ | 277/313 [11:43<01:33,  2.61s/it]"
     ]
    },
    {
     "name": "stdout",
     "output_type": "stream",
     "text": [
      "Heap update time: 1.12s\n",
      "\n",
      "--- Batch 277 ---\n",
      "Processing model: ERM\n",
      "Encoding time: 0.00s\n",
      "Rearrange time: 0.00s\n",
      "CPU transfer time: 0.06s\n",
      "Mean heatmap computation time: 0.00s\n",
      "Heap update time: 1.43s\n",
      "Processing model: IRM\n",
      "Encoding time: 0.00s\n",
      "Rearrange time: 0.00s\n",
      "CPU transfer time: 0.06s\n",
      "Mean heatmap computation time: 0.00s\n"
     ]
    },
    {
     "name": "stderr",
     "output_type": "stream",
     "text": [
      " 89%|████████▉ | 278/313 [11:45<01:29,  2.56s/it]"
     ]
    },
    {
     "name": "stdout",
     "output_type": "stream",
     "text": [
      "Heap update time: 0.87s\n",
      "\n",
      "--- Batch 278 ---\n",
      "Processing model: ERM\n",
      "Encoding time: 0.00s\n",
      "Rearrange time: 0.00s\n",
      "CPU transfer time: 0.03s\n",
      "Mean heatmap computation time: 0.00s\n",
      "Heap update time: 1.50s\n",
      "Processing model: IRM\n",
      "Encoding time: 0.00s\n",
      "Rearrange time: 0.00s\n",
      "CPU transfer time: 0.06s\n",
      "Mean heatmap computation time: 0.00s\n"
     ]
    },
    {
     "name": "stderr",
     "output_type": "stream",
     "text": [
      " 89%|████████▉ | 279/313 [11:48<01:27,  2.56s/it]"
     ]
    },
    {
     "name": "stdout",
     "output_type": "stream",
     "text": [
      "Heap update time: 0.94s\n",
      "\n",
      "--- Batch 279 ---\n",
      "Processing model: ERM\n",
      "Encoding time: 0.00s\n",
      "Rearrange time: 0.00s\n",
      "CPU transfer time: 0.07s\n",
      "Mean heatmap computation time: 0.00s\n",
      "Heap update time: 1.64s\n",
      "Processing model: IRM\n",
      "Encoding time: 0.00s\n",
      "Rearrange time: 0.00s\n",
      "CPU transfer time: 0.07s\n",
      "Mean heatmap computation time: 0.00s\n"
     ]
    },
    {
     "name": "stderr",
     "output_type": "stream",
     "text": [
      " 89%|████████▉ | 280/313 [11:51<01:27,  2.64s/it]"
     ]
    },
    {
     "name": "stdout",
     "output_type": "stream",
     "text": [
      "Heap update time: 1.01s\n",
      "\n",
      "--- Batch 280 ---\n",
      "Processing model: ERM\n",
      "Encoding time: 0.00s\n",
      "Rearrange time: 0.00s\n",
      "CPU transfer time: 0.06s\n",
      "Mean heatmap computation time: 0.00s\n",
      "Heap update time: 1.47s\n",
      "Processing model: IRM\n",
      "Encoding time: 0.00s\n",
      "Rearrange time: 0.00s\n",
      "CPU transfer time: 0.07s\n",
      "Mean heatmap computation time: 0.00s\n"
     ]
    },
    {
     "name": "stderr",
     "output_type": "stream",
     "text": [
      " 90%|████████▉ | 281/313 [11:53<01:23,  2.61s/it]"
     ]
    },
    {
     "name": "stdout",
     "output_type": "stream",
     "text": [
      "Heap update time: 0.92s\n",
      "\n",
      "--- Batch 281 ---\n",
      "Processing model: ERM\n",
      "Encoding time: 0.00s\n",
      "Rearrange time: 0.00s\n",
      "CPU transfer time: 0.08s\n",
      "Mean heatmap computation time: 0.00s\n",
      "Heap update time: 1.58s\n",
      "Processing model: IRM\n",
      "Encoding time: 0.00s\n",
      "Rearrange time: 0.00s\n",
      "CPU transfer time: 0.06s\n",
      "Mean heatmap computation time: 0.00s\n"
     ]
    },
    {
     "name": "stderr",
     "output_type": "stream",
     "text": [
      " 90%|█████████ | 282/313 [11:56<01:21,  2.62s/it]"
     ]
    },
    {
     "name": "stdout",
     "output_type": "stream",
     "text": [
      "Heap update time: 0.89s\n",
      "\n",
      "--- Batch 282 ---\n",
      "Processing model: ERM\n",
      "Encoding time: 0.00s\n",
      "Rearrange time: 0.00s\n",
      "CPU transfer time: 0.06s\n",
      "Mean heatmap computation time: 0.00s\n",
      "Heap update time: 1.43s\n",
      "Processing model: IRM\n",
      "Encoding time: 0.00s\n",
      "Rearrange time: 0.00s\n",
      "CPU transfer time: 0.06s\n",
      "Mean heatmap computation time: 0.00s\n"
     ]
    },
    {
     "name": "stderr",
     "output_type": "stream",
     "text": [
      " 90%|█████████ | 283/313 [11:58<01:17,  2.57s/it]"
     ]
    },
    {
     "name": "stdout",
     "output_type": "stream",
     "text": [
      "Heap update time: 0.88s\n",
      "\n",
      "--- Batch 283 ---\n",
      "Processing model: ERM\n",
      "Encoding time: 0.00s\n",
      "Rearrange time: 0.00s\n",
      "CPU transfer time: 0.03s\n",
      "Mean heatmap computation time: 0.00s\n",
      "Heap update time: 1.50s\n",
      "Processing model: IRM\n",
      "Encoding time: 0.00s\n",
      "Rearrange time: 0.00s\n",
      "CPU transfer time: 0.06s\n",
      "Mean heatmap computation time: 0.00s\n"
     ]
    },
    {
     "name": "stderr",
     "output_type": "stream",
     "text": [
      " 91%|█████████ | 284/313 [12:01<01:13,  2.55s/it]"
     ]
    },
    {
     "name": "stdout",
     "output_type": "stream",
     "text": [
      "Heap update time: 0.87s\n",
      "\n",
      "--- Batch 284 ---\n",
      "Processing model: ERM\n",
      "Encoding time: 0.00s\n",
      "Rearrange time: 0.00s\n",
      "CPU transfer time: 0.06s\n",
      "Mean heatmap computation time: 0.00s\n",
      "Heap update time: 1.52s\n",
      "Processing model: IRM\n",
      "Encoding time: 0.00s\n",
      "Rearrange time: 0.00s\n",
      "CPU transfer time: 0.07s\n",
      "Mean heatmap computation time: 0.00s\n"
     ]
    },
    {
     "name": "stderr",
     "output_type": "stream",
     "text": [
      " 91%|█████████ | 285/313 [12:04<01:12,  2.59s/it]"
     ]
    },
    {
     "name": "stdout",
     "output_type": "stream",
     "text": [
      "Heap update time: 0.99s\n",
      "\n",
      "--- Batch 285 ---\n",
      "Processing model: ERM\n",
      "Encoding time: 0.00s\n",
      "Rearrange time: 0.00s\n",
      "CPU transfer time: 0.09s\n",
      "Mean heatmap computation time: 0.00s\n",
      "Heap update time: 1.57s\n",
      "Processing model: IRM\n",
      "Encoding time: 0.00s\n",
      "Rearrange time: 0.00s\n",
      "CPU transfer time: 0.07s\n",
      "Mean heatmap computation time: 0.00s\n"
     ]
    },
    {
     "name": "stderr",
     "output_type": "stream",
     "text": [
      " 91%|█████████▏| 286/313 [12:06<01:10,  2.60s/it]"
     ]
    },
    {
     "name": "stdout",
     "output_type": "stream",
     "text": [
      "Heap update time: 0.87s\n",
      "\n",
      "--- Batch 286 ---\n",
      "Processing model: ERM\n",
      "Encoding time: 0.00s\n",
      "Rearrange time: 0.00s\n",
      "CPU transfer time: 0.07s\n",
      "Mean heatmap computation time: 0.00s\n",
      "Heap update time: 1.54s\n",
      "Processing model: IRM\n",
      "Encoding time: 0.00s\n",
      "Rearrange time: 0.00s\n",
      "CPU transfer time: 0.09s\n",
      "Mean heatmap computation time: 0.00s\n"
     ]
    },
    {
     "name": "stderr",
     "output_type": "stream",
     "text": [
      " 92%|█████████▏| 287/313 [12:09<01:08,  2.62s/it]"
     ]
    },
    {
     "name": "stdout",
     "output_type": "stream",
     "text": [
      "Heap update time: 0.96s\n",
      "\n",
      "--- Batch 287 ---\n",
      "Processing model: ERM\n",
      "Encoding time: 0.00s\n",
      "Rearrange time: 0.00s\n",
      "CPU transfer time: 0.07s\n",
      "Mean heatmap computation time: 0.00s\n",
      "Heap update time: 1.49s\n",
      "Processing model: IRM\n",
      "Encoding time: 0.00s\n",
      "Rearrange time: 0.00s\n",
      "CPU transfer time: 0.07s\n",
      "Mean heatmap computation time: 0.00s\n"
     ]
    },
    {
     "name": "stderr",
     "output_type": "stream",
     "text": [
      " 92%|█████████▏| 288/313 [12:11<01:05,  2.61s/it]"
     ]
    },
    {
     "name": "stdout",
     "output_type": "stream",
     "text": [
      "Heap update time: 0.93s\n",
      "\n",
      "--- Batch 288 ---\n",
      "Processing model: ERM\n",
      "Encoding time: 0.00s\n",
      "Rearrange time: 0.00s\n",
      "CPU transfer time: 0.06s\n",
      "Mean heatmap computation time: 0.00s\n",
      "Heap update time: 1.51s\n",
      "Processing model: IRM\n",
      "Encoding time: 0.00s\n",
      "Rearrange time: 0.00s\n",
      "CPU transfer time: 0.07s\n",
      "Mean heatmap computation time: 0.00s\n"
     ]
    },
    {
     "name": "stderr",
     "output_type": "stream",
     "text": [
      " 92%|█████████▏| 289/313 [12:14<01:02,  2.61s/it]"
     ]
    },
    {
     "name": "stdout",
     "output_type": "stream",
     "text": [
      "Heap update time: 0.92s\n",
      "\n",
      "--- Batch 289 ---\n",
      "Processing model: ERM\n",
      "Encoding time: 0.00s\n",
      "Rearrange time: 0.00s\n",
      "CPU transfer time: 0.08s\n",
      "Mean heatmap computation time: 0.00s\n",
      "Heap update time: 1.38s\n",
      "Processing model: IRM\n",
      "Encoding time: 0.00s\n",
      "Rearrange time: 0.00s\n",
      "CPU transfer time: 0.07s\n",
      "Mean heatmap computation time: 0.00s\n"
     ]
    },
    {
     "name": "stderr",
     "output_type": "stream",
     "text": [
      " 93%|█████████▎| 290/313 [12:17<00:59,  2.57s/it]"
     ]
    },
    {
     "name": "stdout",
     "output_type": "stream",
     "text": [
      "Heap update time: 0.91s\n",
      "\n",
      "--- Batch 290 ---\n",
      "Processing model: ERM\n",
      "Encoding time: 0.00s\n",
      "Rearrange time: 0.00s\n",
      "CPU transfer time: 0.06s\n",
      "Mean heatmap computation time: 0.00s\n",
      "Heap update time: 1.47s\n",
      "Processing model: IRM\n",
      "Encoding time: 0.00s\n",
      "Rearrange time: 0.00s\n",
      "CPU transfer time: 0.09s\n",
      "Mean heatmap computation time: 0.00s\n"
     ]
    },
    {
     "name": "stderr",
     "output_type": "stream",
     "text": [
      " 93%|█████████▎| 291/313 [12:19<00:56,  2.59s/it]"
     ]
    },
    {
     "name": "stdout",
     "output_type": "stream",
     "text": [
      "Heap update time: 0.97s\n",
      "\n",
      "--- Batch 291 ---\n",
      "Processing model: ERM\n",
      "Encoding time: 0.00s\n",
      "Rearrange time: 0.00s\n",
      "CPU transfer time: 0.07s\n",
      "Mean heatmap computation time: 0.00s\n",
      "Heap update time: 1.49s\n",
      "Processing model: IRM\n",
      "Encoding time: 0.00s\n",
      "Rearrange time: 0.00s\n",
      "CPU transfer time: 0.09s\n",
      "Mean heatmap computation time: 0.00s\n"
     ]
    },
    {
     "name": "stderr",
     "output_type": "stream",
     "text": [
      " 93%|█████████▎| 292/313 [12:22<00:54,  2.61s/it]"
     ]
    },
    {
     "name": "stdout",
     "output_type": "stream",
     "text": [
      "Heap update time: 0.97s\n",
      "\n",
      "--- Batch 292 ---\n",
      "Processing model: ERM\n",
      "Encoding time: 0.00s\n",
      "Rearrange time: 0.00s\n",
      "CPU transfer time: 0.06s\n",
      "Mean heatmap computation time: 0.00s\n",
      "Heap update time: 1.45s\n",
      "Processing model: IRM\n",
      "Encoding time: 0.00s\n",
      "Rearrange time: 0.00s\n",
      "CPU transfer time: 0.08s\n",
      "Mean heatmap computation time: 0.00s\n"
     ]
    },
    {
     "name": "stderr",
     "output_type": "stream",
     "text": [
      " 94%|█████████▎| 293/313 [12:24<00:52,  2.60s/it]"
     ]
    },
    {
     "name": "stdout",
     "output_type": "stream",
     "text": [
      "Heap update time: 0.97s\n",
      "\n",
      "--- Batch 293 ---\n",
      "Processing model: ERM\n",
      "Encoding time: 0.00s\n",
      "Rearrange time: 0.00s\n",
      "CPU transfer time: 0.07s\n",
      "Mean heatmap computation time: 0.00s\n",
      "Heap update time: 1.61s\n",
      "Processing model: IRM\n",
      "Encoding time: 0.00s\n",
      "Rearrange time: 0.00s\n",
      "CPU transfer time: 0.07s\n",
      "Mean heatmap computation time: 0.00s\n"
     ]
    },
    {
     "name": "stderr",
     "output_type": "stream",
     "text": [
      " 94%|█████████▍| 294/313 [12:27<00:50,  2.64s/it]"
     ]
    },
    {
     "name": "stdout",
     "output_type": "stream",
     "text": [
      "Heap update time: 0.93s\n",
      "\n",
      "--- Batch 294 ---\n",
      "Processing model: ERM\n",
      "Encoding time: 0.00s\n",
      "Rearrange time: 0.00s\n",
      "CPU transfer time: 0.04s\n",
      "Mean heatmap computation time: 0.00s\n",
      "Heap update time: 1.48s\n",
      "Processing model: IRM\n",
      "Encoding time: 0.00s\n",
      "Rearrange time: 0.00s\n",
      "CPU transfer time: 0.08s\n",
      "Mean heatmap computation time: 0.00s\n"
     ]
    },
    {
     "name": "stderr",
     "output_type": "stream",
     "text": [
      " 94%|█████████▍| 295/313 [12:30<00:46,  2.60s/it]"
     ]
    },
    {
     "name": "stdout",
     "output_type": "stream",
     "text": [
      "Heap update time: 0.91s\n",
      "\n",
      "--- Batch 295 ---\n",
      "Processing model: ERM\n",
      "Encoding time: 0.00s\n",
      "Rearrange time: 0.00s\n",
      "CPU transfer time: 0.07s\n",
      "Mean heatmap computation time: 0.00s\n",
      "Heap update time: 1.46s\n",
      "Processing model: IRM\n",
      "Encoding time: 0.00s\n",
      "Rearrange time: 0.00s\n",
      "CPU transfer time: 0.06s\n",
      "Mean heatmap computation time: 0.00s\n"
     ]
    },
    {
     "name": "stderr",
     "output_type": "stream",
     "text": [
      " 95%|█████████▍| 296/313 [12:32<00:44,  2.62s/it]"
     ]
    },
    {
     "name": "stdout",
     "output_type": "stream",
     "text": [
      "Heap update time: 1.02s\n",
      "\n",
      "--- Batch 296 ---\n",
      "Processing model: ERM\n",
      "Encoding time: 0.00s\n",
      "Rearrange time: 0.00s\n",
      "CPU transfer time: 0.08s\n",
      "Mean heatmap computation time: 0.00s\n",
      "Heap update time: 1.51s\n",
      "Processing model: IRM\n",
      "Encoding time: 0.00s\n",
      "Rearrange time: 0.00s\n",
      "CPU transfer time: 0.06s\n",
      "Mean heatmap computation time: 0.00s\n"
     ]
    },
    {
     "name": "stderr",
     "output_type": "stream",
     "text": [
      " 95%|█████████▍| 297/313 [12:35<00:42,  2.64s/it]"
     ]
    },
    {
     "name": "stdout",
     "output_type": "stream",
     "text": [
      "Heap update time: 1.02s\n",
      "\n",
      "--- Batch 297 ---\n",
      "Processing model: ERM\n",
      "Encoding time: 0.00s\n",
      "Rearrange time: 0.00s\n",
      "CPU transfer time: 0.07s\n",
      "Mean heatmap computation time: 0.00s\n",
      "Heap update time: 1.45s\n",
      "Processing model: IRM\n",
      "Encoding time: 0.00s\n",
      "Rearrange time: 0.00s\n",
      "CPU transfer time: 0.06s\n",
      "Mean heatmap computation time: 0.00s\n"
     ]
    },
    {
     "name": "stderr",
     "output_type": "stream",
     "text": [
      " 95%|█████████▌| 298/313 [12:38<00:39,  2.61s/it]"
     ]
    },
    {
     "name": "stdout",
     "output_type": "stream",
     "text": [
      "Heap update time: 0.91s\n",
      "\n",
      "--- Batch 298 ---\n",
      "Processing model: ERM\n",
      "Encoding time: 0.00s\n",
      "Rearrange time: 0.00s\n",
      "CPU transfer time: 0.06s\n",
      "Mean heatmap computation time: 0.00s\n",
      "Heap update time: 1.49s\n",
      "Processing model: IRM\n",
      "Encoding time: 0.00s\n",
      "Rearrange time: 0.00s\n",
      "CPU transfer time: 0.04s\n",
      "Mean heatmap computation time: 0.00s\n"
     ]
    },
    {
     "name": "stderr",
     "output_type": "stream",
     "text": [
      " 96%|█████████▌| 299/313 [12:40<00:36,  2.61s/it]"
     ]
    },
    {
     "name": "stdout",
     "output_type": "stream",
     "text": [
      "Heap update time: 0.98s\n",
      "\n",
      "--- Batch 299 ---\n",
      "Processing model: ERM\n",
      "Encoding time: 0.00s\n",
      "Rearrange time: 0.00s\n",
      "CPU transfer time: 0.07s\n",
      "Mean heatmap computation time: 0.00s\n",
      "Heap update time: 1.50s\n",
      "Processing model: IRM\n",
      "Encoding time: 0.00s\n",
      "Rearrange time: 0.00s\n",
      "CPU transfer time: 0.06s\n",
      "Mean heatmap computation time: 0.00s\n"
     ]
    },
    {
     "name": "stderr",
     "output_type": "stream",
     "text": [
      " 96%|█████████▌| 300/313 [12:43<00:33,  2.59s/it]"
     ]
    },
    {
     "name": "stdout",
     "output_type": "stream",
     "text": [
      "Heap update time: 0.90s\n",
      "\n",
      "--- Batch 300 ---\n",
      "Processing model: ERM\n",
      "Encoding time: 0.00s\n",
      "Rearrange time: 0.00s\n",
      "CPU transfer time: 0.06s\n",
      "Mean heatmap computation time: 0.00s\n",
      "Heap update time: 1.41s\n",
      "Processing model: IRM\n",
      "Encoding time: 0.00s\n",
      "Rearrange time: 0.00s\n",
      "CPU transfer time: 0.07s\n",
      "Mean heatmap computation time: 0.00s\n"
     ]
    },
    {
     "name": "stderr",
     "output_type": "stream",
     "text": [
      " 96%|█████████▌| 301/313 [12:45<00:30,  2.57s/it]"
     ]
    },
    {
     "name": "stdout",
     "output_type": "stream",
     "text": [
      "Heap update time: 0.93s\n",
      "\n",
      "--- Batch 301 ---\n",
      "Processing model: ERM\n",
      "Encoding time: 0.00s\n",
      "Rearrange time: 0.00s\n",
      "CPU transfer time: 0.07s\n",
      "Mean heatmap computation time: 0.00s\n",
      "Heap update time: 1.51s\n",
      "Processing model: IRM\n",
      "Encoding time: 0.00s\n",
      "Rearrange time: 0.00s\n",
      "CPU transfer time: 0.06s\n",
      "Mean heatmap computation time: 0.00s\n"
     ]
    },
    {
     "name": "stderr",
     "output_type": "stream",
     "text": [
      " 96%|█████████▋| 302/313 [12:48<00:28,  2.56s/it]"
     ]
    },
    {
     "name": "stdout",
     "output_type": "stream",
     "text": [
      "Heap update time: 0.86s\n",
      "\n",
      "--- Batch 302 ---\n",
      "Processing model: ERM\n",
      "Encoding time: 0.00s\n",
      "Rearrange time: 0.00s\n",
      "CPU transfer time: 0.03s\n",
      "Mean heatmap computation time: 0.00s\n",
      "Heap update time: 1.58s\n",
      "Processing model: IRM\n",
      "Encoding time: 0.00s\n",
      "Rearrange time: 0.00s\n",
      "CPU transfer time: 0.06s\n",
      "Mean heatmap computation time: 0.00s\n"
     ]
    },
    {
     "name": "stderr",
     "output_type": "stream",
     "text": [
      " 97%|█████████▋| 303/313 [12:50<00:25,  2.59s/it]"
     ]
    },
    {
     "name": "stdout",
     "output_type": "stream",
     "text": [
      "Heap update time: 0.96s\n",
      "\n",
      "--- Batch 303 ---\n",
      "Processing model: ERM\n",
      "Encoding time: 0.00s\n",
      "Rearrange time: 0.00s\n",
      "CPU transfer time: 0.07s\n",
      "Mean heatmap computation time: 0.00s\n",
      "Heap update time: 1.69s\n",
      "Processing model: IRM\n",
      "Encoding time: 0.00s\n",
      "Rearrange time: 0.00s\n",
      "CPU transfer time: 0.07s\n",
      "Mean heatmap computation time: 0.00s\n"
     ]
    },
    {
     "name": "stderr",
     "output_type": "stream",
     "text": [
      " 97%|█████████▋| 304/313 [12:53<00:23,  2.65s/it]"
     ]
    },
    {
     "name": "stdout",
     "output_type": "stream",
     "text": [
      "Heap update time: 0.95s\n",
      "\n",
      "--- Batch 304 ---\n",
      "Processing model: ERM\n",
      "Encoding time: 0.00s\n",
      "Rearrange time: 0.00s\n",
      "CPU transfer time: 0.07s\n",
      "Mean heatmap computation time: 0.00s\n",
      "Heap update time: 1.52s\n",
      "Processing model: IRM\n",
      "Encoding time: 0.00s\n",
      "Rearrange time: 0.00s\n",
      "CPU transfer time: 0.07s\n",
      "Mean heatmap computation time: 0.00s\n"
     ]
    },
    {
     "name": "stderr",
     "output_type": "stream",
     "text": [
      " 97%|█████████▋| 305/313 [12:56<00:21,  2.63s/it]"
     ]
    },
    {
     "name": "stdout",
     "output_type": "stream",
     "text": [
      "Heap update time: 0.88s\n",
      "\n",
      "--- Batch 305 ---\n",
      "Processing model: ERM\n",
      "Encoding time: 0.00s\n",
      "Rearrange time: 0.00s\n",
      "CPU transfer time: 0.07s\n",
      "Mean heatmap computation time: 0.00s\n",
      "Heap update time: 1.46s\n",
      "Processing model: IRM\n",
      "Encoding time: 0.00s\n",
      "Rearrange time: 0.00s\n",
      "CPU transfer time: 0.03s\n",
      "Mean heatmap computation time: 0.00s\n"
     ]
    },
    {
     "name": "stderr",
     "output_type": "stream",
     "text": [
      " 98%|█████████▊| 306/313 [12:58<00:18,  2.59s/it]"
     ]
    },
    {
     "name": "stdout",
     "output_type": "stream",
     "text": [
      "Heap update time: 0.89s\n",
      "\n",
      "--- Batch 306 ---\n",
      "Processing model: ERM\n",
      "Encoding time: 0.00s\n",
      "Rearrange time: 0.00s\n",
      "CPU transfer time: 0.07s\n",
      "Mean heatmap computation time: 0.00s\n",
      "Heap update time: 1.47s\n",
      "Processing model: IRM\n",
      "Encoding time: 0.00s\n",
      "Rearrange time: 0.00s\n",
      "CPU transfer time: 0.06s\n",
      "Mean heatmap computation time: 0.00s\n"
     ]
    },
    {
     "name": "stderr",
     "output_type": "stream",
     "text": [
      " 98%|█████████▊| 307/313 [13:01<00:15,  2.58s/it]"
     ]
    },
    {
     "name": "stdout",
     "output_type": "stream",
     "text": [
      "Heap update time: 0.93s\n",
      "\n",
      "--- Batch 307 ---\n",
      "Processing model: ERM\n",
      "Encoding time: 0.00s\n",
      "Rearrange time: 0.00s\n",
      "CPU transfer time: 0.06s\n",
      "Mean heatmap computation time: 0.00s\n",
      "Heap update time: 1.52s\n",
      "Processing model: IRM\n",
      "Encoding time: 0.00s\n",
      "Rearrange time: 0.00s\n",
      "CPU transfer time: 0.06s\n",
      "Mean heatmap computation time: 0.00s\n"
     ]
    },
    {
     "name": "stderr",
     "output_type": "stream",
     "text": [
      " 98%|█████████▊| 308/313 [13:03<00:12,  2.57s/it]"
     ]
    },
    {
     "name": "stdout",
     "output_type": "stream",
     "text": [
      "Heap update time: 0.89s\n",
      "\n",
      "--- Batch 308 ---\n",
      "Processing model: ERM\n",
      "Encoding time: 0.00s\n",
      "Rearrange time: 0.00s\n",
      "CPU transfer time: 0.06s\n",
      "Mean heatmap computation time: 0.00s\n",
      "Heap update time: 1.38s\n",
      "Processing model: IRM\n",
      "Encoding time: 0.00s\n",
      "Rearrange time: 0.00s\n",
      "CPU transfer time: 0.08s\n",
      "Mean heatmap computation time: 0.00s\n"
     ]
    },
    {
     "name": "stderr",
     "output_type": "stream",
     "text": [
      " 99%|█████████▊| 309/313 [13:06<00:10,  2.56s/it]"
     ]
    },
    {
     "name": "stdout",
     "output_type": "stream",
     "text": [
      "Heap update time: 0.96s\n",
      "\n",
      "--- Batch 309 ---\n",
      "Processing model: ERM\n",
      "Encoding time: 0.00s\n",
      "Rearrange time: 0.00s\n",
      "CPU transfer time: 0.07s\n",
      "Mean heatmap computation time: 0.00s\n",
      "Heap update time: 1.47s\n",
      "Processing model: IRM\n",
      "Encoding time: 0.00s\n",
      "Rearrange time: 0.00s\n",
      "CPU transfer time: 0.06s\n",
      "Mean heatmap computation time: 0.00s\n"
     ]
    },
    {
     "name": "stderr",
     "output_type": "stream",
     "text": [
      " 99%|█████████▉| 310/313 [13:08<00:07,  2.56s/it]"
     ]
    },
    {
     "name": "stdout",
     "output_type": "stream",
     "text": [
      "Heap update time: 0.95s\n",
      "\n",
      "--- Batch 310 ---\n",
      "Processing model: ERM\n",
      "Encoding time: 0.00s\n",
      "Rearrange time: 0.00s\n",
      "CPU transfer time: 0.06s\n",
      "Mean heatmap computation time: 0.00s\n",
      "Heap update time: 1.45s\n",
      "Processing model: IRM\n",
      "Encoding time: 0.00s\n",
      "Rearrange time: 0.00s\n",
      "CPU transfer time: 0.07s\n",
      "Mean heatmap computation time: 0.00s\n"
     ]
    },
    {
     "name": "stderr",
     "output_type": "stream",
     "text": [
      " 99%|█████████▉| 311/313 [13:11<00:05,  2.53s/it]"
     ]
    },
    {
     "name": "stdout",
     "output_type": "stream",
     "text": [
      "Heap update time: 0.85s\n",
      "\n",
      "--- Batch 311 ---\n",
      "Processing model: ERM\n",
      "Encoding time: 0.00s\n",
      "Rearrange time: 0.00s\n",
      "CPU transfer time: 0.06s\n",
      "Mean heatmap computation time: 0.00s\n",
      "Heap update time: 1.38s\n",
      "Processing model: IRM\n",
      "Encoding time: 0.00s\n",
      "Rearrange time: 0.00s\n",
      "CPU transfer time: 0.06s\n",
      "Mean heatmap computation time: 0.00s\n"
     ]
    },
    {
     "name": "stderr",
     "output_type": "stream",
     "text": [
      "100%|█████████▉| 312/313 [13:13<00:02,  2.50s/it]"
     ]
    },
    {
     "name": "stdout",
     "output_type": "stream",
     "text": [
      "Heap update time: 0.88s\n",
      "\n",
      "--- Batch 312 ---\n",
      "Processing model: ERM\n",
      "Encoding time: 0.00s\n",
      "Rearrange time: 0.00s\n",
      "CPU transfer time: 0.03s\n",
      "Mean heatmap computation time: 0.00s\n",
      "Heap update time: 1.42s\n",
      "Processing model: IRM\n",
      "Encoding time: 0.00s\n",
      "Rearrange time: 0.00s\n",
      "CPU transfer time: 0.08s\n",
      "Mean heatmap computation time: 0.00s\n"
     ]
    },
    {
     "name": "stderr",
     "output_type": "stream",
     "text": [
      "100%|██████████| 313/313 [13:16<00:00,  2.54s/it]"
     ]
    },
    {
     "name": "stdout",
     "output_type": "stream",
     "text": [
      "Heap update time: 0.88s\n",
      "\n",
      "Finished processing all batches.\n"
     ]
    },
    {
     "name": "stderr",
     "output_type": "stream",
     "text": [
      "\n",
      "  0%|          | 0/16384 [00:00<?, ?it/s]\n"
     ]
    },
    {
     "ename": "AttributeError",
     "evalue": "Can't get local object 'visualize_concepts2.<locals>.<lambda>'",
     "output_type": "error",
     "traceback": [
      "\u001b[31m---------------------------------------------------------------------------\u001b[39m",
      "\u001b[31m_RemoteTraceback\u001b[39m                          Traceback (most recent call last)",
      "\u001b[31m_RemoteTraceback\u001b[39m: \n\"\"\"\nTraceback (most recent call last):\n  File \"c:\\Users\\sproj_ha\\miniconda3\\envs\\interpretability\\Lib\\multiprocessing\\queues.py\", line 262, in _feed\n    obj = _ForkingPickler.dumps(obj)\n  File \"c:\\Users\\sproj_ha\\miniconda3\\envs\\interpretability\\Lib\\multiprocessing\\reduction.py\", line 51, in dumps\n    cls(buf, protocol).dump(obj)\n    ~~~~~~~~~~~~~~~~~~~~~~~^^^^^\nAttributeError: Can't get local object 'visualize_concepts2.<locals>.<lambda>'\n\"\"\"",
      "\nThe above exception was the direct cause of the following exception:\n",
      "\u001b[31mAttributeError\u001b[39m                            Traceback (most recent call last)",
      "\u001b[36mCell\u001b[39m\u001b[36m \u001b[39m\u001b[32mIn[15]\u001b[39m\u001b[32m, line 1\u001b[39m\n\u001b[32m----> \u001b[39m\u001b[32m1\u001b[39m visualize_concepts2(\n\u001b[32m      2\u001b[39m         activation_loader=activations_dataloader,\n\u001b[32m      3\u001b[39m         SAEs=SAEs,\n\u001b[32m      4\u001b[39m         num_concepts=concepts,\n\u001b[32m      5\u001b[39m         n_images=\u001b[32m4\u001b[39m,\n\u001b[32m      6\u001b[39m         patch_width=\u001b[32m7\u001b[39m, \n\u001b[32m      7\u001b[39m         save_dir=\u001b[33m\"\u001b[39m\u001b[33mresults/visualizer_ResNet_ERM_IRM_V2/\u001b[39m\u001b[33m\"\u001b[39m,\n\u001b[32m      8\u001b[39m         abort_threshold=\u001b[32m0.0\u001b[39m,\n\u001b[32m      9\u001b[39m     )\n",
      "\u001b[36mCell\u001b[39m\u001b[36m \u001b[39m\u001b[32mIn[14]\u001b[39m\u001b[32m, line 133\u001b[39m, in \u001b[36mvisualize_concepts2\u001b[39m\u001b[34m(activation_loader, SAEs, save_dir, patch_width, num_concepts, n_images, abort_threshold)\u001b[39m\n\u001b[32m    131\u001b[39m \u001b[38;5;28;01mwith\u001b[39;00m ProcessPoolExecutor() \u001b[38;5;28;01mas\u001b[39;00m executor:\n\u001b[32m    132\u001b[39m     args = ((concept, heaps, SAEs, n_images, save_dir) \u001b[38;5;28;01mfor\u001b[39;00m concept \u001b[38;5;129;01min\u001b[39;00m \u001b[38;5;28mrange\u001b[39m(num_concepts))\n\u001b[32m--> \u001b[39m\u001b[32m133\u001b[39m     \u001b[38;5;28mlist\u001b[39m(tqdm(executor.map(\u001b[38;5;28;01mlambda\u001b[39;00m p: worker(*p), args), total=num_concepts))\n",
      "\u001b[36mFile \u001b[39m\u001b[32mc:\\Users\\sproj_ha\\miniconda3\\envs\\interpretability\\Lib\\site-packages\\tqdm\\std.py:1181\u001b[39m, in \u001b[36mtqdm.__iter__\u001b[39m\u001b[34m(self)\u001b[39m\n\u001b[32m   1178\u001b[39m time = \u001b[38;5;28mself\u001b[39m._time\n\u001b[32m   1180\u001b[39m \u001b[38;5;28;01mtry\u001b[39;00m:\n\u001b[32m-> \u001b[39m\u001b[32m1181\u001b[39m     \u001b[38;5;28;01mfor\u001b[39;00m obj \u001b[38;5;129;01min\u001b[39;00m iterable:\n\u001b[32m   1182\u001b[39m         \u001b[38;5;28;01myield\u001b[39;00m obj\n\u001b[32m   1183\u001b[39m         \u001b[38;5;66;03m# Update and possibly print the progressbar.\u001b[39;00m\n\u001b[32m   1184\u001b[39m         \u001b[38;5;66;03m# Note: does not call self.update(1) for speed optimisation.\u001b[39;00m\n",
      "\u001b[36mFile \u001b[39m\u001b[32mc:\\Users\\sproj_ha\\miniconda3\\envs\\interpretability\\Lib\\concurrent\\futures\\process.py:617\u001b[39m, in \u001b[36m_chain_from_iterable_of_lists\u001b[39m\u001b[34m(iterable)\u001b[39m\n\u001b[32m    611\u001b[39m \u001b[38;5;28;01mdef\u001b[39;00m\u001b[38;5;250m \u001b[39m\u001b[34m_chain_from_iterable_of_lists\u001b[39m(iterable):\n\u001b[32m    612\u001b[39m \u001b[38;5;250m    \u001b[39m\u001b[33;03m\"\"\"\u001b[39;00m\n\u001b[32m    613\u001b[39m \u001b[33;03m    Specialized implementation of itertools.chain.from_iterable.\u001b[39;00m\n\u001b[32m    614\u001b[39m \u001b[33;03m    Each item in *iterable* should be a list.  This function is\u001b[39;00m\n\u001b[32m    615\u001b[39m \u001b[33;03m    careful not to keep references to yielded objects.\u001b[39;00m\n\u001b[32m    616\u001b[39m \u001b[33;03m    \"\"\"\u001b[39;00m\n\u001b[32m--> \u001b[39m\u001b[32m617\u001b[39m     \u001b[38;5;28;01mfor\u001b[39;00m element \u001b[38;5;129;01min\u001b[39;00m iterable:\n\u001b[32m    618\u001b[39m         element.reverse()\n\u001b[32m    619\u001b[39m         \u001b[38;5;28;01mwhile\u001b[39;00m element:\n",
      "\u001b[36mFile \u001b[39m\u001b[32mc:\\Users\\sproj_ha\\miniconda3\\envs\\interpretability\\Lib\\concurrent\\futures\\_base.py:619\u001b[39m, in \u001b[36mExecutor.map.<locals>.result_iterator\u001b[39m\u001b[34m()\u001b[39m\n\u001b[32m    616\u001b[39m \u001b[38;5;28;01mwhile\u001b[39;00m fs:\n\u001b[32m    617\u001b[39m     \u001b[38;5;66;03m# Careful not to keep a reference to the popped future\u001b[39;00m\n\u001b[32m    618\u001b[39m     \u001b[38;5;28;01mif\u001b[39;00m timeout \u001b[38;5;129;01mis\u001b[39;00m \u001b[38;5;28;01mNone\u001b[39;00m:\n\u001b[32m--> \u001b[39m\u001b[32m619\u001b[39m         \u001b[38;5;28;01myield\u001b[39;00m _result_or_cancel(fs.pop())\n\u001b[32m    620\u001b[39m     \u001b[38;5;28;01melse\u001b[39;00m:\n\u001b[32m    621\u001b[39m         \u001b[38;5;28;01myield\u001b[39;00m _result_or_cancel(fs.pop(), end_time - time.monotonic())\n",
      "\u001b[36mFile \u001b[39m\u001b[32mc:\\Users\\sproj_ha\\miniconda3\\envs\\interpretability\\Lib\\concurrent\\futures\\_base.py:317\u001b[39m, in \u001b[36m_result_or_cancel\u001b[39m\u001b[34m(***failed resolving arguments***)\u001b[39m\n\u001b[32m    315\u001b[39m \u001b[38;5;28;01mtry\u001b[39;00m:\n\u001b[32m    316\u001b[39m     \u001b[38;5;28;01mtry\u001b[39;00m:\n\u001b[32m--> \u001b[39m\u001b[32m317\u001b[39m         \u001b[38;5;28;01mreturn\u001b[39;00m fut.result(timeout)\n\u001b[32m    318\u001b[39m     \u001b[38;5;28;01mfinally\u001b[39;00m:\n\u001b[32m    319\u001b[39m         fut.cancel()\n",
      "\u001b[36mFile \u001b[39m\u001b[32mc:\\Users\\sproj_ha\\miniconda3\\envs\\interpretability\\Lib\\concurrent\\futures\\_base.py:449\u001b[39m, in \u001b[36mFuture.result\u001b[39m\u001b[34m(self, timeout)\u001b[39m\n\u001b[32m    447\u001b[39m     \u001b[38;5;28;01mraise\u001b[39;00m CancelledError()\n\u001b[32m    448\u001b[39m \u001b[38;5;28;01melif\u001b[39;00m \u001b[38;5;28mself\u001b[39m._state == FINISHED:\n\u001b[32m--> \u001b[39m\u001b[32m449\u001b[39m     \u001b[38;5;28;01mreturn\u001b[39;00m \u001b[38;5;28mself\u001b[39m.__get_result()\n\u001b[32m    451\u001b[39m \u001b[38;5;28mself\u001b[39m._condition.wait(timeout)\n\u001b[32m    453\u001b[39m \u001b[38;5;28;01mif\u001b[39;00m \u001b[38;5;28mself\u001b[39m._state \u001b[38;5;129;01min\u001b[39;00m [CANCELLED, CANCELLED_AND_NOTIFIED]:\n",
      "\u001b[36mFile \u001b[39m\u001b[32mc:\\Users\\sproj_ha\\miniconda3\\envs\\interpretability\\Lib\\concurrent\\futures\\_base.py:401\u001b[39m, in \u001b[36mFuture.__get_result\u001b[39m\u001b[34m(self)\u001b[39m\n\u001b[32m    399\u001b[39m \u001b[38;5;28;01mif\u001b[39;00m \u001b[38;5;28mself\u001b[39m._exception \u001b[38;5;129;01mis\u001b[39;00m \u001b[38;5;129;01mnot\u001b[39;00m \u001b[38;5;28;01mNone\u001b[39;00m:\n\u001b[32m    400\u001b[39m     \u001b[38;5;28;01mtry\u001b[39;00m:\n\u001b[32m--> \u001b[39m\u001b[32m401\u001b[39m         \u001b[38;5;28;01mraise\u001b[39;00m \u001b[38;5;28mself\u001b[39m._exception\n\u001b[32m    402\u001b[39m     \u001b[38;5;28;01mfinally\u001b[39;00m:\n\u001b[32m    403\u001b[39m         \u001b[38;5;66;03m# Break a reference cycle with the exception in self._exception\u001b[39;00m\n\u001b[32m    404\u001b[39m         \u001b[38;5;28mself\u001b[39m = \u001b[38;5;28;01mNone\u001b[39;00m\n",
      "\u001b[36mFile \u001b[39m\u001b[32mc:\\Users\\sproj_ha\\miniconda3\\envs\\interpretability\\Lib\\multiprocessing\\queues.py:262\u001b[39m, in \u001b[36mQueue._feed\u001b[39m\u001b[34m(buffer, notempty, send_bytes, writelock, reader_close, writer_close, ignore_epipe, onerror, queue_sem)\u001b[39m\n\u001b[32m    259\u001b[39m     \u001b[38;5;28;01mreturn\u001b[39;00m\n\u001b[32m    261\u001b[39m \u001b[38;5;66;03m# serialize the data before acquiring the lock\u001b[39;00m\n\u001b[32m--> \u001b[39m\u001b[32m262\u001b[39m obj = _ForkingPickler.dumps(obj)\n\u001b[32m    263\u001b[39m \u001b[38;5;28;01mif\u001b[39;00m wacquire \u001b[38;5;129;01mis\u001b[39;00m \u001b[38;5;28;01mNone\u001b[39;00m:\n\u001b[32m    264\u001b[39m     send_bytes(obj)\n",
      "\u001b[36mFile \u001b[39m\u001b[32mc:\\Users\\sproj_ha\\miniconda3\\envs\\interpretability\\Lib\\multiprocessing\\reduction.py:51\u001b[39m, in \u001b[36mForkingPickler.dumps\u001b[39m\u001b[34m(cls, obj, protocol)\u001b[39m\n\u001b[32m     48\u001b[39m \u001b[38;5;129m@classmethod\u001b[39m\n\u001b[32m     49\u001b[39m \u001b[38;5;28;01mdef\u001b[39;00m\u001b[38;5;250m \u001b[39m\u001b[34mdumps\u001b[39m(\u001b[38;5;28mcls\u001b[39m, obj, protocol=\u001b[38;5;28;01mNone\u001b[39;00m):\n\u001b[32m     50\u001b[39m     buf = io.BytesIO()\n\u001b[32m---> \u001b[39m\u001b[32m51\u001b[39m     \u001b[38;5;28mcls\u001b[39m(buf, protocol).dump(obj)\n\u001b[32m     52\u001b[39m     \u001b[38;5;28;01mreturn\u001b[39;00m buf.getbuffer()\n",
      "\u001b[31mAttributeError\u001b[39m: Can't get local object 'visualize_concepts2.<locals>.<lambda>'"
     ]
    }
   ],
   "source": [
    "visualize_concepts2(\n",
    "        activation_loader=activations_dataloader,\n",
    "        SAEs=SAEs,\n",
    "        num_concepts=concepts,\n",
    "        n_images=4,\n",
    "        patch_width=7, \n",
    "        save_dir=\"results/visualizer_ResNet_ERM_IRM_V2/\",\n",
    "        abort_threshold=0.0,\n",
    "    )"
   ]
  },
  {
   "cell_type": "markdown",
   "id": "24b02f4c",
   "metadata": {},
   "source": [
    "## Idea 1: Model Focused\n",
    "\n",
    "#### Hypothesis: \n",
    "More generalizable models will have more domain-invariant concepts.  \n",
    "\n",
    "#### Experiment: \n",
    "Take M different models (trained on different DG techniques), train a Universal Sparse Autoencoder to obtain a shared concept space. Identify a shared concept. Then identify if the models still activate that concept on similar OOD data (for e.g If the concept is the leg of the dog, then that concept should also be activated on a sketch of a deg). This will determine if the concept is domain-invariant for a particular model. We can then attribute this invariance to the DG method (e.g DAN, MMD etc used).\n",
    "\n",
    "#### End Goal: \n",
    "A new metric/framework/insight for DG method evaluation.\n",
    "\n",
    "\n",
    "## Idea 2: Concept Focused\n",
    "\n",
    "#### Hypothesis:\n",
    "Spurious Concepts will contribute more to classification decision for a less generalizable model.\n",
    "Domain Invariant Concepts will contribute more to classification for a generalizable model.\n",
    "\n",
    "#### Experiment:\n",
    "Take M different models (trained on different DG techniques), train a Universal Sparse Autoencoder to obtain a shared concept space. Then identify which concepts influence a classification decision using some Mutual Information Proxy. Then identify which concepts are spurious (e.g capturing grass for a cow) by comparing label-concept correlations across multiple domains. \n",
    "\n",
    "#### End Goal:\n",
    "Explore the relationship of spurious and invariant concepts with softmax distributions for different DG techniques. \n",
    "\n",
    "\n",
    "## Idea 3: Single Model\n",
    "#### Hypothesis\n",
    "There exists a tradeoff between Discrimination & Generalization\n",
    "\n",
    "#### Experiment\n",
    "Take one model, use a SAE to obtain a concept space. First identify which parts of the feature map led to a classification decision. Then identify what the concepts were activated by that part of the feature map. Finally, identify through perturbations, how the generalizable and discriminative the model is (through concept invariance, and classification accuracy respectively).\n",
    "\n",
    "#### End Goal:\n",
    "Plug and Play system where you input model, and it tells you how generalizable it is.\n"
   ]
  },
  {
   "cell_type": "code",
   "execution_count": null,
   "id": "31c28b0e",
   "metadata": {},
   "outputs": [],
   "source": [
    "\n",
    "\n",
    "\n",
    "\n"
   ]
  }
 ],
 "metadata": {
  "kernelspec": {
   "display_name": "interpretability",
   "language": "python",
   "name": "python3"
  },
  "language_info": {
   "codemirror_mode": {
    "name": "ipython",
    "version": 3
   },
   "file_extension": ".py",
   "mimetype": "text/x-python",
   "name": "python",
   "nbconvert_exporter": "python",
   "pygments_lexer": "ipython3",
   "version": "3.13.5"
  }
 },
 "nbformat": 4,
 "nbformat_minor": 5
}
