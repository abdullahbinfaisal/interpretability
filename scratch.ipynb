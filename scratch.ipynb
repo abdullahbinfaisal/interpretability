{
 "cells": [
  {
   "cell_type": "markdown",
   "id": "64ae5fa7",
   "metadata": {},
   "source": [
    "## Setup\n"
   ]
  },
  {
   "cell_type": "code",
   "execution_count": 1,
   "id": "fd86d19d",
   "metadata": {},
   "outputs": [
    {
     "name": "stderr",
     "output_type": "stream",
     "text": [
      "c:\\Users\\sproj_ha\\miniconda3\\envs\\interpretability\\Lib\\site-packages\\tqdm\\auto.py:21: TqdmWarning: IProgress not found. Please update jupyter and ipywidgets. See https://ipywidgets.readthedocs.io/en/stable/user_install.html\n",
      "  from .autonotebook import tqdm as notebook_tqdm\n"
     ]
    }
   ],
   "source": [
    "import torch\n",
    "import torchvision\n",
    "import timm\n",
    "import os\n",
    "import matplotlib.pyplot as plt\n",
    "import torch.nn as nn\n",
    "from einops import rearrange\n",
    "from tqdm import tqdm\n",
    "from overcomplete.models import DinoV2, ViT, ResNet, ViT_Large, SigLIP\n",
    "from torch.utils.data import DataLoader, TensorDataset\n",
    "from overcomplete.sae import TopKSAE, train_sae\n",
    "from overcomplete.visualization import (overlay_top_heatmaps, evidence_top_images, zoom_top_images, contour_top_image)\n",
    "from torch.optim.lr_scheduler import SequentialLR, LinearLR, CosineAnnealingLR\n",
    "import copy\n",
    "\n",
    "\n",
    "from lib.data_handlers import Load_ImageNet100, Load_PACS, Load_ImageNet100Sketch\n",
    "from lib.universal_trainer import train_usae\n",
    "from lib.activation_generator import Load_activation_dataloader\n",
    "from lib.eval import evaluate_models\n",
    "from lib.visualizer import visualize_concepts\n",
    "from lib.mlp import train_mlp, test_mlp, prune_weights, check_sparsity, plot_weight_histogram, plot_weight_histogram_before_after\n",
    "\n",
    "\n",
    "device = torch.device(\"cuda\" if torch.cuda.is_available() else \"cpu\")\n",
    "torch.cuda.empty_cache()"
   ]
  },
  {
   "cell_type": "markdown",
   "id": "35c996d0",
   "metadata": {},
   "source": [
    "## MLP"
   ]
  },
  {
   "cell_type": "code",
   "execution_count": 2,
   "id": "c02d43ed",
   "metadata": {},
   "outputs": [],
   "source": [
    "concepts = 768 * 8\n",
    "\n",
    "sae = TopKSAE(768, nb_concepts=concepts, top_k=16, device=\"cuda\")\n",
    "sae.load_state_dict(torch.load(\"./models/ViT_MLP.pt\")['ViT'])\n",
    "\n",
    "vit_full = timm.create_model('vit_base_patch16_224', pretrained=True)"
   ]
  },
  {
   "cell_type": "code",
   "execution_count": 3,
   "id": "a68d84da",
   "metadata": {},
   "outputs": [],
   "source": [
    "inet_trainloader, image_dataset = Load_ImageNet100(transform=None, batch_size=64, shuffle=True, dataset_allow=True, train=True)\n",
    "inet_testloader = Load_ImageNet100(transform=None, batch_size=256, shuffle=True, dataset_allow=False, train=False)\n",
    "sketch_trainloader, sketch_testloader = Load_ImageNet100Sketch(transform=None, batch_size=4, shuffle=True, train=False)\n",
    "\n",
    "\n",
    "trainloaders = {\n",
    "    \"INET\" : inet_trainloader,\n",
    "    \"Sketch\": sketch_trainloader\n",
    "}\n",
    "\n",
    "testloaders = {\n",
    "    \"INET\": inet_testloader,\n",
    "    \"Sketch\": sketch_testloader\n",
    "}\n",
    "\n",
    "\n",
    "mlps = {}\n",
    "optimizers = {}\n",
    "schedulers = {}\n",
    "\n",
    "for key in testloaders.keys():\n",
    "    mlps[key] = nn.Linear(concepts, 100)\n",
    "    optimizers[key] = torch.optim.Adam(params=mlps[key].parameters(), lr=1e-4)\n",
    "    schedulers[key] = torch.optim.lr_scheduler.StepLR(optimizer=optimizers[key], gamma=0.5, step_size=1)\n",
    "\n",
    "loss_fn = nn.CrossEntropyLoss()\n",
    "\n",
    "epochs = {\n",
    "    \"INET\": 5,\n",
    "    \"Sketch\": 10\n",
    "}\n",
    "\n",
    "alpha = 1.0  # sparsity constraint"
   ]
  },
  {
   "cell_type": "markdown",
   "id": "6ea8c484",
   "metadata": {},
   "source": [
    "## Training"
   ]
  },
  {
   "cell_type": "code",
   "execution_count": 4,
   "id": "5d7dac2c",
   "metadata": {},
   "outputs": [
    {
     "name": "stdout",
     "output_type": "stream",
     "text": [
      "====> Beginning Training for Domain: INET\n"
     ]
    },
    {
     "name": "stderr",
     "output_type": "stream",
     "text": [
      "Epoch 0:   0%|          | 5/2032 [00:01<11:14,  3.01batch/s, loss=3774.4565]\n"
     ]
    },
    {
     "ename": "KeyboardInterrupt",
     "evalue": "",
     "output_type": "error",
     "traceback": [
      "\u001b[31m---------------------------------------------------------------------------\u001b[39m",
      "\u001b[31mKeyboardInterrupt\u001b[39m                         Traceback (most recent call last)",
      "\u001b[36mCell\u001b[39m\u001b[36m \u001b[39m\u001b[32mIn[4]\u001b[39m\u001b[32m, line 6\u001b[39m\n\u001b[32m      3\u001b[39m \u001b[38;5;28mprint\u001b[39m(\u001b[33mf\u001b[39m\u001b[33m\"\u001b[39m\u001b[33m====> Beginning Training for Domain: \u001b[39m\u001b[38;5;132;01m{\u001b[39;00mdomain\u001b[38;5;132;01m}\u001b[39;00m\u001b[33m\"\u001b[39m)\n\u001b[32m      5\u001b[39m \u001b[38;5;28;01mfor\u001b[39;00m epoch \u001b[38;5;129;01min\u001b[39;00m \u001b[38;5;28mrange\u001b[39m(epochs[domain]):\n\u001b[32m----> \u001b[39m\u001b[32m6\u001b[39m     train_mlp(\n\u001b[32m      7\u001b[39m         image_loader=trainloaders[domain],\n\u001b[32m      8\u001b[39m         mlp=mlps[domain],\n\u001b[32m      9\u001b[39m         optimizer=optimizers[domain],\n\u001b[32m     10\u001b[39m         loss_fn=loss_fn,\n\u001b[32m     11\u001b[39m         vit_full=vit_full,\n\u001b[32m     12\u001b[39m         sae=sae,\n\u001b[32m     13\u001b[39m         internal_map=image_dataset.class_to_idx,\n\u001b[32m     14\u001b[39m         alpha=alpha,\n\u001b[32m     15\u001b[39m         epoch=epoch\n\u001b[32m     16\u001b[39m     )\n\u001b[32m     17\u001b[39m     \u001b[38;5;28;01mif\u001b[39;00m schedulers[domain] \u001b[38;5;129;01mis\u001b[39;00m \u001b[38;5;129;01mnot\u001b[39;00m \u001b[38;5;28;01mNone\u001b[39;00m:\n\u001b[32m     18\u001b[39m         schedulers[domain].step()\n",
      "\u001b[36mFile \u001b[39m\u001b[32mc:\\Users\\sproj_ha\\Desktop\\vision_interp\\lib\\mlp.py:49\u001b[39m, in \u001b[36mtrain_mlp\u001b[39m\u001b[34m(image_loader, mlp, optimizer, loss_fn, vit_full, sae, internal_map, alpha, epoch)\u001b[39m\n\u001b[32m     46\u001b[39m epoch_loss = \u001b[32m0.0\u001b[39m\n\u001b[32m     47\u001b[39m pbar = tqdm(image_loader, desc=\u001b[33mf\u001b[39m\u001b[33m\"\u001b[39m\u001b[33mEpoch \u001b[39m\u001b[38;5;132;01m{\u001b[39;00mepoch\u001b[38;5;132;01m}\u001b[39;00m\u001b[33m\"\u001b[39m, unit=\u001b[33m\"\u001b[39m\u001b[33mbatch\u001b[39m\u001b[33m\"\u001b[39m)\n\u001b[32m---> \u001b[39m\u001b[32m49\u001b[39m \u001b[38;5;28;01mfor\u001b[39;00m images, labels \u001b[38;5;129;01min\u001b[39;00m pbar:\n\u001b[32m     50\u001b[39m     images, labels = images.to(device), labels.to(device)\n\u001b[32m     52\u001b[39m     vit_full.eval()\n",
      "\u001b[36mFile \u001b[39m\u001b[32mc:\\Users\\sproj_ha\\miniconda3\\envs\\interpretability\\Lib\\site-packages\\tqdm\\std.py:1181\u001b[39m, in \u001b[36mtqdm.__iter__\u001b[39m\u001b[34m(self)\u001b[39m\n\u001b[32m   1178\u001b[39m time = \u001b[38;5;28mself\u001b[39m._time\n\u001b[32m   1180\u001b[39m \u001b[38;5;28;01mtry\u001b[39;00m:\n\u001b[32m-> \u001b[39m\u001b[32m1181\u001b[39m     \u001b[38;5;28;01mfor\u001b[39;00m obj \u001b[38;5;129;01min\u001b[39;00m iterable:\n\u001b[32m   1182\u001b[39m         \u001b[38;5;28;01myield\u001b[39;00m obj\n\u001b[32m   1183\u001b[39m         \u001b[38;5;66;03m# Update and possibly print the progressbar.\u001b[39;00m\n\u001b[32m   1184\u001b[39m         \u001b[38;5;66;03m# Note: does not call self.update(1) for speed optimisation.\u001b[39;00m\n",
      "\u001b[36mFile \u001b[39m\u001b[32mc:\\Users\\sproj_ha\\miniconda3\\envs\\interpretability\\Lib\\site-packages\\torch\\utils\\data\\dataloader.py:733\u001b[39m, in \u001b[36m_BaseDataLoaderIter.__next__\u001b[39m\u001b[34m(self)\u001b[39m\n\u001b[32m    730\u001b[39m \u001b[38;5;28;01mif\u001b[39;00m \u001b[38;5;28mself\u001b[39m._sampler_iter \u001b[38;5;129;01mis\u001b[39;00m \u001b[38;5;28;01mNone\u001b[39;00m:\n\u001b[32m    731\u001b[39m     \u001b[38;5;66;03m# TODO(https://github.com/pytorch/pytorch/issues/76750)\u001b[39;00m\n\u001b[32m    732\u001b[39m     \u001b[38;5;28mself\u001b[39m._reset()  \u001b[38;5;66;03m# type: ignore[call-arg]\u001b[39;00m\n\u001b[32m--> \u001b[39m\u001b[32m733\u001b[39m data = \u001b[38;5;28mself\u001b[39m._next_data()\n\u001b[32m    734\u001b[39m \u001b[38;5;28mself\u001b[39m._num_yielded += \u001b[32m1\u001b[39m\n\u001b[32m    735\u001b[39m \u001b[38;5;28;01mif\u001b[39;00m (\n\u001b[32m    736\u001b[39m     \u001b[38;5;28mself\u001b[39m._dataset_kind == _DatasetKind.Iterable\n\u001b[32m    737\u001b[39m     \u001b[38;5;129;01mand\u001b[39;00m \u001b[38;5;28mself\u001b[39m._IterableDataset_len_called \u001b[38;5;129;01mis\u001b[39;00m \u001b[38;5;129;01mnot\u001b[39;00m \u001b[38;5;28;01mNone\u001b[39;00m\n\u001b[32m    738\u001b[39m     \u001b[38;5;129;01mand\u001b[39;00m \u001b[38;5;28mself\u001b[39m._num_yielded > \u001b[38;5;28mself\u001b[39m._IterableDataset_len_called\n\u001b[32m    739\u001b[39m ):\n",
      "\u001b[36mFile \u001b[39m\u001b[32mc:\\Users\\sproj_ha\\miniconda3\\envs\\interpretability\\Lib\\site-packages\\torch\\utils\\data\\dataloader.py:789\u001b[39m, in \u001b[36m_SingleProcessDataLoaderIter._next_data\u001b[39m\u001b[34m(self)\u001b[39m\n\u001b[32m    787\u001b[39m \u001b[38;5;28;01mdef\u001b[39;00m\u001b[38;5;250m \u001b[39m\u001b[34m_next_data\u001b[39m(\u001b[38;5;28mself\u001b[39m):\n\u001b[32m    788\u001b[39m     index = \u001b[38;5;28mself\u001b[39m._next_index()  \u001b[38;5;66;03m# may raise StopIteration\u001b[39;00m\n\u001b[32m--> \u001b[39m\u001b[32m789\u001b[39m     data = \u001b[38;5;28mself\u001b[39m._dataset_fetcher.fetch(index)  \u001b[38;5;66;03m# may raise StopIteration\u001b[39;00m\n\u001b[32m    790\u001b[39m     \u001b[38;5;28;01mif\u001b[39;00m \u001b[38;5;28mself\u001b[39m._pin_memory:\n\u001b[32m    791\u001b[39m         data = _utils.pin_memory.pin_memory(data, \u001b[38;5;28mself\u001b[39m._pin_memory_device)\n",
      "\u001b[36mFile \u001b[39m\u001b[32mc:\\Users\\sproj_ha\\miniconda3\\envs\\interpretability\\Lib\\site-packages\\torch\\utils\\data\\_utils\\fetch.py:52\u001b[39m, in \u001b[36m_MapDatasetFetcher.fetch\u001b[39m\u001b[34m(self, possibly_batched_index)\u001b[39m\n\u001b[32m     50\u001b[39m         data = \u001b[38;5;28mself\u001b[39m.dataset.__getitems__(possibly_batched_index)\n\u001b[32m     51\u001b[39m     \u001b[38;5;28;01melse\u001b[39;00m:\n\u001b[32m---> \u001b[39m\u001b[32m52\u001b[39m         data = [\u001b[38;5;28mself\u001b[39m.dataset[idx] \u001b[38;5;28;01mfor\u001b[39;00m idx \u001b[38;5;129;01min\u001b[39;00m possibly_batched_index]\n\u001b[32m     53\u001b[39m \u001b[38;5;28;01melse\u001b[39;00m:\n\u001b[32m     54\u001b[39m     data = \u001b[38;5;28mself\u001b[39m.dataset[possibly_batched_index]\n",
      "\u001b[36mFile \u001b[39m\u001b[32mc:\\Users\\sproj_ha\\Desktop\\vision_interp\\lib\\data_handlers.py:30\u001b[39m, in \u001b[36mImageNet100.__getitem__\u001b[39m\u001b[34m(self, idx)\u001b[39m\n\u001b[32m     28\u001b[39m \u001b[38;5;28;01mdef\u001b[39;00m\u001b[38;5;250m \u001b[39m\u001b[34m__getitem__\u001b[39m(\u001b[38;5;28mself\u001b[39m, idx):\n\u001b[32m     29\u001b[39m     img_path, label = \u001b[38;5;28mself\u001b[39m.samples[idx]\n\u001b[32m---> \u001b[39m\u001b[32m30\u001b[39m     image = Image.open(img_path).convert(\u001b[33m\"\u001b[39m\u001b[33mRGB\u001b[39m\u001b[33m\"\u001b[39m)\n\u001b[32m     31\u001b[39m     \u001b[38;5;28;01mif\u001b[39;00m \u001b[38;5;28mself\u001b[39m.transform:\n\u001b[32m     32\u001b[39m         image = \u001b[38;5;28mself\u001b[39m.transform(image)\n",
      "\u001b[36mFile \u001b[39m\u001b[32mc:\\Users\\sproj_ha\\miniconda3\\envs\\interpretability\\Lib\\site-packages\\PIL\\Image.py:3524\u001b[39m, in \u001b[36mopen\u001b[39m\u001b[34m(fp, mode, formats)\u001b[39m\n\u001b[32m   3521\u001b[39m     fp = io.BytesIO(fp.read())\n\u001b[32m   3522\u001b[39m     exclusive_fp = \u001b[38;5;28;01mTrue\u001b[39;00m\n\u001b[32m-> \u001b[39m\u001b[32m3524\u001b[39m prefix = fp.read(\u001b[32m16\u001b[39m)\n\u001b[32m   3526\u001b[39m preinit()\n\u001b[32m   3528\u001b[39m warning_messages: \u001b[38;5;28mlist\u001b[39m[\u001b[38;5;28mstr\u001b[39m] = []\n",
      "\u001b[31mKeyboardInterrupt\u001b[39m: "
     ]
    }
   ],
   "source": [
    "for domain in trainloaders.keys():\n",
    "\n",
    "    print(f\"====> Beginning Training for Domain: {domain}\")\n",
    "    \n",
    "    for epoch in range(epochs[domain]):\n",
    "        train_mlp(\n",
    "            image_loader=trainloaders[domain],\n",
    "            mlp=mlps[domain],\n",
    "            optimizer=optimizers[domain],\n",
    "            loss_fn=loss_fn,\n",
    "            vit_full=vit_full,\n",
    "            sae=sae,\n",
    "            internal_map=image_dataset.class_to_idx,\n",
    "            alpha=alpha,\n",
    "            epoch=epoch\n",
    "        )\n",
    "        if schedulers[domain] is not None:\n",
    "            schedulers[domain].step()\n",
    "\n",
    "    torch.save(mlps[domain].state_dict(), f\"./models/MLPs/mlp_vit_logits_alpha{alpha}_{domain}_{epochs[domain]}epochs.pth\")\n",
    "    print(f\"Domain {domain} MLP Saved\")"
   ]
  },
  {
   "cell_type": "markdown",
   "id": "587c4649",
   "metadata": {},
   "source": [
    "## Loading"
   ]
  },
  {
   "cell_type": "code",
   "execution_count": 4,
   "id": "ba464854",
   "metadata": {},
   "outputs": [],
   "source": [
    "for domain in trainloaders.keys():\n",
    "    mlps[domain].load_state_dict(torch.load(f\"./models/MLPs/mlp_vit_alpha1_{domain}_7ep.pth\")) "
   ]
  },
  {
   "cell_type": "code",
   "execution_count": 5,
   "id": "c3832ebd",
   "metadata": {},
   "outputs": [],
   "source": [
    "softmax_after = {}\n",
    "softmax_before = {}\n",
    "entropy_after = {}\n",
    "entropy_before = {}"
   ]
  },
  {
   "cell_type": "markdown",
   "id": "ddbdf78c",
   "metadata": {},
   "source": [
    "Pre-Sparse Accuracy"
   ]
  },
  {
   "cell_type": "code",
   "execution_count": 6,
   "id": "e5170239",
   "metadata": {},
   "outputs": [
    {
     "name": "stdout",
     "output_type": "stream",
     "text": [
      "====> Test Set for Domain: INET\n"
     ]
    },
    {
     "name": "stderr",
     "output_type": "stream",
     "text": [
      "Testing: 100%|██████████| 20/20 [00:40<00:00,  2.04s/batch, loss=0.3061]\n"
     ]
    },
    {
     "name": "stdout",
     "output_type": "stream",
     "text": [
      "Test finished. Avg loss: 0.2128, Accuracy: 95.67%\n",
      "====> Test Set for Domain: Sketch\n"
     ]
    },
    {
     "name": "stderr",
     "output_type": "stream",
     "text": [
      "Testing: 100%|██████████| 128/128 [00:11<00:00, 11.27batch/s, loss=0.0000]"
     ]
    },
    {
     "name": "stdout",
     "output_type": "stream",
     "text": [
      "Test finished. Avg loss: 0.5640, Accuracy: 89.64%\n"
     ]
    },
    {
     "name": "stderr",
     "output_type": "stream",
     "text": [
      "\n"
     ]
    }
   ],
   "source": [
    "for domain in trainloaders.keys():\n",
    "    print(f\"====> Test Set for Domain: {domain}\")\n",
    "    _, _, softmax_before[domain], entropy_before[domain] = test_mlp(\n",
    "            image_loader=testloaders[domain],\n",
    "            mlp=mlps[domain],\n",
    "            sae=sae,\n",
    "            loss_fn=loss_fn,\n",
    "            vit_full=vit_full,\n",
    "            internal_map=image_dataset.class_to_idx\n",
    "        )"
   ]
  },
  {
   "cell_type": "markdown",
   "id": "94527575",
   "metadata": {},
   "source": [
    "Sparsification"
   ]
  },
  {
   "cell_type": "code",
   "execution_count": 7,
   "id": "b41b6d70",
   "metadata": {},
   "outputs": [
    {
     "name": "stdout",
     "output_type": "stream",
     "text": [
      "tensor(0.0005, device='cuda:0') tensor(3.3287e-05, device='cuda:0')\n",
      "INET MLP Sparsity: 99.97 | 202\n",
      "tensor(0.0003, device='cuda:0') tensor(0.0001, device='cuda:0')\n",
      "Sketch MLP Sparsity: 99.85 | 931\n"
     ]
    }
   ],
   "source": [
    "sparse_mlps = {}\n",
    "k = {\"INET\": 15, \"Sketch\": 2}\n",
    "for key in trainloaders.keys():\n",
    "    sparse_mlps[key] = prune_weights(copy.deepcopy(mlps[key]), k=k[key])\n",
    "    sparsity, zeros = check_sparsity(sparse_mlps[key])\n",
    "    \n",
    "    # plot_weight_histogram_before_after(mlps[key], sparse_mlps[key], bins=(6144*100))\n",
    "    \n",
    "    print(f\"{key} MLP Sparsity: {sparsity:.2f} | {(100*6144) - zeros}\")\n"
   ]
  },
  {
   "cell_type": "markdown",
   "id": "064305bf",
   "metadata": {},
   "source": [
    "Post-Sparse Accuracy"
   ]
  },
  {
   "cell_type": "code",
   "execution_count": 8,
   "id": "e84e59a9",
   "metadata": {},
   "outputs": [
    {
     "name": "stdout",
     "output_type": "stream",
     "text": [
      "====> Test Set for Domain: INET\n"
     ]
    },
    {
     "name": "stderr",
     "output_type": "stream",
     "text": [
      "Testing: 100%|██████████| 20/20 [00:52<00:00,  2.61s/batch, loss=0.2154]\n"
     ]
    },
    {
     "name": "stdout",
     "output_type": "stream",
     "text": [
      "Test finished. Avg loss: 0.2263, Accuracy: 95.86%\n",
      "====> Test Set for Domain: Sketch\n"
     ]
    },
    {
     "name": "stderr",
     "output_type": "stream",
     "text": [
      "Testing: 100%|██████████| 128/128 [00:11<00:00, 10.81batch/s, loss=0.0000]"
     ]
    },
    {
     "name": "stdout",
     "output_type": "stream",
     "text": [
      "Test finished. Avg loss: 0.5865, Accuracy: 89.29%\n"
     ]
    },
    {
     "name": "stderr",
     "output_type": "stream",
     "text": [
      "\n"
     ]
    }
   ],
   "source": [
    "for domain in trainloaders.keys():\n",
    "    print(f\"====> Test Set for Domain: {domain}\")\n",
    "    _, _, softmax_after[domain], entropy_after[domain] = test_mlp(\n",
    "            image_loader=testloaders[domain],\n",
    "            mlp=sparse_mlps[domain],\n",
    "            sae=sae,\n",
    "            loss_fn=loss_fn,\n",
    "            vit_full=vit_full,\n",
    "            internal_map=image_dataset.class_to_idx\n",
    "        )"
   ]
  },
  {
   "cell_type": "markdown",
   "id": "0c1419ec",
   "metadata": {},
   "source": [
    "Distribution Change"
   ]
  },
  {
   "cell_type": "code",
   "execution_count": 9,
   "id": "4e1ed4cb",
   "metadata": {},
   "outputs": [
    {
     "data": {
      "image/png": "[encoded data removed]",
      "text/plain": [
       "<Figure size 640x480 with 1 Axes>"
      ]
     },
     "metadata": {},
     "output_type": "display_data"
    },
    {
     "data": {
      "image/png": "[encoded data removed]",
      "text/plain": [
       "<Figure size 640x480 with 1 Axes>"
      ]
     },
     "metadata": {},
     "output_type": "display_data"
    },
    {
     "data": {
      "image/png": "[encoded data removed]",
      "text/plain": [
       "<Figure size 640x480 with 1 Axes>"
      ]
     },
     "metadata": {},
     "output_type": "display_data"
    },
    {
     "data": {
      "image/png": "[encoded data removed]",
      "text/plain": [
       "<Figure size 640x480 with 1 Axes>"
      ]
     },
     "metadata": {},
     "output_type": "display_data"
    }
   ],
   "source": [
    "for domain in trainloaders.keys():\n",
    "\n",
    "    plt.hist(entropy_before[domain].numpy(), bins=100, alpha=0.8, label=\"Before Pruning\")\n",
    "    plt.hist(entropy_after[domain].numpy(), bins=100, alpha=0.4, label=\"After Pruning\")\n",
    "    plt.xlabel(\"Entropy\")\n",
    "    plt.ylabel(\"Frequency\")\n",
    "    plt.legend()\n",
    "    plt.title(f\"Distribution of Prediction Entropy on {domain}\")\n",
    "    plt.show()\n",
    "\n",
    "    conf_before = softmax_before[domain].max(dim=1).values\n",
    "    conf_after = softmax_after[domain].max(dim=1).values\n",
    "\n",
    "    plt.hist(conf_before.numpy(), bins=100, alpha=0.6, label=\"Before Pruning\")\n",
    "    plt.hist(conf_after.numpy(), bins=100, alpha=0.5, label=\"After Pruning\")\n",
    "    plt.xlabel(\"Max Softmax Confidence\")\n",
    "    plt.ylabel(\"Frequency\")\n",
    "    plt.legend()\n",
    "    plt.title(f\"Distribution of Model Confidence on {domain}\")\n",
    "    plt.show()\n"
   ]
  },
  {
   "cell_type": "markdown",
   "id": "c6cde881",
   "metadata": {},
   "source": [
    "## Visualization "
   ]
  },
  {
   "cell_type": "code",
   "execution_count": null,
   "id": "8e168fba",
   "metadata": {},
   "outputs": [],
   "source": [
    "weights_ood = sparse_mlps[\"Sketch\"].weight.detach().cpu()  # shape 100 x 6144\n",
    "weights_iid = sparse_mlps[\"INET\"].weight.detach().cpu() \n",
    "\n",
    "weights = {\"OOD\": weights_ood, \"IID\": weights_iid}\n",
    "\n",
    "nonzero_indices = {}\n",
    "\n",
    "for tag, weight in weights.items():\n",
    "    nonzero_indices[tag] = []\n",
    "    print(f\"\\n================ {tag} ==================\")\n",
    "    for class_idx in range(weight.shape[0]):\n",
    "        class_weights = weight[class_idx]\n",
    "\n",
    "        nonzero_idx = torch.nonzero(class_weights, as_tuple=True)[0]\n",
    "\n",
    "        sorted_vals, sorted_idx = torch.sort(\n",
    "            class_weights[nonzero_idx], descending=True\n",
    "        )\n",
    "        sorted_features = nonzero_idx[sorted_idx].tolist()\n",
    "        sorted_strengths = sorted_vals.tolist()\n",
    "        nonzero_indices[tag].append(set(sorted_features))\n",
    "\n",
    "        print(f\"\\nClass {class_idx}: {len(sorted_features)} non-zero features (sorted by weight, positives first)\")\n",
    "        for f_idx, f_val in zip(sorted_features, sorted_strengths):\n",
    "            print(f\"    Feature {f_idx}: weight={f_val:.8f}\")"
   ]
  },
  {
   "cell_type": "code",
   "execution_count": null,
   "id": "76459c74",
   "metadata": {},
   "outputs": [],
   "source": [
    "print(\"\\n============== Common Non-Zero Indices ==============\")\n",
    "for class_idx in range(weights_ood.shape[0]):\n",
    "    common = nonzero_indices[\"OOD\"][class_idx].intersection(nonzero_indices[\"IID\"][class_idx])\n",
    "\n",
    "    # For strength display, take from OOD & IID separately\n",
    "    ood_weights = weights[\"OOD\"][class_idx]\n",
    "    iid_weights = weights[\"IID\"][class_idx]\n",
    "\n",
    "    # Sort common features by average weight (favoring positive ones)\n",
    "    common_sorted = sorted(\n",
    "        list(common),\n",
    "        key=lambda i: (ood_weights[i] + iid_weights[i]) / 2,\n",
    "        reverse=True\n",
    "    )\n",
    "\n",
    "    print(f\"\\nClass {class_idx}: {len(common)} common non-zero features (sorted by avg weight)\")\n",
    "    for f_idx in common_sorted:\n",
    "        print(\n",
    "            f\"    Feature {f_idx}: \"\n",
    "            f\"OOD={ood_weights[f_idx]:.4f}, \"\n",
    "            f\"IID={iid_weights[f_idx]:.4f}\"\n",
    "        )\n"
   ]
  },
  {
   "cell_type": "code",
   "execution_count": null,
   "id": "bbb5ddc8",
   "metadata": {},
   "outputs": [],
   "source": [
    "SAEs = {\n",
    "    \"ViT\": sae\n",
    "}\n",
    "\n",
    "models = {\n",
    "    \"ViT\": ViT(device=\"cuda\")\n",
    "}\n",
    "\n",
    "inet_trainloader, _= Load_ImageNet100(transform=None, batch_size=256, shuffle=True, dataset_allow=True, train=True)\n",
    "\n",
    "activations_dataloader = Load_activation_dataloader(\n",
    "    models=models,\n",
    "    image_dataloader=inet_trainloader,\n",
    "    max_seq_len=196,\n",
    "    save_dir=f\"./activations/ViTMLP_INET\",\n",
    "    generate=True,\n",
    "    rearrange_string='n t d -> (n t) d'\n",
    ")\n",
    "\n",
    "visualize_concepts(\n",
    "    activation_loader=activations_dataloader,\n",
    "    SAEs=SAEs,\n",
    "    save_dir=f\"./results/visualize2_VITMLP_INET\",\n",
    "    patch_width=14,\n",
    "    num_concepts=concepts,\n",
    "    n_images=4,\n",
    "    abort_threshold=0.0,\n",
    ")"
   ]
  },
  {
   "cell_type": "code",
   "execution_count": null,
   "id": "a1742d78",
   "metadata": {},
   "outputs": [],
   "source": [
    "sketch_trainloader = Load_ImageNet100Sketch(transform=None, batch_size=250, shuffle=True, train=True)\n",
    "\n",
    "activations_dataloader = Load_activation_dataloader(\n",
    "    models=models,\n",
    "    image_dataloader=sketch_trainloader,\n",
    "    max_seq_len=196,\n",
    "    save_dir=f\"./activations/ViTMLP_sketch\",\n",
    "    generate=True,\n",
    "    rearrange_string='n t d -> (n t) d'\n",
    ")\n",
    "\n",
    "visualize_concepts(\n",
    "    activation_loader=activations_dataloader,\n",
    "    SAEs=SAEs,\n",
    "    save_dir=f\"./results/visualize2_VITMLP_sketch\",\n",
    "    patch_width=14,\n",
    "    num_concepts=concepts,\n",
    "    n_images=8,\n",
    "    abort_threshold=0.0,\n",
    ")"
   ]
  },
  {
   "cell_type": "code",
   "execution_count": null,
   "id": "1f7aafda",
   "metadata": {},
   "outputs": [],
   "source": []
  }
 ],
 "metadata": {
  "kernelspec": {
   "display_name": "interpretability",
   "language": "python",
   "name": "python3"
  },
  "language_info": {
   "codemirror_mode": {
    "name": "ipython",
    "version": 3
   },
   "file_extension": ".py",
   "mimetype": "text/x-python",
   "name": "python",
   "nbconvert_exporter": "python",
   "pygments_lexer": "ipython3",
   "version": "3.13.5"
  }
 },
 "nbformat": 4,
 "nbformat_minor": 5
}
