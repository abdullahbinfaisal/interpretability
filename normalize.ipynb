{
 "cells": [
  {
   "cell_type": "code",
   "execution_count": 1,
   "id": "c942c243",
   "metadata": {},
   "outputs": [],
   "source": [
    "import torch\n",
    "from data_handlers import Load_ImageNet100\n",
    "from overcomplete.models import DinoV2, ViT, ResNet\n",
    "from torch.utils.data import DataLoader, TensorDataset\n",
    "from overcomplete.sae import TopKSAE, train_sae\n",
    "from overcomplete.visualization import (overlay_top_heatmaps, evidence_top_images, zoom_top_images, contour_top_image)\n",
    "import os\n",
    "import matplotlib.pyplot as plt\n",
    "from einops import rearrange\n",
    "from universal_trainer import train_usae\n",
    "from activation_generator import Load_activation_dataloader\n",
    "import torch.nn as nn\n",
    "\n",
    "device = torch.device(\"cuda\" if torch.cuda.is_available() else \"cpu\")"
   ]
  },
  {
   "cell_type": "code",
   "execution_count": null,
   "id": "dd4b4752",
   "metadata": {},
   "outputs": [
    {
     "name": "stderr",
     "output_type": "stream",
     "text": [
      "Using cache found in C:\\Users\\sproj_ha/.cache\\torch\\hub\\facebookresearch_dinov2_main\n",
      "C:\\Users\\sproj_ha/.cache\\torch\\hub\\facebookresearch_dinov2_main\\dinov2\\layers\\swiglu_ffn.py:51: UserWarning: xFormers is not available (SwiGLU)\n",
      "  warnings.warn(\"xFormers is not available (SwiGLU)\")\n",
      "C:\\Users\\sproj_ha/.cache\\torch\\hub\\facebookresearch_dinov2_main\\dinov2\\layers\\attention.py:33: UserWarning: xFormers is not available (Attention)\n",
      "  warnings.warn(\"xFormers is not available (Attention)\")\n",
      "C:\\Users\\sproj_ha/.cache\\torch\\hub\\facebookresearch_dinov2_main\\dinov2\\layers\\block.py:40: UserWarning: xFormers is not available (Block)\n",
      "  warnings.warn(\"xFormers is not available (Block)\")\n",
      "c:\\Users\\sproj_ha\\miniconda3\\envs\\interpretability\\Lib\\site-packages\\tqdm\\auto.py:21: TqdmWarning: IProgress not found. Please update jupyter and ipywidgets. See https://ipywidgets.readthedocs.io/en/stable/user_install.html\n",
      "  from .autonotebook import tqdm as notebook_tqdm\n"
     ]
    }
   ],
   "source": [
    "models = {\n",
    "    \"DinoV2\": DinoV2(device=\"cuda\"),\n",
    "    \"ViT\": ViT(device=\"cuda\")\n",
    "}"
   ]
  },
  {
   "cell_type": "code",
   "execution_count": null,
   "id": "02473192",
   "metadata": {},
   "outputs": [],
   "source": [
    "def compute_normalization_stats(activations):\n",
    "    # Flatten across batch and sequence\n",
    "    flat = activations.permute(1, 0, 2).reshape(activations.shape[1], -1)  # (D, N*T)\n",
    "    mean = flat.mean(dim=1)  # (D,)\n",
    "    std = flat.std(dim=1)  # (D,)\n",
    "    print(\"Mean: \", mean)\n",
    "    print(\"Std: \", std)\n",
    "    return mean, std"
   ]
  },
  {
   "cell_type": "code",
   "execution_count": null,
   "id": "871e7b4b",
   "metadata": {},
   "outputs": [
    {
     "name": "stdout",
     "output_type": "stream",
     "text": [
      "Activations Shape:  torch.Size([1024, 256, 384])\n"
     ]
    },
    {
     "ename": "NameError",
     "evalue": "name 'compute_normalization_stats' is not defined",
     "output_type": "error",
     "traceback": [
      "\u001b[31m---------------------------------------------------------------------------\u001b[39m",
      "\u001b[31mNameError\u001b[39m                                 Traceback (most recent call last)",
      "\u001b[36mCell\u001b[39m\u001b[36m \u001b[39m\u001b[32mIn[5]\u001b[39m\u001b[32m, line 8\u001b[39m\n\u001b[32m      5\u001b[39m \u001b[38;5;28mprint\u001b[39m(\u001b[33m\"\u001b[39m\u001b[33mActivations Shape: \u001b[39m\u001b[33m\"\u001b[39m, activations.shape)\n\u001b[32m      7\u001b[39m \u001b[38;5;66;03m# Compute normalization stats\u001b[39;00m\n\u001b[32m----> \u001b[39m\u001b[32m8\u001b[39m mean, std = \u001b[43mcompute_normalization_stats\u001b[49m(activations)\n",
      "\u001b[31mNameError\u001b[39m: name 'compute_normalization_stats' is not defined"
     ]
    }
   ],
   "source": [
    "image_loader = Load_ImageNet100(transform=None, batch_size=1024, shuffle=True)\n",
    "\n",
    "activations = models[\"DinoV2\"].forward_features(img.to(device))\n",
    "print(\"Activations Shape: \", activations.shape)\n"
   ]
  },
  {
   "cell_type": "code",
   "execution_count": null,
   "id": "b9c8198e",
   "metadata": {},
   "outputs": [
    {
     "name": "stdout",
     "output_type": "stream",
     "text": [
      "Mean:  tensor([-0.0111, -0.0060, -0.0070, -0.0059, -0.0114, -0.0088, -0.0110, -0.0056,\n",
      "        -0.0050, -0.0037,  0.0015,  0.0026,  0.0033,  0.0024,  0.0014, -0.0064,\n",
      "         0.0036,  0.0058,  0.0103,  0.0048,  0.0056,  0.0044,  0.0075,  0.0062,\n",
      "         0.0086,  0.0153,  0.0136,  0.0219,  0.0153,  0.0188,  0.0129,  0.0098,\n",
      "         0.0129,  0.0151,  0.0168,  0.0147,  0.0165,  0.0122,  0.0137,  0.0156,\n",
      "         0.0209,  0.0279,  0.0254,  0.0340,  0.0244,  0.0221,  0.0205,  0.0172,\n",
      "         0.0172,  0.0190,  0.0252,  0.0196,  0.0212,  0.0203,  0.0222,  0.0228,\n",
      "         0.0266,  0.0342,  0.0318,  0.0361,  0.0287,  0.0343,  0.0248,  0.0217,\n",
      "         0.0218,  0.0249,  0.0329,  0.0281,  0.0306,  0.0266,  0.0275,  0.0276,\n",
      "         0.0342,  0.0403,  0.0397,  0.0446,  0.0370,  0.0379,  0.0328,  0.0283,\n",
      "         0.0234,  0.0266,  0.0345,  0.0317,  0.0335,  0.0307,  0.0313,  0.0318,\n",
      "         0.0367,  0.0422,  0.0438,  0.0470,  0.0402,  0.0438,  0.0363,  0.0302,\n",
      "         0.0276,  0.0313,  0.0371,  0.0338,  0.0356,  0.0336,  0.0333,  0.0338,\n",
      "         0.0407,  0.0463,  0.0458,  0.0519,  0.0451,  0.0483,  0.0376,  0.0323,\n",
      "         0.0251,  0.0279,  0.0342,  0.0328,  0.0338,  0.0315,  0.0324,  0.0342,\n",
      "         0.0389,  0.0446,  0.0439,  0.0480,  0.0434,  0.0444,  0.0375,  0.0310,\n",
      "         0.0226,  0.0284,  0.0325,  0.0304,  0.0305,  0.0301,  0.0317,  0.0344,\n",
      "         0.0376,  0.0439,  0.0439,  0.0455,  0.0426,  0.0421,  0.0361,  0.0296,\n",
      "         0.0228,  0.0273,  0.0313,  0.0293,  0.0298,  0.0296,  0.0306,  0.0344,\n",
      "         0.0380,  0.0428,  0.0441,  0.0468,  0.0418,  0.0421,  0.0363,  0.0297,\n",
      "         0.0211,  0.0265,  0.0316,  0.0282,  0.0297,  0.0305,  0.0320,  0.0343,\n",
      "         0.0387,  0.0432,  0.0433,  0.0435,  0.0406,  0.0392,  0.0327,  0.0275,\n",
      "         0.0239,  0.0275,  0.0330,  0.0300,  0.0309,  0.0314,  0.0339,  0.0368,\n",
      "         0.0397,  0.0448,  0.0450,  0.0487,  0.0424,  0.0371,  0.0336,  0.0287,\n",
      "         0.0228,  0.0280,  0.0328,  0.0306,  0.0331,  0.0333,  0.0352,  0.0374,\n",
      "         0.0415,  0.0453,  0.0449,  0.0494,  0.0422,  0.0421,  0.0341,  0.0287,\n",
      "         0.0234,  0.0287,  0.0353,  0.0323,  0.0345,  0.0340,  0.0346,  0.0380,\n",
      "         0.0443,  0.0494,  0.0481,  0.0514,  0.0439,  0.0447,  0.0353,  0.0305,\n",
      "         0.0261,  0.0274,  0.0356,  0.0293,  0.0341,  0.0337,  0.0355,  0.0359,\n",
      "         0.0416,  0.0481,  0.0435,  0.0489,  0.0403,  0.0423,  0.0356,  0.0302,\n",
      "         0.0270,  0.0267,  0.0348,  0.0288,  0.0357,  0.0328,  0.0376,  0.0342,\n",
      "         0.0408,  0.0462,  0.0416,  0.0495,  0.0386,  0.0452,  0.0370,  0.0333],\n",
      "       device='cuda:0')\n",
      "Std:  tensor([2.4769, 2.4993, 2.4824, 2.5021, 2.4903, 2.5029, 2.4925, 2.5006, 2.4960,\n",
      "        2.5088, 2.5034, 2.4849, 2.5007, 2.4821, 2.4945, 2.4774, 2.4843, 2.5071,\n",
      "        2.4975, 2.5080, 2.5063, 2.5101, 2.5074, 2.5154, 2.5157, 2.4990, 2.5116,\n",
      "        2.4974, 2.5079, 2.4960, 2.5049, 2.4818, 2.4624, 2.5035, 2.5240, 2.5045,\n",
      "        2.5089, 2.5171, 2.5281, 2.5166, 2.5138, 2.5122, 2.5111, 2.5025, 2.5069,\n",
      "        2.5514, 2.5043, 2.4740, 2.4773, 2.5015, 2.4946, 2.5054, 2.5068, 2.5198,\n",
      "        2.5140, 2.5185, 2.5206, 2.5129, 2.5129, 2.5065, 2.5077, 2.4995, 2.4997,\n",
      "        2.4761, 2.4639, 2.4973, 2.4955, 2.5063, 2.5034, 2.5184, 2.5194, 2.5281,\n",
      "        2.5234, 2.5163, 2.5209, 2.5151, 2.5111, 2.5228, 2.5020, 2.4719, 2.4762,\n",
      "        2.5039, 2.4989, 2.5097, 2.5115, 2.5268, 2.5295, 2.5357, 2.5358, 2.5292,\n",
      "        2.5261, 2.5128, 2.5101, 2.4968, 2.5022, 2.4738, 2.4660, 2.5008, 2.5054,\n",
      "        2.5116, 2.5153, 2.5341, 2.5433, 2.5447, 2.5388, 2.5349, 2.5309, 2.5133,\n",
      "        2.5099, 2.4916, 2.5011, 2.4714, 2.4752, 2.5027, 2.5013, 2.5151, 2.5265,\n",
      "        2.5362, 2.5456, 2.5443, 2.5437, 2.5389, 2.5331, 2.5227, 2.5140, 2.5074,\n",
      "        2.5001, 2.4712, 2.4795, 2.5041, 2.5093, 2.5213, 2.5324, 2.5403, 2.5480,\n",
      "        2.5469, 2.5466, 2.5387, 2.5351, 2.5277, 2.5184, 2.5068, 2.5053, 2.4796,\n",
      "        2.4750, 2.5065, 2.5124, 2.5228, 2.5308, 2.5381, 2.5437, 2.5418, 2.5377,\n",
      "        2.5341, 2.5316, 2.5171, 2.5165, 2.5037, 2.5055, 2.4756, 2.4813, 2.5067,\n",
      "        2.5075, 2.5183, 2.5236, 2.5304, 2.5333, 2.5332, 2.5244, 2.5238, 2.5210,\n",
      "        2.5146, 2.5142, 2.5011, 2.4997, 2.4753, 2.4695, 2.5074, 2.4963, 2.5117,\n",
      "        2.5061, 2.5222, 2.5165, 2.5181, 2.5129, 2.5087, 2.5190, 2.5070, 2.5066,\n",
      "        2.5144, 2.4970, 2.4638, 2.4803, 2.5027, 2.4993, 2.5085, 2.5026, 2.5145,\n",
      "        2.5094, 2.5129, 2.5084, 2.5023, 2.5110, 2.5002, 2.5037, 2.4974, 2.4992,\n",
      "        2.4702, 2.4701, 2.4992, 2.4918, 2.5007, 2.4973, 2.5055, 2.5085, 2.5028,\n",
      "        2.4941, 2.4877, 2.4935, 2.4951, 2.4988, 2.4859, 2.4939, 2.4626, 2.4700,\n",
      "        2.4940, 2.4885, 2.4990, 2.4890, 2.4996, 2.4985, 2.4971, 2.4897, 2.4824,\n",
      "        2.4915, 2.4843, 2.4935, 2.4889, 2.4862, 2.4657, 2.4388, 2.4862, 2.4595,\n",
      "        2.4869, 2.4630, 2.4812, 2.4682, 2.4786, 2.4661, 2.4613, 2.4787, 2.4547,\n",
      "        2.4801, 2.4514, 2.4698, 2.4267], device='cuda:0')\n"
     ]
    }
   ],
   "source": [
    "# Compute normalization stats\n",
    "mean, std = compute_normalization_stats(activations)"
   ]
  },
  {
   "cell_type": "code",
   "execution_count": null,
   "id": "a1f4d3bd",
   "metadata": {},
   "outputs": [],
   "source": []
  }
 ],
 "metadata": {
  "kernelspec": {
   "display_name": "interpretability",
   "language": "python",
   "name": "python3"
  },
  "language_info": {
   "codemirror_mode": {
    "name": "ipython",
    "version": 3
   },
   "file_extension": ".py",
   "mimetype": "text/x-python",
   "name": "python",
   "nbconvert_exporter": "python",
   "pygments_lexer": "ipython3",
   "version": "3.11.13"
  }
 },
 "nbformat": 4,
 "nbformat_minor": 5
}
