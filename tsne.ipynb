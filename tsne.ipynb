{
 "cells": [
  {
   "cell_type": "code",
   "execution_count": 1,
   "id": "769f2eb6",
   "metadata": {},
   "outputs": [],
   "source": [
    "import torch\n",
    "import torchvision.datasets as datasets\n",
    "import torchvision.transforms as transforms\n",
    "from torch.utils.data import DataLoader\n",
    "from torchvision.models import resnet18\n",
    "from embedding_viz import generate_plots"
   ]
  },
  {
   "cell_type": "code",
   "execution_count": null,
   "id": "3ff3fa65",
   "metadata": {},
   "outputs": [
    {
     "name": "stderr",
     "output_type": "stream",
     "text": [
      "/opt/homebrew/lib/python3.11/site-packages/torchvision/models/_utils.py:208: UserWarning: The parameter 'pretrained' is deprecated since 0.13 and may be removed in the future, please use 'weights' instead.\n",
      "  warnings.warn(\n",
      "/opt/homebrew/lib/python3.11/site-packages/torchvision/models/_utils.py:223: UserWarning: Arguments other than a weight enum or `None` for 'weights' are deprecated since 0.13 and may be removed in the future. The current behavior is equivalent to passing `weights=ResNet18_Weights.IMAGENET1K_V1`. You can also use `weights=ResNet18_Weights.DEFAULT` to get the most up-to-date weights.\n",
      "  warnings.warn(msg)\n",
      "Pipeline:  50%|█████████████████                 | 2/4 [05:22<04:37, 138.74s/it]/opt/homebrew/lib/python3.11/site-packages/umap/umap_.py:1952: UserWarning: n_jobs value 1 overridden to 1 by setting random_state. Use no seed for parallelism.\n",
      "  warn(\n",
      "OMP: Info #276: omp_set_nested routine deprecated, please use omp_set_max_active_levels instead.\n",
      "                                                                                "
     ]
    },
    {
     "name": "stdout",
     "output_type": "stream",
     "text": [
      "t-SNE and UMAP results saved:\n",
      "./demo_out/cifar10_resnet18_tsne.png ./demo_out/cifar10_resnet18_tsne.csv\n",
      "./demo_out/cifar10_resnet18_umap.png ./demo_out/cifar10_resnet18_umap.csv\n"
     ]
    },
    {
     "name": "stderr",
     "output_type": "stream",
     "text": [
      "\r"
     ]
    }
   ],
   "source": [
    "device = \"cuda\" if torch.cuda.is_available() else \"cpu\"\n",
    "\n",
    "transform = transforms.Compose(\n",
    "    [\n",
    "        transforms.Resize((224, 224)),\n",
    "        transforms.ToTensor(),\n",
    "        transforms.Normalize(mean=(0.485, 0.456, 0.406), std=(0.229, 0.224, 0.225)),\n",
    "    ]\n",
    ")\n",
    "\n",
    "dataset = datasets.CIFAR10(\n",
    "    root=\"./data\", train=False, download=True, transform=transform\n",
    ")\n",
    "loader = DataLoader(dataset, batch_size=128, shuffle=False)\n",
    "\n",
    "model = resnet18(\n",
    "    pretrained=True\n",
    ")\n",
    "\n",
    "results = generate_plots(\n",
    "    model=model,\n",
    "    dataloader=loader,\n",
    "    device=device,\n",
    "    layer_name=None,\n",
    "    out_dir=\"./demo_out\",\n",
    "    base_name=\"cifar10_resnet18\",\n",
    ")\n",
    "\n",
    "\n",
    "print(\"t-SNE and UMAP results saved:\")\n",
    "print(results[\"tsne_png\"], results[\"tsne_csv\"])\n",
    "print(results[\"umap_png\"], results[\"umap_csv\"])"
   ]
  },
  {
   "cell_type": "code",
   "execution_count": null,
   "id": "8e483a2c",
   "metadata": {},
   "outputs": [],
   "source": []
  }
 ],
 "metadata": {
  "kernelspec": {
   "display_name": "Python 3",
   "language": "python",
   "name": "python3"
  },
  "language_info": {
   "codemirror_mode": {
    "name": "ipython",
    "version": 3
   },
   "file_extension": ".py",
   "mimetype": "text/x-python",
   "name": "python",
   "nbconvert_exporter": "python",
   "pygments_lexer": "ipython3",
   "version": "3.11.11"
  }
 },
 "nbformat": 4,
 "nbformat_minor": 5
}
