{
 "cells": [
  {
   "cell_type": "markdown",
   "id": "64ae5fa7",
   "metadata": {},
   "source": [
    "#### Setup\n"
   ]
  },
  {
   "cell_type": "code",
   "execution_count": 1,
   "id": "fd86d19d",
   "metadata": {},
   "outputs": [],
   "source": [
    "import torch\n",
    "import torchvision\n",
    "from lib.data_handlers import Load_ImageNet100, Load_PACS, Load_ImageNet100Sketch\n",
    "from overcomplete.models import DinoV2, ViT, ResNet, ViT_Large, SigLIP\n",
    "from torch.utils.data import DataLoader, TensorDataset\n",
    "from overcomplete.sae import TopKSAE, train_sae\n",
    "from overcomplete.visualization import (overlay_top_heatmaps, evidence_top_images, zoom_top_images, contour_top_image)\n",
    "import os\n",
    "import matplotlib.pyplot as plt\n",
    "from einops import rearrange\n",
    "from lib.universal_trainer import train_usae\n",
    "from lib.activation_generator import Load_activation_dataloader\n",
    "import torch.nn as nn\n",
    "from torch.optim.lr_scheduler import SequentialLR, LinearLR, CosineAnnealingLR\n",
    "from lib.eval import evaluate_models\n",
    "from lib.visualizer import visualize_concepts\n",
    "from tqdm import tqdm\n",
    "\n",
    "device = torch.device(\"cuda\" if torch.cuda.is_available() else \"cpu\")\n",
    "torch.cuda.empty_cache()"
   ]
  },
  {
   "cell_type": "markdown",
   "id": "29a7c042",
   "metadata": {},
   "source": [
    "### Train a USAE"
   ]
  },
  {
   "cell_type": "markdown",
   "id": "b998439e",
   "metadata": {},
   "source": [
    "Define Models and Generate Their Activations"
   ]
  },
  {
   "cell_type": "code",
   "execution_count": 2,
   "id": "a68d84da",
   "metadata": {},
   "outputs": [
    {
     "name": "stderr",
     "output_type": "stream",
     "text": [
      "Using cache found in C:\\Users\\sproj_ha/.cache\\torch\\hub\\facebookresearch_dinov2_main\n",
      "C:\\Users\\sproj_ha/.cache\\torch\\hub\\facebookresearch_dinov2_main\\dinov2\\layers\\swiglu_ffn.py:51: UserWarning: xFormers is not available (SwiGLU)\n",
      "  warnings.warn(\"xFormers is not available (SwiGLU)\")\n",
      "C:\\Users\\sproj_ha/.cache\\torch\\hub\\facebookresearch_dinov2_main\\dinov2\\layers\\attention.py:33: UserWarning: xFormers is not available (Attention)\n",
      "  warnings.warn(\"xFormers is not available (Attention)\")\n",
      "C:\\Users\\sproj_ha/.cache\\torch\\hub\\facebookresearch_dinov2_main\\dinov2\\layers\\block.py:40: UserWarning: xFormers is not available (Block)\n",
      "  warnings.warn(\"xFormers is not available (Block)\")\n",
      "c:\\Users\\sproj_ha\\miniconda3\\envs\\interpretability\\Lib\\site-packages\\tqdm\\auto.py:21: TqdmWarning: IProgress not found. Please update jupyter and ipywidgets. See https://ipywidgets.readthedocs.io/en/stable/user_install.html\n",
      "  from .autonotebook import tqdm as notebook_tqdm\n"
     ]
    }
   ],
   "source": [
    "models = {\n",
    "    \"Dino\": DinoV2(device=\"cuda\"),\n",
    "    \"ViT\": ViT(device=\"cuda\")\n",
    "}\n",
    "\n",
    "activation_dir = \"activations/ImageNet100_Sketch_Dino_ViT\"\n",
    "image_loader = Load_ImageNet100Sketch(transform=None, batch_size=256, shuffle=True)\n",
    "\n",
    "\n",
    "activations_dataloader = Load_activation_dataloader(\n",
    "    models=models,\n",
    "    image_dataloader=image_loader,\n",
    "    max_seq_len=196,   \n",
    "    save_dir=activation_dir, \n",
    "    generate=False,  \n",
    "    rearrange_string='n t d -> (n t) d'\n",
    "    )"
   ]
  },
  {
   "cell_type": "markdown",
   "id": "e35fc11e",
   "metadata": {},
   "source": [
    "SAE Training"
   ]
  },
  {
   "cell_type": "code",
   "execution_count": 3,
   "id": "0cae4a05",
   "metadata": {},
   "outputs": [],
   "source": [
    "concepts = 768 * 8\n",
    "epochs = 50\n",
    "lr=3e-4\n",
    "sample = next(iter(activations_dataloader))"
   ]
  },
  {
   "cell_type": "code",
   "execution_count": 4,
   "id": "c24c5428",
   "metadata": {},
   "outputs": [],
   "source": [
    "SAEs = {}\n",
    "optimizers = {}\n",
    "schedulers = {}\n",
    "\n",
    "for key, model in models.items():\n",
    "\n",
    "    SAEs[key] = TopKSAE(\n",
    "        sample[f\"activations_{key}\"].shape[-1],\n",
    "        nb_concepts=concepts,\n",
    "        top_k=16,\n",
    "        device=\"cuda\",\n",
    "    )\n",
    "    optimizers[key] = torch.optim.Adam(SAEs[key].parameters(), lr=lr)\n",
    "\n",
    "    # Set up a Linear + Cosine Scheduler\n",
    "    warmup_scheduler = LinearLR(\n",
    "        optimizers[key], start_factor=1e-6 / 3e-4, end_factor=1.0, total_iters=10\n",
    "    )\n",
    "    cosine_scheduler = CosineAnnealingLR(optimizers[key], T_max=epochs, eta_min=1e-6)\n",
    "    schedulers[key] = SequentialLR(\n",
    "        optimizers[key],\n",
    "        schedulers=[warmup_scheduler, cosine_scheduler],\n",
    "        milestones=[25],\n",
    "    )\n",
    "\n",
    "criterion = nn.L1Loss(reduction=\"mean\")  # change to mean reduction"
   ]
  },
  {
   "cell_type": "code",
   "execution_count": 5,
   "id": "698beefe",
   "metadata": {},
   "outputs": [
    {
     "name": "stderr",
     "output_type": "stream",
     "text": [
      "Epoch 1/50:   9%|▉         | 48/508 [00:23<02:49,  2.72it/s, loss=1.65]c:\\Users\\sproj_ha\\miniconda3\\envs\\interpretability\\Lib\\site-packages\\torch\\optim\\lr_scheduler.py:198: UserWarning: The epoch parameter in `scheduler.step()` was not necessary and is being deprecated where possible. Please use `scheduler.step()` to step the scheduler. During the deprecation, if epoch is different from None, the closed form is used instead of the new chainable form, where available. Please open an issue if you are unable to replicate your use case: https://github.com/pytorch/pytorch/issues/new/choose.\n",
      "  warnings.warn(EPOCH_DEPRECATION_WARNING, UserWarning)\n",
      "Epoch 1/50: 100%|██████████| 508/508 [03:20<00:00,  2.54it/s, loss=1.33]\n"
     ]
    },
    {
     "name": "stdout",
     "output_type": "stream",
     "text": [
      "\n",
      "[Epoch 1] Loss: 763.1322 | Time: 200.33s | Dead Features: 0.0%\n"
     ]
    },
    {
     "name": "stderr",
     "output_type": "stream",
     "text": [
      "Epoch 2/50: 100%|██████████| 508/508 [03:02<00:00,  2.79it/s, loss=1.23]\n"
     ]
    },
    {
     "name": "stdout",
     "output_type": "stream",
     "text": [
      "\n",
      "[Epoch 2] Loss: 650.4296 | Time: 182.31s | Dead Features: 0.0%\n"
     ]
    },
    {
     "name": "stderr",
     "output_type": "stream",
     "text": [
      "Epoch 3/50: 100%|██████████| 508/508 [02:58<00:00,  2.85it/s, loss=1.2] \n"
     ]
    },
    {
     "name": "stdout",
     "output_type": "stream",
     "text": [
      "\n",
      "[Epoch 3] Loss: 612.3526 | Time: 178.50s | Dead Features: 0.0%\n"
     ]
    },
    {
     "name": "stderr",
     "output_type": "stream",
     "text": [
      "Epoch 4/50: 100%|██████████| 508/508 [02:59<00:00,  2.83it/s, loss=1.17]\n"
     ]
    },
    {
     "name": "stdout",
     "output_type": "stream",
     "text": [
      "\n",
      "[Epoch 4] Loss: 594.0518 | Time: 179.41s | Dead Features: 0.0%\n"
     ]
    },
    {
     "name": "stderr",
     "output_type": "stream",
     "text": [
      "Epoch 5/50: 100%|██████████| 508/508 [02:59<00:00,  2.83it/s, loss=1.15]\n"
     ]
    },
    {
     "name": "stdout",
     "output_type": "stream",
     "text": [
      "\n",
      "[Epoch 5] Loss: 582.4541 | Time: 179.68s | Dead Features: 0.0%\n"
     ]
    },
    {
     "name": "stderr",
     "output_type": "stream",
     "text": [
      "Epoch 6/50: 100%|██████████| 508/508 [03:01<00:00,  2.81it/s, loss=1.17]\n"
     ]
    },
    {
     "name": "stdout",
     "output_type": "stream",
     "text": [
      "\n",
      "[Epoch 6] Loss: 575.2312 | Time: 181.07s | Dead Features: 0.0%\n"
     ]
    },
    {
     "name": "stderr",
     "output_type": "stream",
     "text": [
      "Epoch 7/50: 100%|██████████| 508/508 [03:02<00:00,  2.78it/s, loss=1.14]\n"
     ]
    },
    {
     "name": "stdout",
     "output_type": "stream",
     "text": [
      "\n",
      "[Epoch 7] Loss: 569.8462 | Time: 182.71s | Dead Features: 0.0%\n"
     ]
    },
    {
     "name": "stderr",
     "output_type": "stream",
     "text": [
      "Epoch 8/50: 100%|██████████| 508/508 [03:04<00:00,  2.75it/s, loss=1.11]\n"
     ]
    },
    {
     "name": "stdout",
     "output_type": "stream",
     "text": [
      "\n",
      "[Epoch 8] Loss: 565.7948 | Time: 184.40s | Dead Features: 0.0%\n"
     ]
    },
    {
     "name": "stderr",
     "output_type": "stream",
     "text": [
      "Epoch 9/50: 100%|██████████| 508/508 [03:03<00:00,  2.76it/s, loss=1.13]\n"
     ]
    },
    {
     "name": "stdout",
     "output_type": "stream",
     "text": [
      "\n",
      "[Epoch 9] Loss: 562.5210 | Time: 183.76s | Dead Features: 0.0%\n"
     ]
    },
    {
     "name": "stderr",
     "output_type": "stream",
     "text": [
      "Epoch 10/50: 100%|██████████| 508/508 [03:03<00:00,  2.77it/s, loss=1.13]\n"
     ]
    },
    {
     "name": "stdout",
     "output_type": "stream",
     "text": [
      "\n",
      "[Epoch 10] Loss: 559.9510 | Time: 183.55s | Dead Features: 0.1%\n"
     ]
    },
    {
     "name": "stderr",
     "output_type": "stream",
     "text": [
      "Epoch 11/50: 100%|██████████| 508/508 [03:04<00:00,  2.76it/s, loss=1.13]\n"
     ]
    },
    {
     "name": "stdout",
     "output_type": "stream",
     "text": [
      "\n",
      "[Epoch 11] Loss: 557.7051 | Time: 184.37s | Dead Features: 0.1%\n"
     ]
    },
    {
     "name": "stderr",
     "output_type": "stream",
     "text": [
      "Epoch 12/50: 100%|██████████| 508/508 [03:04<00:00,  2.76it/s, loss=1.12]\n"
     ]
    },
    {
     "name": "stdout",
     "output_type": "stream",
     "text": [
      "\n",
      "[Epoch 12] Loss: 555.9130 | Time: 184.08s | Dead Features: 0.1%\n"
     ]
    },
    {
     "name": "stderr",
     "output_type": "stream",
     "text": [
      "Epoch 13/50: 100%|██████████| 508/508 [03:04<00:00,  2.75it/s, loss=1.11]\n"
     ]
    },
    {
     "name": "stdout",
     "output_type": "stream",
     "text": [
      "\n",
      "[Epoch 13] Loss: 554.2698 | Time: 184.65s | Dead Features: 0.3%\n"
     ]
    },
    {
     "name": "stderr",
     "output_type": "stream",
     "text": [
      "Epoch 14/50: 100%|██████████| 508/508 [03:04<00:00,  2.75it/s, loss=1.13] \n"
     ]
    },
    {
     "name": "stdout",
     "output_type": "stream",
     "text": [
      "\n",
      "[Epoch 14] Loss: 552.8268 | Time: 184.80s | Dead Features: 0.6%\n"
     ]
    },
    {
     "name": "stderr",
     "output_type": "stream",
     "text": [
      "Epoch 15/50: 100%|██████████| 508/508 [03:03<00:00,  2.76it/s, loss=1.12] \n"
     ]
    },
    {
     "name": "stdout",
     "output_type": "stream",
     "text": [
      "\n",
      "[Epoch 15] Loss: 551.4764 | Time: 183.98s | Dead Features: 1.0%\n"
     ]
    },
    {
     "name": "stderr",
     "output_type": "stream",
     "text": [
      "Epoch 16/50: 100%|██████████| 508/508 [03:03<00:00,  2.77it/s, loss=1.09]\n"
     ]
    },
    {
     "name": "stdout",
     "output_type": "stream",
     "text": [
      "\n",
      "[Epoch 16] Loss: 550.2070 | Time: 183.47s | Dead Features: 1.4%\n"
     ]
    },
    {
     "name": "stderr",
     "output_type": "stream",
     "text": [
      "Epoch 17/50: 100%|██████████| 508/508 [03:04<00:00,  2.75it/s, loss=1.11]\n"
     ]
    },
    {
     "name": "stdout",
     "output_type": "stream",
     "text": [
      "\n",
      "[Epoch 17] Loss: 548.9606 | Time: 184.63s | Dead Features: 2.4%\n"
     ]
    },
    {
     "name": "stderr",
     "output_type": "stream",
     "text": [
      "Epoch 18/50: 100%|██████████| 508/508 [03:04<00:00,  2.76it/s, loss=1.1] \n"
     ]
    },
    {
     "name": "stdout",
     "output_type": "stream",
     "text": [
      "\n",
      "[Epoch 18] Loss: 547.8856 | Time: 184.23s | Dead Features: 2.8%\n"
     ]
    },
    {
     "name": "stderr",
     "output_type": "stream",
     "text": [
      "Epoch 19/50: 100%|██████████| 508/508 [03:04<00:00,  2.75it/s, loss=1.12]\n"
     ]
    },
    {
     "name": "stdout",
     "output_type": "stream",
     "text": [
      "\n",
      "[Epoch 19] Loss: 546.9116 | Time: 184.41s | Dead Features: 3.7%\n"
     ]
    },
    {
     "name": "stderr",
     "output_type": "stream",
     "text": [
      "Epoch 20/50: 100%|██████████| 508/508 [03:03<00:00,  2.76it/s, loss=1.11]\n"
     ]
    },
    {
     "name": "stdout",
     "output_type": "stream",
     "text": [
      "\n",
      "[Epoch 20] Loss: 545.9363 | Time: 183.91s | Dead Features: 5.2%\n"
     ]
    },
    {
     "name": "stderr",
     "output_type": "stream",
     "text": [
      "Epoch 21/50: 100%|██████████| 508/508 [03:04<00:00,  2.76it/s, loss=1.1]  \n"
     ]
    },
    {
     "name": "stdout",
     "output_type": "stream",
     "text": [
      "\n",
      "[Epoch 21] Loss: 544.9445 | Time: 184.12s | Dead Features: 6.0%\n"
     ]
    },
    {
     "name": "stderr",
     "output_type": "stream",
     "text": [
      "Epoch 22/50: 100%|██████████| 508/508 [03:04<00:00,  2.75it/s, loss=1.08]\n"
     ]
    },
    {
     "name": "stdout",
     "output_type": "stream",
     "text": [
      "\n",
      "[Epoch 22] Loss: 543.8842 | Time: 184.51s | Dead Features: 7.3%\n"
     ]
    },
    {
     "name": "stderr",
     "output_type": "stream",
     "text": [
      "Epoch 23/50: 100%|██████████| 508/508 [03:04<00:00,  2.75it/s, loss=1.09]\n"
     ]
    },
    {
     "name": "stdout",
     "output_type": "stream",
     "text": [
      "\n",
      "[Epoch 23] Loss: 542.9999 | Time: 184.91s | Dead Features: 8.3%\n"
     ]
    },
    {
     "name": "stderr",
     "output_type": "stream",
     "text": [
      "Epoch 24/50: 100%|██████████| 508/508 [03:04<00:00,  2.75it/s, loss=1.1] \n"
     ]
    },
    {
     "name": "stdout",
     "output_type": "stream",
     "text": [
      "\n",
      "[Epoch 24] Loss: 542.0936 | Time: 184.98s | Dead Features: 9.5%\n"
     ]
    },
    {
     "name": "stderr",
     "output_type": "stream",
     "text": [
      "Epoch 25/50: 100%|██████████| 508/508 [03:04<00:00,  2.75it/s, loss=1.1] \n"
     ]
    },
    {
     "name": "stdout",
     "output_type": "stream",
     "text": [
      "\n",
      "[Epoch 25] Loss: 541.3260 | Time: 184.94s | Dead Features: 10.7%\n"
     ]
    },
    {
     "name": "stderr",
     "output_type": "stream",
     "text": [
      "Epoch 26/50: 100%|██████████| 508/508 [03:05<00:00,  2.74it/s, loss=1.07] \n"
     ]
    },
    {
     "name": "stdout",
     "output_type": "stream",
     "text": [
      "\n",
      "[Epoch 26] Loss: 540.5342 | Time: 185.10s | Dead Features: 12.2%\n"
     ]
    },
    {
     "name": "stderr",
     "output_type": "stream",
     "text": [
      "Epoch 27/50: 100%|██████████| 508/508 [03:04<00:00,  2.76it/s, loss=1.09]\n"
     ]
    },
    {
     "name": "stdout",
     "output_type": "stream",
     "text": [
      "\n",
      "[Epoch 27] Loss: 539.8501 | Time: 184.23s | Dead Features: 13.2%\n"
     ]
    },
    {
     "name": "stderr",
     "output_type": "stream",
     "text": [
      "Epoch 28/50: 100%|██████████| 508/508 [03:02<00:00,  2.78it/s, loss=1.08]\n"
     ]
    },
    {
     "name": "stdout",
     "output_type": "stream",
     "text": [
      "\n",
      "[Epoch 28] Loss: 539.0030 | Time: 182.97s | Dead Features: 14.6%\n"
     ]
    },
    {
     "name": "stderr",
     "output_type": "stream",
     "text": [
      "Epoch 29/50: 100%|██████████| 508/508 [03:02<00:00,  2.78it/s, loss=1.09]\n"
     ]
    },
    {
     "name": "stdout",
     "output_type": "stream",
     "text": [
      "\n",
      "[Epoch 29] Loss: 538.2246 | Time: 182.45s | Dead Features: 15.4%\n"
     ]
    },
    {
     "name": "stderr",
     "output_type": "stream",
     "text": [
      "Epoch 30/50: 100%|██████████| 508/508 [03:03<00:00,  2.76it/s, loss=1.09]\n"
     ]
    },
    {
     "name": "stdout",
     "output_type": "stream",
     "text": [
      "\n",
      "[Epoch 30] Loss: 537.5801 | Time: 183.93s | Dead Features: 16.1%\n"
     ]
    },
    {
     "name": "stderr",
     "output_type": "stream",
     "text": [
      "Epoch 31/50: 100%|██████████| 508/508 [03:01<00:00,  2.79it/s, loss=1.08] \n"
     ]
    },
    {
     "name": "stdout",
     "output_type": "stream",
     "text": [
      "\n",
      "[Epoch 31] Loss: 536.9230 | Time: 181.84s | Dead Features: 18.0%\n"
     ]
    },
    {
     "name": "stderr",
     "output_type": "stream",
     "text": [
      "Epoch 32/50: 100%|██████████| 508/508 [03:03<00:00,  2.76it/s, loss=1.08]\n"
     ]
    },
    {
     "name": "stdout",
     "output_type": "stream",
     "text": [
      "\n",
      "[Epoch 32] Loss: 536.2931 | Time: 183.93s | Dead Features: 18.5%\n"
     ]
    },
    {
     "name": "stderr",
     "output_type": "stream",
     "text": [
      "Epoch 33/50: 100%|██████████| 508/508 [03:04<00:00,  2.75it/s, loss=1.09]\n"
     ]
    },
    {
     "name": "stdout",
     "output_type": "stream",
     "text": [
      "\n",
      "[Epoch 33] Loss: 535.7454 | Time: 184.49s | Dead Features: 18.4%\n"
     ]
    },
    {
     "name": "stderr",
     "output_type": "stream",
     "text": [
      "Epoch 34/50: 100%|██████████| 508/508 [03:02<00:00,  2.78it/s, loss=1.08] \n"
     ]
    },
    {
     "name": "stdout",
     "output_type": "stream",
     "text": [
      "\n",
      "[Epoch 34] Loss: 535.2340 | Time: 182.83s | Dead Features: 19.8%\n"
     ]
    },
    {
     "name": "stderr",
     "output_type": "stream",
     "text": [
      "Epoch 35/50: 100%|██████████| 508/508 [03:02<00:00,  2.78it/s, loss=1.08]\n"
     ]
    },
    {
     "name": "stdout",
     "output_type": "stream",
     "text": [
      "\n",
      "[Epoch 35] Loss: 534.6667 | Time: 182.83s | Dead Features: 20.7%\n"
     ]
    },
    {
     "name": "stderr",
     "output_type": "stream",
     "text": [
      "Epoch 36/50: 100%|██████████| 508/508 [03:03<00:00,  2.76it/s, loss=1.07]\n"
     ]
    },
    {
     "name": "stdout",
     "output_type": "stream",
     "text": [
      "\n",
      "[Epoch 36] Loss: 534.1301 | Time: 183.91s | Dead Features: 22.0%\n"
     ]
    },
    {
     "name": "stderr",
     "output_type": "stream",
     "text": [
      "Epoch 37/50: 100%|██████████| 508/508 [03:04<00:00,  2.76it/s, loss=1.08] \n"
     ]
    },
    {
     "name": "stdout",
     "output_type": "stream",
     "text": [
      "\n",
      "[Epoch 37] Loss: 533.6165 | Time: 184.09s | Dead Features: 22.3%\n"
     ]
    },
    {
     "name": "stderr",
     "output_type": "stream",
     "text": [
      "Epoch 38/50: 100%|██████████| 508/508 [03:04<00:00,  2.75it/s, loss=1.07] \n"
     ]
    },
    {
     "name": "stdout",
     "output_type": "stream",
     "text": [
      "\n",
      "[Epoch 38] Loss: 533.1311 | Time: 184.86s | Dead Features: 22.8%\n"
     ]
    },
    {
     "name": "stderr",
     "output_type": "stream",
     "text": [
      "Epoch 39/50: 100%|██████████| 508/508 [03:03<00:00,  2.77it/s, loss=1.06] \n"
     ]
    },
    {
     "name": "stdout",
     "output_type": "stream",
     "text": [
      "\n",
      "[Epoch 39] Loss: 532.6249 | Time: 183.24s | Dead Features: 23.1%\n"
     ]
    },
    {
     "name": "stderr",
     "output_type": "stream",
     "text": [
      "Epoch 40/50: 100%|██████████| 508/508 [03:03<00:00,  2.76it/s, loss=1.07] \n"
     ]
    },
    {
     "name": "stdout",
     "output_type": "stream",
     "text": [
      "\n",
      "[Epoch 40] Loss: 532.2082 | Time: 183.78s | Dead Features: 23.0%\n"
     ]
    },
    {
     "name": "stderr",
     "output_type": "stream",
     "text": [
      "Epoch 41/50: 100%|██████████| 508/508 [03:04<00:00,  2.76it/s, loss=1.07] \n"
     ]
    },
    {
     "name": "stdout",
     "output_type": "stream",
     "text": [
      "\n",
      "[Epoch 41] Loss: 531.7632 | Time: 184.22s | Dead Features: 23.8%\n"
     ]
    },
    {
     "name": "stderr",
     "output_type": "stream",
     "text": [
      "Epoch 42/50: 100%|██████████| 508/508 [03:04<00:00,  2.76it/s, loss=1.06] \n"
     ]
    },
    {
     "name": "stdout",
     "output_type": "stream",
     "text": [
      "\n",
      "[Epoch 42] Loss: 531.3709 | Time: 184.17s | Dead Features: 24.5%\n"
     ]
    },
    {
     "name": "stderr",
     "output_type": "stream",
     "text": [
      "Epoch 43/50: 100%|██████████| 508/508 [03:03<00:00,  2.77it/s, loss=1.06] \n"
     ]
    },
    {
     "name": "stdout",
     "output_type": "stream",
     "text": [
      "\n",
      "[Epoch 43] Loss: 530.9144 | Time: 183.60s | Dead Features: 24.7%\n"
     ]
    },
    {
     "name": "stderr",
     "output_type": "stream",
     "text": [
      "Epoch 44/50: 100%|██████████| 508/508 [03:04<00:00,  2.75it/s, loss=1.07] \n"
     ]
    },
    {
     "name": "stdout",
     "output_type": "stream",
     "text": [
      "\n",
      "[Epoch 44] Loss: 530.5102 | Time: 184.98s | Dead Features: 25.0%\n"
     ]
    },
    {
     "name": "stderr",
     "output_type": "stream",
     "text": [
      "Epoch 45/50: 100%|██████████| 508/508 [03:04<00:00,  2.76it/s, loss=1.07] \n"
     ]
    },
    {
     "name": "stdout",
     "output_type": "stream",
     "text": [
      "\n",
      "[Epoch 45] Loss: 530.1267 | Time: 184.25s | Dead Features: 25.2%\n"
     ]
    },
    {
     "name": "stderr",
     "output_type": "stream",
     "text": [
      "Epoch 46/50: 100%|██████████| 508/508 [03:03<00:00,  2.77it/s, loss=1.06] \n"
     ]
    },
    {
     "name": "stdout",
     "output_type": "stream",
     "text": [
      "\n",
      "[Epoch 46] Loss: 529.7184 | Time: 183.70s | Dead Features: 25.5%\n"
     ]
    },
    {
     "name": "stderr",
     "output_type": "stream",
     "text": [
      "Epoch 47/50: 100%|██████████| 508/508 [03:05<00:00,  2.74it/s, loss=1.08] \n"
     ]
    },
    {
     "name": "stdout",
     "output_type": "stream",
     "text": [
      "\n",
      "[Epoch 47] Loss: 529.3599 | Time: 185.15s | Dead Features: 26.1%\n"
     ]
    },
    {
     "name": "stderr",
     "output_type": "stream",
     "text": [
      "Epoch 48/50: 100%|██████████| 508/508 [03:03<00:00,  2.77it/s, loss=1.07] \n"
     ]
    },
    {
     "name": "stdout",
     "output_type": "stream",
     "text": [
      "\n",
      "[Epoch 48] Loss: 528.9405 | Time: 183.22s | Dead Features: 26.2%\n"
     ]
    },
    {
     "name": "stderr",
     "output_type": "stream",
     "text": [
      "Epoch 49/50: 100%|██████████| 508/508 [03:04<00:00,  2.75it/s, loss=1.07] \n"
     ]
    },
    {
     "name": "stdout",
     "output_type": "stream",
     "text": [
      "\n",
      "[Epoch 49] Loss: 528.6036 | Time: 184.78s | Dead Features: 26.0%\n"
     ]
    },
    {
     "name": "stderr",
     "output_type": "stream",
     "text": [
      "Epoch 50/50: 100%|██████████| 508/508 [03:04<00:00,  2.76it/s, loss=1.05] "
     ]
    },
    {
     "name": "stdout",
     "output_type": "stream",
     "text": [
      "\n",
      "[Epoch 50] Loss: 528.1778 | Time: 184.30s | Dead Features: 26.3%\n"
     ]
    },
    {
     "name": "stderr",
     "output_type": "stream",
     "text": [
      "\n"
     ]
    }
   ],
   "source": [
    "train_usae(\n",
    "    names=list(models.keys()),\n",
    "    models=SAEs,\n",
    "    dataloader=activations_dataloader,\n",
    "    criterion=criterion,\n",
    "    nb_epochs=epochs,\n",
    "    optimizers=optimizers,\n",
    "    schedulers=schedulers,\n",
    "    device=\"cuda\",\n",
    "    seed=42,\n",
    ")"
   ]
  },
  {
   "cell_type": "code",
   "execution_count": 6,
   "id": "b69b4236",
   "metadata": {},
   "outputs": [],
   "source": [
    "model_state_dicts = {name: model.state_dict() for name, model in SAEs.items()}\n",
    "model_path = \"./models/USAE_Dino_ViT\"\n",
    "torch.save(model_state_dicts, model_path)"
   ]
  },
  {
   "cell_type": "code",
   "execution_count": 6,
   "id": "dbce387c",
   "metadata": {},
   "outputs": [
    {
     "name": "stdout",
     "output_type": "stream",
     "text": [
      "<All keys matched successfully>\n",
      "<All keys matched successfully>\n"
     ]
    }
   ],
   "source": [
    "model_path = \"./models/USAE_Dino_ViT\"\n",
    "\n",
    "state = torch.load(model_path)\n",
    "\n",
    "for name, sae in SAEs.items():\n",
    "    print(sae.load_state_dict(state[name]))"
   ]
  },
  {
   "cell_type": "code",
   "execution_count": null,
   "id": "7b2f05a3",
   "metadata": {},
   "outputs": [],
   "source": [
    "val_activation_dir = \"activations/ImageNet100_Dino_ViT_VAL\"\n",
    "val_image_loader = Load_ImageNet100(root_dir=r\"C:\\Users\\sproj_ha\\Desktop\\vision_interp\\datasets\\imagenet100\\val.X\", transform=None, batch_size=256, shuffle=True)\n",
    "\n",
    "val_activations_dataloader = Load_activation_dataloader(\n",
    "    models=models,\n",
    "    image_dataloader=val_image_loader,\n",
    "    max_seq_len=196,   \n",
    "    save_dir=val_activation_dir, \n",
    "    generate=True,  \n",
    "    rearrange_string='n t d -> (n t) d'\n",
    ")"
   ]
  },
  {
   "cell_type": "code",
   "execution_count": 8,
   "id": "3def3cbc",
   "metadata": {},
   "outputs": [],
   "source": [
    "import matplotlib.pyplot as plt\n",
    "import torch\n",
    "from einops import rearrange\n",
    "import heapq\n",
    "from overcomplete.visualization.plot_utils import (\n",
    "    get_image_dimensions,\n",
    "    interpolate_cv2,\n",
    "    show,\n",
    ")\n",
    "from overcomplete.visualization.cmaps import VIRIDIS_ALPHA\n",
    "import os\n",
    "import itertools\n",
    "from pathlib import Path\n",
    "from multiprocessing import Pool\n",
    "\n",
    "\n",
    "device = torch.device(\"cuda\" if torch.cuda.is_available() else \"cpu\")\n",
    "\n",
    "\n",
    "def save_concept_plot(concept_id, save_dir):\n",
    "    save_dir = Path(save_dir)\n",
    "    save_dir.mkdir(parents=True, exist_ok=True)  # Ensure the directory exists\n",
    "\n",
    "    filename = f\"concept_{concept_id:04d}.png\"\n",
    "    filepath = save_dir / filename\n",
    "    plt.savefig(filepath, bbox_inches=\"tight\", dpi=300)\n",
    "\n",
    "\n",
    "def plot_concept_grid(concept_id, heaps, SAEs, n_images, save_dir, counter):\n",
    "    \"\"\"\n",
    "    Plots and saves the visualization grid for a single concept.\n",
    "    \"\"\"\n",
    "    rows_per_model = 2\n",
    "    total_rows = len(SAEs) * rows_per_model\n",
    "    fig = plt.figure(figsize=(n_images * 2.5, total_rows * 2.5))\n",
    "\n",
    "    for j, (name, _) in enumerate(SAEs.items()):\n",
    "        heap = heaps[name][concept_id]\n",
    "        # fill_heap_with_black(heap, n_images, counter)\n",
    "        # top_items = get_top_items_from_heap(heap, n_images)\n",
    "\n",
    "        title_row = j * rows_per_model + 1\n",
    "        image_row_start = title_row + 1\n",
    "\n",
    "        # Title row\n",
    "        title_ax = plt.subplot(total_rows, n_images, (title_row - 1) * n_images + 1)\n",
    "        plt.axis(\"off\")\n",
    "        plt.text(\n",
    "            0.5,\n",
    "            0.5,\n",
    "            name,\n",
    "            ha=\"center\",\n",
    "            va=\"center\",\n",
    "            fontsize=14,\n",
    "            weight=\"bold\",\n",
    "            transform=title_ax.transAxes,\n",
    "        )\n",
    "\n",
    "        # Image rows\n",
    "        for i in range(n_images):\n",
    "\n",
    "            if i > len(heap):\n",
    "                image = torch.zeros((3, 224, 224))\n",
    "                ax = plt.subplot(total_rows, n_images, idx)\n",
    "                ax.axis(\"off\")\n",
    "                show(image)\n",
    "            \n",
    "            else:\n",
    "                idx = (image_row_start - 1) * n_images + i + 1\n",
    "                image = heap[i][2][\"image\"]\n",
    "                heat = heap[i][2][\"heatmap\"]\n",
    "                width, height = get_image_dimensions(image)\n",
    "                heatmap = interpolate_cv2(heat, (width, height))\n",
    "                ax = plt.subplot(total_rows, n_images, idx)\n",
    "                ax.axis(\"off\")\n",
    "                show(image)\n",
    "                show(heatmap, cmap=VIRIDIS_ALPHA, alpha=1.0)\n",
    "\n",
    "    plt.tight_layout()\n",
    "    save_concept_plot(concept_id, save_dir)\n",
    "    plt.close()\n",
    "\n",
    "\n",
    "\n",
    "def visualize_concepts(\n",
    "    activation_loader,\n",
    "    SAEs,\n",
    "    save_dir,\n",
    "    patch_width,\n",
    "    num_concepts,\n",
    "    n_images=10,\n",
    "    abort_threshold=0,\n",
    "):\n",
    "    # Initialize a heap for each model that will store the (score, image) for ONE model\n",
    "    heaps = {}\n",
    "    heaps = {\n",
    "        name: {concept_id: [] for concept_id in range(num_concepts)}\n",
    "        for name in SAEs.keys()\n",
    "    }\n",
    "\n",
    "    # Initialize Tie Breaker on Heaps\n",
    "    counter = itertools.count()\n",
    "\n",
    "    #### OPTIMIZED VISUALIZER\n",
    "    for batch in tqdm(activation_loader):\n",
    "\n",
    "        for name, sae in SAEs.items():\n",
    "\n",
    "            # Encode only once\n",
    "            with torch.no_grad():\n",
    "                _, heatmaps = sae.encode(\n",
    "                    batch[f\"activations_{name}\"].squeeze().to(device)\n",
    "                )\n",
    "                heatmaps = rearrange(\n",
    "                    heatmaps, \"(n w h) d -> n w h d\", w=patch_width, h=patch_width\n",
    "                )  # shape: [B, w, h, D]\n",
    "\n",
    "            B, w, h, D = heatmaps.shape\n",
    "\n",
    "            # Compute mean heatmap per image per concept: [B, D]\n",
    "            mean_heatmaps = heatmaps.mean(dim=(1, 2))  # shape: [B, D]\n",
    "\n",
    "            # Get top-k per concept efficiently using torch.topk\n",
    "            # indices: [k, D], values: [k, D]\n",
    "            topk_values, topk_indices = torch.topk(mean_heatmaps.T, k=n_images, dim=1)\n",
    "\n",
    "            for concept_id in range(D):\n",
    "\n",
    "                for rank in range(n_images):\n",
    "                    idx = topk_indices[concept_id, rank].item()\n",
    "                    score = topk_values[concept_id, rank].item()\n",
    "\n",
    "                    # Only proceed if this score is better than the worst in the heap, or heap not full AND score is not 0\n",
    "                    heap = heaps[name][concept_id]\n",
    "                    if (\n",
    "                        len(heap) < n_images or -score > heap[0][0]\n",
    "                    ) and score > abort_threshold:\n",
    "                        z = {\n",
    "                            \"image\": batch[\"images\"].squeeze()[idx].cpu(),\n",
    "                            \"heatmap\": heatmaps[idx, :, :, concept_id].cpu(),\n",
    "                        }\n",
    "                        score_item = (-score, next(counter), z)\n",
    "\n",
    "                        if len(heap) < n_images:\n",
    "                            heapq.heappush(heap, score_item)\n",
    "                        else:\n",
    "                            heapq.heappushpop(heap, score_item)\n",
    "\n",
    "    for concept in tqdm(range(num_concepts)):\n",
    "        if all(len(heaps[name][concept]) == 0 for name in SAEs.keys()):\n",
    "            continue  # DO NOT VISUALIZE CONCEPT IF ITS EMPTY FOR ALL MODELS\n",
    "        else:\n",
    "            plot_concept_grid(concept, heaps, SAEs, n_images, save_dir, counter)\n",
    "\n"
   ]
  },
  {
   "cell_type": "code",
   "execution_count": 9,
   "id": "5abb42d1",
   "metadata": {},
   "outputs": [
    {
     "name": "stderr",
     "output_type": "stream",
     "text": [
      "100%|██████████| 20/20 [01:16<00:00,  3.82s/it]\n",
      "  0%|          | 0/6144 [00:00<?, ?it/s]\n"
     ]
    },
    {
     "ename": "IndexError",
     "evalue": "list index out of range",
     "output_type": "error",
     "traceback": [
      "\u001b[31m---------------------------------------------------------------------------\u001b[39m",
      "\u001b[31mIndexError\u001b[39m                                Traceback (most recent call last)",
      "\u001b[36mCell\u001b[39m\u001b[36m \u001b[39m\u001b[32mIn[9]\u001b[39m\u001b[32m, line 1\u001b[39m\n\u001b[32m----> \u001b[39m\u001b[32m1\u001b[39m visualize_concepts(\n\u001b[32m      2\u001b[39m     activation_loader=val_activations_dataloader,\n\u001b[32m      3\u001b[39m     SAEs=SAEs,\n\u001b[32m      4\u001b[39m     num_concepts=concepts,\n\u001b[32m      5\u001b[39m     n_images=\u001b[32m8\u001b[39m,\n\u001b[32m      6\u001b[39m     patch_width=\u001b[32m14\u001b[39m, \n\u001b[32m      7\u001b[39m     save_dir=\u001b[33m\"\u001b[39m\u001b[33mresults/visualizer_Dino_ViT/\u001b[39m\u001b[33m\"\u001b[39m,\n\u001b[32m      8\u001b[39m     abort_threshold=\u001b[32m0.0\u001b[39m,\n\u001b[32m      9\u001b[39m )\n",
      "\u001b[36mCell\u001b[39m\u001b[36m \u001b[39m\u001b[32mIn[8]\u001b[39m\u001b[32m, line 153\u001b[39m, in \u001b[36mvisualize_concepts\u001b[39m\u001b[34m(activation_loader, SAEs, save_dir, patch_width, num_concepts, n_images, abort_threshold)\u001b[39m\n\u001b[32m    151\u001b[39m     \u001b[38;5;28;01mcontinue\u001b[39;00m  \u001b[38;5;66;03m# DO NOT VISUALIZE CONCEPT IF ITS EMPTY FOR ALL MODELS\u001b[39;00m\n\u001b[32m    152\u001b[39m \u001b[38;5;28;01melse\u001b[39;00m:\n\u001b[32m--> \u001b[39m\u001b[32m153\u001b[39m     plot_concept_grid(concept, heaps, SAEs, n_images, save_dir, counter)\n",
      "\u001b[36mCell\u001b[39m\u001b[36m \u001b[39m\u001b[32mIn[8]\u001b[39m\u001b[32m, line 70\u001b[39m, in \u001b[36mplot_concept_grid\u001b[39m\u001b[34m(concept_id, heaps, SAEs, n_images, save_dir, counter)\u001b[39m\n\u001b[32m     68\u001b[39m \u001b[38;5;28;01melse\u001b[39;00m:\n\u001b[32m     69\u001b[39m     idx = (image_row_start - \u001b[32m1\u001b[39m) * n_images + i + \u001b[32m1\u001b[39m\n\u001b[32m---> \u001b[39m\u001b[32m70\u001b[39m     image = heap[i][\u001b[32m2\u001b[39m][\u001b[33m\"\u001b[39m\u001b[33mimage\u001b[39m\u001b[33m\"\u001b[39m]\n\u001b[32m     71\u001b[39m     heat = heap[i][\u001b[32m2\u001b[39m][\u001b[33m\"\u001b[39m\u001b[33mheatmap\u001b[39m\u001b[33m\"\u001b[39m]\n\u001b[32m     72\u001b[39m     width, height = get_image_dimensions(image)\n",
      "\u001b[31mIndexError\u001b[39m: list index out of range"
     ]
    },
    {
     "data": {
      "image/png": "[encoded data removed]",
      "text/plain": [
       "<Figure size 2000x1000 with 1 Axes>"
      ]
     },
     "metadata": {},
     "output_type": "display_data"
    }
   ],
   "source": [
    "visualize_concepts(\n",
    "    activation_loader=val_activations_dataloader,\n",
    "    SAEs=SAEs,\n",
    "    num_concepts=concepts,\n",
    "    n_images=8,\n",
    "    patch_width=14, \n",
    "    save_dir=\"results/visualizer_Dino_ViT/\",\n",
    "    abort_threshold=0.0,\n",
    ")"
   ]
  },
  {
   "cell_type": "code",
   "execution_count": null,
   "id": "fd9a239c",
   "metadata": {},
   "outputs": [],
   "source": [
    "### SAVE THE Z_sAES and then on them\n"
   ]
  }
 ],
 "metadata": {
  "kernelspec": {
   "display_name": "interpretability",
   "language": "python",
   "name": "python3"
  },
  "language_info": {
   "codemirror_mode": {
    "name": "ipython",
    "version": 3
   },
   "file_extension": ".py",
   "mimetype": "text/x-python",
   "name": "python",
   "nbconvert_exporter": "python",
   "pygments_lexer": "ipython3",
   "version": "3.13.5"
  }
 },
 "nbformat": 4,
 "nbformat_minor": 5
}
